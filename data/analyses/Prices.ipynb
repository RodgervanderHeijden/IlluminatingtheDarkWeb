{
 "cells": [
  {
   "cell_type": "markdown",
   "id": "unique-irish",
   "metadata": {},
   "source": [
    "# Introduction\n",
    "Try to see whether there's any predictive power in the dataset for _prices_."
   ]
  },
  {
   "cell_type": "markdown",
   "id": "fiscal-closer",
   "metadata": {},
   "source": [
    "### Imports\n",
    "Import libraries and write settings here."
   ]
  },
  {
   "cell_type": "code",
   "execution_count": 27,
   "id": "ruled-symbol",
   "metadata": {},
   "outputs": [],
   "source": [
    "# Data manipulation\n",
    "import pandas as pd\n",
    "import numpy as np\n",
    "import statsmodels.api as sm\n",
    "import matplotlib.pyplot as plt\n",
    "\n",
    "# Options for pandas\n",
    "pd.options.display.max_columns = 50\n",
    "pd.options.display.max_rows = 30\n",
    "\n",
    "df_drugs = pd.read_csv('dataset_1.csv')\n",
    "df_vendors = pd.read_csv('dataset_vendor.csv')\n",
    "df_drugs.drop(['Unnamed: 0'], axis=1, inplace=True)\n",
    "df_vendors.drop(['Unnamed: 0'], axis=1, inplace=True)"
   ]
  },
  {
   "cell_type": "markdown",
   "id": "mature-failure",
   "metadata": {},
   "source": [
    "# Analysis/Modeling\n",
    "Do work here"
   ]
  },
  {
   "cell_type": "code",
   "execution_count": 28,
   "id": "dominican-recorder",
   "metadata": {},
   "outputs": [
    {
     "data": {
      "text/html": [
       "<div>\n",
       "<style scoped>\n",
       "    .dataframe tbody tr th:only-of-type {\n",
       "        vertical-align: middle;\n",
       "    }\n",
       "\n",
       "    .dataframe tbody tr th {\n",
       "        vertical-align: top;\n",
       "    }\n",
       "\n",
       "    .dataframe thead th {\n",
       "        text-align: right;\n",
       "    }\n",
       "</style>\n",
       "<table border=\"1\" class=\"dataframe\">\n",
       "  <thead>\n",
       "    <tr style=\"text-align: right;\">\n",
       "      <th></th>\n",
       "      <th>vendor</th>\n",
       "      <th>category_level_1</th>\n",
       "      <th>category_level_2</th>\n",
       "      <th>category_level_3</th>\n",
       "      <th>highest_category</th>\n",
       "      <th>product</th>\n",
       "      <th>price in $</th>\n",
       "      <th>shipping_from</th>\n",
       "      <th>shipping_to</th>\n",
       "    </tr>\n",
       "  </thead>\n",
       "  <tbody>\n",
       "    <tr>\n",
       "      <th>0</th>\n",
       "      <td>greenleafde</td>\n",
       "      <td>Drugs and Chemicals</td>\n",
       "      <td>Cannabis &amp; Hash</td>\n",
       "      <td>Buds &amp; Flowers</td>\n",
       "      <td>Buds &amp; Flowers</td>\n",
       "      <td>5G HINDU KUSH [FASTSHIP]</td>\n",
       "      <td>71.00</td>\n",
       "      <td>Germany</td>\n",
       "      <td>Worldwide</td>\n",
       "    </tr>\n",
       "    <tr>\n",
       "      <th>1</th>\n",
       "      <td>RS7</td>\n",
       "      <td>Drugs and Chemicals</td>\n",
       "      <td>Stimulants</td>\n",
       "      <td>Cocaine</td>\n",
       "      <td>Cocaine</td>\n",
       "      <td>**(4.5G)** Pure Colombian Cocaine (UNCUT)</td>\n",
       "      <td>324.92</td>\n",
       "      <td>Netherlands</td>\n",
       "      <td>Worldwide</td>\n",
       "    </tr>\n",
       "  </tbody>\n",
       "</table>\n",
       "</div>"
      ],
      "text/plain": [
       "        vendor     category_level_1 category_level_2 category_level_3  \\\n",
       "0  greenleafde  Drugs and Chemicals  Cannabis & Hash   Buds & Flowers   \n",
       "1          RS7  Drugs and Chemicals       Stimulants          Cocaine   \n",
       "\n",
       "  highest_category                                    product  price in $  \\\n",
       "0   Buds & Flowers                   5G HINDU KUSH [FASTSHIP]       71.00   \n",
       "1          Cocaine  **(4.5G)** Pure Colombian Cocaine (UNCUT)      324.92   \n",
       "\n",
       "  shipping_from shipping_to  \n",
       "0       Germany   Worldwide  \n",
       "1   Netherlands   Worldwide  "
      ]
     },
     "execution_count": 28,
     "metadata": {},
     "output_type": "execute_result"
    }
   ],
   "source": [
    "df_drugs.head(2)"
   ]
  },
  {
   "cell_type": "code",
   "execution_count": 29,
   "id": "unnecessary-coaching",
   "metadata": {},
   "outputs": [
    {
     "data": {
      "text/plain": [
       "<AxesSubplot:>"
      ]
     },
     "execution_count": 29,
     "metadata": {},
     "output_type": "execute_result"
    },
    {
     "data": {
      "image/png": "[encoded data removed]",
      "text/plain": [
       "<Figure size 432x288 with 1 Axes>"
      ]
     },
     "metadata": {
      "needs_background": "light"
     },
     "output_type": "display_data"
    }
   ],
   "source": [
    "df_drugs['price in $'].hist(bins=100)"
   ]
  },
  {
   "cell_type": "code",
   "execution_count": 10,
   "id": "colonial-denmark",
   "metadata": {},
   "outputs": [
    {
     "data": {
      "text/html": [
       "<div>\n",
       "<style scoped>\n",
       "    .dataframe tbody tr th:only-of-type {\n",
       "        vertical-align: middle;\n",
       "    }\n",
       "\n",
       "    .dataframe tbody tr th {\n",
       "        vertical-align: top;\n",
       "    }\n",
       "\n",
       "    .dataframe thead th {\n",
       "        text-align: right;\n",
       "    }\n",
       "</style>\n",
       "<table border=\"1\" class=\"dataframe\">\n",
       "  <thead>\n",
       "    <tr style=\"text-align: right;\">\n",
       "      <th></th>\n",
       "      <th>vendor</th>\n",
       "      <th>rank</th>\n",
       "      <th>verifcation</th>\n",
       "      <th>since</th>\n",
       "      <th>transactions</th>\n",
       "      <th>feedback_total</th>\n",
       "      <th>feedback_positive</th>\n",
       "      <th>feedback_negative</th>\n",
       "      <th>disputes_total</th>\n",
       "      <th>disputes_won</th>\n",
       "      <th>disputes_lost</th>\n",
       "      <th>finalize_early</th>\n",
       "    </tr>\n",
       "  </thead>\n",
       "  <tbody>\n",
       "    <tr>\n",
       "      <th>0</th>\n",
       "      <td>2GD4DN</td>\n",
       "      <td>Rank 1</td>\n",
       "      <td>Verification Level 1</td>\n",
       "      <td>Jun 9, 2020</td>\n",
       "      <td>33</td>\n",
       "      <td>17</td>\n",
       "      <td>82.35% (14)</td>\n",
       "      <td>17.65% (3)</td>\n",
       "      <td>2</td>\n",
       "      <td>50% (1)</td>\n",
       "      <td>0% (0)</td>\n",
       "      <td>Not Available</td>\n",
       "    </tr>\n",
       "    <tr>\n",
       "      <th>1</th>\n",
       "      <td>420Quality</td>\n",
       "      <td>Rank 0</td>\n",
       "      <td>Verification Level 4</td>\n",
       "      <td>Oct 29, 2020</td>\n",
       "      <td>0</td>\n",
       "      <td>0</td>\n",
       "      <td>0% (0)</td>\n",
       "      <td>0% (0)</td>\n",
       "      <td>0</td>\n",
       "      <td>0% (0)</td>\n",
       "      <td>0% (0)</td>\n",
       "      <td>Not Available</td>\n",
       "    </tr>\n",
       "  </tbody>\n",
       "</table>\n",
       "</div>"
      ],
      "text/plain": [
       "       vendor    rank           verifcation         since  transactions  \\\n",
       "0      2GD4DN  Rank 1  Verification Level 1   Jun 9, 2020            33   \n",
       "1  420Quality  Rank 0  Verification Level 4  Oct 29, 2020             0   \n",
       "\n",
       "   feedback_total feedback_positive feedback_negative  disputes_total  \\\n",
       "0              17       82.35% (14)        17.65% (3)               2   \n",
       "1               0            0% (0)            0% (0)               0   \n",
       "\n",
       "  disputes_won disputes_lost finalize_early  \n",
       "0      50% (1)        0% (0)  Not Available  \n",
       "1       0% (0)        0% (0)  Not Available  "
      ]
     },
     "execution_count": 10,
     "metadata": {},
     "output_type": "execute_result"
    }
   ],
   "source": [
    "df_vendors.head(2)"
   ]
  },
  {
   "cell_type": "code",
   "execution_count": 30,
   "id": "authorized-paraguay",
   "metadata": {},
   "outputs": [
    {
     "data": {
      "text/html": [
       "<div>\n",
       "<style scoped>\n",
       "    .dataframe tbody tr th:only-of-type {\n",
       "        vertical-align: middle;\n",
       "    }\n",
       "\n",
       "    .dataframe tbody tr th {\n",
       "        vertical-align: top;\n",
       "    }\n",
       "\n",
       "    .dataframe thead th {\n",
       "        text-align: right;\n",
       "    }\n",
       "</style>\n",
       "<table border=\"1\" class=\"dataframe\">\n",
       "  <thead>\n",
       "    <tr style=\"text-align: right;\">\n",
       "      <th></th>\n",
       "      <th>vendor</th>\n",
       "      <th>category_level_1</th>\n",
       "      <th>category_level_2</th>\n",
       "      <th>category_level_3</th>\n",
       "      <th>highest_category</th>\n",
       "      <th>product</th>\n",
       "      <th>price in $</th>\n",
       "      <th>shipping_from</th>\n",
       "      <th>shipping_to</th>\n",
       "      <th>rank</th>\n",
       "      <th>verifcation</th>\n",
       "      <th>since</th>\n",
       "      <th>transactions</th>\n",
       "      <th>feedback_total</th>\n",
       "      <th>feedback_positive</th>\n",
       "      <th>feedback_negative</th>\n",
       "      <th>disputes_total</th>\n",
       "      <th>disputes_won</th>\n",
       "      <th>disputes_lost</th>\n",
       "      <th>finalize_early</th>\n",
       "    </tr>\n",
       "  </thead>\n",
       "  <tbody>\n",
       "    <tr>\n",
       "      <th>0</th>\n",
       "      <td>greenleafde</td>\n",
       "      <td>Drugs and Chemicals</td>\n",
       "      <td>Cannabis &amp; Hash</td>\n",
       "      <td>Buds &amp; Flowers</td>\n",
       "      <td>Buds &amp; Flowers</td>\n",
       "      <td>5G HINDU KUSH [FASTSHIP]</td>\n",
       "      <td>71.00</td>\n",
       "      <td>Germany</td>\n",
       "      <td>Worldwide</td>\n",
       "      <td>Rank 5</td>\n",
       "      <td>Verification Level 2</td>\n",
       "      <td>Jul 11, 2020</td>\n",
       "      <td>463</td>\n",
       "      <td>236</td>\n",
       "      <td>88.56% (209)</td>\n",
       "      <td>7.20% (17)</td>\n",
       "      <td>18</td>\n",
       "      <td>33.33% (6)</td>\n",
       "      <td>44.44% (8)</td>\n",
       "      <td>Not Available</td>\n",
       "    </tr>\n",
       "    <tr>\n",
       "      <th>1</th>\n",
       "      <td>RS7</td>\n",
       "      <td>Drugs and Chemicals</td>\n",
       "      <td>Stimulants</td>\n",
       "      <td>Cocaine</td>\n",
       "      <td>Cocaine</td>\n",
       "      <td>**(4.5G)** Pure Colombian Cocaine (UNCUT)</td>\n",
       "      <td>324.92</td>\n",
       "      <td>Netherlands</td>\n",
       "      <td>Worldwide</td>\n",
       "      <td>Rank 5</td>\n",
       "      <td>Verification Level 3</td>\n",
       "      <td>Oct 5, 2020</td>\n",
       "      <td>547</td>\n",
       "      <td>257</td>\n",
       "      <td>84.82% (218)</td>\n",
       "      <td>8.17% (21)</td>\n",
       "      <td>38</td>\n",
       "      <td>13.16% (5)</td>\n",
       "      <td>23.68% (9)</td>\n",
       "      <td>Not Available</td>\n",
       "    </tr>\n",
       "    <tr>\n",
       "      <th>2</th>\n",
       "      <td>dexterslabs</td>\n",
       "      <td>Drugs and Chemicals</td>\n",
       "      <td>Prescriptions Drugs</td>\n",
       "      <td>Uncategorized</td>\n",
       "      <td>Prescriptions Drugs</td>\n",
       "      <td>280x Pills 10 boxes Codeine Phosphate 30mg</td>\n",
       "      <td>251.09</td>\n",
       "      <td>United Kingdom</td>\n",
       "      <td>United Kingdom</td>\n",
       "      <td>Rank 4</td>\n",
       "      <td>NaN</td>\n",
       "      <td>Sep 15, 2020</td>\n",
       "      <td>384</td>\n",
       "      <td>229</td>\n",
       "      <td>99.56% (228)</td>\n",
       "      <td>0% (0)</td>\n",
       "      <td>5</td>\n",
       "      <td>0% (0)</td>\n",
       "      <td>20% (1)</td>\n",
       "      <td>Not Available</td>\n",
       "    </tr>\n",
       "    <tr>\n",
       "      <th>3</th>\n",
       "      <td>heyzeus</td>\n",
       "      <td>Drugs and Chemicals</td>\n",
       "      <td>Cannabis &amp; Hash</td>\n",
       "      <td>Buds &amp; Flowers</td>\n",
       "      <td>Buds &amp; Flowers</td>\n",
       "      <td>AAA+ Blue Ice Indoor Hydro 1/4lb FREE SHIPPING</td>\n",
       "      <td>680.00</td>\n",
       "      <td>United States</td>\n",
       "      <td>United States</td>\n",
       "      <td>Rank 0</td>\n",
       "      <td>Verification Level 3</td>\n",
       "      <td>Dec 4, 2020</td>\n",
       "      <td>0</td>\n",
       "      <td>0</td>\n",
       "      <td>0% (0)</td>\n",
       "      <td>0% (0)</td>\n",
       "      <td>0</td>\n",
       "      <td>0% (0)</td>\n",
       "      <td>0% (0)</td>\n",
       "      <td>Not Available</td>\n",
       "    </tr>\n",
       "    <tr>\n",
       "      <th>4</th>\n",
       "      <td>timmy622</td>\n",
       "      <td>Drugs and Chemicals</td>\n",
       "      <td>Stimulants</td>\n",
       "      <td>Cocaine</td>\n",
       "      <td>Cocaine</td>\n",
       "      <td>7g Benzocaine 99.9% Pure | Free UK Delivery</td>\n",
       "      <td>9.76</td>\n",
       "      <td>United Kingdom</td>\n",
       "      <td>Worldwide</td>\n",
       "      <td>Rank 1</td>\n",
       "      <td>Verification Level 2</td>\n",
       "      <td>Dec 18, 2020</td>\n",
       "      <td>29</td>\n",
       "      <td>16</td>\n",
       "      <td>100% (16)</td>\n",
       "      <td>0% (0)</td>\n",
       "      <td>0</td>\n",
       "      <td>0% (0)</td>\n",
       "      <td>0% (0)</td>\n",
       "      <td>Not Available</td>\n",
       "    </tr>\n",
       "    <tr>\n",
       "      <th>...</th>\n",
       "      <td>...</td>\n",
       "      <td>...</td>\n",
       "      <td>...</td>\n",
       "      <td>...</td>\n",
       "      <td>...</td>\n",
       "      <td>...</td>\n",
       "      <td>...</td>\n",
       "      <td>...</td>\n",
       "      <td>...</td>\n",
       "      <td>...</td>\n",
       "      <td>...</td>\n",
       "      <td>...</td>\n",
       "      <td>...</td>\n",
       "      <td>...</td>\n",
       "      <td>...</td>\n",
       "      <td>...</td>\n",
       "      <td>...</td>\n",
       "      <td>...</td>\n",
       "      <td>...</td>\n",
       "      <td>...</td>\n",
       "    </tr>\n",
       "    <tr>\n",
       "      <th>13272</th>\n",
       "      <td>wedoweed</td>\n",
       "      <td>Drugs and Chemicals</td>\n",
       "      <td>Cannabis &amp; Hash</td>\n",
       "      <td>Vaping</td>\n",
       "      <td>Vaping</td>\n",
       "      <td>THC Vape Juice (Sativa) 30ml (Free Shipping)</td>\n",
       "      <td>85.68</td>\n",
       "      <td>Australia</td>\n",
       "      <td>Australia</td>\n",
       "      <td>Rank 2</td>\n",
       "      <td>Verification Level 2</td>\n",
       "      <td>Oct 18, 2020</td>\n",
       "      <td>159</td>\n",
       "      <td>78</td>\n",
       "      <td>100% (78)</td>\n",
       "      <td>0% (0)</td>\n",
       "      <td>0</td>\n",
       "      <td>0% (0)</td>\n",
       "      <td>0% (0)</td>\n",
       "      <td>Not Available</td>\n",
       "    </tr>\n",
       "    <tr>\n",
       "      <th>13273</th>\n",
       "      <td>CornerShop</td>\n",
       "      <td>Drugs and Chemicals</td>\n",
       "      <td>Uncategorized</td>\n",
       "      <td>Uncategorized</td>\n",
       "      <td>Drugs and Chemicals</td>\n",
       "      <td>Kush no. 1 liquid e cigartette, E Zigarette</td>\n",
       "      <td>24.07</td>\n",
       "      <td>Germany</td>\n",
       "      <td>Europe</td>\n",
       "      <td>Rank 0</td>\n",
       "      <td>NaN</td>\n",
       "      <td>Jan 31, 2021</td>\n",
       "      <td>9</td>\n",
       "      <td>1</td>\n",
       "      <td>100% (1)</td>\n",
       "      <td>0% (0)</td>\n",
       "      <td>1</td>\n",
       "      <td>0% (0)</td>\n",
       "      <td>0% (0)</td>\n",
       "      <td>Not Available</td>\n",
       "    </tr>\n",
       "    <tr>\n",
       "      <th>13274</th>\n",
       "      <td>CornerShop</td>\n",
       "      <td>Drugs and Chemicals</td>\n",
       "      <td>Uncategorized</td>\n",
       "      <td>Uncategorized</td>\n",
       "      <td>Drugs and Chemicals</td>\n",
       "      <td>Fentanyl Pflaster abgelaufen</td>\n",
       "      <td>42.12</td>\n",
       "      <td>Germany</td>\n",
       "      <td>Europe</td>\n",
       "      <td>Rank 0</td>\n",
       "      <td>NaN</td>\n",
       "      <td>Jan 31, 2021</td>\n",
       "      <td>9</td>\n",
       "      <td>1</td>\n",
       "      <td>100% (1)</td>\n",
       "      <td>0% (0)</td>\n",
       "      <td>1</td>\n",
       "      <td>0% (0)</td>\n",
       "      <td>0% (0)</td>\n",
       "      <td>Not Available</td>\n",
       "    </tr>\n",
       "    <tr>\n",
       "      <th>13275</th>\n",
       "      <td>CornerShop</td>\n",
       "      <td>Drugs and Chemicals</td>\n",
       "      <td>Cannabis &amp; Hash</td>\n",
       "      <td>Hash</td>\n",
       "      <td>Hash</td>\n",
       "      <td>Morocco Hash</td>\n",
       "      <td>9.63</td>\n",
       "      <td>Germany</td>\n",
       "      <td>Europe</td>\n",
       "      <td>Rank 0</td>\n",
       "      <td>NaN</td>\n",
       "      <td>Jan 31, 2021</td>\n",
       "      <td>9</td>\n",
       "      <td>1</td>\n",
       "      <td>100% (1)</td>\n",
       "      <td>0% (0)</td>\n",
       "      <td>1</td>\n",
       "      <td>0% (0)</td>\n",
       "      <td>0% (0)</td>\n",
       "      <td>Not Available</td>\n",
       "    </tr>\n",
       "    <tr>\n",
       "      <th>13276</th>\n",
       "      <td>CornerShop</td>\n",
       "      <td>Drugs and Chemicals</td>\n",
       "      <td>Uncategorized</td>\n",
       "      <td>Uncategorized</td>\n",
       "      <td>Drugs and Chemicals</td>\n",
       "      <td>Lemon Haze liquid e cigartette, E Zigarette</td>\n",
       "      <td>24.07</td>\n",
       "      <td>Germany</td>\n",
       "      <td>Europe</td>\n",
       "      <td>Rank 0</td>\n",
       "      <td>NaN</td>\n",
       "      <td>Jan 31, 2021</td>\n",
       "      <td>9</td>\n",
       "      <td>1</td>\n",
       "      <td>100% (1)</td>\n",
       "      <td>0% (0)</td>\n",
       "      <td>1</td>\n",
       "      <td>0% (0)</td>\n",
       "      <td>0% (0)</td>\n",
       "      <td>Not Available</td>\n",
       "    </tr>\n",
       "  </tbody>\n",
       "</table>\n",
       "<p>13277 rows × 20 columns</p>\n",
       "</div>"
      ],
      "text/plain": [
       "            vendor     category_level_1     category_level_2 category_level_3  \\\n",
       "0      greenleafde  Drugs and Chemicals      Cannabis & Hash   Buds & Flowers   \n",
       "1              RS7  Drugs and Chemicals           Stimulants          Cocaine   \n",
       "2      dexterslabs  Drugs and Chemicals  Prescriptions Drugs    Uncategorized   \n",
       "3          heyzeus  Drugs and Chemicals      Cannabis & Hash   Buds & Flowers   \n",
       "4         timmy622  Drugs and Chemicals           Stimulants          Cocaine   \n",
       "...            ...                  ...                  ...              ...   \n",
       "13272     wedoweed  Drugs and Chemicals      Cannabis & Hash           Vaping   \n",
       "13273   CornerShop  Drugs and Chemicals        Uncategorized    Uncategorized   \n",
       "13274   CornerShop  Drugs and Chemicals        Uncategorized    Uncategorized   \n",
       "13275   CornerShop  Drugs and Chemicals      Cannabis & Hash             Hash   \n",
       "13276   CornerShop  Drugs and Chemicals        Uncategorized    Uncategorized   \n",
       "\n",
       "          highest_category                                         product  \\\n",
       "0           Buds & Flowers                        5G HINDU KUSH [FASTSHIP]   \n",
       "1                  Cocaine       **(4.5G)** Pure Colombian Cocaine (UNCUT)   \n",
       "2      Prescriptions Drugs      280x Pills 10 boxes Codeine Phosphate 30mg   \n",
       "3           Buds & Flowers  AAA+ Blue Ice Indoor Hydro 1/4lb FREE SHIPPING   \n",
       "4                  Cocaine     7g Benzocaine 99.9% Pure | Free UK Delivery   \n",
       "...                    ...                                             ...   \n",
       "13272               Vaping    THC Vape Juice (Sativa) 30ml (Free Shipping)   \n",
       "13273  Drugs and Chemicals     Kush no. 1 liquid e cigartette, E Zigarette   \n",
       "13274  Drugs and Chemicals                    Fentanyl Pflaster abgelaufen   \n",
       "13275                 Hash                                    Morocco Hash   \n",
       "13276  Drugs and Chemicals     Lemon Haze liquid e cigartette, E Zigarette   \n",
       "\n",
       "       price in $   shipping_from     shipping_to    rank  \\\n",
       "0           71.00         Germany       Worldwide  Rank 5   \n",
       "1          324.92     Netherlands       Worldwide  Rank 5   \n",
       "2          251.09  United Kingdom  United Kingdom  Rank 4   \n",
       "3          680.00   United States   United States  Rank 0   \n",
       "4            9.76  United Kingdom       Worldwide  Rank 1   \n",
       "...           ...             ...             ...     ...   \n",
       "13272       85.68       Australia       Australia  Rank 2   \n",
       "13273       24.07         Germany          Europe  Rank 0   \n",
       "13274       42.12         Germany          Europe  Rank 0   \n",
       "13275        9.63         Germany          Europe  Rank 0   \n",
       "13276       24.07         Germany          Europe  Rank 0   \n",
       "\n",
       "                verifcation         since  transactions  feedback_total  \\\n",
       "0      Verification Level 2  Jul 11, 2020           463             236   \n",
       "1      Verification Level 3   Oct 5, 2020           547             257   \n",
       "2                       NaN  Sep 15, 2020           384             229   \n",
       "3      Verification Level 3   Dec 4, 2020             0               0   \n",
       "4      Verification Level 2  Dec 18, 2020            29              16   \n",
       "...                     ...           ...           ...             ...   \n",
       "13272  Verification Level 2  Oct 18, 2020           159              78   \n",
       "13273                   NaN  Jan 31, 2021             9               1   \n",
       "13274                   NaN  Jan 31, 2021             9               1   \n",
       "13275                   NaN  Jan 31, 2021             9               1   \n",
       "13276                   NaN  Jan 31, 2021             9               1   \n",
       "\n",
       "      feedback_positive feedback_negative  disputes_total disputes_won  \\\n",
       "0          88.56% (209)        7.20% (17)              18   33.33% (6)   \n",
       "1          84.82% (218)        8.17% (21)              38   13.16% (5)   \n",
       "2          99.56% (228)            0% (0)               5       0% (0)   \n",
       "3                0% (0)            0% (0)               0       0% (0)   \n",
       "4             100% (16)            0% (0)               0       0% (0)   \n",
       "...                 ...               ...             ...          ...   \n",
       "13272         100% (78)            0% (0)               0       0% (0)   \n",
       "13273          100% (1)            0% (0)               1       0% (0)   \n",
       "13274          100% (1)            0% (0)               1       0% (0)   \n",
       "13275          100% (1)            0% (0)               1       0% (0)   \n",
       "13276          100% (1)            0% (0)               1       0% (0)   \n",
       "\n",
       "      disputes_lost finalize_early  \n",
       "0        44.44% (8)  Not Available  \n",
       "1        23.68% (9)  Not Available  \n",
       "2           20% (1)  Not Available  \n",
       "3            0% (0)  Not Available  \n",
       "4            0% (0)  Not Available  \n",
       "...             ...            ...  \n",
       "13272        0% (0)  Not Available  \n",
       "13273        0% (0)  Not Available  \n",
       "13274        0% (0)  Not Available  \n",
       "13275        0% (0)  Not Available  \n",
       "13276        0% (0)  Not Available  \n",
       "\n",
       "[13277 rows x 20 columns]"
      ]
     },
     "execution_count": 30,
     "metadata": {},
     "output_type": "execute_result"
    }
   ],
   "source": [
    "df_merged = df_drugs.merge(df_vendors, on='vendor', how='left')\n",
    "df_merged['category_level_2'].fillna(\"Uncategorized\", inplace=True);\n",
    "df_merged['category_level_3'].fillna(\"Uncategorized\", inplace=True);\n",
    "df_merged"
   ]
  },
  {
   "cell_type": "code",
   "execution_count": 67,
   "id": "intense-terminal",
   "metadata": {},
   "outputs": [],
   "source": [
    "def plot_category_wise(category, threshold=100):\n",
    "    freq = df_merged[category].value_counts()\n",
    "    # Select frequent values. Value is in the index.\n",
    "    frequent_values = freq[freq >= threshold].index\n",
    "    # Return only rows with value frequency above threshold.\n",
    "    df_temp = df_merged[df_merged[category].isin(frequent_values)]\n",
    "    \n",
    "    fig_category_avg_prices = px.strip(df_temp.groupby(category)[['price in $']].mean().reset_index().sort_values(\n",
    "    by='price in $', ascending=False),\n",
    "    x=\"price in $\", y=category, color=category)\n",
    "\n",
    "    fig_category_avg_prices.show()"
   ]
  },
  {
   "cell_type": "code",
   "execution_count": 34,
   "id": "dominant-oakland",
   "metadata": {
    "collapsed": true
   },
   "outputs": [
    {
     "data": {
      "text/html": [
       "<div>\n",
       "<style scoped>\n",
       "    .dataframe tbody tr th:only-of-type {\n",
       "        vertical-align: middle;\n",
       "    }\n",
       "\n",
       "    .dataframe tbody tr th {\n",
       "        vertical-align: top;\n",
       "    }\n",
       "\n",
       "    .dataframe thead th {\n",
       "        text-align: right;\n",
       "    }\n",
       "</style>\n",
       "<table border=\"1\" class=\"dataframe\">\n",
       "  <thead>\n",
       "    <tr style=\"text-align: right;\">\n",
       "      <th></th>\n",
       "      <th>price in $</th>\n",
       "    </tr>\n",
       "    <tr>\n",
       "      <th>category_level_2</th>\n",
       "      <th></th>\n",
       "    </tr>\n",
       "  </thead>\n",
       "  <tbody>\n",
       "    <tr>\n",
       "      <th>Accessories</th>\n",
       "      <td>43.093000</td>\n",
       "    </tr>\n",
       "    <tr>\n",
       "      <th>Benzos</th>\n",
       "      <td>216.410224</td>\n",
       "    </tr>\n",
       "    <tr>\n",
       "      <th>Cannabis &amp; Hash</th>\n",
       "      <td>203.742086</td>\n",
       "    </tr>\n",
       "    <tr>\n",
       "      <th>Dissociatives</th>\n",
       "      <td>279.170443</td>\n",
       "    </tr>\n",
       "    <tr>\n",
       "      <th>Ecstasy</th>\n",
       "      <td>256.314768</td>\n",
       "    </tr>\n",
       "    <tr>\n",
       "      <th>Opiates</th>\n",
       "      <td>252.075618</td>\n",
       "    </tr>\n",
       "    <tr>\n",
       "      <th>Prescriptions Drugs</th>\n",
       "      <td>107.340745</td>\n",
       "    </tr>\n",
       "    <tr>\n",
       "      <th>Psychedelics</th>\n",
       "      <td>217.604854</td>\n",
       "    </tr>\n",
       "    <tr>\n",
       "      <th>Steroids</th>\n",
       "      <td>79.228082</td>\n",
       "    </tr>\n",
       "    <tr>\n",
       "      <th>Stimulants</th>\n",
       "      <td>285.722160</td>\n",
       "    </tr>\n",
       "    <tr>\n",
       "      <th>Tobacco</th>\n",
       "      <td>122.979333</td>\n",
       "    </tr>\n",
       "    <tr>\n",
       "      <th>Uncategorized</th>\n",
       "      <td>216.142808</td>\n",
       "    </tr>\n",
       "    <tr>\n",
       "      <th>Weight Loss</th>\n",
       "      <td>81.244643</td>\n",
       "    </tr>\n",
       "  </tbody>\n",
       "</table>\n",
       "</div>"
      ],
      "text/plain": [
       "                     price in $\n",
       "category_level_2               \n",
       "Accessories           43.093000\n",
       "Benzos               216.410224\n",
       "Cannabis & Hash      203.742086\n",
       "Dissociatives        279.170443\n",
       "Ecstasy              256.314768\n",
       "Opiates              252.075618\n",
       "Prescriptions Drugs  107.340745\n",
       "Psychedelics         217.604854\n",
       "Steroids              79.228082\n",
       "Stimulants           285.722160\n",
       "Tobacco              122.979333\n",
       "Uncategorized        216.142808\n",
       "Weight Loss           81.244643"
      ]
     },
     "execution_count": 34,
     "metadata": {},
     "output_type": "execute_result"
    }
   ],
   "source": [
    "df_merged.groupby('category_level_2')[['price in $']].mean()"
   ]
  },
  {
   "cell_type": "code",
   "execution_count": 35,
   "id": "stylish-return",
   "metadata": {
    "collapsed": true
   },
   "outputs": [
    {
     "data": {
      "text/html": [
       "<div>\n",
       "<style scoped>\n",
       "    .dataframe tbody tr th:only-of-type {\n",
       "        vertical-align: middle;\n",
       "    }\n",
       "\n",
       "    .dataframe tbody tr th {\n",
       "        vertical-align: top;\n",
       "    }\n",
       "\n",
       "    .dataframe thead th {\n",
       "        text-align: right;\n",
       "    }\n",
       "</style>\n",
       "<table border=\"1\" class=\"dataframe\">\n",
       "  <thead>\n",
       "    <tr style=\"text-align: right;\">\n",
       "      <th></th>\n",
       "      <th>price in $</th>\n",
       "    </tr>\n",
       "    <tr>\n",
       "      <th>category_level_3</th>\n",
       "      <th></th>\n",
       "    </tr>\n",
       "  </thead>\n",
       "  <tbody>\n",
       "    <tr>\n",
       "      <th>2C-B</th>\n",
       "      <td>237.901208</td>\n",
       "    </tr>\n",
       "    <tr>\n",
       "      <th>4-FA</th>\n",
       "      <td>193.642500</td>\n",
       "    </tr>\n",
       "    <tr>\n",
       "      <th>5-MeO-DMT</th>\n",
       "      <td>260.382222</td>\n",
       "    </tr>\n",
       "    <tr>\n",
       "      <th>Adderal</th>\n",
       "      <td>291.605909</td>\n",
       "    </tr>\n",
       "    <tr>\n",
       "      <th>Buds &amp; Flowers</th>\n",
       "      <td>220.985094</td>\n",
       "    </tr>\n",
       "    <tr>\n",
       "      <th>...</th>\n",
       "      <td>...</td>\n",
       "    </tr>\n",
       "    <tr>\n",
       "      <th>TMA</th>\n",
       "      <td>103.413750</td>\n",
       "    </tr>\n",
       "    <tr>\n",
       "      <th>Topical</th>\n",
       "      <td>65.398125</td>\n",
       "    </tr>\n",
       "    <tr>\n",
       "      <th>Uncategorized</th>\n",
       "      <td>186.744673</td>\n",
       "    </tr>\n",
       "    <tr>\n",
       "      <th>Vaping</th>\n",
       "      <td>232.016185</td>\n",
       "    </tr>\n",
       "    <tr>\n",
       "      <th>Vyvanse</th>\n",
       "      <td>366.890000</td>\n",
       "    </tr>\n",
       "  </tbody>\n",
       "</table>\n",
       "<p>37 rows × 1 columns</p>\n",
       "</div>"
      ],
      "text/plain": [
       "                  price in $\n",
       "category_level_3            \n",
       "2C-B              237.901208\n",
       "4-FA              193.642500\n",
       "5-MeO-DMT         260.382222\n",
       "Adderal           291.605909\n",
       "Buds & Flowers    220.985094\n",
       "...                      ...\n",
       "TMA               103.413750\n",
       "Topical            65.398125\n",
       "Uncategorized     186.744673\n",
       "Vaping            232.016185\n",
       "Vyvanse           366.890000\n",
       "\n",
       "[37 rows x 1 columns]"
      ]
     },
     "execution_count": 35,
     "metadata": {},
     "output_type": "execute_result"
    }
   ],
   "source": [
    "df_merged.groupby('category_level_3')[['price in $']].mean()"
   ]
  },
  {
   "cell_type": "code",
   "execution_count": 36,
   "id": "portable-scroll",
   "metadata": {
    "collapsed": true
   },
   "outputs": [
    {
     "data": {
      "text/html": [
       "<div>\n",
       "<style scoped>\n",
       "    .dataframe tbody tr th:only-of-type {\n",
       "        vertical-align: middle;\n",
       "    }\n",
       "\n",
       "    .dataframe tbody tr th {\n",
       "        vertical-align: top;\n",
       "    }\n",
       "\n",
       "    .dataframe thead th {\n",
       "        text-align: right;\n",
       "    }\n",
       "</style>\n",
       "<table border=\"1\" class=\"dataframe\">\n",
       "  <thead>\n",
       "    <tr style=\"text-align: right;\">\n",
       "      <th></th>\n",
       "      <th>price in $</th>\n",
       "    </tr>\n",
       "    <tr>\n",
       "      <th>shipping_from</th>\n",
       "      <th></th>\n",
       "    </tr>\n",
       "  </thead>\n",
       "  <tbody>\n",
       "    <tr>\n",
       "      <th>Australia</th>\n",
       "      <td>323.725352</td>\n",
       "    </tr>\n",
       "    <tr>\n",
       "      <th>Austria</th>\n",
       "      <td>176.449375</td>\n",
       "    </tr>\n",
       "    <tr>\n",
       "      <th>Belgium</th>\n",
       "      <td>180.731600</td>\n",
       "    </tr>\n",
       "    <tr>\n",
       "      <th>Bulgaria</th>\n",
       "      <td>153.432500</td>\n",
       "    </tr>\n",
       "    <tr>\n",
       "      <th>Canada</th>\n",
       "      <td>270.587571</td>\n",
       "    </tr>\n",
       "    <tr>\n",
       "      <th>...</th>\n",
       "      <td>...</td>\n",
       "    </tr>\n",
       "    <tr>\n",
       "      <th>Sweden</th>\n",
       "      <td>203.018462</td>\n",
       "    </tr>\n",
       "    <tr>\n",
       "      <th>Switzerland</th>\n",
       "      <td>244.720000</td>\n",
       "    </tr>\n",
       "    <tr>\n",
       "      <th>Turks and Caicos Islands</th>\n",
       "      <td>50.000000</td>\n",
       "    </tr>\n",
       "    <tr>\n",
       "      <th>United Kingdom</th>\n",
       "      <td>193.831293</td>\n",
       "    </tr>\n",
       "    <tr>\n",
       "      <th>United States</th>\n",
       "      <td>236.296524</td>\n",
       "    </tr>\n",
       "  </tbody>\n",
       "</table>\n",
       "<p>33 rows × 1 columns</p>\n",
       "</div>"
      ],
      "text/plain": [
       "                          price in $\n",
       "shipping_from                       \n",
       "Australia                 323.725352\n",
       "Austria                   176.449375\n",
       "Belgium                   180.731600\n",
       "Bulgaria                  153.432500\n",
       "Canada                    270.587571\n",
       "...                              ...\n",
       "Sweden                    203.018462\n",
       "Switzerland               244.720000\n",
       "Turks and Caicos Islands   50.000000\n",
       "United Kingdom            193.831293\n",
       "United States             236.296524\n",
       "\n",
       "[33 rows x 1 columns]"
      ]
     },
     "execution_count": 36,
     "metadata": {},
     "output_type": "execute_result"
    }
   ],
   "source": [
    "df_merged.groupby('shipping_from')[['price in $']].mean()"
   ]
  },
  {
   "cell_type": "code",
   "execution_count": 58,
   "id": "touched-ballet",
   "metadata": {},
   "outputs": [
    {
     "data": {
      "application/vnd.plotly.v1+json": {
       "config": {
        "plotlyServerURL": "https://plot.ly"
       },
       "data": [
        {
         "alignmentgroup": "True",
         "boxpoints": "all",
         "fillcolor": "rgba(255,255,255,0)",
         "hoveron": "points",
         "hovertemplate": "shipping_from=%{y}<br>price in $=%{x}<extra></extra>",
         "legendgroup": "China",
         "line": {
          "color": "rgba(255,255,255,0)"
         },
         "marker": {
          "color": "#636efa"
         },
         "name": "China",
         "offsetgroup": "China",
         "orientation": "h",
         "pointpos": 0,
         "showlegend": true,
         "type": "box",
         "x": [
          325.82347368421057
         ],
         "x0": " ",
         "xaxis": "x",
         "y": [
          "China"
         ],
         "y0": " ",
         "yaxis": "y"
        },
        {
         "alignmentgroup": "True",
         "boxpoints": "all",
         "fillcolor": "rgba(255,255,255,0)",
         "hoveron": "points",
         "hovertemplate": "shipping_from=%{y}<br>price in $=%{x}<extra></extra>",
         "legendgroup": "Australia",
         "line": {
          "color": "rgba(255,255,255,0)"
         },
         "marker": {
          "color": "#EF553B"
         },
         "name": "Australia",
         "offsetgroup": "Australia",
         "orientation": "h",
         "pointpos": 0,
         "showlegend": true,
         "type": "box",
         "x": [
          323.7253521126757
         ],
         "x0": " ",
         "xaxis": "x",
         "y": [
          "Australia"
         ],
         "y0": " ",
         "yaxis": "y"
        },
        {
         "alignmentgroup": "True",
         "boxpoints": "all",
         "fillcolor": "rgba(255,255,255,0)",
         "hoveron": "points",
         "hovertemplate": "shipping_from=%{y}<br>price in $=%{x}<extra></extra>",
         "legendgroup": "Germany",
         "line": {
          "color": "rgba(255,255,255,0)"
         },
         "marker": {
          "color": "#00cc96"
         },
         "name": "Germany",
         "offsetgroup": "Germany",
         "orientation": "h",
         "pointpos": 0,
         "showlegend": true,
         "type": "box",
         "x": [
          278.6987356870232
         ],
         "x0": " ",
         "xaxis": "x",
         "y": [
          "Germany"
         ],
         "y0": " ",
         "yaxis": "y"
        },
        {
         "alignmentgroup": "True",
         "boxpoints": "all",
         "fillcolor": "rgba(255,255,255,0)",
         "hoveron": "points",
         "hovertemplate": "shipping_from=%{y}<br>price in $=%{x}<extra></extra>",
         "legendgroup": "Canada",
         "line": {
          "color": "rgba(255,255,255,0)"
         },
         "marker": {
          "color": "#ab63fa"
         },
         "name": "Canada",
         "offsetgroup": "Canada",
         "orientation": "h",
         "pointpos": 0,
         "showlegend": true,
         "type": "box",
         "x": [
          270.58757142857155
         ],
         "x0": " ",
         "xaxis": "x",
         "y": [
          "Canada"
         ],
         "y0": " ",
         "yaxis": "y"
        },
        {
         "alignmentgroup": "True",
         "boxpoints": "all",
         "fillcolor": "rgba(255,255,255,0)",
         "hoveron": "points",
         "hovertemplate": "shipping_from=%{y}<br>price in $=%{x}<extra></extra>",
         "legendgroup": "United States",
         "line": {
          "color": "rgba(255,255,255,0)"
         },
         "marker": {
          "color": "#FFA15A"
         },
         "name": "United States",
         "offsetgroup": "United States",
         "orientation": "h",
         "pointpos": 0,
         "showlegend": true,
         "type": "box",
         "x": [
          236.29652408477824
         ],
         "x0": " ",
         "xaxis": "x",
         "y": [
          "United States"
         ],
         "y0": " ",
         "yaxis": "y"
        },
        {
         "alignmentgroup": "True",
         "boxpoints": "all",
         "fillcolor": "rgba(255,255,255,0)",
         "hoveron": "points",
         "hovertemplate": "shipping_from=%{y}<br>price in $=%{x}<extra></extra>",
         "legendgroup": "Netherlands",
         "line": {
          "color": "rgba(255,255,255,0)"
         },
         "marker": {
          "color": "#19d3f3"
         },
         "name": "Netherlands",
         "offsetgroup": "Netherlands",
         "orientation": "h",
         "pointpos": 0,
         "showlegend": true,
         "type": "box",
         "x": [
          205.2030509304607
         ],
         "x0": " ",
         "xaxis": "x",
         "y": [
          "Netherlands"
         ],
         "y0": " ",
         "yaxis": "y"
        },
        {
         "alignmentgroup": "True",
         "boxpoints": "all",
         "fillcolor": "rgba(255,255,255,0)",
         "hoveron": "points",
         "hovertemplate": "shipping_from=%{y}<br>price in $=%{x}<extra></extra>",
         "legendgroup": "United Kingdom",
         "line": {
          "color": "rgba(255,255,255,0)"
         },
         "marker": {
          "color": "#FF6692"
         },
         "name": "United Kingdom",
         "offsetgroup": "United Kingdom",
         "orientation": "h",
         "pointpos": 0,
         "showlegend": true,
         "type": "box",
         "x": [
          193.83129328203603
         ],
         "x0": " ",
         "xaxis": "x",
         "y": [
          "United Kingdom"
         ],
         "y0": " ",
         "yaxis": "y"
        },
        {
         "alignmentgroup": "True",
         "boxpoints": "all",
         "fillcolor": "rgba(255,255,255,0)",
         "hoveron": "points",
         "hovertemplate": "shipping_from=%{y}<br>price in $=%{x}<extra></extra>",
         "legendgroup": "France",
         "line": {
          "color": "rgba(255,255,255,0)"
         },
         "marker": {
          "color": "#B6E880"
         },
         "name": "France",
         "offsetgroup": "France",
         "orientation": "h",
         "pointpos": 0,
         "showlegend": true,
         "type": "box",
         "x": [
          181.0869683257919
         ],
         "x0": " ",
         "xaxis": "x",
         "y": [
          "France"
         ],
         "y0": " ",
         "yaxis": "y"
        },
        {
         "alignmentgroup": "True",
         "boxpoints": "all",
         "fillcolor": "rgba(255,255,255,0)",
         "hoveron": "points",
         "hovertemplate": "shipping_from=%{y}<br>price in $=%{x}<extra></extra>",
         "legendgroup": "India",
         "line": {
          "color": "rgba(255,255,255,0)"
         },
         "marker": {
          "color": "#FF97FF"
         },
         "name": "India",
         "offsetgroup": "India",
         "orientation": "h",
         "pointpos": 0,
         "showlegend": true,
         "type": "box",
         "x": [
          97.76198717948718
         ],
         "x0": " ",
         "xaxis": "x",
         "y": [
          "India"
         ],
         "y0": " ",
         "yaxis": "y"
        }
       ],
       "layout": {
        "boxmode": "overlay",
        "legend": {
         "title": {
          "text": "shipping_from"
         },
         "tracegroupgap": 0
        },
        "margin": {
         "t": 60
        },
        "template": {
         "data": {
          "bar": [
           {
            "error_x": {
             "color": "#2a3f5f"
            },
            "error_y": {
             "color": "#2a3f5f"
            },
            "marker": {
             "line": {
              "color": "#E5ECF6",
              "width": 0.5
             }
            },
            "type": "bar"
           }
          ],
          "barpolar": [
           {
            "marker": {
             "line": {
              "color": "#E5ECF6",
              "width": 0.5
             }
            },
            "type": "barpolar"
           }
          ],
          "carpet": [
           {
            "aaxis": {
             "endlinecolor": "#2a3f5f",
             "gridcolor": "white",
             "linecolor": "white",
             "minorgridcolor": "white",
             "startlinecolor": "#2a3f5f"
            },
            "baxis": {
             "endlinecolor": "#2a3f5f",
             "gridcolor": "white",
             "linecolor": "white",
             "minorgridcolor": "white",
             "startlinecolor": "#2a3f5f"
            },
            "type": "carpet"
           }
          ],
          "choropleth": [
           {
            "colorbar": {
             "outlinewidth": 0,
             "ticks": ""
            },
            "type": "choropleth"
           }
          ],
          "contour": [
           {
            "colorbar": {
             "outlinewidth": 0,
             "ticks": ""
            },
            "colorscale": [
             [
              0,
              "#0d0887"
             ],
             [
              0.1111111111111111,
              "#46039f"
             ],
             [
              0.2222222222222222,
              "#7201a8"
             ],
             [
              0.3333333333333333,
              "#9c179e"
             ],
             [
              0.4444444444444444,
              "#bd3786"
             ],
             [
              0.5555555555555556,
              "#d8576b"
             ],
             [
              0.6666666666666666,
              "#ed7953"
             ],
             [
              0.7777777777777778,
              "#fb9f3a"
             ],
             [
              0.8888888888888888,
              "#fdca26"
             ],
             [
              1,
              "#f0f921"
             ]
            ],
            "type": "contour"
           }
          ],
          "contourcarpet": [
           {
            "colorbar": {
             "outlinewidth": 0,
             "ticks": ""
            },
            "type": "contourcarpet"
           }
          ],
          "heatmap": [
           {
            "colorbar": {
             "outlinewidth": 0,
             "ticks": ""
            },
            "colorscale": [
             [
              0,
              "#0d0887"
             ],
             [
              0.1111111111111111,
              "#46039f"
             ],
             [
              0.2222222222222222,
              "#7201a8"
             ],
             [
              0.3333333333333333,
              "#9c179e"
             ],
             [
              0.4444444444444444,
              "#bd3786"
             ],
             [
              0.5555555555555556,
              "#d8576b"
             ],
             [
              0.6666666666666666,
              "#ed7953"
             ],
             [
              0.7777777777777778,
              "#fb9f3a"
             ],
             [
              0.8888888888888888,
              "#fdca26"
             ],
             [
              1,
              "#f0f921"
             ]
            ],
            "type": "heatmap"
           }
          ],
          "heatmapgl": [
           {
            "colorbar": {
             "outlinewidth": 0,
             "ticks": ""
            },
            "colorscale": [
             [
              0,
              "#0d0887"
             ],
             [
              0.1111111111111111,
              "#46039f"
             ],
             [
              0.2222222222222222,
              "#7201a8"
             ],
             [
              0.3333333333333333,
              "#9c179e"
             ],
             [
              0.4444444444444444,
              "#bd3786"
             ],
             [
              0.5555555555555556,
              "#d8576b"
             ],
             [
              0.6666666666666666,
              "#ed7953"
             ],
             [
              0.7777777777777778,
              "#fb9f3a"
             ],
             [
              0.8888888888888888,
              "#fdca26"
             ],
             [
              1,
              "#f0f921"
             ]
            ],
            "type": "heatmapgl"
           }
          ],
          "histogram": [
           {
            "marker": {
             "colorbar": {
              "outlinewidth": 0,
              "ticks": ""
             }
            },
            "type": "histogram"
           }
          ],
          "histogram2d": [
           {
            "colorbar": {
             "outlinewidth": 0,
             "ticks": ""
            },
            "colorscale": [
             [
              0,
              "#0d0887"
             ],
             [
              0.1111111111111111,
              "#46039f"
             ],
             [
              0.2222222222222222,
              "#7201a8"
             ],
             [
              0.3333333333333333,
              "#9c179e"
             ],
             [
              0.4444444444444444,
              "#bd3786"
             ],
             [
              0.5555555555555556,
              "#d8576b"
             ],
             [
              0.6666666666666666,
              "#ed7953"
             ],
             [
              0.7777777777777778,
              "#fb9f3a"
             ],
             [
              0.8888888888888888,
              "#fdca26"
             ],
             [
              1,
              "#f0f921"
             ]
            ],
            "type": "histogram2d"
           }
          ],
          "histogram2dcontour": [
           {
            "colorbar": {
             "outlinewidth": 0,
             "ticks": ""
            },
            "colorscale": [
             [
              0,
              "#0d0887"
             ],
             [
              0.1111111111111111,
              "#46039f"
             ],
             [
              0.2222222222222222,
              "#7201a8"
             ],
             [
              0.3333333333333333,
              "#9c179e"
             ],
             [
              0.4444444444444444,
              "#bd3786"
             ],
             [
              0.5555555555555556,
              "#d8576b"
             ],
             [
              0.6666666666666666,
              "#ed7953"
             ],
             [
              0.7777777777777778,
              "#fb9f3a"
             ],
             [
              0.8888888888888888,
              "#fdca26"
             ],
             [
              1,
              "#f0f921"
             ]
            ],
            "type": "histogram2dcontour"
           }
          ],
          "mesh3d": [
           {
            "colorbar": {
             "outlinewidth": 0,
             "ticks": ""
            },
            "type": "mesh3d"
           }
          ],
          "parcoords": [
           {
            "line": {
             "colorbar": {
              "outlinewidth": 0,
              "ticks": ""
             }
            },
            "type": "parcoords"
           }
          ],
          "pie": [
           {
            "automargin": true,
            "type": "pie"
           }
          ],
          "scatter": [
           {
            "marker": {
             "colorbar": {
              "outlinewidth": 0,
              "ticks": ""
             }
            },
            "type": "scatter"
           }
          ],
          "scatter3d": [
           {
            "line": {
             "colorbar": {
              "outlinewidth": 0,
              "ticks": ""
             }
            },
            "marker": {
             "colorbar": {
              "outlinewidth": 0,
              "ticks": ""
             }
            },
            "type": "scatter3d"
           }
          ],
          "scattercarpet": [
           {
            "marker": {
             "colorbar": {
              "outlinewidth": 0,
              "ticks": ""
             }
            },
            "type": "scattercarpet"
           }
          ],
          "scattergeo": [
           {
            "marker": {
             "colorbar": {
              "outlinewidth": 0,
              "ticks": ""
             }
            },
            "type": "scattergeo"
           }
          ],
          "scattergl": [
           {
            "marker": {
             "colorbar": {
              "outlinewidth": 0,
              "ticks": ""
             }
            },
            "type": "scattergl"
           }
          ],
          "scattermapbox": [
           {
            "marker": {
             "colorbar": {
              "outlinewidth": 0,
              "ticks": ""
             }
            },
            "type": "scattermapbox"
           }
          ],
          "scatterpolar": [
           {
            "marker": {
             "colorbar": {
              "outlinewidth": 0,
              "ticks": ""
             }
            },
            "type": "scatterpolar"
           }
          ],
          "scatterpolargl": [
           {
            "marker": {
             "colorbar": {
              "outlinewidth": 0,
              "ticks": ""
             }
            },
            "type": "scatterpolargl"
           }
          ],
          "scatterternary": [
           {
            "marker": {
             "colorbar": {
              "outlinewidth": 0,
              "ticks": ""
             }
            },
            "type": "scatterternary"
           }
          ],
          "surface": [
           {
            "colorbar": {
             "outlinewidth": 0,
             "ticks": ""
            },
            "colorscale": [
             [
              0,
              "#0d0887"
             ],
             [
              0.1111111111111111,
              "#46039f"
             ],
             [
              0.2222222222222222,
              "#7201a8"
             ],
             [
              0.3333333333333333,
              "#9c179e"
             ],
             [
              0.4444444444444444,
              "#bd3786"
             ],
             [
              0.5555555555555556,
              "#d8576b"
             ],
             [
              0.6666666666666666,
              "#ed7953"
             ],
             [
              0.7777777777777778,
              "#fb9f3a"
             ],
             [
              0.8888888888888888,
              "#fdca26"
             ],
             [
              1,
              "#f0f921"
             ]
            ],
            "type": "surface"
           }
          ],
          "table": [
           {
            "cells": {
             "fill": {
              "color": "#EBF0F8"
             },
             "line": {
              "color": "white"
             }
            },
            "header": {
             "fill": {
              "color": "#C8D4E3"
             },
             "line": {
              "color": "white"
             }
            },
            "type": "table"
           }
          ]
         },
         "layout": {
          "annotationdefaults": {
           "arrowcolor": "#2a3f5f",
           "arrowhead": 0,
           "arrowwidth": 1
          },
          "autotypenumbers": "strict",
          "coloraxis": {
           "colorbar": {
            "outlinewidth": 0,
            "ticks": ""
           }
          },
          "colorscale": {
           "diverging": [
            [
             0,
             "#8e0152"
            ],
            [
             0.1,
             "#c51b7d"
            ],
            [
             0.2,
             "#de77ae"
            ],
            [
             0.3,
             "#f1b6da"
            ],
            [
             0.4,
             "#fde0ef"
            ],
            [
             0.5,
             "#f7f7f7"
            ],
            [
             0.6,
             "#e6f5d0"
            ],
            [
             0.7,
             "#b8e186"
            ],
            [
             0.8,
             "#7fbc41"
            ],
            [
             0.9,
             "#4d9221"
            ],
            [
             1,
             "#276419"
            ]
           ],
           "sequential": [
            [
             0,
             "#0d0887"
            ],
            [
             0.1111111111111111,
             "#46039f"
            ],
            [
             0.2222222222222222,
             "#7201a8"
            ],
            [
             0.3333333333333333,
             "#9c179e"
            ],
            [
             0.4444444444444444,
             "#bd3786"
            ],
            [
             0.5555555555555556,
             "#d8576b"
            ],
            [
             0.6666666666666666,
             "#ed7953"
            ],
            [
             0.7777777777777778,
             "#fb9f3a"
            ],
            [
             0.8888888888888888,
             "#fdca26"
            ],
            [
             1,
             "#f0f921"
            ]
           ],
           "sequentialminus": [
            [
             0,
             "#0d0887"
            ],
            [
             0.1111111111111111,
             "#46039f"
            ],
            [
             0.2222222222222222,
             "#7201a8"
            ],
            [
             0.3333333333333333,
             "#9c179e"
            ],
            [
             0.4444444444444444,
             "#bd3786"
            ],
            [
             0.5555555555555556,
             "#d8576b"
            ],
            [
             0.6666666666666666,
             "#ed7953"
            ],
            [
             0.7777777777777778,
             "#fb9f3a"
            ],
            [
             0.8888888888888888,
             "#fdca26"
            ],
            [
             1,
             "#f0f921"
            ]
           ]
          },
          "colorway": [
           "#636efa",
           "#EF553B",
           "#00cc96",
           "#ab63fa",
           "#FFA15A",
           "#19d3f3",
           "#FF6692",
           "#B6E880",
           "#FF97FF",
           "#FECB52"
          ],
          "font": {
           "color": "#2a3f5f"
          },
          "geo": {
           "bgcolor": "white",
           "lakecolor": "white",
           "landcolor": "#E5ECF6",
           "showlakes": true,
           "showland": true,
           "subunitcolor": "white"
          },
          "hoverlabel": {
           "align": "left"
          },
          "hovermode": "closest",
          "mapbox": {
           "style": "light"
          },
          "paper_bgcolor": "white",
          "plot_bgcolor": "#E5ECF6",
          "polar": {
           "angularaxis": {
            "gridcolor": "white",
            "linecolor": "white",
            "ticks": ""
           },
           "bgcolor": "#E5ECF6",
           "radialaxis": {
            "gridcolor": "white",
            "linecolor": "white",
            "ticks": ""
           }
          },
          "scene": {
           "xaxis": {
            "backgroundcolor": "#E5ECF6",
            "gridcolor": "white",
            "gridwidth": 2,
            "linecolor": "white",
            "showbackground": true,
            "ticks": "",
            "zerolinecolor": "white"
           },
           "yaxis": {
            "backgroundcolor": "#E5ECF6",
            "gridcolor": "white",
            "gridwidth": 2,
            "linecolor": "white",
            "showbackground": true,
            "ticks": "",
            "zerolinecolor": "white"
           },
           "zaxis": {
            "backgroundcolor": "#E5ECF6",
            "gridcolor": "white",
            "gridwidth": 2,
            "linecolor": "white",
            "showbackground": true,
            "ticks": "",
            "zerolinecolor": "white"
           }
          },
          "shapedefaults": {
           "line": {
            "color": "#2a3f5f"
           }
          },
          "ternary": {
           "aaxis": {
            "gridcolor": "white",
            "linecolor": "white",
            "ticks": ""
           },
           "baxis": {
            "gridcolor": "white",
            "linecolor": "white",
            "ticks": ""
           },
           "bgcolor": "#E5ECF6",
           "caxis": {
            "gridcolor": "white",
            "linecolor": "white",
            "ticks": ""
           }
          },
          "title": {
           "x": 0.05
          },
          "xaxis": {
           "automargin": true,
           "gridcolor": "white",
           "linecolor": "white",
           "ticks": "",
           "title": {
            "standoff": 15
           },
           "zerolinecolor": "white",
           "zerolinewidth": 2
          },
          "yaxis": {
           "automargin": true,
           "gridcolor": "white",
           "linecolor": "white",
           "ticks": "",
           "title": {
            "standoff": 15
           },
           "zerolinecolor": "white",
           "zerolinewidth": 2
          }
         }
        },
        "xaxis": {
         "anchor": "y",
         "domain": [
          0,
          1
         ],
         "title": {
          "text": "price in $"
         }
        },
        "yaxis": {
         "anchor": "x",
         "categoryarray": [
          "India",
          "France",
          "United Kingdom",
          "Netherlands",
          "United States",
          "Canada",
          "Germany",
          "Australia",
          "China"
         ],
         "categoryorder": "array",
         "domain": [
          0,
          1
         ],
         "title": {
          "text": "shipping_from"
         }
        }
       }
      },
      "text/html": [
       "<div>                            <div id=\"47fefbd4-14b6-45a6-8053-35949af48d1a\" class=\"plotly-graph-div\" style=\"height:525px; width:100%;\"></div>            <script type=\"text/javascript\">                require([\"plotly\"], function(Plotly) {                    window.PLOTLYENV=window.PLOTLYENV || {};                                    if (document.getElementById(\"47fefbd4-14b6-45a6-8053-35949af48d1a\")) {                    Plotly.newPlot(                        \"47fefbd4-14b6-45a6-8053-35949af48d1a\",                        [{\"alignmentgroup\": \"True\", \"boxpoints\": \"all\", \"fillcolor\": \"rgba(255,255,255,0)\", \"hoveron\": \"points\", \"hovertemplate\": \"shipping_from=%{y}<br>price in $=%{x}<extra></extra>\", \"legendgroup\": \"China\", \"line\": {\"color\": \"rgba(255,255,255,0)\"}, \"marker\": {\"color\": \"#636efa\"}, \"name\": \"China\", \"offsetgroup\": \"China\", \"orientation\": \"h\", \"pointpos\": 0, \"showlegend\": true, \"type\": \"box\", \"x\": [325.82347368421057], \"x0\": \" \", \"xaxis\": \"x\", \"y\": [\"China\"], \"y0\": \" \", \"yaxis\": \"y\"}, {\"alignmentgroup\": \"True\", \"boxpoints\": \"all\", \"fillcolor\": \"rgba(255,255,255,0)\", \"hoveron\": \"points\", \"hovertemplate\": \"shipping_from=%{y}<br>price in $=%{x}<extra></extra>\", \"legendgroup\": \"Australia\", \"line\": {\"color\": \"rgba(255,255,255,0)\"}, \"marker\": {\"color\": \"#EF553B\"}, \"name\": \"Australia\", \"offsetgroup\": \"Australia\", \"orientation\": \"h\", \"pointpos\": 0, \"showlegend\": true, \"type\": \"box\", \"x\": [323.7253521126757], \"x0\": \" \", \"xaxis\": \"x\", \"y\": [\"Australia\"], \"y0\": \" \", \"yaxis\": \"y\"}, {\"alignmentgroup\": \"True\", \"boxpoints\": \"all\", \"fillcolor\": \"rgba(255,255,255,0)\", \"hoveron\": \"points\", \"hovertemplate\": \"shipping_from=%{y}<br>price in $=%{x}<extra></extra>\", \"legendgroup\": \"Germany\", \"line\": {\"color\": \"rgba(255,255,255,0)\"}, \"marker\": {\"color\": \"#00cc96\"}, \"name\": \"Germany\", \"offsetgroup\": \"Germany\", \"orientation\": \"h\", \"pointpos\": 0, \"showlegend\": true, \"type\": \"box\", \"x\": [278.6987356870232], \"x0\": \" \", \"xaxis\": \"x\", \"y\": [\"Germany\"], \"y0\": \" \", \"yaxis\": \"y\"}, {\"alignmentgroup\": \"True\", \"boxpoints\": \"all\", \"fillcolor\": \"rgba(255,255,255,0)\", \"hoveron\": \"points\", \"hovertemplate\": \"shipping_from=%{y}<br>price in $=%{x}<extra></extra>\", \"legendgroup\": \"Canada\", \"line\": {\"color\": \"rgba(255,255,255,0)\"}, \"marker\": {\"color\": \"#ab63fa\"}, \"name\": \"Canada\", \"offsetgroup\": \"Canada\", \"orientation\": \"h\", \"pointpos\": 0, \"showlegend\": true, \"type\": \"box\", \"x\": [270.58757142857155], \"x0\": \" \", \"xaxis\": \"x\", \"y\": [\"Canada\"], \"y0\": \" \", \"yaxis\": \"y\"}, {\"alignmentgroup\": \"True\", \"boxpoints\": \"all\", \"fillcolor\": \"rgba(255,255,255,0)\", \"hoveron\": \"points\", \"hovertemplate\": \"shipping_from=%{y}<br>price in $=%{x}<extra></extra>\", \"legendgroup\": \"United States\", \"line\": {\"color\": \"rgba(255,255,255,0)\"}, \"marker\": {\"color\": \"#FFA15A\"}, \"name\": \"United States\", \"offsetgroup\": \"United States\", \"orientation\": \"h\", \"pointpos\": 0, \"showlegend\": true, \"type\": \"box\", \"x\": [236.29652408477824], \"x0\": \" \", \"xaxis\": \"x\", \"y\": [\"United States\"], \"y0\": \" \", \"yaxis\": \"y\"}, {\"alignmentgroup\": \"True\", \"boxpoints\": \"all\", \"fillcolor\": \"rgba(255,255,255,0)\", \"hoveron\": \"points\", \"hovertemplate\": \"shipping_from=%{y}<br>price in $=%{x}<extra></extra>\", \"legendgroup\": \"Netherlands\", \"line\": {\"color\": \"rgba(255,255,255,0)\"}, \"marker\": {\"color\": \"#19d3f3\"}, \"name\": \"Netherlands\", \"offsetgroup\": \"Netherlands\", \"orientation\": \"h\", \"pointpos\": 0, \"showlegend\": true, \"type\": \"box\", \"x\": [205.2030509304607], \"x0\": \" \", \"xaxis\": \"x\", \"y\": [\"Netherlands\"], \"y0\": \" \", \"yaxis\": \"y\"}, {\"alignmentgroup\": \"True\", \"boxpoints\": \"all\", \"fillcolor\": \"rgba(255,255,255,0)\", \"hoveron\": \"points\", \"hovertemplate\": \"shipping_from=%{y}<br>price in $=%{x}<extra></extra>\", \"legendgroup\": \"United Kingdom\", \"line\": {\"color\": \"rgba(255,255,255,0)\"}, \"marker\": {\"color\": \"#FF6692\"}, \"name\": \"United Kingdom\", \"offsetgroup\": \"United Kingdom\", \"orientation\": \"h\", \"pointpos\": 0, \"showlegend\": true, \"type\": \"box\", \"x\": [193.83129328203603], \"x0\": \" \", \"xaxis\": \"x\", \"y\": [\"United Kingdom\"], \"y0\": \" \", \"yaxis\": \"y\"}, {\"alignmentgroup\": \"True\", \"boxpoints\": \"all\", \"fillcolor\": \"rgba(255,255,255,0)\", \"hoveron\": \"points\", \"hovertemplate\": \"shipping_from=%{y}<br>price in $=%{x}<extra></extra>\", \"legendgroup\": \"France\", \"line\": {\"color\": \"rgba(255,255,255,0)\"}, \"marker\": {\"color\": \"#B6E880\"}, \"name\": \"France\", \"offsetgroup\": \"France\", \"orientation\": \"h\", \"pointpos\": 0, \"showlegend\": true, \"type\": \"box\", \"x\": [181.0869683257919], \"x0\": \" \", \"xaxis\": \"x\", \"y\": [\"France\"], \"y0\": \" \", \"yaxis\": \"y\"}, {\"alignmentgroup\": \"True\", \"boxpoints\": \"all\", \"fillcolor\": \"rgba(255,255,255,0)\", \"hoveron\": \"points\", \"hovertemplate\": \"shipping_from=%{y}<br>price in $=%{x}<extra></extra>\", \"legendgroup\": \"India\", \"line\": {\"color\": \"rgba(255,255,255,0)\"}, \"marker\": {\"color\": \"#FF97FF\"}, \"name\": \"India\", \"offsetgroup\": \"India\", \"orientation\": \"h\", \"pointpos\": 0, \"showlegend\": true, \"type\": \"box\", \"x\": [97.76198717948718], \"x0\": \" \", \"xaxis\": \"x\", \"y\": [\"India\"], \"y0\": \" \", \"yaxis\": \"y\"}],                        {\"boxmode\": \"overlay\", \"legend\": {\"title\": {\"text\": \"shipping_from\"}, \"tracegroupgap\": 0}, \"margin\": {\"t\": 60}, \"template\": {\"data\": {\"bar\": [{\"error_x\": {\"color\": \"#2a3f5f\"}, \"error_y\": {\"color\": \"#2a3f5f\"}, \"marker\": {\"line\": {\"color\": \"#E5ECF6\", \"width\": 0.5}}, \"type\": \"bar\"}], \"barpolar\": [{\"marker\": {\"line\": {\"color\": \"#E5ECF6\", \"width\": 0.5}}, \"type\": \"barpolar\"}], \"carpet\": [{\"aaxis\": {\"endlinecolor\": \"#2a3f5f\", \"gridcolor\": \"white\", \"linecolor\": \"white\", \"minorgridcolor\": \"white\", \"startlinecolor\": \"#2a3f5f\"}, \"baxis\": {\"endlinecolor\": \"#2a3f5f\", \"gridcolor\": \"white\", \"linecolor\": \"white\", \"minorgridcolor\": \"white\", \"startlinecolor\": \"#2a3f5f\"}, \"type\": \"carpet\"}], \"choropleth\": [{\"colorbar\": {\"outlinewidth\": 0, \"ticks\": \"\"}, \"type\": \"choropleth\"}], \"contour\": [{\"colorbar\": {\"outlinewidth\": 0, \"ticks\": \"\"}, \"colorscale\": [[0.0, \"#0d0887\"], [0.1111111111111111, \"#46039f\"], [0.2222222222222222, \"#7201a8\"], [0.3333333333333333, \"#9c179e\"], [0.4444444444444444, \"#bd3786\"], [0.5555555555555556, \"#d8576b\"], [0.6666666666666666, \"#ed7953\"], [0.7777777777777778, \"#fb9f3a\"], [0.8888888888888888, \"#fdca26\"], [1.0, \"#f0f921\"]], \"type\": \"contour\"}], \"contourcarpet\": [{\"colorbar\": {\"outlinewidth\": 0, \"ticks\": \"\"}, \"type\": \"contourcarpet\"}], \"heatmap\": [{\"colorbar\": {\"outlinewidth\": 0, \"ticks\": \"\"}, \"colorscale\": [[0.0, \"#0d0887\"], [0.1111111111111111, \"#46039f\"], [0.2222222222222222, \"#7201a8\"], [0.3333333333333333, \"#9c179e\"], [0.4444444444444444, \"#bd3786\"], [0.5555555555555556, \"#d8576b\"], [0.6666666666666666, \"#ed7953\"], [0.7777777777777778, \"#fb9f3a\"], [0.8888888888888888, \"#fdca26\"], [1.0, \"#f0f921\"]], \"type\": \"heatmap\"}], \"heatmapgl\": [{\"colorbar\": {\"outlinewidth\": 0, \"ticks\": \"\"}, \"colorscale\": [[0.0, \"#0d0887\"], [0.1111111111111111, \"#46039f\"], [0.2222222222222222, \"#7201a8\"], [0.3333333333333333, \"#9c179e\"], [0.4444444444444444, \"#bd3786\"], [0.5555555555555556, \"#d8576b\"], [0.6666666666666666, \"#ed7953\"], [0.7777777777777778, \"#fb9f3a\"], [0.8888888888888888, \"#fdca26\"], [1.0, \"#f0f921\"]], \"type\": \"heatmapgl\"}], \"histogram\": [{\"marker\": {\"colorbar\": {\"outlinewidth\": 0, \"ticks\": \"\"}}, \"type\": \"histogram\"}], \"histogram2d\": [{\"colorbar\": {\"outlinewidth\": 0, \"ticks\": \"\"}, \"colorscale\": [[0.0, \"#0d0887\"], [0.1111111111111111, \"#46039f\"], [0.2222222222222222, \"#7201a8\"], [0.3333333333333333, \"#9c179e\"], [0.4444444444444444, \"#bd3786\"], [0.5555555555555556, \"#d8576b\"], [0.6666666666666666, \"#ed7953\"], [0.7777777777777778, \"#fb9f3a\"], [0.8888888888888888, \"#fdca26\"], [1.0, \"#f0f921\"]], \"type\": \"histogram2d\"}], \"histogram2dcontour\": [{\"colorbar\": {\"outlinewidth\": 0, \"ticks\": \"\"}, \"colorscale\": [[0.0, \"#0d0887\"], [0.1111111111111111, \"#46039f\"], [0.2222222222222222, \"#7201a8\"], [0.3333333333333333, \"#9c179e\"], [0.4444444444444444, \"#bd3786\"], [0.5555555555555556, \"#d8576b\"], [0.6666666666666666, \"#ed7953\"], [0.7777777777777778, \"#fb9f3a\"], [0.8888888888888888, \"#fdca26\"], [1.0, \"#f0f921\"]], \"type\": \"histogram2dcontour\"}], \"mesh3d\": [{\"colorbar\": {\"outlinewidth\": 0, \"ticks\": \"\"}, \"type\": \"mesh3d\"}], \"parcoords\": [{\"line\": {\"colorbar\": {\"outlinewidth\": 0, \"ticks\": \"\"}}, \"type\": \"parcoords\"}], \"pie\": [{\"automargin\": true, \"type\": \"pie\"}], \"scatter\": [{\"marker\": {\"colorbar\": {\"outlinewidth\": 0, \"ticks\": \"\"}}, \"type\": \"scatter\"}], \"scatter3d\": [{\"line\": {\"colorbar\": {\"outlinewidth\": 0, \"ticks\": \"\"}}, \"marker\": {\"colorbar\": {\"outlinewidth\": 0, \"ticks\": \"\"}}, \"type\": \"scatter3d\"}], \"scattercarpet\": [{\"marker\": {\"colorbar\": {\"outlinewidth\": 0, \"ticks\": \"\"}}, \"type\": \"scattercarpet\"}], \"scattergeo\": [{\"marker\": {\"colorbar\": {\"outlinewidth\": 0, \"ticks\": \"\"}}, \"type\": \"scattergeo\"}], \"scattergl\": [{\"marker\": {\"colorbar\": {\"outlinewidth\": 0, \"ticks\": \"\"}}, \"type\": \"scattergl\"}], \"scattermapbox\": [{\"marker\": {\"colorbar\": {\"outlinewidth\": 0, \"ticks\": \"\"}}, \"type\": \"scattermapbox\"}], \"scatterpolar\": [{\"marker\": {\"colorbar\": {\"outlinewidth\": 0, \"ticks\": \"\"}}, \"type\": \"scatterpolar\"}], \"scatterpolargl\": [{\"marker\": {\"colorbar\": {\"outlinewidth\": 0, \"ticks\": \"\"}}, \"type\": \"scatterpolargl\"}], \"scatterternary\": [{\"marker\": {\"colorbar\": {\"outlinewidth\": 0, \"ticks\": \"\"}}, \"type\": \"scatterternary\"}], \"surface\": [{\"colorbar\": {\"outlinewidth\": 0, \"ticks\": \"\"}, \"colorscale\": [[0.0, \"#0d0887\"], [0.1111111111111111, \"#46039f\"], [0.2222222222222222, \"#7201a8\"], [0.3333333333333333, \"#9c179e\"], [0.4444444444444444, \"#bd3786\"], [0.5555555555555556, \"#d8576b\"], [0.6666666666666666, \"#ed7953\"], [0.7777777777777778, \"#fb9f3a\"], [0.8888888888888888, \"#fdca26\"], [1.0, \"#f0f921\"]], \"type\": \"surface\"}], \"table\": [{\"cells\": {\"fill\": {\"color\": \"#EBF0F8\"}, \"line\": {\"color\": \"white\"}}, \"header\": {\"fill\": {\"color\": \"#C8D4E3\"}, \"line\": {\"color\": \"white\"}}, \"type\": \"table\"}]}, \"layout\": {\"annotationdefaults\": {\"arrowcolor\": \"#2a3f5f\", \"arrowhead\": 0, \"arrowwidth\": 1}, \"autotypenumbers\": \"strict\", \"coloraxis\": {\"colorbar\": {\"outlinewidth\": 0, \"ticks\": \"\"}}, \"colorscale\": {\"diverging\": [[0, \"#8e0152\"], [0.1, \"#c51b7d\"], [0.2, \"#de77ae\"], [0.3, \"#f1b6da\"], [0.4, \"#fde0ef\"], [0.5, \"#f7f7f7\"], [0.6, \"#e6f5d0\"], [0.7, \"#b8e186\"], [0.8, \"#7fbc41\"], [0.9, \"#4d9221\"], [1, \"#276419\"]], \"sequential\": [[0.0, \"#0d0887\"], [0.1111111111111111, \"#46039f\"], [0.2222222222222222, \"#7201a8\"], [0.3333333333333333, \"#9c179e\"], [0.4444444444444444, \"#bd3786\"], [0.5555555555555556, \"#d8576b\"], [0.6666666666666666, \"#ed7953\"], [0.7777777777777778, \"#fb9f3a\"], [0.8888888888888888, \"#fdca26\"], [1.0, \"#f0f921\"]], \"sequentialminus\": [[0.0, \"#0d0887\"], [0.1111111111111111, \"#46039f\"], [0.2222222222222222, \"#7201a8\"], [0.3333333333333333, \"#9c179e\"], [0.4444444444444444, \"#bd3786\"], [0.5555555555555556, \"#d8576b\"], [0.6666666666666666, \"#ed7953\"], [0.7777777777777778, \"#fb9f3a\"], [0.8888888888888888, \"#fdca26\"], [1.0, \"#f0f921\"]]}, \"colorway\": [\"#636efa\", \"#EF553B\", \"#00cc96\", \"#ab63fa\", \"#FFA15A\", \"#19d3f3\", \"#FF6692\", \"#B6E880\", \"#FF97FF\", \"#FECB52\"], \"font\": {\"color\": \"#2a3f5f\"}, \"geo\": {\"bgcolor\": \"white\", \"lakecolor\": \"white\", \"landcolor\": \"#E5ECF6\", \"showlakes\": true, \"showland\": true, \"subunitcolor\": \"white\"}, \"hoverlabel\": {\"align\": \"left\"}, \"hovermode\": \"closest\", \"mapbox\": {\"style\": \"light\"}, \"paper_bgcolor\": \"white\", \"plot_bgcolor\": \"#E5ECF6\", \"polar\": {\"angularaxis\": {\"gridcolor\": \"white\", \"linecolor\": \"white\", \"ticks\": \"\"}, \"bgcolor\": \"#E5ECF6\", \"radialaxis\": {\"gridcolor\": \"white\", \"linecolor\": \"white\", \"ticks\": \"\"}}, \"scene\": {\"xaxis\": {\"backgroundcolor\": \"#E5ECF6\", \"gridcolor\": \"white\", \"gridwidth\": 2, \"linecolor\": \"white\", \"showbackground\": true, \"ticks\": \"\", \"zerolinecolor\": \"white\"}, \"yaxis\": {\"backgroundcolor\": \"#E5ECF6\", \"gridcolor\": \"white\", \"gridwidth\": 2, \"linecolor\": \"white\", \"showbackground\": true, \"ticks\": \"\", \"zerolinecolor\": \"white\"}, \"zaxis\": {\"backgroundcolor\": \"#E5ECF6\", \"gridcolor\": \"white\", \"gridwidth\": 2, \"linecolor\": \"white\", \"showbackground\": true, \"ticks\": \"\", \"zerolinecolor\": \"white\"}}, \"shapedefaults\": {\"line\": {\"color\": \"#2a3f5f\"}}, \"ternary\": {\"aaxis\": {\"gridcolor\": \"white\", \"linecolor\": \"white\", \"ticks\": \"\"}, \"baxis\": {\"gridcolor\": \"white\", \"linecolor\": \"white\", \"ticks\": \"\"}, \"bgcolor\": \"#E5ECF6\", \"caxis\": {\"gridcolor\": \"white\", \"linecolor\": \"white\", \"ticks\": \"\"}}, \"title\": {\"x\": 0.05}, \"xaxis\": {\"automargin\": true, \"gridcolor\": \"white\", \"linecolor\": \"white\", \"ticks\": \"\", \"title\": {\"standoff\": 15}, \"zerolinecolor\": \"white\", \"zerolinewidth\": 2}, \"yaxis\": {\"automargin\": true, \"gridcolor\": \"white\", \"linecolor\": \"white\", \"ticks\": \"\", \"title\": {\"standoff\": 15}, \"zerolinecolor\": \"white\", \"zerolinewidth\": 2}}}, \"xaxis\": {\"anchor\": \"y\", \"domain\": [0.0, 1.0], \"title\": {\"text\": \"price in $\"}}, \"yaxis\": {\"anchor\": \"x\", \"categoryarray\": [\"India\", \"France\", \"United Kingdom\", \"Netherlands\", \"United States\", \"Canada\", \"Germany\", \"Australia\", \"China\"], \"categoryorder\": \"array\", \"domain\": [0.0, 1.0], \"title\": {\"text\": \"shipping_from\"}}},                        {\"responsive\": true}                    ).then(function(){\n",
       "                            \n",
       "var gd = document.getElementById('47fefbd4-14b6-45a6-8053-35949af48d1a');\n",
       "var x = new MutationObserver(function (mutations, observer) {{\n",
       "        var display = window.getComputedStyle(gd).display;\n",
       "        if (!display || display === 'none') {{\n",
       "            console.log([gd, 'removed!']);\n",
       "            Plotly.purge(gd);\n",
       "            observer.disconnect();\n",
       "        }}\n",
       "}});\n",
       "\n",
       "// Listen for the removal of the full notebook cells\n",
       "var notebookContainer = gd.closest('#notebook-container');\n",
       "if (notebookContainer) {{\n",
       "    x.observe(notebookContainer, {childList: true});\n",
       "}}\n",
       "\n",
       "// Listen for the clearing of the current output cell\n",
       "var outputEl = gd.closest('.output');\n",
       "if (outputEl) {{\n",
       "    x.observe(outputEl, {childList: true});\n",
       "}}\n",
       "\n",
       "                        })                };                });            </script>        </div>"
      ]
     },
     "metadata": {},
     "output_type": "display_data"
    }
   ],
   "source": [
    "plot_category_wise('shipping_from', 100)"
   ]
  },
  {
   "cell_type": "code",
   "execution_count": 56,
   "id": "formed-scholarship",
   "metadata": {},
   "outputs": [
    {
     "data": {
      "application/vnd.plotly.v1+json": {
       "config": {
        "plotlyServerURL": "https://plot.ly"
       },
       "data": [
        {
         "alignmentgroup": "True",
         "boxpoints": "all",
         "fillcolor": "rgba(255,255,255,0)",
         "hoveron": "points",
         "hovertemplate": "shipping_to=%{y}<br>price in $=%{x}<extra></extra>",
         "legendgroup": "Australia",
         "line": {
          "color": "rgba(255,255,255,0)"
         },
         "marker": {
          "color": "#636efa"
         },
         "name": "Australia",
         "offsetgroup": "Australia",
         "orientation": "h",
         "pointpos": 0,
         "showlegend": true,
         "type": "box",
         "x": [
          321.1638997214481
         ],
         "x0": " ",
         "xaxis": "x",
         "y": [
          "Australia"
         ],
         "y0": " ",
         "yaxis": "y"
        },
        {
         "alignmentgroup": "True",
         "boxpoints": "all",
         "fillcolor": "rgba(255,255,255,0)",
         "hoveron": "points",
         "hovertemplate": "shipping_to=%{y}<br>price in $=%{x}<extra></extra>",
         "legendgroup": "North America",
         "line": {
          "color": "rgba(255,255,255,0)"
         },
         "marker": {
          "color": "#EF553B"
         },
         "name": "North America",
         "offsetgroup": "North America",
         "orientation": "h",
         "pointpos": 0,
         "showlegend": true,
         "type": "box",
         "x": [
          286.3777914110429
         ],
         "x0": " ",
         "xaxis": "x",
         "y": [
          "North America"
         ],
         "y0": " ",
         "yaxis": "y"
        },
        {
         "alignmentgroup": "True",
         "boxpoints": "all",
         "fillcolor": "rgba(255,255,255,0)",
         "hoveron": "points",
         "hovertemplate": "shipping_to=%{y}<br>price in $=%{x}<extra></extra>",
         "legendgroup": "Europe",
         "line": {
          "color": "rgba(255,255,255,0)"
         },
         "marker": {
          "color": "#00cc96"
         },
         "name": "Europe",
         "offsetgroup": "Europe",
         "orientation": "h",
         "pointpos": 0,
         "showlegend": true,
         "type": "box",
         "x": [
          235.13682048040494
         ],
         "x0": " ",
         "xaxis": "x",
         "y": [
          "Europe"
         ],
         "y0": " ",
         "yaxis": "y"
        },
        {
         "alignmentgroup": "True",
         "boxpoints": "all",
         "fillcolor": "rgba(255,255,255,0)",
         "hoveron": "points",
         "hovertemplate": "shipping_to=%{y}<br>price in $=%{x}<extra></extra>",
         "legendgroup": "Germany",
         "line": {
          "color": "rgba(255,255,255,0)"
         },
         "marker": {
          "color": "#ab63fa"
         },
         "name": "Germany",
         "offsetgroup": "Germany",
         "orientation": "h",
         "pointpos": 0,
         "showlegend": true,
         "type": "box",
         "x": [
          235.1227433628317
         ],
         "x0": " ",
         "xaxis": "x",
         "y": [
          "Germany"
         ],
         "y0": " ",
         "yaxis": "y"
        },
        {
         "alignmentgroup": "True",
         "boxpoints": "all",
         "fillcolor": "rgba(255,255,255,0)",
         "hoveron": "points",
         "hovertemplate": "shipping_to=%{y}<br>price in $=%{x}<extra></extra>",
         "legendgroup": "United States",
         "line": {
          "color": "rgba(255,255,255,0)"
         },
         "marker": {
          "color": "#FFA15A"
         },
         "name": "United States",
         "offsetgroup": "United States",
         "orientation": "h",
         "pointpos": 0,
         "showlegend": true,
         "type": "box",
         "x": [
          228.02456721915266
         ],
         "x0": " ",
         "xaxis": "x",
         "y": [
          "United States"
         ],
         "y0": " ",
         "yaxis": "y"
        },
        {
         "alignmentgroup": "True",
         "boxpoints": "all",
         "fillcolor": "rgba(255,255,255,0)",
         "hoveron": "points",
         "hovertemplate": "shipping_to=%{y}<br>price in $=%{x}<extra></extra>",
         "legendgroup": "Worldwide",
         "line": {
          "color": "rgba(255,255,255,0)"
         },
         "marker": {
          "color": "#19d3f3"
         },
         "name": "Worldwide",
         "offsetgroup": "Worldwide",
         "orientation": "h",
         "pointpos": 0,
         "showlegend": true,
         "type": "box",
         "x": [
          220.4403437401447
         ],
         "x0": " ",
         "xaxis": "x",
         "y": [
          "Worldwide"
         ],
         "y0": " ",
         "yaxis": "y"
        },
        {
         "alignmentgroup": "True",
         "boxpoints": "all",
         "fillcolor": "rgba(255,255,255,0)",
         "hoveron": "points",
         "hovertemplate": "shipping_to=%{y}<br>price in $=%{x}<extra></extra>",
         "legendgroup": "United Kingdom",
         "line": {
          "color": "rgba(255,255,255,0)"
         },
         "marker": {
          "color": "#FF6692"
         },
         "name": "United Kingdom",
         "offsetgroup": "United Kingdom",
         "orientation": "h",
         "pointpos": 0,
         "showlegend": true,
         "type": "box",
         "x": [
          201.29312977099218
         ],
         "x0": " ",
         "xaxis": "x",
         "y": [
          "United Kingdom"
         ],
         "y0": " ",
         "yaxis": "y"
        },
        {
         "alignmentgroup": "True",
         "boxpoints": "all",
         "fillcolor": "rgba(255,255,255,0)",
         "hoveron": "points",
         "hovertemplate": "shipping_to=%{y}<br>price in $=%{x}<extra></extra>",
         "legendgroup": "United Kingdom, United States",
         "line": {
          "color": "rgba(255,255,255,0)"
         },
         "marker": {
          "color": "#B6E880"
         },
         "name": "United Kingdom, United States",
         "offsetgroup": "United Kingdom, United States",
         "orientation": "h",
         "pointpos": 0,
         "showlegend": true,
         "type": "box",
         "x": [
          135.26726114649682
         ],
         "x0": " ",
         "xaxis": "x",
         "y": [
          "United Kingdom, United States"
         ],
         "y0": " ",
         "yaxis": "y"
        }
       ],
       "layout": {
        "boxmode": "overlay",
        "legend": {
         "title": {
          "text": "shipping_to"
         },
         "tracegroupgap": 0
        },
        "margin": {
         "t": 60
        },
        "template": {
         "data": {
          "bar": [
           {
            "error_x": {
             "color": "#2a3f5f"
            },
            "error_y": {
             "color": "#2a3f5f"
            },
            "marker": {
             "line": {
              "color": "#E5ECF6",
              "width": 0.5
             }
            },
            "type": "bar"
           }
          ],
          "barpolar": [
           {
            "marker": {
             "line": {
              "color": "#E5ECF6",
              "width": 0.5
             }
            },
            "type": "barpolar"
           }
          ],
          "carpet": [
           {
            "aaxis": {
             "endlinecolor": "#2a3f5f",
             "gridcolor": "white",
             "linecolor": "white",
             "minorgridcolor": "white",
             "startlinecolor": "#2a3f5f"
            },
            "baxis": {
             "endlinecolor": "#2a3f5f",
             "gridcolor": "white",
             "linecolor": "white",
             "minorgridcolor": "white",
             "startlinecolor": "#2a3f5f"
            },
            "type": "carpet"
           }
          ],
          "choropleth": [
           {
            "colorbar": {
             "outlinewidth": 0,
             "ticks": ""
            },
            "type": "choropleth"
           }
          ],
          "contour": [
           {
            "colorbar": {
             "outlinewidth": 0,
             "ticks": ""
            },
            "colorscale": [
             [
              0,
              "#0d0887"
             ],
             [
              0.1111111111111111,
              "#46039f"
             ],
             [
              0.2222222222222222,
              "#7201a8"
             ],
             [
              0.3333333333333333,
              "#9c179e"
             ],
             [
              0.4444444444444444,
              "#bd3786"
             ],
             [
              0.5555555555555556,
              "#d8576b"
             ],
             [
              0.6666666666666666,
              "#ed7953"
             ],
             [
              0.7777777777777778,
              "#fb9f3a"
             ],
             [
              0.8888888888888888,
              "#fdca26"
             ],
             [
              1,
              "#f0f921"
             ]
            ],
            "type": "contour"
           }
          ],
          "contourcarpet": [
           {
            "colorbar": {
             "outlinewidth": 0,
             "ticks": ""
            },
            "type": "contourcarpet"
           }
          ],
          "heatmap": [
           {
            "colorbar": {
             "outlinewidth": 0,
             "ticks": ""
            },
            "colorscale": [
             [
              0,
              "#0d0887"
             ],
             [
              0.1111111111111111,
              "#46039f"
             ],
             [
              0.2222222222222222,
              "#7201a8"
             ],
             [
              0.3333333333333333,
              "#9c179e"
             ],
             [
              0.4444444444444444,
              "#bd3786"
             ],
             [
              0.5555555555555556,
              "#d8576b"
             ],
             [
              0.6666666666666666,
              "#ed7953"
             ],
             [
              0.7777777777777778,
              "#fb9f3a"
             ],
             [
              0.8888888888888888,
              "#fdca26"
             ],
             [
              1,
              "#f0f921"
             ]
            ],
            "type": "heatmap"
           }
          ],
          "heatmapgl": [
           {
            "colorbar": {
             "outlinewidth": 0,
             "ticks": ""
            },
            "colorscale": [
             [
              0,
              "#0d0887"
             ],
             [
              0.1111111111111111,
              "#46039f"
             ],
             [
              0.2222222222222222,
              "#7201a8"
             ],
             [
              0.3333333333333333,
              "#9c179e"
             ],
             [
              0.4444444444444444,
              "#bd3786"
             ],
             [
              0.5555555555555556,
              "#d8576b"
             ],
             [
              0.6666666666666666,
              "#ed7953"
             ],
             [
              0.7777777777777778,
              "#fb9f3a"
             ],
             [
              0.8888888888888888,
              "#fdca26"
             ],
             [
              1,
              "#f0f921"
             ]
            ],
            "type": "heatmapgl"
           }
          ],
          "histogram": [
           {
            "marker": {
             "colorbar": {
              "outlinewidth": 0,
              "ticks": ""
             }
            },
            "type": "histogram"
           }
          ],
          "histogram2d": [
           {
            "colorbar": {
             "outlinewidth": 0,
             "ticks": ""
            },
            "colorscale": [
             [
              0,
              "#0d0887"
             ],
             [
              0.1111111111111111,
              "#46039f"
             ],
             [
              0.2222222222222222,
              "#7201a8"
             ],
             [
              0.3333333333333333,
              "#9c179e"
             ],
             [
              0.4444444444444444,
              "#bd3786"
             ],
             [
              0.5555555555555556,
              "#d8576b"
             ],
             [
              0.6666666666666666,
              "#ed7953"
             ],
             [
              0.7777777777777778,
              "#fb9f3a"
             ],
             [
              0.8888888888888888,
              "#fdca26"
             ],
             [
              1,
              "#f0f921"
             ]
            ],
            "type": "histogram2d"
           }
          ],
          "histogram2dcontour": [
           {
            "colorbar": {
             "outlinewidth": 0,
             "ticks": ""
            },
            "colorscale": [
             [
              0,
              "#0d0887"
             ],
             [
              0.1111111111111111,
              "#46039f"
             ],
             [
              0.2222222222222222,
              "#7201a8"
             ],
             [
              0.3333333333333333,
              "#9c179e"
             ],
             [
              0.4444444444444444,
              "#bd3786"
             ],
             [
              0.5555555555555556,
              "#d8576b"
             ],
             [
              0.6666666666666666,
              "#ed7953"
             ],
             [
              0.7777777777777778,
              "#fb9f3a"
             ],
             [
              0.8888888888888888,
              "#fdca26"
             ],
             [
              1,
              "#f0f921"
             ]
            ],
            "type": "histogram2dcontour"
           }
          ],
          "mesh3d": [
           {
            "colorbar": {
             "outlinewidth": 0,
             "ticks": ""
            },
            "type": "mesh3d"
           }
          ],
          "parcoords": [
           {
            "line": {
             "colorbar": {
              "outlinewidth": 0,
              "ticks": ""
             }
            },
            "type": "parcoords"
           }
          ],
          "pie": [
           {
            "automargin": true,
            "type": "pie"
           }
          ],
          "scatter": [
           {
            "marker": {
             "colorbar": {
              "outlinewidth": 0,
              "ticks": ""
             }
            },
            "type": "scatter"
           }
          ],
          "scatter3d": [
           {
            "line": {
             "colorbar": {
              "outlinewidth": 0,
              "ticks": ""
             }
            },
            "marker": {
             "colorbar": {
              "outlinewidth": 0,
              "ticks": ""
             }
            },
            "type": "scatter3d"
           }
          ],
          "scattercarpet": [
           {
            "marker": {
             "colorbar": {
              "outlinewidth": 0,
              "ticks": ""
             }
            },
            "type": "scattercarpet"
           }
          ],
          "scattergeo": [
           {
            "marker": {
             "colorbar": {
              "outlinewidth": 0,
              "ticks": ""
             }
            },
            "type": "scattergeo"
           }
          ],
          "scattergl": [
           {
            "marker": {
             "colorbar": {
              "outlinewidth": 0,
              "ticks": ""
             }
            },
            "type": "scattergl"
           }
          ],
          "scattermapbox": [
           {
            "marker": {
             "colorbar": {
              "outlinewidth": 0,
              "ticks": ""
             }
            },
            "type": "scattermapbox"
           }
          ],
          "scatterpolar": [
           {
            "marker": {
             "colorbar": {
              "outlinewidth": 0,
              "ticks": ""
             }
            },
            "type": "scatterpolar"
           }
          ],
          "scatterpolargl": [
           {
            "marker": {
             "colorbar": {
              "outlinewidth": 0,
              "ticks": ""
             }
            },
            "type": "scatterpolargl"
           }
          ],
          "scatterternary": [
           {
            "marker": {
             "colorbar": {
              "outlinewidth": 0,
              "ticks": ""
             }
            },
            "type": "scatterternary"
           }
          ],
          "surface": [
           {
            "colorbar": {
             "outlinewidth": 0,
             "ticks": ""
            },
            "colorscale": [
             [
              0,
              "#0d0887"
             ],
             [
              0.1111111111111111,
              "#46039f"
             ],
             [
              0.2222222222222222,
              "#7201a8"
             ],
             [
              0.3333333333333333,
              "#9c179e"
             ],
             [
              0.4444444444444444,
              "#bd3786"
             ],
             [
              0.5555555555555556,
              "#d8576b"
             ],
             [
              0.6666666666666666,
              "#ed7953"
             ],
             [
              0.7777777777777778,
              "#fb9f3a"
             ],
             [
              0.8888888888888888,
              "#fdca26"
             ],
             [
              1,
              "#f0f921"
             ]
            ],
            "type": "surface"
           }
          ],
          "table": [
           {
            "cells": {
             "fill": {
              "color": "#EBF0F8"
             },
             "line": {
              "color": "white"
             }
            },
            "header": {
             "fill": {
              "color": "#C8D4E3"
             },
             "line": {
              "color": "white"
             }
            },
            "type": "table"
           }
          ]
         },
         "layout": {
          "annotationdefaults": {
           "arrowcolor": "#2a3f5f",
           "arrowhead": 0,
           "arrowwidth": 1
          },
          "autotypenumbers": "strict",
          "coloraxis": {
           "colorbar": {
            "outlinewidth": 0,
            "ticks": ""
           }
          },
          "colorscale": {
           "diverging": [
            [
             0,
             "#8e0152"
            ],
            [
             0.1,
             "#c51b7d"
            ],
            [
             0.2,
             "#de77ae"
            ],
            [
             0.3,
             "#f1b6da"
            ],
            [
             0.4,
             "#fde0ef"
            ],
            [
             0.5,
             "#f7f7f7"
            ],
            [
             0.6,
             "#e6f5d0"
            ],
            [
             0.7,
             "#b8e186"
            ],
            [
             0.8,
             "#7fbc41"
            ],
            [
             0.9,
             "#4d9221"
            ],
            [
             1,
             "#276419"
            ]
           ],
           "sequential": [
            [
             0,
             "#0d0887"
            ],
            [
             0.1111111111111111,
             "#46039f"
            ],
            [
             0.2222222222222222,
             "#7201a8"
            ],
            [
             0.3333333333333333,
             "#9c179e"
            ],
            [
             0.4444444444444444,
             "#bd3786"
            ],
            [
             0.5555555555555556,
             "#d8576b"
            ],
            [
             0.6666666666666666,
             "#ed7953"
            ],
            [
             0.7777777777777778,
             "#fb9f3a"
            ],
            [
             0.8888888888888888,
             "#fdca26"
            ],
            [
             1,
             "#f0f921"
            ]
           ],
           "sequentialminus": [
            [
             0,
             "#0d0887"
            ],
            [
             0.1111111111111111,
             "#46039f"
            ],
            [
             0.2222222222222222,
             "#7201a8"
            ],
            [
             0.3333333333333333,
             "#9c179e"
            ],
            [
             0.4444444444444444,
             "#bd3786"
            ],
            [
             0.5555555555555556,
             "#d8576b"
            ],
            [
             0.6666666666666666,
             "#ed7953"
            ],
            [
             0.7777777777777778,
             "#fb9f3a"
            ],
            [
             0.8888888888888888,
             "#fdca26"
            ],
            [
             1,
             "#f0f921"
            ]
           ]
          },
          "colorway": [
           "#636efa",
           "#EF553B",
           "#00cc96",
           "#ab63fa",
           "#FFA15A",
           "#19d3f3",
           "#FF6692",
           "#B6E880",
           "#FF97FF",
           "#FECB52"
          ],
          "font": {
           "color": "#2a3f5f"
          },
          "geo": {
           "bgcolor": "white",
           "lakecolor": "white",
           "landcolor": "#E5ECF6",
           "showlakes": true,
           "showland": true,
           "subunitcolor": "white"
          },
          "hoverlabel": {
           "align": "left"
          },
          "hovermode": "closest",
          "mapbox": {
           "style": "light"
          },
          "paper_bgcolor": "white",
          "plot_bgcolor": "#E5ECF6",
          "polar": {
           "angularaxis": {
            "gridcolor": "white",
            "linecolor": "white",
            "ticks": ""
           },
           "bgcolor": "#E5ECF6",
           "radialaxis": {
            "gridcolor": "white",
            "linecolor": "white",
            "ticks": ""
           }
          },
          "scene": {
           "xaxis": {
            "backgroundcolor": "#E5ECF6",
            "gridcolor": "white",
            "gridwidth": 2,
            "linecolor": "white",
            "showbackground": true,
            "ticks": "",
            "zerolinecolor": "white"
           },
           "yaxis": {
            "backgroundcolor": "#E5ECF6",
            "gridcolor": "white",
            "gridwidth": 2,
            "linecolor": "white",
            "showbackground": true,
            "ticks": "",
            "zerolinecolor": "white"
           },
           "zaxis": {
            "backgroundcolor": "#E5ECF6",
            "gridcolor": "white",
            "gridwidth": 2,
            "linecolor": "white",
            "showbackground": true,
            "ticks": "",
            "zerolinecolor": "white"
           }
          },
          "shapedefaults": {
           "line": {
            "color": "#2a3f5f"
           }
          },
          "ternary": {
           "aaxis": {
            "gridcolor": "white",
            "linecolor": "white",
            "ticks": ""
           },
           "baxis": {
            "gridcolor": "white",
            "linecolor": "white",
            "ticks": ""
           },
           "bgcolor": "#E5ECF6",
           "caxis": {
            "gridcolor": "white",
            "linecolor": "white",
            "ticks": ""
           }
          },
          "title": {
           "x": 0.05
          },
          "xaxis": {
           "automargin": true,
           "gridcolor": "white",
           "linecolor": "white",
           "ticks": "",
           "title": {
            "standoff": 15
           },
           "zerolinecolor": "white",
           "zerolinewidth": 2
          },
          "yaxis": {
           "automargin": true,
           "gridcolor": "white",
           "linecolor": "white",
           "ticks": "",
           "title": {
            "standoff": 15
           },
           "zerolinecolor": "white",
           "zerolinewidth": 2
          }
         }
        },
        "xaxis": {
         "anchor": "y",
         "domain": [
          0,
          1
         ],
         "title": {
          "text": "price in $"
         }
        },
        "yaxis": {
         "anchor": "x",
         "categoryarray": [
          "United Kingdom, United States",
          "United Kingdom",
          "Worldwide",
          "United States",
          "Germany",
          "Europe",
          "North America",
          "Australia"
         ],
         "categoryorder": "array",
         "domain": [
          0,
          1
         ],
         "title": {
          "text": "shipping_to"
         }
        }
       }
      },
      "text/html": [
       "<div>                            <div id=\"54fb7448-6f95-4c43-8aa8-3d84d450a29e\" class=\"plotly-graph-div\" style=\"height:525px; width:100%;\"></div>            <script type=\"text/javascript\">                require([\"plotly\"], function(Plotly) {                    window.PLOTLYENV=window.PLOTLYENV || {};                                    if (document.getElementById(\"54fb7448-6f95-4c43-8aa8-3d84d450a29e\")) {                    Plotly.newPlot(                        \"54fb7448-6f95-4c43-8aa8-3d84d450a29e\",                        [{\"alignmentgroup\": \"True\", \"boxpoints\": \"all\", \"fillcolor\": \"rgba(255,255,255,0)\", \"hoveron\": \"points\", \"hovertemplate\": \"shipping_to=%{y}<br>price in $=%{x}<extra></extra>\", \"legendgroup\": \"Australia\", \"line\": {\"color\": \"rgba(255,255,255,0)\"}, \"marker\": {\"color\": \"#636efa\"}, \"name\": \"Australia\", \"offsetgroup\": \"Australia\", \"orientation\": \"h\", \"pointpos\": 0, \"showlegend\": true, \"type\": \"box\", \"x\": [321.1638997214481], \"x0\": \" \", \"xaxis\": \"x\", \"y\": [\"Australia\"], \"y0\": \" \", \"yaxis\": \"y\"}, {\"alignmentgroup\": \"True\", \"boxpoints\": \"all\", \"fillcolor\": \"rgba(255,255,255,0)\", \"hoveron\": \"points\", \"hovertemplate\": \"shipping_to=%{y}<br>price in $=%{x}<extra></extra>\", \"legendgroup\": \"North America\", \"line\": {\"color\": \"rgba(255,255,255,0)\"}, \"marker\": {\"color\": \"#EF553B\"}, \"name\": \"North America\", \"offsetgroup\": \"North America\", \"orientation\": \"h\", \"pointpos\": 0, \"showlegend\": true, \"type\": \"box\", \"x\": [286.3777914110429], \"x0\": \" \", \"xaxis\": \"x\", \"y\": [\"North America\"], \"y0\": \" \", \"yaxis\": \"y\"}, {\"alignmentgroup\": \"True\", \"boxpoints\": \"all\", \"fillcolor\": \"rgba(255,255,255,0)\", \"hoveron\": \"points\", \"hovertemplate\": \"shipping_to=%{y}<br>price in $=%{x}<extra></extra>\", \"legendgroup\": \"Europe\", \"line\": {\"color\": \"rgba(255,255,255,0)\"}, \"marker\": {\"color\": \"#00cc96\"}, \"name\": \"Europe\", \"offsetgroup\": \"Europe\", \"orientation\": \"h\", \"pointpos\": 0, \"showlegend\": true, \"type\": \"box\", \"x\": [235.13682048040494], \"x0\": \" \", \"xaxis\": \"x\", \"y\": [\"Europe\"], \"y0\": \" \", \"yaxis\": \"y\"}, {\"alignmentgroup\": \"True\", \"boxpoints\": \"all\", \"fillcolor\": \"rgba(255,255,255,0)\", \"hoveron\": \"points\", \"hovertemplate\": \"shipping_to=%{y}<br>price in $=%{x}<extra></extra>\", \"legendgroup\": \"Germany\", \"line\": {\"color\": \"rgba(255,255,255,0)\"}, \"marker\": {\"color\": \"#ab63fa\"}, \"name\": \"Germany\", \"offsetgroup\": \"Germany\", \"orientation\": \"h\", \"pointpos\": 0, \"showlegend\": true, \"type\": \"box\", \"x\": [235.1227433628317], \"x0\": \" \", \"xaxis\": \"x\", \"y\": [\"Germany\"], \"y0\": \" \", \"yaxis\": \"y\"}, {\"alignmentgroup\": \"True\", \"boxpoints\": \"all\", \"fillcolor\": \"rgba(255,255,255,0)\", \"hoveron\": \"points\", \"hovertemplate\": \"shipping_to=%{y}<br>price in $=%{x}<extra></extra>\", \"legendgroup\": \"United States\", \"line\": {\"color\": \"rgba(255,255,255,0)\"}, \"marker\": {\"color\": \"#FFA15A\"}, \"name\": \"United States\", \"offsetgroup\": \"United States\", \"orientation\": \"h\", \"pointpos\": 0, \"showlegend\": true, \"type\": \"box\", \"x\": [228.02456721915266], \"x0\": \" \", \"xaxis\": \"x\", \"y\": [\"United States\"], \"y0\": \" \", \"yaxis\": \"y\"}, {\"alignmentgroup\": \"True\", \"boxpoints\": \"all\", \"fillcolor\": \"rgba(255,255,255,0)\", \"hoveron\": \"points\", \"hovertemplate\": \"shipping_to=%{y}<br>price in $=%{x}<extra></extra>\", \"legendgroup\": \"Worldwide\", \"line\": {\"color\": \"rgba(255,255,255,0)\"}, \"marker\": {\"color\": \"#19d3f3\"}, \"name\": \"Worldwide\", \"offsetgroup\": \"Worldwide\", \"orientation\": \"h\", \"pointpos\": 0, \"showlegend\": true, \"type\": \"box\", \"x\": [220.4403437401447], \"x0\": \" \", \"xaxis\": \"x\", \"y\": [\"Worldwide\"], \"y0\": \" \", \"yaxis\": \"y\"}, {\"alignmentgroup\": \"True\", \"boxpoints\": \"all\", \"fillcolor\": \"rgba(255,255,255,0)\", \"hoveron\": \"points\", \"hovertemplate\": \"shipping_to=%{y}<br>price in $=%{x}<extra></extra>\", \"legendgroup\": \"United Kingdom\", \"line\": {\"color\": \"rgba(255,255,255,0)\"}, \"marker\": {\"color\": \"#FF6692\"}, \"name\": \"United Kingdom\", \"offsetgroup\": \"United Kingdom\", \"orientation\": \"h\", \"pointpos\": 0, \"showlegend\": true, \"type\": \"box\", \"x\": [201.29312977099218], \"x0\": \" \", \"xaxis\": \"x\", \"y\": [\"United Kingdom\"], \"y0\": \" \", \"yaxis\": \"y\"}, {\"alignmentgroup\": \"True\", \"boxpoints\": \"all\", \"fillcolor\": \"rgba(255,255,255,0)\", \"hoveron\": \"points\", \"hovertemplate\": \"shipping_to=%{y}<br>price in $=%{x}<extra></extra>\", \"legendgroup\": \"United Kingdom, United States\", \"line\": {\"color\": \"rgba(255,255,255,0)\"}, \"marker\": {\"color\": \"#B6E880\"}, \"name\": \"United Kingdom, United States\", \"offsetgroup\": \"United Kingdom, United States\", \"orientation\": \"h\", \"pointpos\": 0, \"showlegend\": true, \"type\": \"box\", \"x\": [135.26726114649682], \"x0\": \" \", \"xaxis\": \"x\", \"y\": [\"United Kingdom, United States\"], \"y0\": \" \", \"yaxis\": \"y\"}],                        {\"boxmode\": \"overlay\", \"legend\": {\"title\": {\"text\": \"shipping_to\"}, \"tracegroupgap\": 0}, \"margin\": {\"t\": 60}, \"template\": {\"data\": {\"bar\": [{\"error_x\": {\"color\": \"#2a3f5f\"}, \"error_y\": {\"color\": \"#2a3f5f\"}, \"marker\": {\"line\": {\"color\": \"#E5ECF6\", \"width\": 0.5}}, \"type\": \"bar\"}], \"barpolar\": [{\"marker\": {\"line\": {\"color\": \"#E5ECF6\", \"width\": 0.5}}, \"type\": \"barpolar\"}], \"carpet\": [{\"aaxis\": {\"endlinecolor\": \"#2a3f5f\", \"gridcolor\": \"white\", \"linecolor\": \"white\", \"minorgridcolor\": \"white\", \"startlinecolor\": \"#2a3f5f\"}, \"baxis\": {\"endlinecolor\": \"#2a3f5f\", \"gridcolor\": \"white\", \"linecolor\": \"white\", \"minorgridcolor\": \"white\", \"startlinecolor\": \"#2a3f5f\"}, \"type\": \"carpet\"}], \"choropleth\": [{\"colorbar\": {\"outlinewidth\": 0, \"ticks\": \"\"}, \"type\": \"choropleth\"}], \"contour\": [{\"colorbar\": {\"outlinewidth\": 0, \"ticks\": \"\"}, \"colorscale\": [[0.0, \"#0d0887\"], [0.1111111111111111, \"#46039f\"], [0.2222222222222222, \"#7201a8\"], [0.3333333333333333, \"#9c179e\"], [0.4444444444444444, \"#bd3786\"], [0.5555555555555556, \"#d8576b\"], [0.6666666666666666, \"#ed7953\"], [0.7777777777777778, \"#fb9f3a\"], [0.8888888888888888, \"#fdca26\"], [1.0, \"#f0f921\"]], \"type\": \"contour\"}], \"contourcarpet\": [{\"colorbar\": {\"outlinewidth\": 0, \"ticks\": \"\"}, \"type\": \"contourcarpet\"}], \"heatmap\": [{\"colorbar\": {\"outlinewidth\": 0, \"ticks\": \"\"}, \"colorscale\": [[0.0, \"#0d0887\"], [0.1111111111111111, \"#46039f\"], [0.2222222222222222, \"#7201a8\"], [0.3333333333333333, \"#9c179e\"], [0.4444444444444444, \"#bd3786\"], [0.5555555555555556, \"#d8576b\"], [0.6666666666666666, \"#ed7953\"], [0.7777777777777778, \"#fb9f3a\"], [0.8888888888888888, \"#fdca26\"], [1.0, \"#f0f921\"]], \"type\": \"heatmap\"}], \"heatmapgl\": [{\"colorbar\": {\"outlinewidth\": 0, \"ticks\": \"\"}, \"colorscale\": [[0.0, \"#0d0887\"], [0.1111111111111111, \"#46039f\"], [0.2222222222222222, \"#7201a8\"], [0.3333333333333333, \"#9c179e\"], [0.4444444444444444, \"#bd3786\"], [0.5555555555555556, \"#d8576b\"], [0.6666666666666666, \"#ed7953\"], [0.7777777777777778, \"#fb9f3a\"], [0.8888888888888888, \"#fdca26\"], [1.0, \"#f0f921\"]], \"type\": \"heatmapgl\"}], \"histogram\": [{\"marker\": {\"colorbar\": {\"outlinewidth\": 0, \"ticks\": \"\"}}, \"type\": \"histogram\"}], \"histogram2d\": [{\"colorbar\": {\"outlinewidth\": 0, \"ticks\": \"\"}, \"colorscale\": [[0.0, \"#0d0887\"], [0.1111111111111111, \"#46039f\"], [0.2222222222222222, \"#7201a8\"], [0.3333333333333333, \"#9c179e\"], [0.4444444444444444, \"#bd3786\"], [0.5555555555555556, \"#d8576b\"], [0.6666666666666666, \"#ed7953\"], [0.7777777777777778, \"#fb9f3a\"], [0.8888888888888888, \"#fdca26\"], [1.0, \"#f0f921\"]], \"type\": \"histogram2d\"}], \"histogram2dcontour\": [{\"colorbar\": {\"outlinewidth\": 0, \"ticks\": \"\"}, \"colorscale\": [[0.0, \"#0d0887\"], [0.1111111111111111, \"#46039f\"], [0.2222222222222222, \"#7201a8\"], [0.3333333333333333, \"#9c179e\"], [0.4444444444444444, \"#bd3786\"], [0.5555555555555556, \"#d8576b\"], [0.6666666666666666, \"#ed7953\"], [0.7777777777777778, \"#fb9f3a\"], [0.8888888888888888, \"#fdca26\"], [1.0, \"#f0f921\"]], \"type\": \"histogram2dcontour\"}], \"mesh3d\": [{\"colorbar\": {\"outlinewidth\": 0, \"ticks\": \"\"}, \"type\": \"mesh3d\"}], \"parcoords\": [{\"line\": {\"colorbar\": {\"outlinewidth\": 0, \"ticks\": \"\"}}, \"type\": \"parcoords\"}], \"pie\": [{\"automargin\": true, \"type\": \"pie\"}], \"scatter\": [{\"marker\": {\"colorbar\": {\"outlinewidth\": 0, \"ticks\": \"\"}}, \"type\": \"scatter\"}], \"scatter3d\": [{\"line\": {\"colorbar\": {\"outlinewidth\": 0, \"ticks\": \"\"}}, \"marker\": {\"colorbar\": {\"outlinewidth\": 0, \"ticks\": \"\"}}, \"type\": \"scatter3d\"}], \"scattercarpet\": [{\"marker\": {\"colorbar\": {\"outlinewidth\": 0, \"ticks\": \"\"}}, \"type\": \"scattercarpet\"}], \"scattergeo\": [{\"marker\": {\"colorbar\": {\"outlinewidth\": 0, \"ticks\": \"\"}}, \"type\": \"scattergeo\"}], \"scattergl\": [{\"marker\": {\"colorbar\": {\"outlinewidth\": 0, \"ticks\": \"\"}}, \"type\": \"scattergl\"}], \"scattermapbox\": [{\"marker\": {\"colorbar\": {\"outlinewidth\": 0, \"ticks\": \"\"}}, \"type\": \"scattermapbox\"}], \"scatterpolar\": [{\"marker\": {\"colorbar\": {\"outlinewidth\": 0, \"ticks\": \"\"}}, \"type\": \"scatterpolar\"}], \"scatterpolargl\": [{\"marker\": {\"colorbar\": {\"outlinewidth\": 0, \"ticks\": \"\"}}, \"type\": \"scatterpolargl\"}], \"scatterternary\": [{\"marker\": {\"colorbar\": {\"outlinewidth\": 0, \"ticks\": \"\"}}, \"type\": \"scatterternary\"}], \"surface\": [{\"colorbar\": {\"outlinewidth\": 0, \"ticks\": \"\"}, \"colorscale\": [[0.0, \"#0d0887\"], [0.1111111111111111, \"#46039f\"], [0.2222222222222222, \"#7201a8\"], [0.3333333333333333, \"#9c179e\"], [0.4444444444444444, \"#bd3786\"], [0.5555555555555556, \"#d8576b\"], [0.6666666666666666, \"#ed7953\"], [0.7777777777777778, \"#fb9f3a\"], [0.8888888888888888, \"#fdca26\"], [1.0, \"#f0f921\"]], \"type\": \"surface\"}], \"table\": [{\"cells\": {\"fill\": {\"color\": \"#EBF0F8\"}, \"line\": {\"color\": \"white\"}}, \"header\": {\"fill\": {\"color\": \"#C8D4E3\"}, \"line\": {\"color\": \"white\"}}, \"type\": \"table\"}]}, \"layout\": {\"annotationdefaults\": {\"arrowcolor\": \"#2a3f5f\", \"arrowhead\": 0, \"arrowwidth\": 1}, \"autotypenumbers\": \"strict\", \"coloraxis\": {\"colorbar\": {\"outlinewidth\": 0, \"ticks\": \"\"}}, \"colorscale\": {\"diverging\": [[0, \"#8e0152\"], [0.1, \"#c51b7d\"], [0.2, \"#de77ae\"], [0.3, \"#f1b6da\"], [0.4, \"#fde0ef\"], [0.5, \"#f7f7f7\"], [0.6, \"#e6f5d0\"], [0.7, \"#b8e186\"], [0.8, \"#7fbc41\"], [0.9, \"#4d9221\"], [1, \"#276419\"]], \"sequential\": [[0.0, \"#0d0887\"], [0.1111111111111111, \"#46039f\"], [0.2222222222222222, \"#7201a8\"], [0.3333333333333333, \"#9c179e\"], [0.4444444444444444, \"#bd3786\"], [0.5555555555555556, \"#d8576b\"], [0.6666666666666666, \"#ed7953\"], [0.7777777777777778, \"#fb9f3a\"], [0.8888888888888888, \"#fdca26\"], [1.0, \"#f0f921\"]], \"sequentialminus\": [[0.0, \"#0d0887\"], [0.1111111111111111, \"#46039f\"], [0.2222222222222222, \"#7201a8\"], [0.3333333333333333, \"#9c179e\"], [0.4444444444444444, \"#bd3786\"], [0.5555555555555556, \"#d8576b\"], [0.6666666666666666, \"#ed7953\"], [0.7777777777777778, \"#fb9f3a\"], [0.8888888888888888, \"#fdca26\"], [1.0, \"#f0f921\"]]}, \"colorway\": [\"#636efa\", \"#EF553B\", \"#00cc96\", \"#ab63fa\", \"#FFA15A\", \"#19d3f3\", \"#FF6692\", \"#B6E880\", \"#FF97FF\", \"#FECB52\"], \"font\": {\"color\": \"#2a3f5f\"}, \"geo\": {\"bgcolor\": \"white\", \"lakecolor\": \"white\", \"landcolor\": \"#E5ECF6\", \"showlakes\": true, \"showland\": true, \"subunitcolor\": \"white\"}, \"hoverlabel\": {\"align\": \"left\"}, \"hovermode\": \"closest\", \"mapbox\": {\"style\": \"light\"}, \"paper_bgcolor\": \"white\", \"plot_bgcolor\": \"#E5ECF6\", \"polar\": {\"angularaxis\": {\"gridcolor\": \"white\", \"linecolor\": \"white\", \"ticks\": \"\"}, \"bgcolor\": \"#E5ECF6\", \"radialaxis\": {\"gridcolor\": \"white\", \"linecolor\": \"white\", \"ticks\": \"\"}}, \"scene\": {\"xaxis\": {\"backgroundcolor\": \"#E5ECF6\", \"gridcolor\": \"white\", \"gridwidth\": 2, \"linecolor\": \"white\", \"showbackground\": true, \"ticks\": \"\", \"zerolinecolor\": \"white\"}, \"yaxis\": {\"backgroundcolor\": \"#E5ECF6\", \"gridcolor\": \"white\", \"gridwidth\": 2, \"linecolor\": \"white\", \"showbackground\": true, \"ticks\": \"\", \"zerolinecolor\": \"white\"}, \"zaxis\": {\"backgroundcolor\": \"#E5ECF6\", \"gridcolor\": \"white\", \"gridwidth\": 2, \"linecolor\": \"white\", \"showbackground\": true, \"ticks\": \"\", \"zerolinecolor\": \"white\"}}, \"shapedefaults\": {\"line\": {\"color\": \"#2a3f5f\"}}, \"ternary\": {\"aaxis\": {\"gridcolor\": \"white\", \"linecolor\": \"white\", \"ticks\": \"\"}, \"baxis\": {\"gridcolor\": \"white\", \"linecolor\": \"white\", \"ticks\": \"\"}, \"bgcolor\": \"#E5ECF6\", \"caxis\": {\"gridcolor\": \"white\", \"linecolor\": \"white\", \"ticks\": \"\"}}, \"title\": {\"x\": 0.05}, \"xaxis\": {\"automargin\": true, \"gridcolor\": \"white\", \"linecolor\": \"white\", \"ticks\": \"\", \"title\": {\"standoff\": 15}, \"zerolinecolor\": \"white\", \"zerolinewidth\": 2}, \"yaxis\": {\"automargin\": true, \"gridcolor\": \"white\", \"linecolor\": \"white\", \"ticks\": \"\", \"title\": {\"standoff\": 15}, \"zerolinecolor\": \"white\", \"zerolinewidth\": 2}}}, \"xaxis\": {\"anchor\": \"y\", \"domain\": [0.0, 1.0], \"title\": {\"text\": \"price in $\"}}, \"yaxis\": {\"anchor\": \"x\", \"categoryarray\": [\"United Kingdom, United States\", \"United Kingdom\", \"Worldwide\", \"United States\", \"Germany\", \"Europe\", \"North America\", \"Australia\"], \"categoryorder\": \"array\", \"domain\": [0.0, 1.0], \"title\": {\"text\": \"shipping_to\"}}},                        {\"responsive\": true}                    ).then(function(){\n",
       "                            \n",
       "var gd = document.getElementById('54fb7448-6f95-4c43-8aa8-3d84d450a29e');\n",
       "var x = new MutationObserver(function (mutations, observer) {{\n",
       "        var display = window.getComputedStyle(gd).display;\n",
       "        if (!display || display === 'none') {{\n",
       "            console.log([gd, 'removed!']);\n",
       "            Plotly.purge(gd);\n",
       "            observer.disconnect();\n",
       "        }}\n",
       "}});\n",
       "\n",
       "// Listen for the removal of the full notebook cells\n",
       "var notebookContainer = gd.closest('#notebook-container');\n",
       "if (notebookContainer) {{\n",
       "    x.observe(notebookContainer, {childList: true});\n",
       "}}\n",
       "\n",
       "// Listen for the clearing of the current output cell\n",
       "var outputEl = gd.closest('.output');\n",
       "if (outputEl) {{\n",
       "    x.observe(outputEl, {childList: true});\n",
       "}}\n",
       "\n",
       "                        })                };                });            </script>        </div>"
      ]
     },
     "metadata": {},
     "output_type": "display_data"
    }
   ],
   "source": [
    "plot_category_wise('shipping_to', 100)"
   ]
  },
  {
   "cell_type": "code",
   "execution_count": 74,
   "id": "portuguese-england",
   "metadata": {},
   "outputs": [
    {
     "data": {
      "application/vnd.plotly.v1+json": {
       "config": {
        "plotlyServerURL": "https://plot.ly"
       },
       "data": [
        {
         "alignmentgroup": "True",
         "boxpoints": "all",
         "fillcolor": "rgba(255,255,255,0)",
         "hoveron": "points",
         "hovertemplate": "rank=%{y}<br>price in $=%{x}<extra></extra>",
         "legendgroup": "Rank 0",
         "line": {
          "color": "rgba(255,255,255,0)"
         },
         "marker": {
          "color": "#636efa"
         },
         "name": "Rank 0",
         "offsetgroup": "Rank 0",
         "orientation": "h",
         "pointpos": 0,
         "showlegend": true,
         "type": "box",
         "x": [
          239.8147629653199
         ],
         "x0": " ",
         "xaxis": "x",
         "y": [
          "Rank 0"
         ],
         "y0": " ",
         "yaxis": "y"
        },
        {
         "alignmentgroup": "True",
         "boxpoints": "all",
         "fillcolor": "rgba(255,255,255,0)",
         "hoveron": "points",
         "hovertemplate": "rank=%{y}<br>price in $=%{x}<extra></extra>",
         "legendgroup": "Rank 1",
         "line": {
          "color": "rgba(255,255,255,0)"
         },
         "marker": {
          "color": "#EF553B"
         },
         "name": "Rank 1",
         "offsetgroup": "Rank 1",
         "orientation": "h",
         "pointpos": 0,
         "showlegend": true,
         "type": "box",
         "x": [
          228.71138724373543
         ],
         "x0": " ",
         "xaxis": "x",
         "y": [
          "Rank 1"
         ],
         "y0": " ",
         "yaxis": "y"
        },
        {
         "alignmentgroup": "True",
         "boxpoints": "all",
         "fillcolor": "rgba(255,255,255,0)",
         "hoveron": "points",
         "hovertemplate": "rank=%{y}<br>price in $=%{x}<extra></extra>",
         "legendgroup": "Rank 10",
         "line": {
          "color": "rgba(255,255,255,0)"
         },
         "marker": {
          "color": "#00cc96"
         },
         "name": "Rank 10",
         "offsetgroup": "Rank 10",
         "orientation": "h",
         "pointpos": 0,
         "showlegend": true,
         "type": "box",
         "x": [
          129.73079365079366
         ],
         "x0": " ",
         "xaxis": "x",
         "y": [
          "Rank 10"
         ],
         "y0": " ",
         "yaxis": "y"
        },
        {
         "alignmentgroup": "True",
         "boxpoints": "all",
         "fillcolor": "rgba(255,255,255,0)",
         "hoveron": "points",
         "hovertemplate": "rank=%{y}<br>price in $=%{x}<extra></extra>",
         "legendgroup": "Rank 2",
         "line": {
          "color": "rgba(255,255,255,0)"
         },
         "marker": {
          "color": "#ab63fa"
         },
         "name": "Rank 2",
         "offsetgroup": "Rank 2",
         "orientation": "h",
         "pointpos": 0,
         "showlegend": true,
         "type": "box",
         "x": [
          195.51444158517774
         ],
         "x0": " ",
         "xaxis": "x",
         "y": [
          "Rank 2"
         ],
         "y0": " ",
         "yaxis": "y"
        },
        {
         "alignmentgroup": "True",
         "boxpoints": "all",
         "fillcolor": "rgba(255,255,255,0)",
         "hoveron": "points",
         "hovertemplate": "rank=%{y}<br>price in $=%{x}<extra></extra>",
         "legendgroup": "Rank 3",
         "line": {
          "color": "rgba(255,255,255,0)"
         },
         "marker": {
          "color": "#FFA15A"
         },
         "name": "Rank 3",
         "offsetgroup": "Rank 3",
         "orientation": "h",
         "pointpos": 0,
         "showlegend": true,
         "type": "box",
         "x": [
          211.74945828819102
         ],
         "x0": " ",
         "xaxis": "x",
         "y": [
          "Rank 3"
         ],
         "y0": " ",
         "yaxis": "y"
        },
        {
         "alignmentgroup": "True",
         "boxpoints": "all",
         "fillcolor": "rgba(255,255,255,0)",
         "hoveron": "points",
         "hovertemplate": "rank=%{y}<br>price in $=%{x}<extra></extra>",
         "legendgroup": "Rank 4",
         "line": {
          "color": "rgba(255,255,255,0)"
         },
         "marker": {
          "color": "#19d3f3"
         },
         "name": "Rank 4",
         "offsetgroup": "Rank 4",
         "orientation": "h",
         "pointpos": 0,
         "showlegend": true,
         "type": "box",
         "x": [
          225.81638888888898
         ],
         "x0": " ",
         "xaxis": "x",
         "y": [
          "Rank 4"
         ],
         "y0": " ",
         "yaxis": "y"
        },
        {
         "alignmentgroup": "True",
         "boxpoints": "all",
         "fillcolor": "rgba(255,255,255,0)",
         "hoveron": "points",
         "hovertemplate": "rank=%{y}<br>price in $=%{x}<extra></extra>",
         "legendgroup": "Rank 5",
         "line": {
          "color": "rgba(255,255,255,0)"
         },
         "marker": {
          "color": "#FF6692"
         },
         "name": "Rank 5",
         "offsetgroup": "Rank 5",
         "orientation": "h",
         "pointpos": 0,
         "showlegend": true,
         "type": "box",
         "x": [
          266.33593856655256
         ],
         "x0": " ",
         "xaxis": "x",
         "y": [
          "Rank 5"
         ],
         "y0": " ",
         "yaxis": "y"
        },
        {
         "alignmentgroup": "True",
         "boxpoints": "all",
         "fillcolor": "rgba(255,255,255,0)",
         "hoveron": "points",
         "hovertemplate": "rank=%{y}<br>price in $=%{x}<extra></extra>",
         "legendgroup": "Rank 6",
         "line": {
          "color": "rgba(255,255,255,0)"
         },
         "marker": {
          "color": "#B6E880"
         },
         "name": "Rank 6",
         "offsetgroup": "Rank 6",
         "orientation": "h",
         "pointpos": 0,
         "showlegend": true,
         "type": "box",
         "x": [
          293.9912598425197
         ],
         "x0": " ",
         "xaxis": "x",
         "y": [
          "Rank 6"
         ],
         "y0": " ",
         "yaxis": "y"
        },
        {
         "alignmentgroup": "True",
         "boxpoints": "all",
         "fillcolor": "rgba(255,255,255,0)",
         "hoveron": "points",
         "hovertemplate": "rank=%{y}<br>price in $=%{x}<extra></extra>",
         "legendgroup": "Rank 7",
         "line": {
          "color": "rgba(255,255,255,0)"
         },
         "marker": {
          "color": "#FF97FF"
         },
         "name": "Rank 7",
         "offsetgroup": "Rank 7",
         "orientation": "h",
         "pointpos": 0,
         "showlegend": true,
         "type": "box",
         "x": [
          332.930505050505
         ],
         "x0": " ",
         "xaxis": "x",
         "y": [
          "Rank 7"
         ],
         "y0": " ",
         "yaxis": "y"
        },
        {
         "alignmentgroup": "True",
         "boxpoints": "all",
         "fillcolor": "rgba(255,255,255,0)",
         "hoveron": "points",
         "hovertemplate": "rank=%{y}<br>price in $=%{x}<extra></extra>",
         "legendgroup": "Rank 8",
         "line": {
          "color": "rgba(255,255,255,0)"
         },
         "marker": {
          "color": "#FECB52"
         },
         "name": "Rank 8",
         "offsetgroup": "Rank 8",
         "orientation": "h",
         "pointpos": 0,
         "showlegend": true,
         "type": "box",
         "x": [
          182.5644295302013
         ],
         "x0": " ",
         "xaxis": "x",
         "y": [
          "Rank 8"
         ],
         "y0": " ",
         "yaxis": "y"
        },
        {
         "alignmentgroup": "True",
         "boxpoints": "all",
         "fillcolor": "rgba(255,255,255,0)",
         "hoveron": "points",
         "hovertemplate": "rank=%{y}<br>price in $=%{x}<extra></extra>",
         "legendgroup": "Rank 9",
         "line": {
          "color": "rgba(255,255,255,0)"
         },
         "marker": {
          "color": "#636efa"
         },
         "name": "Rank 9",
         "offsetgroup": "Rank 9",
         "orientation": "h",
         "pointpos": 0,
         "showlegend": true,
         "type": "box",
         "x": [
          202.24092920353976
         ],
         "x0": " ",
         "xaxis": "x",
         "y": [
          "Rank 9"
         ],
         "y0": " ",
         "yaxis": "y"
        },
        {
         "alignmentgroup": "True",
         "boxpoints": "all",
         "fillcolor": "rgba(255,255,255,0)",
         "hoveron": "points",
         "hovertemplate": "rank=%{y}<br>price in $=%{x}<extra></extra>",
         "legendgroup": "TOP",
         "line": {
          "color": "rgba(255,255,255,0)"
         },
         "marker": {
          "color": "#EF553B"
         },
         "name": "TOP",
         "offsetgroup": "TOP",
         "orientation": "h",
         "pointpos": 0,
         "showlegend": true,
         "type": "box",
         "x": [
          197.9229296874998
         ],
         "x0": " ",
         "xaxis": "x",
         "y": [
          "TOP"
         ],
         "y0": " ",
         "yaxis": "y"
        }
       ],
       "layout": {
        "boxmode": "overlay",
        "legend": {
         "title": {
          "text": "rank"
         },
         "tracegroupgap": 0
        },
        "margin": {
         "t": 60
        },
        "template": {
         "data": {
          "bar": [
           {
            "error_x": {
             "color": "#2a3f5f"
            },
            "error_y": {
             "color": "#2a3f5f"
            },
            "marker": {
             "line": {
              "color": "#E5ECF6",
              "width": 0.5
             }
            },
            "type": "bar"
           }
          ],
          "barpolar": [
           {
            "marker": {
             "line": {
              "color": "#E5ECF6",
              "width": 0.5
             }
            },
            "type": "barpolar"
           }
          ],
          "carpet": [
           {
            "aaxis": {
             "endlinecolor": "#2a3f5f",
             "gridcolor": "white",
             "linecolor": "white",
             "minorgridcolor": "white",
             "startlinecolor": "#2a3f5f"
            },
            "baxis": {
             "endlinecolor": "#2a3f5f",
             "gridcolor": "white",
             "linecolor": "white",
             "minorgridcolor": "white",
             "startlinecolor": "#2a3f5f"
            },
            "type": "carpet"
           }
          ],
          "choropleth": [
           {
            "colorbar": {
             "outlinewidth": 0,
             "ticks": ""
            },
            "type": "choropleth"
           }
          ],
          "contour": [
           {
            "colorbar": {
             "outlinewidth": 0,
             "ticks": ""
            },
            "colorscale": [
             [
              0,
              "#0d0887"
             ],
             [
              0.1111111111111111,
              "#46039f"
             ],
             [
              0.2222222222222222,
              "#7201a8"
             ],
             [
              0.3333333333333333,
              "#9c179e"
             ],
             [
              0.4444444444444444,
              "#bd3786"
             ],
             [
              0.5555555555555556,
              "#d8576b"
             ],
             [
              0.6666666666666666,
              "#ed7953"
             ],
             [
              0.7777777777777778,
              "#fb9f3a"
             ],
             [
              0.8888888888888888,
              "#fdca26"
             ],
             [
              1,
              "#f0f921"
             ]
            ],
            "type": "contour"
           }
          ],
          "contourcarpet": [
           {
            "colorbar": {
             "outlinewidth": 0,
             "ticks": ""
            },
            "type": "contourcarpet"
           }
          ],
          "heatmap": [
           {
            "colorbar": {
             "outlinewidth": 0,
             "ticks": ""
            },
            "colorscale": [
             [
              0,
              "#0d0887"
             ],
             [
              0.1111111111111111,
              "#46039f"
             ],
             [
              0.2222222222222222,
              "#7201a8"
             ],
             [
              0.3333333333333333,
              "#9c179e"
             ],
             [
              0.4444444444444444,
              "#bd3786"
             ],
             [
              0.5555555555555556,
              "#d8576b"
             ],
             [
              0.6666666666666666,
              "#ed7953"
             ],
             [
              0.7777777777777778,
              "#fb9f3a"
             ],
             [
              0.8888888888888888,
              "#fdca26"
             ],
             [
              1,
              "#f0f921"
             ]
            ],
            "type": "heatmap"
           }
          ],
          "heatmapgl": [
           {
            "colorbar": {
             "outlinewidth": 0,
             "ticks": ""
            },
            "colorscale": [
             [
              0,
              "#0d0887"
             ],
             [
              0.1111111111111111,
              "#46039f"
             ],
             [
              0.2222222222222222,
              "#7201a8"
             ],
             [
              0.3333333333333333,
              "#9c179e"
             ],
             [
              0.4444444444444444,
              "#bd3786"
             ],
             [
              0.5555555555555556,
              "#d8576b"
             ],
             [
              0.6666666666666666,
              "#ed7953"
             ],
             [
              0.7777777777777778,
              "#fb9f3a"
             ],
             [
              0.8888888888888888,
              "#fdca26"
             ],
             [
              1,
              "#f0f921"
             ]
            ],
            "type": "heatmapgl"
           }
          ],
          "histogram": [
           {
            "marker": {
             "colorbar": {
              "outlinewidth": 0,
              "ticks": ""
             }
            },
            "type": "histogram"
           }
          ],
          "histogram2d": [
           {
            "colorbar": {
             "outlinewidth": 0,
             "ticks": ""
            },
            "colorscale": [
             [
              0,
              "#0d0887"
             ],
             [
              0.1111111111111111,
              "#46039f"
             ],
             [
              0.2222222222222222,
              "#7201a8"
             ],
             [
              0.3333333333333333,
              "#9c179e"
             ],
             [
              0.4444444444444444,
              "#bd3786"
             ],
             [
              0.5555555555555556,
              "#d8576b"
             ],
             [
              0.6666666666666666,
              "#ed7953"
             ],
             [
              0.7777777777777778,
              "#fb9f3a"
             ],
             [
              0.8888888888888888,
              "#fdca26"
             ],
             [
              1,
              "#f0f921"
             ]
            ],
            "type": "histogram2d"
           }
          ],
          "histogram2dcontour": [
           {
            "colorbar": {
             "outlinewidth": 0,
             "ticks": ""
            },
            "colorscale": [
             [
              0,
              "#0d0887"
             ],
             [
              0.1111111111111111,
              "#46039f"
             ],
             [
              0.2222222222222222,
              "#7201a8"
             ],
             [
              0.3333333333333333,
              "#9c179e"
             ],
             [
              0.4444444444444444,
              "#bd3786"
             ],
             [
              0.5555555555555556,
              "#d8576b"
             ],
             [
              0.6666666666666666,
              "#ed7953"
             ],
             [
              0.7777777777777778,
              "#fb9f3a"
             ],
             [
              0.8888888888888888,
              "#fdca26"
             ],
             [
              1,
              "#f0f921"
             ]
            ],
            "type": "histogram2dcontour"
           }
          ],
          "mesh3d": [
           {
            "colorbar": {
             "outlinewidth": 0,
             "ticks": ""
            },
            "type": "mesh3d"
           }
          ],
          "parcoords": [
           {
            "line": {
             "colorbar": {
              "outlinewidth": 0,
              "ticks": ""
             }
            },
            "type": "parcoords"
           }
          ],
          "pie": [
           {
            "automargin": true,
            "type": "pie"
           }
          ],
          "scatter": [
           {
            "marker": {
             "colorbar": {
              "outlinewidth": 0,
              "ticks": ""
             }
            },
            "type": "scatter"
           }
          ],
          "scatter3d": [
           {
            "line": {
             "colorbar": {
              "outlinewidth": 0,
              "ticks": ""
             }
            },
            "marker": {
             "colorbar": {
              "outlinewidth": 0,
              "ticks": ""
             }
            },
            "type": "scatter3d"
           }
          ],
          "scattercarpet": [
           {
            "marker": {
             "colorbar": {
              "outlinewidth": 0,
              "ticks": ""
             }
            },
            "type": "scattercarpet"
           }
          ],
          "scattergeo": [
           {
            "marker": {
             "colorbar": {
              "outlinewidth": 0,
              "ticks": ""
             }
            },
            "type": "scattergeo"
           }
          ],
          "scattergl": [
           {
            "marker": {
             "colorbar": {
              "outlinewidth": 0,
              "ticks": ""
             }
            },
            "type": "scattergl"
           }
          ],
          "scattermapbox": [
           {
            "marker": {
             "colorbar": {
              "outlinewidth": 0,
              "ticks": ""
             }
            },
            "type": "scattermapbox"
           }
          ],
          "scatterpolar": [
           {
            "marker": {
             "colorbar": {
              "outlinewidth": 0,
              "ticks": ""
             }
            },
            "type": "scatterpolar"
           }
          ],
          "scatterpolargl": [
           {
            "marker": {
             "colorbar": {
              "outlinewidth": 0,
              "ticks": ""
             }
            },
            "type": "scatterpolargl"
           }
          ],
          "scatterternary": [
           {
            "marker": {
             "colorbar": {
              "outlinewidth": 0,
              "ticks": ""
             }
            },
            "type": "scatterternary"
           }
          ],
          "surface": [
           {
            "colorbar": {
             "outlinewidth": 0,
             "ticks": ""
            },
            "colorscale": [
             [
              0,
              "#0d0887"
             ],
             [
              0.1111111111111111,
              "#46039f"
             ],
             [
              0.2222222222222222,
              "#7201a8"
             ],
             [
              0.3333333333333333,
              "#9c179e"
             ],
             [
              0.4444444444444444,
              "#bd3786"
             ],
             [
              0.5555555555555556,
              "#d8576b"
             ],
             [
              0.6666666666666666,
              "#ed7953"
             ],
             [
              0.7777777777777778,
              "#fb9f3a"
             ],
             [
              0.8888888888888888,
              "#fdca26"
             ],
             [
              1,
              "#f0f921"
             ]
            ],
            "type": "surface"
           }
          ],
          "table": [
           {
            "cells": {
             "fill": {
              "color": "#EBF0F8"
             },
             "line": {
              "color": "white"
             }
            },
            "header": {
             "fill": {
              "color": "#C8D4E3"
             },
             "line": {
              "color": "white"
             }
            },
            "type": "table"
           }
          ]
         },
         "layout": {
          "annotationdefaults": {
           "arrowcolor": "#2a3f5f",
           "arrowhead": 0,
           "arrowwidth": 1
          },
          "autotypenumbers": "strict",
          "coloraxis": {
           "colorbar": {
            "outlinewidth": 0,
            "ticks": ""
           }
          },
          "colorscale": {
           "diverging": [
            [
             0,
             "#8e0152"
            ],
            [
             0.1,
             "#c51b7d"
            ],
            [
             0.2,
             "#de77ae"
            ],
            [
             0.3,
             "#f1b6da"
            ],
            [
             0.4,
             "#fde0ef"
            ],
            [
             0.5,
             "#f7f7f7"
            ],
            [
             0.6,
             "#e6f5d0"
            ],
            [
             0.7,
             "#b8e186"
            ],
            [
             0.8,
             "#7fbc41"
            ],
            [
             0.9,
             "#4d9221"
            ],
            [
             1,
             "#276419"
            ]
           ],
           "sequential": [
            [
             0,
             "#0d0887"
            ],
            [
             0.1111111111111111,
             "#46039f"
            ],
            [
             0.2222222222222222,
             "#7201a8"
            ],
            [
             0.3333333333333333,
             "#9c179e"
            ],
            [
             0.4444444444444444,
             "#bd3786"
            ],
            [
             0.5555555555555556,
             "#d8576b"
            ],
            [
             0.6666666666666666,
             "#ed7953"
            ],
            [
             0.7777777777777778,
             "#fb9f3a"
            ],
            [
             0.8888888888888888,
             "#fdca26"
            ],
            [
             1,
             "#f0f921"
            ]
           ],
           "sequentialminus": [
            [
             0,
             "#0d0887"
            ],
            [
             0.1111111111111111,
             "#46039f"
            ],
            [
             0.2222222222222222,
             "#7201a8"
            ],
            [
             0.3333333333333333,
             "#9c179e"
            ],
            [
             0.4444444444444444,
             "#bd3786"
            ],
            [
             0.5555555555555556,
             "#d8576b"
            ],
            [
             0.6666666666666666,
             "#ed7953"
            ],
            [
             0.7777777777777778,
             "#fb9f3a"
            ],
            [
             0.8888888888888888,
             "#fdca26"
            ],
            [
             1,
             "#f0f921"
            ]
           ]
          },
          "colorway": [
           "#636efa",
           "#EF553B",
           "#00cc96",
           "#ab63fa",
           "#FFA15A",
           "#19d3f3",
           "#FF6692",
           "#B6E880",
           "#FF97FF",
           "#FECB52"
          ],
          "font": {
           "color": "#2a3f5f"
          },
          "geo": {
           "bgcolor": "white",
           "lakecolor": "white",
           "landcolor": "#E5ECF6",
           "showlakes": true,
           "showland": true,
           "subunitcolor": "white"
          },
          "hoverlabel": {
           "align": "left"
          },
          "hovermode": "closest",
          "mapbox": {
           "style": "light"
          },
          "paper_bgcolor": "white",
          "plot_bgcolor": "#E5ECF6",
          "polar": {
           "angularaxis": {
            "gridcolor": "white",
            "linecolor": "white",
            "ticks": ""
           },
           "bgcolor": "#E5ECF6",
           "radialaxis": {
            "gridcolor": "white",
            "linecolor": "white",
            "ticks": ""
           }
          },
          "scene": {
           "xaxis": {
            "backgroundcolor": "#E5ECF6",
            "gridcolor": "white",
            "gridwidth": 2,
            "linecolor": "white",
            "showbackground": true,
            "ticks": "",
            "zerolinecolor": "white"
           },
           "yaxis": {
            "backgroundcolor": "#E5ECF6",
            "gridcolor": "white",
            "gridwidth": 2,
            "linecolor": "white",
            "showbackground": true,
            "ticks": "",
            "zerolinecolor": "white"
           },
           "zaxis": {
            "backgroundcolor": "#E5ECF6",
            "gridcolor": "white",
            "gridwidth": 2,
            "linecolor": "white",
            "showbackground": true,
            "ticks": "",
            "zerolinecolor": "white"
           }
          },
          "shapedefaults": {
           "line": {
            "color": "#2a3f5f"
           }
          },
          "ternary": {
           "aaxis": {
            "gridcolor": "white",
            "linecolor": "white",
            "ticks": ""
           },
           "baxis": {
            "gridcolor": "white",
            "linecolor": "white",
            "ticks": ""
           },
           "bgcolor": "#E5ECF6",
           "caxis": {
            "gridcolor": "white",
            "linecolor": "white",
            "ticks": ""
           }
          },
          "title": {
           "x": 0.05
          },
          "xaxis": {
           "automargin": true,
           "gridcolor": "white",
           "linecolor": "white",
           "ticks": "",
           "title": {
            "standoff": 15
           },
           "zerolinecolor": "white",
           "zerolinewidth": 2
          },
          "yaxis": {
           "automargin": true,
           "gridcolor": "white",
           "linecolor": "white",
           "ticks": "",
           "title": {
            "standoff": 15
           },
           "zerolinecolor": "white",
           "zerolinewidth": 2
          }
         }
        },
        "xaxis": {
         "anchor": "y",
         "domain": [
          0,
          1
         ],
         "title": {
          "text": "price in $"
         }
        },
        "yaxis": {
         "anchor": "x",
         "categoryarray": [
          "TOP",
          "Rank 9",
          "Rank 8",
          "Rank 7",
          "Rank 6",
          "Rank 5",
          "Rank 4",
          "Rank 3",
          "Rank 2",
          "Rank 10",
          "Rank 1",
          "Rank 0"
         ],
         "categoryorder": "array",
         "domain": [
          0,
          1
         ],
         "title": {
          "text": "rank"
         }
        }
       }
      },
      "text/html": [
       "<div>                            <div id=\"a3875778-8d71-4c45-8176-c8fc16f937a8\" class=\"plotly-graph-div\" style=\"height:525px; width:100%;\"></div>            <script type=\"text/javascript\">                require([\"plotly\"], function(Plotly) {                    window.PLOTLYENV=window.PLOTLYENV || {};                                    if (document.getElementById(\"a3875778-8d71-4c45-8176-c8fc16f937a8\")) {                    Plotly.newPlot(                        \"a3875778-8d71-4c45-8176-c8fc16f937a8\",                        [{\"alignmentgroup\": \"True\", \"boxpoints\": \"all\", \"fillcolor\": \"rgba(255,255,255,0)\", \"hoveron\": \"points\", \"hovertemplate\": \"rank=%{y}<br>price in $=%{x}<extra></extra>\", \"legendgroup\": \"Rank 0\", \"line\": {\"color\": \"rgba(255,255,255,0)\"}, \"marker\": {\"color\": \"#636efa\"}, \"name\": \"Rank 0\", \"offsetgroup\": \"Rank 0\", \"orientation\": \"h\", \"pointpos\": 0, \"showlegend\": true, \"type\": \"box\", \"x\": [239.8147629653199], \"x0\": \" \", \"xaxis\": \"x\", \"y\": [\"Rank 0\"], \"y0\": \" \", \"yaxis\": \"y\"}, {\"alignmentgroup\": \"True\", \"boxpoints\": \"all\", \"fillcolor\": \"rgba(255,255,255,0)\", \"hoveron\": \"points\", \"hovertemplate\": \"rank=%{y}<br>price in $=%{x}<extra></extra>\", \"legendgroup\": \"Rank 1\", \"line\": {\"color\": \"rgba(255,255,255,0)\"}, \"marker\": {\"color\": \"#EF553B\"}, \"name\": \"Rank 1\", \"offsetgroup\": \"Rank 1\", \"orientation\": \"h\", \"pointpos\": 0, \"showlegend\": true, \"type\": \"box\", \"x\": [228.71138724373543], \"x0\": \" \", \"xaxis\": \"x\", \"y\": [\"Rank 1\"], \"y0\": \" \", \"yaxis\": \"y\"}, {\"alignmentgroup\": \"True\", \"boxpoints\": \"all\", \"fillcolor\": \"rgba(255,255,255,0)\", \"hoveron\": \"points\", \"hovertemplate\": \"rank=%{y}<br>price in $=%{x}<extra></extra>\", \"legendgroup\": \"Rank 10\", \"line\": {\"color\": \"rgba(255,255,255,0)\"}, \"marker\": {\"color\": \"#00cc96\"}, \"name\": \"Rank 10\", \"offsetgroup\": \"Rank 10\", \"orientation\": \"h\", \"pointpos\": 0, \"showlegend\": true, \"type\": \"box\", \"x\": [129.73079365079366], \"x0\": \" \", \"xaxis\": \"x\", \"y\": [\"Rank 10\"], \"y0\": \" \", \"yaxis\": \"y\"}, {\"alignmentgroup\": \"True\", \"boxpoints\": \"all\", \"fillcolor\": \"rgba(255,255,255,0)\", \"hoveron\": \"points\", \"hovertemplate\": \"rank=%{y}<br>price in $=%{x}<extra></extra>\", \"legendgroup\": \"Rank 2\", \"line\": {\"color\": \"rgba(255,255,255,0)\"}, \"marker\": {\"color\": \"#ab63fa\"}, \"name\": \"Rank 2\", \"offsetgroup\": \"Rank 2\", \"orientation\": \"h\", \"pointpos\": 0, \"showlegend\": true, \"type\": \"box\", \"x\": [195.51444158517774], \"x0\": \" \", \"xaxis\": \"x\", \"y\": [\"Rank 2\"], \"y0\": \" \", \"yaxis\": \"y\"}, {\"alignmentgroup\": \"True\", \"boxpoints\": \"all\", \"fillcolor\": \"rgba(255,255,255,0)\", \"hoveron\": \"points\", \"hovertemplate\": \"rank=%{y}<br>price in $=%{x}<extra></extra>\", \"legendgroup\": \"Rank 3\", \"line\": {\"color\": \"rgba(255,255,255,0)\"}, \"marker\": {\"color\": \"#FFA15A\"}, \"name\": \"Rank 3\", \"offsetgroup\": \"Rank 3\", \"orientation\": \"h\", \"pointpos\": 0, \"showlegend\": true, \"type\": \"box\", \"x\": [211.74945828819102], \"x0\": \" \", \"xaxis\": \"x\", \"y\": [\"Rank 3\"], \"y0\": \" \", \"yaxis\": \"y\"}, {\"alignmentgroup\": \"True\", \"boxpoints\": \"all\", \"fillcolor\": \"rgba(255,255,255,0)\", \"hoveron\": \"points\", \"hovertemplate\": \"rank=%{y}<br>price in $=%{x}<extra></extra>\", \"legendgroup\": \"Rank 4\", \"line\": {\"color\": \"rgba(255,255,255,0)\"}, \"marker\": {\"color\": \"#19d3f3\"}, \"name\": \"Rank 4\", \"offsetgroup\": \"Rank 4\", \"orientation\": \"h\", \"pointpos\": 0, \"showlegend\": true, \"type\": \"box\", \"x\": [225.81638888888898], \"x0\": \" \", \"xaxis\": \"x\", \"y\": [\"Rank 4\"], \"y0\": \" \", \"yaxis\": \"y\"}, {\"alignmentgroup\": \"True\", \"boxpoints\": \"all\", \"fillcolor\": \"rgba(255,255,255,0)\", \"hoveron\": \"points\", \"hovertemplate\": \"rank=%{y}<br>price in $=%{x}<extra></extra>\", \"legendgroup\": \"Rank 5\", \"line\": {\"color\": \"rgba(255,255,255,0)\"}, \"marker\": {\"color\": \"#FF6692\"}, \"name\": \"Rank 5\", \"offsetgroup\": \"Rank 5\", \"orientation\": \"h\", \"pointpos\": 0, \"showlegend\": true, \"type\": \"box\", \"x\": [266.33593856655256], \"x0\": \" \", \"xaxis\": \"x\", \"y\": [\"Rank 5\"], \"y0\": \" \", \"yaxis\": \"y\"}, {\"alignmentgroup\": \"True\", \"boxpoints\": \"all\", \"fillcolor\": \"rgba(255,255,255,0)\", \"hoveron\": \"points\", \"hovertemplate\": \"rank=%{y}<br>price in $=%{x}<extra></extra>\", \"legendgroup\": \"Rank 6\", \"line\": {\"color\": \"rgba(255,255,255,0)\"}, \"marker\": {\"color\": \"#B6E880\"}, \"name\": \"Rank 6\", \"offsetgroup\": \"Rank 6\", \"orientation\": \"h\", \"pointpos\": 0, \"showlegend\": true, \"type\": \"box\", \"x\": [293.9912598425197], \"x0\": \" \", \"xaxis\": \"x\", \"y\": [\"Rank 6\"], \"y0\": \" \", \"yaxis\": \"y\"}, {\"alignmentgroup\": \"True\", \"boxpoints\": \"all\", \"fillcolor\": \"rgba(255,255,255,0)\", \"hoveron\": \"points\", \"hovertemplate\": \"rank=%{y}<br>price in $=%{x}<extra></extra>\", \"legendgroup\": \"Rank 7\", \"line\": {\"color\": \"rgba(255,255,255,0)\"}, \"marker\": {\"color\": \"#FF97FF\"}, \"name\": \"Rank 7\", \"offsetgroup\": \"Rank 7\", \"orientation\": \"h\", \"pointpos\": 0, \"showlegend\": true, \"type\": \"box\", \"x\": [332.930505050505], \"x0\": \" \", \"xaxis\": \"x\", \"y\": [\"Rank 7\"], \"y0\": \" \", \"yaxis\": \"y\"}, {\"alignmentgroup\": \"True\", \"boxpoints\": \"all\", \"fillcolor\": \"rgba(255,255,255,0)\", \"hoveron\": \"points\", \"hovertemplate\": \"rank=%{y}<br>price in $=%{x}<extra></extra>\", \"legendgroup\": \"Rank 8\", \"line\": {\"color\": \"rgba(255,255,255,0)\"}, \"marker\": {\"color\": \"#FECB52\"}, \"name\": \"Rank 8\", \"offsetgroup\": \"Rank 8\", \"orientation\": \"h\", \"pointpos\": 0, \"showlegend\": true, \"type\": \"box\", \"x\": [182.5644295302013], \"x0\": \" \", \"xaxis\": \"x\", \"y\": [\"Rank 8\"], \"y0\": \" \", \"yaxis\": \"y\"}, {\"alignmentgroup\": \"True\", \"boxpoints\": \"all\", \"fillcolor\": \"rgba(255,255,255,0)\", \"hoveron\": \"points\", \"hovertemplate\": \"rank=%{y}<br>price in $=%{x}<extra></extra>\", \"legendgroup\": \"Rank 9\", \"line\": {\"color\": \"rgba(255,255,255,0)\"}, \"marker\": {\"color\": \"#636efa\"}, \"name\": \"Rank 9\", \"offsetgroup\": \"Rank 9\", \"orientation\": \"h\", \"pointpos\": 0, \"showlegend\": true, \"type\": \"box\", \"x\": [202.24092920353976], \"x0\": \" \", \"xaxis\": \"x\", \"y\": [\"Rank 9\"], \"y0\": \" \", \"yaxis\": \"y\"}, {\"alignmentgroup\": \"True\", \"boxpoints\": \"all\", \"fillcolor\": \"rgba(255,255,255,0)\", \"hoveron\": \"points\", \"hovertemplate\": \"rank=%{y}<br>price in $=%{x}<extra></extra>\", \"legendgroup\": \"TOP\", \"line\": {\"color\": \"rgba(255,255,255,0)\"}, \"marker\": {\"color\": \"#EF553B\"}, \"name\": \"TOP\", \"offsetgroup\": \"TOP\", \"orientation\": \"h\", \"pointpos\": 0, \"showlegend\": true, \"type\": \"box\", \"x\": [197.9229296874998], \"x0\": \" \", \"xaxis\": \"x\", \"y\": [\"TOP\"], \"y0\": \" \", \"yaxis\": \"y\"}],                        {\"boxmode\": \"overlay\", \"legend\": {\"title\": {\"text\": \"rank\"}, \"tracegroupgap\": 0}, \"margin\": {\"t\": 60}, \"template\": {\"data\": {\"bar\": [{\"error_x\": {\"color\": \"#2a3f5f\"}, \"error_y\": {\"color\": \"#2a3f5f\"}, \"marker\": {\"line\": {\"color\": \"#E5ECF6\", \"width\": 0.5}}, \"type\": \"bar\"}], \"barpolar\": [{\"marker\": {\"line\": {\"color\": \"#E5ECF6\", \"width\": 0.5}}, \"type\": \"barpolar\"}], \"carpet\": [{\"aaxis\": {\"endlinecolor\": \"#2a3f5f\", \"gridcolor\": \"white\", \"linecolor\": \"white\", \"minorgridcolor\": \"white\", \"startlinecolor\": \"#2a3f5f\"}, \"baxis\": {\"endlinecolor\": \"#2a3f5f\", \"gridcolor\": \"white\", \"linecolor\": \"white\", \"minorgridcolor\": \"white\", \"startlinecolor\": \"#2a3f5f\"}, \"type\": \"carpet\"}], \"choropleth\": [{\"colorbar\": {\"outlinewidth\": 0, \"ticks\": \"\"}, \"type\": \"choropleth\"}], \"contour\": [{\"colorbar\": {\"outlinewidth\": 0, \"ticks\": \"\"}, \"colorscale\": [[0.0, \"#0d0887\"], [0.1111111111111111, \"#46039f\"], [0.2222222222222222, \"#7201a8\"], [0.3333333333333333, \"#9c179e\"], [0.4444444444444444, \"#bd3786\"], [0.5555555555555556, \"#d8576b\"], [0.6666666666666666, \"#ed7953\"], [0.7777777777777778, \"#fb9f3a\"], [0.8888888888888888, \"#fdca26\"], [1.0, \"#f0f921\"]], \"type\": \"contour\"}], \"contourcarpet\": [{\"colorbar\": {\"outlinewidth\": 0, \"ticks\": \"\"}, \"type\": \"contourcarpet\"}], \"heatmap\": [{\"colorbar\": {\"outlinewidth\": 0, \"ticks\": \"\"}, \"colorscale\": [[0.0, \"#0d0887\"], [0.1111111111111111, \"#46039f\"], [0.2222222222222222, \"#7201a8\"], [0.3333333333333333, \"#9c179e\"], [0.4444444444444444, \"#bd3786\"], [0.5555555555555556, \"#d8576b\"], [0.6666666666666666, \"#ed7953\"], [0.7777777777777778, \"#fb9f3a\"], [0.8888888888888888, \"#fdca26\"], [1.0, \"#f0f921\"]], \"type\": \"heatmap\"}], \"heatmapgl\": [{\"colorbar\": {\"outlinewidth\": 0, \"ticks\": \"\"}, \"colorscale\": [[0.0, \"#0d0887\"], [0.1111111111111111, \"#46039f\"], [0.2222222222222222, \"#7201a8\"], [0.3333333333333333, \"#9c179e\"], [0.4444444444444444, \"#bd3786\"], [0.5555555555555556, \"#d8576b\"], [0.6666666666666666, \"#ed7953\"], [0.7777777777777778, \"#fb9f3a\"], [0.8888888888888888, \"#fdca26\"], [1.0, \"#f0f921\"]], \"type\": \"heatmapgl\"}], \"histogram\": [{\"marker\": {\"colorbar\": {\"outlinewidth\": 0, \"ticks\": \"\"}}, \"type\": \"histogram\"}], \"histogram2d\": [{\"colorbar\": {\"outlinewidth\": 0, \"ticks\": \"\"}, \"colorscale\": [[0.0, \"#0d0887\"], [0.1111111111111111, \"#46039f\"], [0.2222222222222222, \"#7201a8\"], [0.3333333333333333, \"#9c179e\"], [0.4444444444444444, \"#bd3786\"], [0.5555555555555556, \"#d8576b\"], [0.6666666666666666, \"#ed7953\"], [0.7777777777777778, \"#fb9f3a\"], [0.8888888888888888, \"#fdca26\"], [1.0, \"#f0f921\"]], \"type\": \"histogram2d\"}], \"histogram2dcontour\": [{\"colorbar\": {\"outlinewidth\": 0, \"ticks\": \"\"}, \"colorscale\": [[0.0, \"#0d0887\"], [0.1111111111111111, \"#46039f\"], [0.2222222222222222, \"#7201a8\"], [0.3333333333333333, \"#9c179e\"], [0.4444444444444444, \"#bd3786\"], [0.5555555555555556, \"#d8576b\"], [0.6666666666666666, \"#ed7953\"], [0.7777777777777778, \"#fb9f3a\"], [0.8888888888888888, \"#fdca26\"], [1.0, \"#f0f921\"]], \"type\": \"histogram2dcontour\"}], \"mesh3d\": [{\"colorbar\": {\"outlinewidth\": 0, \"ticks\": \"\"}, \"type\": \"mesh3d\"}], \"parcoords\": [{\"line\": {\"colorbar\": {\"outlinewidth\": 0, \"ticks\": \"\"}}, \"type\": \"parcoords\"}], \"pie\": [{\"automargin\": true, \"type\": \"pie\"}], \"scatter\": [{\"marker\": {\"colorbar\": {\"outlinewidth\": 0, \"ticks\": \"\"}}, \"type\": \"scatter\"}], \"scatter3d\": [{\"line\": {\"colorbar\": {\"outlinewidth\": 0, \"ticks\": \"\"}}, \"marker\": {\"colorbar\": {\"outlinewidth\": 0, \"ticks\": \"\"}}, \"type\": \"scatter3d\"}], \"scattercarpet\": [{\"marker\": {\"colorbar\": {\"outlinewidth\": 0, \"ticks\": \"\"}}, \"type\": \"scattercarpet\"}], \"scattergeo\": [{\"marker\": {\"colorbar\": {\"outlinewidth\": 0, \"ticks\": \"\"}}, \"type\": \"scattergeo\"}], \"scattergl\": [{\"marker\": {\"colorbar\": {\"outlinewidth\": 0, \"ticks\": \"\"}}, \"type\": \"scattergl\"}], \"scattermapbox\": [{\"marker\": {\"colorbar\": {\"outlinewidth\": 0, \"ticks\": \"\"}}, \"type\": \"scattermapbox\"}], \"scatterpolar\": [{\"marker\": {\"colorbar\": {\"outlinewidth\": 0, \"ticks\": \"\"}}, \"type\": \"scatterpolar\"}], \"scatterpolargl\": [{\"marker\": {\"colorbar\": {\"outlinewidth\": 0, \"ticks\": \"\"}}, \"type\": \"scatterpolargl\"}], \"scatterternary\": [{\"marker\": {\"colorbar\": {\"outlinewidth\": 0, \"ticks\": \"\"}}, \"type\": \"scatterternary\"}], \"surface\": [{\"colorbar\": {\"outlinewidth\": 0, \"ticks\": \"\"}, \"colorscale\": [[0.0, \"#0d0887\"], [0.1111111111111111, \"#46039f\"], [0.2222222222222222, \"#7201a8\"], [0.3333333333333333, \"#9c179e\"], [0.4444444444444444, \"#bd3786\"], [0.5555555555555556, \"#d8576b\"], [0.6666666666666666, \"#ed7953\"], [0.7777777777777778, \"#fb9f3a\"], [0.8888888888888888, \"#fdca26\"], [1.0, \"#f0f921\"]], \"type\": \"surface\"}], \"table\": [{\"cells\": {\"fill\": {\"color\": \"#EBF0F8\"}, \"line\": {\"color\": \"white\"}}, \"header\": {\"fill\": {\"color\": \"#C8D4E3\"}, \"line\": {\"color\": \"white\"}}, \"type\": \"table\"}]}, \"layout\": {\"annotationdefaults\": {\"arrowcolor\": \"#2a3f5f\", \"arrowhead\": 0, \"arrowwidth\": 1}, \"autotypenumbers\": \"strict\", \"coloraxis\": {\"colorbar\": {\"outlinewidth\": 0, \"ticks\": \"\"}}, \"colorscale\": {\"diverging\": [[0, \"#8e0152\"], [0.1, \"#c51b7d\"], [0.2, \"#de77ae\"], [0.3, \"#f1b6da\"], [0.4, \"#fde0ef\"], [0.5, \"#f7f7f7\"], [0.6, \"#e6f5d0\"], [0.7, \"#b8e186\"], [0.8, \"#7fbc41\"], [0.9, \"#4d9221\"], [1, \"#276419\"]], \"sequential\": [[0.0, \"#0d0887\"], [0.1111111111111111, \"#46039f\"], [0.2222222222222222, \"#7201a8\"], [0.3333333333333333, \"#9c179e\"], [0.4444444444444444, \"#bd3786\"], [0.5555555555555556, \"#d8576b\"], [0.6666666666666666, \"#ed7953\"], [0.7777777777777778, \"#fb9f3a\"], [0.8888888888888888, \"#fdca26\"], [1.0, \"#f0f921\"]], \"sequentialminus\": [[0.0, \"#0d0887\"], [0.1111111111111111, \"#46039f\"], [0.2222222222222222, \"#7201a8\"], [0.3333333333333333, \"#9c179e\"], [0.4444444444444444, \"#bd3786\"], [0.5555555555555556, \"#d8576b\"], [0.6666666666666666, \"#ed7953\"], [0.7777777777777778, \"#fb9f3a\"], [0.8888888888888888, \"#fdca26\"], [1.0, \"#f0f921\"]]}, \"colorway\": [\"#636efa\", \"#EF553B\", \"#00cc96\", \"#ab63fa\", \"#FFA15A\", \"#19d3f3\", \"#FF6692\", \"#B6E880\", \"#FF97FF\", \"#FECB52\"], \"font\": {\"color\": \"#2a3f5f\"}, \"geo\": {\"bgcolor\": \"white\", \"lakecolor\": \"white\", \"landcolor\": \"#E5ECF6\", \"showlakes\": true, \"showland\": true, \"subunitcolor\": \"white\"}, \"hoverlabel\": {\"align\": \"left\"}, \"hovermode\": \"closest\", \"mapbox\": {\"style\": \"light\"}, \"paper_bgcolor\": \"white\", \"plot_bgcolor\": \"#E5ECF6\", \"polar\": {\"angularaxis\": {\"gridcolor\": \"white\", \"linecolor\": \"white\", \"ticks\": \"\"}, \"bgcolor\": \"#E5ECF6\", \"radialaxis\": {\"gridcolor\": \"white\", \"linecolor\": \"white\", \"ticks\": \"\"}}, \"scene\": {\"xaxis\": {\"backgroundcolor\": \"#E5ECF6\", \"gridcolor\": \"white\", \"gridwidth\": 2, \"linecolor\": \"white\", \"showbackground\": true, \"ticks\": \"\", \"zerolinecolor\": \"white\"}, \"yaxis\": {\"backgroundcolor\": \"#E5ECF6\", \"gridcolor\": \"white\", \"gridwidth\": 2, \"linecolor\": \"white\", \"showbackground\": true, \"ticks\": \"\", \"zerolinecolor\": \"white\"}, \"zaxis\": {\"backgroundcolor\": \"#E5ECF6\", \"gridcolor\": \"white\", \"gridwidth\": 2, \"linecolor\": \"white\", \"showbackground\": true, \"ticks\": \"\", \"zerolinecolor\": \"white\"}}, \"shapedefaults\": {\"line\": {\"color\": \"#2a3f5f\"}}, \"ternary\": {\"aaxis\": {\"gridcolor\": \"white\", \"linecolor\": \"white\", \"ticks\": \"\"}, \"baxis\": {\"gridcolor\": \"white\", \"linecolor\": \"white\", \"ticks\": \"\"}, \"bgcolor\": \"#E5ECF6\", \"caxis\": {\"gridcolor\": \"white\", \"linecolor\": \"white\", \"ticks\": \"\"}}, \"title\": {\"x\": 0.05}, \"xaxis\": {\"automargin\": true, \"gridcolor\": \"white\", \"linecolor\": \"white\", \"ticks\": \"\", \"title\": {\"standoff\": 15}, \"zerolinecolor\": \"white\", \"zerolinewidth\": 2}, \"yaxis\": {\"automargin\": true, \"gridcolor\": \"white\", \"linecolor\": \"white\", \"ticks\": \"\", \"title\": {\"standoff\": 15}, \"zerolinecolor\": \"white\", \"zerolinewidth\": 2}}}, \"xaxis\": {\"anchor\": \"y\", \"domain\": [0.0, 1.0], \"title\": {\"text\": \"price in $\"}}, \"yaxis\": {\"anchor\": \"x\", \"categoryarray\": [\"TOP\", \"Rank 9\", \"Rank 8\", \"Rank 7\", \"Rank 6\", \"Rank 5\", \"Rank 4\", \"Rank 3\", \"Rank 2\", \"Rank 10\", \"Rank 1\", \"Rank 0\"], \"categoryorder\": \"array\", \"domain\": [0.0, 1.0], \"title\": {\"text\": \"rank\"}}},                        {\"responsive\": true}                    ).then(function(){\n",
       "                            \n",
       "var gd = document.getElementById('a3875778-8d71-4c45-8176-c8fc16f937a8');\n",
       "var x = new MutationObserver(function (mutations, observer) {{\n",
       "        var display = window.getComputedStyle(gd).display;\n",
       "        if (!display || display === 'none') {{\n",
       "            console.log([gd, 'removed!']);\n",
       "            Plotly.purge(gd);\n",
       "            observer.disconnect();\n",
       "        }}\n",
       "}});\n",
       "\n",
       "// Listen for the removal of the full notebook cells\n",
       "var notebookContainer = gd.closest('#notebook-container');\n",
       "if (notebookContainer) {{\n",
       "    x.observe(notebookContainer, {childList: true});\n",
       "}}\n",
       "\n",
       "// Listen for the clearing of the current output cell\n",
       "var outputEl = gd.closest('.output');\n",
       "if (outputEl) {{\n",
       "    x.observe(outputEl, {childList: true});\n",
       "}}\n",
       "\n",
       "                        })                };                });            </script>        </div>"
      ]
     },
     "metadata": {},
     "output_type": "display_data"
    }
   ],
   "source": [
    "def plot_category_wise_unsorted(category, threshold=100):\n",
    "    freq = df_merged[category].value_counts()\n",
    "    # Select frequent values. Value is in the index.\n",
    "    frequent_values = freq[freq >= threshold].index\n",
    "    # Return only rows with value frequency above threshold.\n",
    "    df_temp = df_merged[df_merged[category].isin(frequent_values)]\n",
    "    \n",
    "    fig_category_avg_prices = px.strip(df_temp.groupby(category)[['price in $']].mean().reset_index(),\n",
    "    x=\"price in $\", y=category, color=category)\n",
    "\n",
    "    fig_category_avg_prices.show()\n",
    "    \n",
    "plot_category_wise_unsorted('rank', 50)"
   ]
  },
  {
   "cell_type": "code",
   "execution_count": 66,
   "id": "domestic-pittsburgh",
   "metadata": {},
   "outputs": [
    {
     "data": {
      "application/vnd.plotly.v1+json": {
       "config": {
        "plotlyServerURL": "https://plot.ly"
       },
       "data": [
        {
         "alignmentgroup": "True",
         "boxpoints": "all",
         "fillcolor": "rgba(255,255,255,0)",
         "hoveron": "points",
         "hovertemplate": "verifcation=%{y}<br>price in $=%{x}<extra></extra>",
         "legendgroup": "Verification Level 1",
         "line": {
          "color": "rgba(255,255,255,0)"
         },
         "marker": {
          "color": "#636efa"
         },
         "name": "Verification Level 1",
         "offsetgroup": "Verification Level 1",
         "orientation": "h",
         "pointpos": 0,
         "showlegend": true,
         "type": "box",
         "x": [
          235.06376989869707
         ],
         "x0": " ",
         "xaxis": "x",
         "y": [
          "Verification Level 1"
         ],
         "y0": " ",
         "yaxis": "y"
        },
        {
         "alignmentgroup": "True",
         "boxpoints": "all",
         "fillcolor": "rgba(255,255,255,0)",
         "hoveron": "points",
         "hovertemplate": "verifcation=%{y}<br>price in $=%{x}<extra></extra>",
         "legendgroup": "Verification Level 10",
         "line": {
          "color": "rgba(255,255,255,0)"
         },
         "marker": {
          "color": "#EF553B"
         },
         "name": "Verification Level 10",
         "offsetgroup": "Verification Level 10",
         "orientation": "h",
         "pointpos": 0,
         "showlegend": true,
         "type": "box",
         "x": [
          184.62393188854483
         ],
         "x0": " ",
         "xaxis": "x",
         "y": [
          "Verification Level 10"
         ],
         "y0": " ",
         "yaxis": "y"
        },
        {
         "alignmentgroup": "True",
         "boxpoints": "all",
         "fillcolor": "rgba(255,255,255,0)",
         "hoveron": "points",
         "hovertemplate": "verifcation=%{y}<br>price in $=%{x}<extra></extra>",
         "legendgroup": "Verification Level 11",
         "line": {
          "color": "rgba(255,255,255,0)"
         },
         "marker": {
          "color": "#00cc96"
         },
         "name": "Verification Level 11",
         "offsetgroup": "Verification Level 11",
         "orientation": "h",
         "pointpos": 0,
         "showlegend": true,
         "type": "box",
         "x": [
          112.79271844660197
         ],
         "x0": " ",
         "xaxis": "x",
         "y": [
          "Verification Level 11"
         ],
         "y0": " ",
         "yaxis": "y"
        },
        {
         "alignmentgroup": "True",
         "boxpoints": "all",
         "fillcolor": "rgba(255,255,255,0)",
         "hoveron": "points",
         "hovertemplate": "verifcation=%{y}<br>price in $=%{x}<extra></extra>",
         "legendgroup": "Verification Level 15",
         "line": {
          "color": "rgba(255,255,255,0)"
         },
         "marker": {
          "color": "#ab63fa"
         },
         "name": "Verification Level 15",
         "offsetgroup": "Verification Level 15",
         "orientation": "h",
         "pointpos": 0,
         "showlegend": true,
         "type": "box",
         "x": [
          72.71473684210531
         ],
         "x0": " ",
         "xaxis": "x",
         "y": [
          "Verification Level 15"
         ],
         "y0": " ",
         "yaxis": "y"
        },
        {
         "alignmentgroup": "True",
         "boxpoints": "all",
         "fillcolor": "rgba(255,255,255,0)",
         "hoveron": "points",
         "hovertemplate": "verifcation=%{y}<br>price in $=%{x}<extra></extra>",
         "legendgroup": "Verification Level 2",
         "line": {
          "color": "rgba(255,255,255,0)"
         },
         "marker": {
          "color": "#FFA15A"
         },
         "name": "Verification Level 2",
         "offsetgroup": "Verification Level 2",
         "orientation": "h",
         "pointpos": 0,
         "showlegend": true,
         "type": "box",
         "x": [
          235.2456064257027
         ],
         "x0": " ",
         "xaxis": "x",
         "y": [
          "Verification Level 2"
         ],
         "y0": " ",
         "yaxis": "y"
        },
        {
         "alignmentgroup": "True",
         "boxpoints": "all",
         "fillcolor": "rgba(255,255,255,0)",
         "hoveron": "points",
         "hovertemplate": "verifcation=%{y}<br>price in $=%{x}<extra></extra>",
         "legendgroup": "Verification Level 3",
         "line": {
          "color": "rgba(255,255,255,0)"
         },
         "marker": {
          "color": "#19d3f3"
         },
         "name": "Verification Level 3",
         "offsetgroup": "Verification Level 3",
         "orientation": "h",
         "pointpos": 0,
         "showlegend": true,
         "type": "box",
         "x": [
          216.58864710676443
         ],
         "x0": " ",
         "xaxis": "x",
         "y": [
          "Verification Level 3"
         ],
         "y0": " ",
         "yaxis": "y"
        },
        {
         "alignmentgroup": "True",
         "boxpoints": "all",
         "fillcolor": "rgba(255,255,255,0)",
         "hoveron": "points",
         "hovertemplate": "verifcation=%{y}<br>price in $=%{x}<extra></extra>",
         "legendgroup": "Verification Level 4",
         "line": {
          "color": "rgba(255,255,255,0)"
         },
         "marker": {
          "color": "#FF6692"
         },
         "name": "Verification Level 4",
         "offsetgroup": "Verification Level 4",
         "orientation": "h",
         "pointpos": 0,
         "showlegend": true,
         "type": "box",
         "x": [
          232.49367401469573
         ],
         "x0": " ",
         "xaxis": "x",
         "y": [
          "Verification Level 4"
         ],
         "y0": " ",
         "yaxis": "y"
        },
        {
         "alignmentgroup": "True",
         "boxpoints": "all",
         "fillcolor": "rgba(255,255,255,0)",
         "hoveron": "points",
         "hovertemplate": "verifcation=%{y}<br>price in $=%{x}<extra></extra>",
         "legendgroup": "Verification Level 5",
         "line": {
          "color": "rgba(255,255,255,0)"
         },
         "marker": {
          "color": "#B6E880"
         },
         "name": "Verification Level 5",
         "offsetgroup": "Verification Level 5",
         "orientation": "h",
         "pointpos": 0,
         "showlegend": true,
         "type": "box",
         "x": [
          244.1018749999998
         ],
         "x0": " ",
         "xaxis": "x",
         "y": [
          "Verification Level 5"
         ],
         "y0": " ",
         "yaxis": "y"
        },
        {
         "alignmentgroup": "True",
         "boxpoints": "all",
         "fillcolor": "rgba(255,255,255,0)",
         "hoveron": "points",
         "hovertemplate": "verifcation=%{y}<br>price in $=%{x}<extra></extra>",
         "legendgroup": "Verification Level 6",
         "line": {
          "color": "rgba(255,255,255,0)"
         },
         "marker": {
          "color": "#FF97FF"
         },
         "name": "Verification Level 6",
         "offsetgroup": "Verification Level 6",
         "orientation": "h",
         "pointpos": 0,
         "showlegend": true,
         "type": "box",
         "x": [
          236.1146525679758
         ],
         "x0": " ",
         "xaxis": "x",
         "y": [
          "Verification Level 6"
         ],
         "y0": " ",
         "yaxis": "y"
        },
        {
         "alignmentgroup": "True",
         "boxpoints": "all",
         "fillcolor": "rgba(255,255,255,0)",
         "hoveron": "points",
         "hovertemplate": "verifcation=%{y}<br>price in $=%{x}<extra></extra>",
         "legendgroup": "Verification Level 7",
         "line": {
          "color": "rgba(255,255,255,0)"
         },
         "marker": {
          "color": "#FECB52"
         },
         "name": "Verification Level 7",
         "offsetgroup": "Verification Level 7",
         "orientation": "h",
         "pointpos": 0,
         "showlegend": true,
         "type": "box",
         "x": [
          215.5586792452828
         ],
         "x0": " ",
         "xaxis": "x",
         "y": [
          "Verification Level 7"
         ],
         "y0": " ",
         "yaxis": "y"
        },
        {
         "alignmentgroup": "True",
         "boxpoints": "all",
         "fillcolor": "rgba(255,255,255,0)",
         "hoveron": "points",
         "hovertemplate": "verifcation=%{y}<br>price in $=%{x}<extra></extra>",
         "legendgroup": "Verification Level 8",
         "line": {
          "color": "rgba(255,255,255,0)"
         },
         "marker": {
          "color": "#636efa"
         },
         "name": "Verification Level 8",
         "offsetgroup": "Verification Level 8",
         "orientation": "h",
         "pointpos": 0,
         "showlegend": true,
         "type": "box",
         "x": [
          175.03651685393248
         ],
         "x0": " ",
         "xaxis": "x",
         "y": [
          "Verification Level 8"
         ],
         "y0": " ",
         "yaxis": "y"
        },
        {
         "alignmentgroup": "True",
         "boxpoints": "all",
         "fillcolor": "rgba(255,255,255,0)",
         "hoveron": "points",
         "hovertemplate": "verifcation=%{y}<br>price in $=%{x}<extra></extra>",
         "legendgroup": "Verification Level 9",
         "line": {
          "color": "rgba(255,255,255,0)"
         },
         "marker": {
          "color": "#EF553B"
         },
         "name": "Verification Level 9",
         "offsetgroup": "Verification Level 9",
         "orientation": "h",
         "pointpos": 0,
         "showlegend": true,
         "type": "box",
         "x": [
          123.8812037037037
         ],
         "x0": " ",
         "xaxis": "x",
         "y": [
          "Verification Level 9"
         ],
         "y0": " ",
         "yaxis": "y"
        }
       ],
       "layout": {
        "boxmode": "overlay",
        "legend": {
         "title": {
          "text": "verifcation"
         },
         "tracegroupgap": 0
        },
        "margin": {
         "t": 60
        },
        "template": {
         "data": {
          "bar": [
           {
            "error_x": {
             "color": "#2a3f5f"
            },
            "error_y": {
             "color": "#2a3f5f"
            },
            "marker": {
             "line": {
              "color": "#E5ECF6",
              "width": 0.5
             }
            },
            "type": "bar"
           }
          ],
          "barpolar": [
           {
            "marker": {
             "line": {
              "color": "#E5ECF6",
              "width": 0.5
             }
            },
            "type": "barpolar"
           }
          ],
          "carpet": [
           {
            "aaxis": {
             "endlinecolor": "#2a3f5f",
             "gridcolor": "white",
             "linecolor": "white",
             "minorgridcolor": "white",
             "startlinecolor": "#2a3f5f"
            },
            "baxis": {
             "endlinecolor": "#2a3f5f",
             "gridcolor": "white",
             "linecolor": "white",
             "minorgridcolor": "white",
             "startlinecolor": "#2a3f5f"
            },
            "type": "carpet"
           }
          ],
          "choropleth": [
           {
            "colorbar": {
             "outlinewidth": 0,
             "ticks": ""
            },
            "type": "choropleth"
           }
          ],
          "contour": [
           {
            "colorbar": {
             "outlinewidth": 0,
             "ticks": ""
            },
            "colorscale": [
             [
              0,
              "#0d0887"
             ],
             [
              0.1111111111111111,
              "#46039f"
             ],
             [
              0.2222222222222222,
              "#7201a8"
             ],
             [
              0.3333333333333333,
              "#9c179e"
             ],
             [
              0.4444444444444444,
              "#bd3786"
             ],
             [
              0.5555555555555556,
              "#d8576b"
             ],
             [
              0.6666666666666666,
              "#ed7953"
             ],
             [
              0.7777777777777778,
              "#fb9f3a"
             ],
             [
              0.8888888888888888,
              "#fdca26"
             ],
             [
              1,
              "#f0f921"
             ]
            ],
            "type": "contour"
           }
          ],
          "contourcarpet": [
           {
            "colorbar": {
             "outlinewidth": 0,
             "ticks": ""
            },
            "type": "contourcarpet"
           }
          ],
          "heatmap": [
           {
            "colorbar": {
             "outlinewidth": 0,
             "ticks": ""
            },
            "colorscale": [
             [
              0,
              "#0d0887"
             ],
             [
              0.1111111111111111,
              "#46039f"
             ],
             [
              0.2222222222222222,
              "#7201a8"
             ],
             [
              0.3333333333333333,
              "#9c179e"
             ],
             [
              0.4444444444444444,
              "#bd3786"
             ],
             [
              0.5555555555555556,
              "#d8576b"
             ],
             [
              0.6666666666666666,
              "#ed7953"
             ],
             [
              0.7777777777777778,
              "#fb9f3a"
             ],
             [
              0.8888888888888888,
              "#fdca26"
             ],
             [
              1,
              "#f0f921"
             ]
            ],
            "type": "heatmap"
           }
          ],
          "heatmapgl": [
           {
            "colorbar": {
             "outlinewidth": 0,
             "ticks": ""
            },
            "colorscale": [
             [
              0,
              "#0d0887"
             ],
             [
              0.1111111111111111,
              "#46039f"
             ],
             [
              0.2222222222222222,
              "#7201a8"
             ],
             [
              0.3333333333333333,
              "#9c179e"
             ],
             [
              0.4444444444444444,
              "#bd3786"
             ],
             [
              0.5555555555555556,
              "#d8576b"
             ],
             [
              0.6666666666666666,
              "#ed7953"
             ],
             [
              0.7777777777777778,
              "#fb9f3a"
             ],
             [
              0.8888888888888888,
              "#fdca26"
             ],
             [
              1,
              "#f0f921"
             ]
            ],
            "type": "heatmapgl"
           }
          ],
          "histogram": [
           {
            "marker": {
             "colorbar": {
              "outlinewidth": 0,
              "ticks": ""
             }
            },
            "type": "histogram"
           }
          ],
          "histogram2d": [
           {
            "colorbar": {
             "outlinewidth": 0,
             "ticks": ""
            },
            "colorscale": [
             [
              0,
              "#0d0887"
             ],
             [
              0.1111111111111111,
              "#46039f"
             ],
             [
              0.2222222222222222,
              "#7201a8"
             ],
             [
              0.3333333333333333,
              "#9c179e"
             ],
             [
              0.4444444444444444,
              "#bd3786"
             ],
             [
              0.5555555555555556,
              "#d8576b"
             ],
             [
              0.6666666666666666,
              "#ed7953"
             ],
             [
              0.7777777777777778,
              "#fb9f3a"
             ],
             [
              0.8888888888888888,
              "#fdca26"
             ],
             [
              1,
              "#f0f921"
             ]
            ],
            "type": "histogram2d"
           }
          ],
          "histogram2dcontour": [
           {
            "colorbar": {
             "outlinewidth": 0,
             "ticks": ""
            },
            "colorscale": [
             [
              0,
              "#0d0887"
             ],
             [
              0.1111111111111111,
              "#46039f"
             ],
             [
              0.2222222222222222,
              "#7201a8"
             ],
             [
              0.3333333333333333,
              "#9c179e"
             ],
             [
              0.4444444444444444,
              "#bd3786"
             ],
             [
              0.5555555555555556,
              "#d8576b"
             ],
             [
              0.6666666666666666,
              "#ed7953"
             ],
             [
              0.7777777777777778,
              "#fb9f3a"
             ],
             [
              0.8888888888888888,
              "#fdca26"
             ],
             [
              1,
              "#f0f921"
             ]
            ],
            "type": "histogram2dcontour"
           }
          ],
          "mesh3d": [
           {
            "colorbar": {
             "outlinewidth": 0,
             "ticks": ""
            },
            "type": "mesh3d"
           }
          ],
          "parcoords": [
           {
            "line": {
             "colorbar": {
              "outlinewidth": 0,
              "ticks": ""
             }
            },
            "type": "parcoords"
           }
          ],
          "pie": [
           {
            "automargin": true,
            "type": "pie"
           }
          ],
          "scatter": [
           {
            "marker": {
             "colorbar": {
              "outlinewidth": 0,
              "ticks": ""
             }
            },
            "type": "scatter"
           }
          ],
          "scatter3d": [
           {
            "line": {
             "colorbar": {
              "outlinewidth": 0,
              "ticks": ""
             }
            },
            "marker": {
             "colorbar": {
              "outlinewidth": 0,
              "ticks": ""
             }
            },
            "type": "scatter3d"
           }
          ],
          "scattercarpet": [
           {
            "marker": {
             "colorbar": {
              "outlinewidth": 0,
              "ticks": ""
             }
            },
            "type": "scattercarpet"
           }
          ],
          "scattergeo": [
           {
            "marker": {
             "colorbar": {
              "outlinewidth": 0,
              "ticks": ""
             }
            },
            "type": "scattergeo"
           }
          ],
          "scattergl": [
           {
            "marker": {
             "colorbar": {
              "outlinewidth": 0,
              "ticks": ""
             }
            },
            "type": "scattergl"
           }
          ],
          "scattermapbox": [
           {
            "marker": {
             "colorbar": {
              "outlinewidth": 0,
              "ticks": ""
             }
            },
            "type": "scattermapbox"
           }
          ],
          "scatterpolar": [
           {
            "marker": {
             "colorbar": {
              "outlinewidth": 0,
              "ticks": ""
             }
            },
            "type": "scatterpolar"
           }
          ],
          "scatterpolargl": [
           {
            "marker": {
             "colorbar": {
              "outlinewidth": 0,
              "ticks": ""
             }
            },
            "type": "scatterpolargl"
           }
          ],
          "scatterternary": [
           {
            "marker": {
             "colorbar": {
              "outlinewidth": 0,
              "ticks": ""
             }
            },
            "type": "scatterternary"
           }
          ],
          "surface": [
           {
            "colorbar": {
             "outlinewidth": 0,
             "ticks": ""
            },
            "colorscale": [
             [
              0,
              "#0d0887"
             ],
             [
              0.1111111111111111,
              "#46039f"
             ],
             [
              0.2222222222222222,
              "#7201a8"
             ],
             [
              0.3333333333333333,
              "#9c179e"
             ],
             [
              0.4444444444444444,
              "#bd3786"
             ],
             [
              0.5555555555555556,
              "#d8576b"
             ],
             [
              0.6666666666666666,
              "#ed7953"
             ],
             [
              0.7777777777777778,
              "#fb9f3a"
             ],
             [
              0.8888888888888888,
              "#fdca26"
             ],
             [
              1,
              "#f0f921"
             ]
            ],
            "type": "surface"
           }
          ],
          "table": [
           {
            "cells": {
             "fill": {
              "color": "#EBF0F8"
             },
             "line": {
              "color": "white"
             }
            },
            "header": {
             "fill": {
              "color": "#C8D4E3"
             },
             "line": {
              "color": "white"
             }
            },
            "type": "table"
           }
          ]
         },
         "layout": {
          "annotationdefaults": {
           "arrowcolor": "#2a3f5f",
           "arrowhead": 0,
           "arrowwidth": 1
          },
          "autotypenumbers": "strict",
          "coloraxis": {
           "colorbar": {
            "outlinewidth": 0,
            "ticks": ""
           }
          },
          "colorscale": {
           "diverging": [
            [
             0,
             "#8e0152"
            ],
            [
             0.1,
             "#c51b7d"
            ],
            [
             0.2,
             "#de77ae"
            ],
            [
             0.3,
             "#f1b6da"
            ],
            [
             0.4,
             "#fde0ef"
            ],
            [
             0.5,
             "#f7f7f7"
            ],
            [
             0.6,
             "#e6f5d0"
            ],
            [
             0.7,
             "#b8e186"
            ],
            [
             0.8,
             "#7fbc41"
            ],
            [
             0.9,
             "#4d9221"
            ],
            [
             1,
             "#276419"
            ]
           ],
           "sequential": [
            [
             0,
             "#0d0887"
            ],
            [
             0.1111111111111111,
             "#46039f"
            ],
            [
             0.2222222222222222,
             "#7201a8"
            ],
            [
             0.3333333333333333,
             "#9c179e"
            ],
            [
             0.4444444444444444,
             "#bd3786"
            ],
            [
             0.5555555555555556,
             "#d8576b"
            ],
            [
             0.6666666666666666,
             "#ed7953"
            ],
            [
             0.7777777777777778,
             "#fb9f3a"
            ],
            [
             0.8888888888888888,
             "#fdca26"
            ],
            [
             1,
             "#f0f921"
            ]
           ],
           "sequentialminus": [
            [
             0,
             "#0d0887"
            ],
            [
             0.1111111111111111,
             "#46039f"
            ],
            [
             0.2222222222222222,
             "#7201a8"
            ],
            [
             0.3333333333333333,
             "#9c179e"
            ],
            [
             0.4444444444444444,
             "#bd3786"
            ],
            [
             0.5555555555555556,
             "#d8576b"
            ],
            [
             0.6666666666666666,
             "#ed7953"
            ],
            [
             0.7777777777777778,
             "#fb9f3a"
            ],
            [
             0.8888888888888888,
             "#fdca26"
            ],
            [
             1,
             "#f0f921"
            ]
           ]
          },
          "colorway": [
           "#636efa",
           "#EF553B",
           "#00cc96",
           "#ab63fa",
           "#FFA15A",
           "#19d3f3",
           "#FF6692",
           "#B6E880",
           "#FF97FF",
           "#FECB52"
          ],
          "font": {
           "color": "#2a3f5f"
          },
          "geo": {
           "bgcolor": "white",
           "lakecolor": "white",
           "landcolor": "#E5ECF6",
           "showlakes": true,
           "showland": true,
           "subunitcolor": "white"
          },
          "hoverlabel": {
           "align": "left"
          },
          "hovermode": "closest",
          "mapbox": {
           "style": "light"
          },
          "paper_bgcolor": "white",
          "plot_bgcolor": "#E5ECF6",
          "polar": {
           "angularaxis": {
            "gridcolor": "white",
            "linecolor": "white",
            "ticks": ""
           },
           "bgcolor": "#E5ECF6",
           "radialaxis": {
            "gridcolor": "white",
            "linecolor": "white",
            "ticks": ""
           }
          },
          "scene": {
           "xaxis": {
            "backgroundcolor": "#E5ECF6",
            "gridcolor": "white",
            "gridwidth": 2,
            "linecolor": "white",
            "showbackground": true,
            "ticks": "",
            "zerolinecolor": "white"
           },
           "yaxis": {
            "backgroundcolor": "#E5ECF6",
            "gridcolor": "white",
            "gridwidth": 2,
            "linecolor": "white",
            "showbackground": true,
            "ticks": "",
            "zerolinecolor": "white"
           },
           "zaxis": {
            "backgroundcolor": "#E5ECF6",
            "gridcolor": "white",
            "gridwidth": 2,
            "linecolor": "white",
            "showbackground": true,
            "ticks": "",
            "zerolinecolor": "white"
           }
          },
          "shapedefaults": {
           "line": {
            "color": "#2a3f5f"
           }
          },
          "ternary": {
           "aaxis": {
            "gridcolor": "white",
            "linecolor": "white",
            "ticks": ""
           },
           "baxis": {
            "gridcolor": "white",
            "linecolor": "white",
            "ticks": ""
           },
           "bgcolor": "#E5ECF6",
           "caxis": {
            "gridcolor": "white",
            "linecolor": "white",
            "ticks": ""
           }
          },
          "title": {
           "x": 0.05
          },
          "xaxis": {
           "automargin": true,
           "gridcolor": "white",
           "linecolor": "white",
           "ticks": "",
           "title": {
            "standoff": 15
           },
           "zerolinecolor": "white",
           "zerolinewidth": 2
          },
          "yaxis": {
           "automargin": true,
           "gridcolor": "white",
           "linecolor": "white",
           "ticks": "",
           "title": {
            "standoff": 15
           },
           "zerolinecolor": "white",
           "zerolinewidth": 2
          }
         }
        },
        "xaxis": {
         "anchor": "y",
         "domain": [
          0,
          1
         ],
         "title": {
          "text": "price in $"
         }
        },
        "yaxis": {
         "anchor": "x",
         "categoryarray": [
          "Verification Level 9",
          "Verification Level 8",
          "Verification Level 7",
          "Verification Level 6",
          "Verification Level 5",
          "Verification Level 4",
          "Verification Level 3",
          "Verification Level 2",
          "Verification Level 15",
          "Verification Level 11",
          "Verification Level 10",
          "Verification Level 1"
         ],
         "categoryorder": "array",
         "domain": [
          0,
          1
         ],
         "title": {
          "text": "verifcation"
         }
        }
       }
      },
      "text/html": [
       "<div>                            <div id=\"fbf97e86-0481-4e87-b094-e6864492f8c1\" class=\"plotly-graph-div\" style=\"height:525px; width:100%;\"></div>            <script type=\"text/javascript\">                require([\"plotly\"], function(Plotly) {                    window.PLOTLYENV=window.PLOTLYENV || {};                                    if (document.getElementById(\"fbf97e86-0481-4e87-b094-e6864492f8c1\")) {                    Plotly.newPlot(                        \"fbf97e86-0481-4e87-b094-e6864492f8c1\",                        [{\"alignmentgroup\": \"True\", \"boxpoints\": \"all\", \"fillcolor\": \"rgba(255,255,255,0)\", \"hoveron\": \"points\", \"hovertemplate\": \"verifcation=%{y}<br>price in $=%{x}<extra></extra>\", \"legendgroup\": \"Verification Level 1\", \"line\": {\"color\": \"rgba(255,255,255,0)\"}, \"marker\": {\"color\": \"#636efa\"}, \"name\": \"Verification Level 1\", \"offsetgroup\": \"Verification Level 1\", \"orientation\": \"h\", \"pointpos\": 0, \"showlegend\": true, \"type\": \"box\", \"x\": [235.06376989869707], \"x0\": \" \", \"xaxis\": \"x\", \"y\": [\"Verification Level 1\"], \"y0\": \" \", \"yaxis\": \"y\"}, {\"alignmentgroup\": \"True\", \"boxpoints\": \"all\", \"fillcolor\": \"rgba(255,255,255,0)\", \"hoveron\": \"points\", \"hovertemplate\": \"verifcation=%{y}<br>price in $=%{x}<extra></extra>\", \"legendgroup\": \"Verification Level 10\", \"line\": {\"color\": \"rgba(255,255,255,0)\"}, \"marker\": {\"color\": \"#EF553B\"}, \"name\": \"Verification Level 10\", \"offsetgroup\": \"Verification Level 10\", \"orientation\": \"h\", \"pointpos\": 0, \"showlegend\": true, \"type\": \"box\", \"x\": [184.62393188854483], \"x0\": \" \", \"xaxis\": \"x\", \"y\": [\"Verification Level 10\"], \"y0\": \" \", \"yaxis\": \"y\"}, {\"alignmentgroup\": \"True\", \"boxpoints\": \"all\", \"fillcolor\": \"rgba(255,255,255,0)\", \"hoveron\": \"points\", \"hovertemplate\": \"verifcation=%{y}<br>price in $=%{x}<extra></extra>\", \"legendgroup\": \"Verification Level 11\", \"line\": {\"color\": \"rgba(255,255,255,0)\"}, \"marker\": {\"color\": \"#00cc96\"}, \"name\": \"Verification Level 11\", \"offsetgroup\": \"Verification Level 11\", \"orientation\": \"h\", \"pointpos\": 0, \"showlegend\": true, \"type\": \"box\", \"x\": [112.79271844660197], \"x0\": \" \", \"xaxis\": \"x\", \"y\": [\"Verification Level 11\"], \"y0\": \" \", \"yaxis\": \"y\"}, {\"alignmentgroup\": \"True\", \"boxpoints\": \"all\", \"fillcolor\": \"rgba(255,255,255,0)\", \"hoveron\": \"points\", \"hovertemplate\": \"verifcation=%{y}<br>price in $=%{x}<extra></extra>\", \"legendgroup\": \"Verification Level 15\", \"line\": {\"color\": \"rgba(255,255,255,0)\"}, \"marker\": {\"color\": \"#ab63fa\"}, \"name\": \"Verification Level 15\", \"offsetgroup\": \"Verification Level 15\", \"orientation\": \"h\", \"pointpos\": 0, \"showlegend\": true, \"type\": \"box\", \"x\": [72.71473684210531], \"x0\": \" \", \"xaxis\": \"x\", \"y\": [\"Verification Level 15\"], \"y0\": \" \", \"yaxis\": \"y\"}, {\"alignmentgroup\": \"True\", \"boxpoints\": \"all\", \"fillcolor\": \"rgba(255,255,255,0)\", \"hoveron\": \"points\", \"hovertemplate\": \"verifcation=%{y}<br>price in $=%{x}<extra></extra>\", \"legendgroup\": \"Verification Level 2\", \"line\": {\"color\": \"rgba(255,255,255,0)\"}, \"marker\": {\"color\": \"#FFA15A\"}, \"name\": \"Verification Level 2\", \"offsetgroup\": \"Verification Level 2\", \"orientation\": \"h\", \"pointpos\": 0, \"showlegend\": true, \"type\": \"box\", \"x\": [235.2456064257027], \"x0\": \" \", \"xaxis\": \"x\", \"y\": [\"Verification Level 2\"], \"y0\": \" \", \"yaxis\": \"y\"}, {\"alignmentgroup\": \"True\", \"boxpoints\": \"all\", \"fillcolor\": \"rgba(255,255,255,0)\", \"hoveron\": \"points\", \"hovertemplate\": \"verifcation=%{y}<br>price in $=%{x}<extra></extra>\", \"legendgroup\": \"Verification Level 3\", \"line\": {\"color\": \"rgba(255,255,255,0)\"}, \"marker\": {\"color\": \"#19d3f3\"}, \"name\": \"Verification Level 3\", \"offsetgroup\": \"Verification Level 3\", \"orientation\": \"h\", \"pointpos\": 0, \"showlegend\": true, \"type\": \"box\", \"x\": [216.58864710676443], \"x0\": \" \", \"xaxis\": \"x\", \"y\": [\"Verification Level 3\"], \"y0\": \" \", \"yaxis\": \"y\"}, {\"alignmentgroup\": \"True\", \"boxpoints\": \"all\", \"fillcolor\": \"rgba(255,255,255,0)\", \"hoveron\": \"points\", \"hovertemplate\": \"verifcation=%{y}<br>price in $=%{x}<extra></extra>\", \"legendgroup\": \"Verification Level 4\", \"line\": {\"color\": \"rgba(255,255,255,0)\"}, \"marker\": {\"color\": \"#FF6692\"}, \"name\": \"Verification Level 4\", \"offsetgroup\": \"Verification Level 4\", \"orientation\": \"h\", \"pointpos\": 0, \"showlegend\": true, \"type\": \"box\", \"x\": [232.49367401469573], \"x0\": \" \", \"xaxis\": \"x\", \"y\": [\"Verification Level 4\"], \"y0\": \" \", \"yaxis\": \"y\"}, {\"alignmentgroup\": \"True\", \"boxpoints\": \"all\", \"fillcolor\": \"rgba(255,255,255,0)\", \"hoveron\": \"points\", \"hovertemplate\": \"verifcation=%{y}<br>price in $=%{x}<extra></extra>\", \"legendgroup\": \"Verification Level 5\", \"line\": {\"color\": \"rgba(255,255,255,0)\"}, \"marker\": {\"color\": \"#B6E880\"}, \"name\": \"Verification Level 5\", \"offsetgroup\": \"Verification Level 5\", \"orientation\": \"h\", \"pointpos\": 0, \"showlegend\": true, \"type\": \"box\", \"x\": [244.1018749999998], \"x0\": \" \", \"xaxis\": \"x\", \"y\": [\"Verification Level 5\"], \"y0\": \" \", \"yaxis\": \"y\"}, {\"alignmentgroup\": \"True\", \"boxpoints\": \"all\", \"fillcolor\": \"rgba(255,255,255,0)\", \"hoveron\": \"points\", \"hovertemplate\": \"verifcation=%{y}<br>price in $=%{x}<extra></extra>\", \"legendgroup\": \"Verification Level 6\", \"line\": {\"color\": \"rgba(255,255,255,0)\"}, \"marker\": {\"color\": \"#FF97FF\"}, \"name\": \"Verification Level 6\", \"offsetgroup\": \"Verification Level 6\", \"orientation\": \"h\", \"pointpos\": 0, \"showlegend\": true, \"type\": \"box\", \"x\": [236.1146525679758], \"x0\": \" \", \"xaxis\": \"x\", \"y\": [\"Verification Level 6\"], \"y0\": \" \", \"yaxis\": \"y\"}, {\"alignmentgroup\": \"True\", \"boxpoints\": \"all\", \"fillcolor\": \"rgba(255,255,255,0)\", \"hoveron\": \"points\", \"hovertemplate\": \"verifcation=%{y}<br>price in $=%{x}<extra></extra>\", \"legendgroup\": \"Verification Level 7\", \"line\": {\"color\": \"rgba(255,255,255,0)\"}, \"marker\": {\"color\": \"#FECB52\"}, \"name\": \"Verification Level 7\", \"offsetgroup\": \"Verification Level 7\", \"orientation\": \"h\", \"pointpos\": 0, \"showlegend\": true, \"type\": \"box\", \"x\": [215.5586792452828], \"x0\": \" \", \"xaxis\": \"x\", \"y\": [\"Verification Level 7\"], \"y0\": \" \", \"yaxis\": \"y\"}, {\"alignmentgroup\": \"True\", \"boxpoints\": \"all\", \"fillcolor\": \"rgba(255,255,255,0)\", \"hoveron\": \"points\", \"hovertemplate\": \"verifcation=%{y}<br>price in $=%{x}<extra></extra>\", \"legendgroup\": \"Verification Level 8\", \"line\": {\"color\": \"rgba(255,255,255,0)\"}, \"marker\": {\"color\": \"#636efa\"}, \"name\": \"Verification Level 8\", \"offsetgroup\": \"Verification Level 8\", \"orientation\": \"h\", \"pointpos\": 0, \"showlegend\": true, \"type\": \"box\", \"x\": [175.03651685393248], \"x0\": \" \", \"xaxis\": \"x\", \"y\": [\"Verification Level 8\"], \"y0\": \" \", \"yaxis\": \"y\"}, {\"alignmentgroup\": \"True\", \"boxpoints\": \"all\", \"fillcolor\": \"rgba(255,255,255,0)\", \"hoveron\": \"points\", \"hovertemplate\": \"verifcation=%{y}<br>price in $=%{x}<extra></extra>\", \"legendgroup\": \"Verification Level 9\", \"line\": {\"color\": \"rgba(255,255,255,0)\"}, \"marker\": {\"color\": \"#EF553B\"}, \"name\": \"Verification Level 9\", \"offsetgroup\": \"Verification Level 9\", \"orientation\": \"h\", \"pointpos\": 0, \"showlegend\": true, \"type\": \"box\", \"x\": [123.8812037037037], \"x0\": \" \", \"xaxis\": \"x\", \"y\": [\"Verification Level 9\"], \"y0\": \" \", \"yaxis\": \"y\"}],                        {\"boxmode\": \"overlay\", \"legend\": {\"title\": {\"text\": \"verifcation\"}, \"tracegroupgap\": 0}, \"margin\": {\"t\": 60}, \"template\": {\"data\": {\"bar\": [{\"error_x\": {\"color\": \"#2a3f5f\"}, \"error_y\": {\"color\": \"#2a3f5f\"}, \"marker\": {\"line\": {\"color\": \"#E5ECF6\", \"width\": 0.5}}, \"type\": \"bar\"}], \"barpolar\": [{\"marker\": {\"line\": {\"color\": \"#E5ECF6\", \"width\": 0.5}}, \"type\": \"barpolar\"}], \"carpet\": [{\"aaxis\": {\"endlinecolor\": \"#2a3f5f\", \"gridcolor\": \"white\", \"linecolor\": \"white\", \"minorgridcolor\": \"white\", \"startlinecolor\": \"#2a3f5f\"}, \"baxis\": {\"endlinecolor\": \"#2a3f5f\", \"gridcolor\": \"white\", \"linecolor\": \"white\", \"minorgridcolor\": \"white\", \"startlinecolor\": \"#2a3f5f\"}, \"type\": \"carpet\"}], \"choropleth\": [{\"colorbar\": {\"outlinewidth\": 0, \"ticks\": \"\"}, \"type\": \"choropleth\"}], \"contour\": [{\"colorbar\": {\"outlinewidth\": 0, \"ticks\": \"\"}, \"colorscale\": [[0.0, \"#0d0887\"], [0.1111111111111111, \"#46039f\"], [0.2222222222222222, \"#7201a8\"], [0.3333333333333333, \"#9c179e\"], [0.4444444444444444, \"#bd3786\"], [0.5555555555555556, \"#d8576b\"], [0.6666666666666666, \"#ed7953\"], [0.7777777777777778, \"#fb9f3a\"], [0.8888888888888888, \"#fdca26\"], [1.0, \"#f0f921\"]], \"type\": \"contour\"}], \"contourcarpet\": [{\"colorbar\": {\"outlinewidth\": 0, \"ticks\": \"\"}, \"type\": \"contourcarpet\"}], \"heatmap\": [{\"colorbar\": {\"outlinewidth\": 0, \"ticks\": \"\"}, \"colorscale\": [[0.0, \"#0d0887\"], [0.1111111111111111, \"#46039f\"], [0.2222222222222222, \"#7201a8\"], [0.3333333333333333, \"#9c179e\"], [0.4444444444444444, \"#bd3786\"], [0.5555555555555556, \"#d8576b\"], [0.6666666666666666, \"#ed7953\"], [0.7777777777777778, \"#fb9f3a\"], [0.8888888888888888, \"#fdca26\"], [1.0, \"#f0f921\"]], \"type\": \"heatmap\"}], \"heatmapgl\": [{\"colorbar\": {\"outlinewidth\": 0, \"ticks\": \"\"}, \"colorscale\": [[0.0, \"#0d0887\"], [0.1111111111111111, \"#46039f\"], [0.2222222222222222, \"#7201a8\"], [0.3333333333333333, \"#9c179e\"], [0.4444444444444444, \"#bd3786\"], [0.5555555555555556, \"#d8576b\"], [0.6666666666666666, \"#ed7953\"], [0.7777777777777778, \"#fb9f3a\"], [0.8888888888888888, \"#fdca26\"], [1.0, \"#f0f921\"]], \"type\": \"heatmapgl\"}], \"histogram\": [{\"marker\": {\"colorbar\": {\"outlinewidth\": 0, \"ticks\": \"\"}}, \"type\": \"histogram\"}], \"histogram2d\": [{\"colorbar\": {\"outlinewidth\": 0, \"ticks\": \"\"}, \"colorscale\": [[0.0, \"#0d0887\"], [0.1111111111111111, \"#46039f\"], [0.2222222222222222, \"#7201a8\"], [0.3333333333333333, \"#9c179e\"], [0.4444444444444444, \"#bd3786\"], [0.5555555555555556, \"#d8576b\"], [0.6666666666666666, \"#ed7953\"], [0.7777777777777778, \"#fb9f3a\"], [0.8888888888888888, \"#fdca26\"], [1.0, \"#f0f921\"]], \"type\": \"histogram2d\"}], \"histogram2dcontour\": [{\"colorbar\": {\"outlinewidth\": 0, \"ticks\": \"\"}, \"colorscale\": [[0.0, \"#0d0887\"], [0.1111111111111111, \"#46039f\"], [0.2222222222222222, \"#7201a8\"], [0.3333333333333333, \"#9c179e\"], [0.4444444444444444, \"#bd3786\"], [0.5555555555555556, \"#d8576b\"], [0.6666666666666666, \"#ed7953\"], [0.7777777777777778, \"#fb9f3a\"], [0.8888888888888888, \"#fdca26\"], [1.0, \"#f0f921\"]], \"type\": \"histogram2dcontour\"}], \"mesh3d\": [{\"colorbar\": {\"outlinewidth\": 0, \"ticks\": \"\"}, \"type\": \"mesh3d\"}], \"parcoords\": [{\"line\": {\"colorbar\": {\"outlinewidth\": 0, \"ticks\": \"\"}}, \"type\": \"parcoords\"}], \"pie\": [{\"automargin\": true, \"type\": \"pie\"}], \"scatter\": [{\"marker\": {\"colorbar\": {\"outlinewidth\": 0, \"ticks\": \"\"}}, \"type\": \"scatter\"}], \"scatter3d\": [{\"line\": {\"colorbar\": {\"outlinewidth\": 0, \"ticks\": \"\"}}, \"marker\": {\"colorbar\": {\"outlinewidth\": 0, \"ticks\": \"\"}}, \"type\": \"scatter3d\"}], \"scattercarpet\": [{\"marker\": {\"colorbar\": {\"outlinewidth\": 0, \"ticks\": \"\"}}, \"type\": \"scattercarpet\"}], \"scattergeo\": [{\"marker\": {\"colorbar\": {\"outlinewidth\": 0, \"ticks\": \"\"}}, \"type\": \"scattergeo\"}], \"scattergl\": [{\"marker\": {\"colorbar\": {\"outlinewidth\": 0, \"ticks\": \"\"}}, \"type\": \"scattergl\"}], \"scattermapbox\": [{\"marker\": {\"colorbar\": {\"outlinewidth\": 0, \"ticks\": \"\"}}, \"type\": \"scattermapbox\"}], \"scatterpolar\": [{\"marker\": {\"colorbar\": {\"outlinewidth\": 0, \"ticks\": \"\"}}, \"type\": \"scatterpolar\"}], \"scatterpolargl\": [{\"marker\": {\"colorbar\": {\"outlinewidth\": 0, \"ticks\": \"\"}}, \"type\": \"scatterpolargl\"}], \"scatterternary\": [{\"marker\": {\"colorbar\": {\"outlinewidth\": 0, \"ticks\": \"\"}}, \"type\": \"scatterternary\"}], \"surface\": [{\"colorbar\": {\"outlinewidth\": 0, \"ticks\": \"\"}, \"colorscale\": [[0.0, \"#0d0887\"], [0.1111111111111111, \"#46039f\"], [0.2222222222222222, \"#7201a8\"], [0.3333333333333333, \"#9c179e\"], [0.4444444444444444, \"#bd3786\"], [0.5555555555555556, \"#d8576b\"], [0.6666666666666666, \"#ed7953\"], [0.7777777777777778, \"#fb9f3a\"], [0.8888888888888888, \"#fdca26\"], [1.0, \"#f0f921\"]], \"type\": \"surface\"}], \"table\": [{\"cells\": {\"fill\": {\"color\": \"#EBF0F8\"}, \"line\": {\"color\": \"white\"}}, \"header\": {\"fill\": {\"color\": \"#C8D4E3\"}, \"line\": {\"color\": \"white\"}}, \"type\": \"table\"}]}, \"layout\": {\"annotationdefaults\": {\"arrowcolor\": \"#2a3f5f\", \"arrowhead\": 0, \"arrowwidth\": 1}, \"autotypenumbers\": \"strict\", \"coloraxis\": {\"colorbar\": {\"outlinewidth\": 0, \"ticks\": \"\"}}, \"colorscale\": {\"diverging\": [[0, \"#8e0152\"], [0.1, \"#c51b7d\"], [0.2, \"#de77ae\"], [0.3, \"#f1b6da\"], [0.4, \"#fde0ef\"], [0.5, \"#f7f7f7\"], [0.6, \"#e6f5d0\"], [0.7, \"#b8e186\"], [0.8, \"#7fbc41\"], [0.9, \"#4d9221\"], [1, \"#276419\"]], \"sequential\": [[0.0, \"#0d0887\"], [0.1111111111111111, \"#46039f\"], [0.2222222222222222, \"#7201a8\"], [0.3333333333333333, \"#9c179e\"], [0.4444444444444444, \"#bd3786\"], [0.5555555555555556, \"#d8576b\"], [0.6666666666666666, \"#ed7953\"], [0.7777777777777778, \"#fb9f3a\"], [0.8888888888888888, \"#fdca26\"], [1.0, \"#f0f921\"]], \"sequentialminus\": [[0.0, \"#0d0887\"], [0.1111111111111111, \"#46039f\"], [0.2222222222222222, \"#7201a8\"], [0.3333333333333333, \"#9c179e\"], [0.4444444444444444, \"#bd3786\"], [0.5555555555555556, \"#d8576b\"], [0.6666666666666666, \"#ed7953\"], [0.7777777777777778, \"#fb9f3a\"], [0.8888888888888888, \"#fdca26\"], [1.0, \"#f0f921\"]]}, \"colorway\": [\"#636efa\", \"#EF553B\", \"#00cc96\", \"#ab63fa\", \"#FFA15A\", \"#19d3f3\", \"#FF6692\", \"#B6E880\", \"#FF97FF\", \"#FECB52\"], \"font\": {\"color\": \"#2a3f5f\"}, \"geo\": {\"bgcolor\": \"white\", \"lakecolor\": \"white\", \"landcolor\": \"#E5ECF6\", \"showlakes\": true, \"showland\": true, \"subunitcolor\": \"white\"}, \"hoverlabel\": {\"align\": \"left\"}, \"hovermode\": \"closest\", \"mapbox\": {\"style\": \"light\"}, \"paper_bgcolor\": \"white\", \"plot_bgcolor\": \"#E5ECF6\", \"polar\": {\"angularaxis\": {\"gridcolor\": \"white\", \"linecolor\": \"white\", \"ticks\": \"\"}, \"bgcolor\": \"#E5ECF6\", \"radialaxis\": {\"gridcolor\": \"white\", \"linecolor\": \"white\", \"ticks\": \"\"}}, \"scene\": {\"xaxis\": {\"backgroundcolor\": \"#E5ECF6\", \"gridcolor\": \"white\", \"gridwidth\": 2, \"linecolor\": \"white\", \"showbackground\": true, \"ticks\": \"\", \"zerolinecolor\": \"white\"}, \"yaxis\": {\"backgroundcolor\": \"#E5ECF6\", \"gridcolor\": \"white\", \"gridwidth\": 2, \"linecolor\": \"white\", \"showbackground\": true, \"ticks\": \"\", \"zerolinecolor\": \"white\"}, \"zaxis\": {\"backgroundcolor\": \"#E5ECF6\", \"gridcolor\": \"white\", \"gridwidth\": 2, \"linecolor\": \"white\", \"showbackground\": true, \"ticks\": \"\", \"zerolinecolor\": \"white\"}}, \"shapedefaults\": {\"line\": {\"color\": \"#2a3f5f\"}}, \"ternary\": {\"aaxis\": {\"gridcolor\": \"white\", \"linecolor\": \"white\", \"ticks\": \"\"}, \"baxis\": {\"gridcolor\": \"white\", \"linecolor\": \"white\", \"ticks\": \"\"}, \"bgcolor\": \"#E5ECF6\", \"caxis\": {\"gridcolor\": \"white\", \"linecolor\": \"white\", \"ticks\": \"\"}}, \"title\": {\"x\": 0.05}, \"xaxis\": {\"automargin\": true, \"gridcolor\": \"white\", \"linecolor\": \"white\", \"ticks\": \"\", \"title\": {\"standoff\": 15}, \"zerolinecolor\": \"white\", \"zerolinewidth\": 2}, \"yaxis\": {\"automargin\": true, \"gridcolor\": \"white\", \"linecolor\": \"white\", \"ticks\": \"\", \"title\": {\"standoff\": 15}, \"zerolinecolor\": \"white\", \"zerolinewidth\": 2}}}, \"xaxis\": {\"anchor\": \"y\", \"domain\": [0.0, 1.0], \"title\": {\"text\": \"price in $\"}}, \"yaxis\": {\"anchor\": \"x\", \"categoryarray\": [\"Verification Level 9\", \"Verification Level 8\", \"Verification Level 7\", \"Verification Level 6\", \"Verification Level 5\", \"Verification Level 4\", \"Verification Level 3\", \"Verification Level 2\", \"Verification Level 15\", \"Verification Level 11\", \"Verification Level 10\", \"Verification Level 1\"], \"categoryorder\": \"array\", \"domain\": [0.0, 1.0], \"title\": {\"text\": \"verifcation\"}}},                        {\"responsive\": true}                    ).then(function(){\n",
       "                            \n",
       "var gd = document.getElementById('fbf97e86-0481-4e87-b094-e6864492f8c1');\n",
       "var x = new MutationObserver(function (mutations, observer) {{\n",
       "        var display = window.getComputedStyle(gd).display;\n",
       "        if (!display || display === 'none') {{\n",
       "            console.log([gd, 'removed!']);\n",
       "            Plotly.purge(gd);\n",
       "            observer.disconnect();\n",
       "        }}\n",
       "}});\n",
       "\n",
       "// Listen for the removal of the full notebook cells\n",
       "var notebookContainer = gd.closest('#notebook-container');\n",
       "if (notebookContainer) {{\n",
       "    x.observe(notebookContainer, {childList: true});\n",
       "}}\n",
       "\n",
       "// Listen for the clearing of the current output cell\n",
       "var outputEl = gd.closest('.output');\n",
       "if (outputEl) {{\n",
       "    x.observe(outputEl, {childList: true});\n",
       "}}\n",
       "\n",
       "                        })                };                });            </script>        </div>"
      ]
     },
     "metadata": {},
     "output_type": "display_data"
    }
   ],
   "source": [
    "plot_category_wise('verifcation')"
   ]
  },
  {
   "cell_type": "code",
   "execution_count": 69,
   "id": "powered-player",
   "metadata": {},
   "outputs": [
    {
     "data": {
      "application/vnd.plotly.v1+json": {
       "config": {
        "plotlyServerURL": "https://plot.ly"
       },
       "data": [
        {
         "alignmentgroup": "True",
         "boxpoints": "all",
         "fillcolor": "rgba(255,255,255,0)",
         "hoveron": "points",
         "hovertemplate": "transactions=%{y}<br>price in $=%{x}<extra></extra>",
         "legendgroup": "117",
         "line": {
          "color": "rgba(255,255,255,0)"
         },
         "marker": {
          "color": "#636efa"
         },
         "name": "117",
         "offsetgroup": "117",
         "orientation": "v",
         "pointpos": 0,
         "showlegend": true,
         "type": "box",
         "x": [
          398.74317204301076
         ],
         "x0": " ",
         "xaxis": "x",
         "y": [
          117
         ],
         "y0": " ",
         "yaxis": "y"
        },
        {
         "alignmentgroup": "True",
         "boxpoints": "all",
         "fillcolor": "rgba(255,255,255,0)",
         "hoveron": "points",
         "hovertemplate": "transactions=%{y}<br>price in $=%{x}<extra></extra>",
         "legendgroup": "10",
         "line": {
          "color": "rgba(255,255,255,0)"
         },
         "marker": {
          "color": "#EF553B"
         },
         "name": "10",
         "offsetgroup": "10",
         "orientation": "v",
         "pointpos": 0,
         "showlegend": true,
         "type": "box",
         "x": [
          389.15532374100735
         ],
         "x0": " ",
         "xaxis": "x",
         "y": [
          10
         ],
         "y0": " ",
         "yaxis": "y"
        },
        {
         "alignmentgroup": "True",
         "boxpoints": "all",
         "fillcolor": "rgba(255,255,255,0)",
         "hoveron": "points",
         "hovertemplate": "transactions=%{y}<br>price in $=%{x}<extra></extra>",
         "legendgroup": "62",
         "line": {
          "color": "rgba(255,255,255,0)"
         },
         "marker": {
          "color": "#00cc96"
         },
         "name": "62",
         "offsetgroup": "62",
         "orientation": "v",
         "pointpos": 0,
         "showlegend": true,
         "type": "box",
         "x": [
          341.38818181818175
         ],
         "x0": " ",
         "xaxis": "x",
         "y": [
          62
         ],
         "y0": " ",
         "yaxis": "y"
        },
        {
         "alignmentgroup": "True",
         "boxpoints": "all",
         "fillcolor": "rgba(255,255,255,0)",
         "hoveron": "points",
         "hovertemplate": "transactions=%{y}<br>price in $=%{x}<extra></extra>",
         "legendgroup": "981",
         "line": {
          "color": "rgba(255,255,255,0)"
         },
         "marker": {
          "color": "#ab63fa"
         },
         "name": "981",
         "offsetgroup": "981",
         "orientation": "v",
         "pointpos": 0,
         "showlegend": true,
         "type": "box",
         "x": [
          340.5998019801981
         ],
         "x0": " ",
         "xaxis": "x",
         "y": [
          981
         ],
         "y0": " ",
         "yaxis": "y"
        },
        {
         "alignmentgroup": "True",
         "boxpoints": "all",
         "fillcolor": "rgba(255,255,255,0)",
         "hoveron": "points",
         "hovertemplate": "transactions=%{y}<br>price in $=%{x}<extra></extra>",
         "legendgroup": "573",
         "line": {
          "color": "rgba(255,255,255,0)"
         },
         "marker": {
          "color": "#FFA15A"
         },
         "name": "573",
         "offsetgroup": "573",
         "orientation": "v",
         "pointpos": 0,
         "showlegend": true,
         "type": "box",
         "x": [
          321.36959595959604
         ],
         "x0": " ",
         "xaxis": "x",
         "y": [
          573
         ],
         "y0": " ",
         "yaxis": "y"
        },
        {
         "alignmentgroup": "True",
         "boxpoints": "all",
         "fillcolor": "rgba(255,255,255,0)",
         "hoveron": "points",
         "hovertemplate": "transactions=%{y}<br>price in $=%{x}<extra></extra>",
         "legendgroup": "0",
         "line": {
          "color": "rgba(255,255,255,0)"
         },
         "marker": {
          "color": "#19d3f3"
         },
         "name": "0",
         "offsetgroup": "0",
         "orientation": "v",
         "pointpos": 0,
         "showlegend": true,
         "type": "box",
         "x": [
          300.1695454545453
         ],
         "x0": " ",
         "xaxis": "x",
         "y": [
          0
         ],
         "y0": " ",
         "yaxis": "y"
        },
        {
         "alignmentgroup": "True",
         "boxpoints": "all",
         "fillcolor": "rgba(255,255,255,0)",
         "hoveron": "points",
         "hovertemplate": "transactions=%{y}<br>price in $=%{x}<extra></extra>",
         "legendgroup": "436",
         "line": {
          "color": "rgba(255,255,255,0)"
         },
         "marker": {
          "color": "#FF6692"
         },
         "name": "436",
         "offsetgroup": "436",
         "orientation": "v",
         "pointpos": 0,
         "showlegend": true,
         "type": "box",
         "x": [
          296.70811320754717
         ],
         "x0": " ",
         "xaxis": "x",
         "y": [
          436
         ],
         "y0": " ",
         "yaxis": "y"
        },
        {
         "alignmentgroup": "True",
         "boxpoints": "all",
         "fillcolor": "rgba(255,255,255,0)",
         "hoveron": "points",
         "hovertemplate": "transactions=%{y}<br>price in $=%{x}<extra></extra>",
         "legendgroup": "86",
         "line": {
          "color": "rgba(255,255,255,0)"
         },
         "marker": {
          "color": "#B6E880"
         },
         "name": "86",
         "offsetgroup": "86",
         "orientation": "v",
         "pointpos": 0,
         "showlegend": true,
         "type": "box",
         "x": [
          290.4944690265485
         ],
         "x0": " ",
         "xaxis": "x",
         "y": [
          86
         ],
         "y0": " ",
         "yaxis": "y"
        },
        {
         "alignmentgroup": "True",
         "boxpoints": "all",
         "fillcolor": "rgba(255,255,255,0)",
         "hoveron": "points",
         "hovertemplate": "transactions=%{y}<br>price in $=%{x}<extra></extra>",
         "legendgroup": "3",
         "line": {
          "color": "rgba(255,255,255,0)"
         },
         "marker": {
          "color": "#FF97FF"
         },
         "name": "3",
         "offsetgroup": "3",
         "orientation": "v",
         "pointpos": 0,
         "showlegend": true,
         "type": "box",
         "x": [
          281.86896634615385
         ],
         "x0": " ",
         "xaxis": "x",
         "y": [
          3
         ],
         "y0": " ",
         "yaxis": "y"
        },
        {
         "alignmentgroup": "True",
         "boxpoints": "all",
         "fillcolor": "rgba(255,255,255,0)",
         "hoveron": "points",
         "hovertemplate": "transactions=%{y}<br>price in $=%{x}<extra></extra>",
         "legendgroup": "72",
         "line": {
          "color": "rgba(255,255,255,0)"
         },
         "marker": {
          "color": "#FECB52"
         },
         "name": "72",
         "offsetgroup": "72",
         "orientation": "v",
         "pointpos": 0,
         "showlegend": true,
         "type": "box",
         "x": [
          278.06847328244277
         ],
         "x0": " ",
         "xaxis": "x",
         "y": [
          72
         ],
         "y0": " ",
         "yaxis": "y"
        },
        {
         "alignmentgroup": "True",
         "boxpoints": "all",
         "fillcolor": "rgba(255,255,255,0)",
         "hoveron": "points",
         "hovertemplate": "transactions=%{y}<br>price in $=%{x}<extra></extra>",
         "legendgroup": "1",
         "line": {
          "color": "rgba(255,255,255,0)"
         },
         "marker": {
          "color": "#636efa"
         },
         "name": "1",
         "offsetgroup": "1",
         "orientation": "v",
         "pointpos": 0,
         "showlegend": true,
         "type": "box",
         "x": [
          273.8016504854368
         ],
         "x0": " ",
         "xaxis": "x",
         "y": [
          1
         ],
         "y0": " ",
         "yaxis": "y"
        },
        {
         "alignmentgroup": "True",
         "boxpoints": "all",
         "fillcolor": "rgba(255,255,255,0)",
         "hoveron": "points",
         "hovertemplate": "transactions=%{y}<br>price in $=%{x}<extra></extra>",
         "legendgroup": "475",
         "line": {
          "color": "rgba(255,255,255,0)"
         },
         "marker": {
          "color": "#EF553B"
         },
         "name": "475",
         "offsetgroup": "475",
         "orientation": "v",
         "pointpos": 0,
         "showlegend": true,
         "type": "box",
         "x": [
          263.7325888324874
         ],
         "x0": " ",
         "xaxis": "x",
         "y": [
          475
         ],
         "y0": " ",
         "yaxis": "y"
        },
        {
         "alignmentgroup": "True",
         "boxpoints": "all",
         "fillcolor": "rgba(255,255,255,0)",
         "hoveron": "points",
         "hovertemplate": "transactions=%{y}<br>price in $=%{x}<extra></extra>",
         "legendgroup": "13",
         "line": {
          "color": "rgba(255,255,255,0)"
         },
         "marker": {
          "color": "#00cc96"
         },
         "name": "13",
         "offsetgroup": "13",
         "orientation": "v",
         "pointpos": 0,
         "showlegend": true,
         "type": "box",
         "x": [
          263.5479090909091
         ],
         "x0": " ",
         "xaxis": "x",
         "y": [
          13
         ],
         "y0": " ",
         "yaxis": "y"
        },
        {
         "alignmentgroup": "True",
         "boxpoints": "all",
         "fillcolor": "rgba(255,255,255,0)",
         "hoveron": "points",
         "hovertemplate": "transactions=%{y}<br>price in $=%{x}<extra></extra>",
         "legendgroup": "24",
         "line": {
          "color": "rgba(255,255,255,0)"
         },
         "marker": {
          "color": "#ab63fa"
         },
         "name": "24",
         "offsetgroup": "24",
         "orientation": "v",
         "pointpos": 0,
         "showlegend": true,
         "type": "box",
         "x": [
          257.9946938775511
         ],
         "x0": " ",
         "xaxis": "x",
         "y": [
          24
         ],
         "y0": " ",
         "yaxis": "y"
        },
        {
         "alignmentgroup": "True",
         "boxpoints": "all",
         "fillcolor": "rgba(255,255,255,0)",
         "hoveron": "points",
         "hovertemplate": "transactions=%{y}<br>price in $=%{x}<extra></extra>",
         "legendgroup": "15",
         "line": {
          "color": "rgba(255,255,255,0)"
         },
         "marker": {
          "color": "#FFA15A"
         },
         "name": "15",
         "offsetgroup": "15",
         "orientation": "v",
         "pointpos": 0,
         "showlegend": true,
         "type": "box",
         "x": [
          253.68611650485457
         ],
         "x0": " ",
         "xaxis": "x",
         "y": [
          15
         ],
         "y0": " ",
         "yaxis": "y"
        },
        {
         "alignmentgroup": "True",
         "boxpoints": "all",
         "fillcolor": "rgba(255,255,255,0)",
         "hoveron": "points",
         "hovertemplate": "transactions=%{y}<br>price in $=%{x}<extra></extra>",
         "legendgroup": "21",
         "line": {
          "color": "rgba(255,255,255,0)"
         },
         "marker": {
          "color": "#19d3f3"
         },
         "name": "21",
         "offsetgroup": "21",
         "orientation": "v",
         "pointpos": 0,
         "showlegend": true,
         "type": "box",
         "x": [
          218.83643835616442
         ],
         "x0": " ",
         "xaxis": "x",
         "y": [
          21
         ],
         "y0": " ",
         "yaxis": "y"
        },
        {
         "alignmentgroup": "True",
         "boxpoints": "all",
         "fillcolor": "rgba(255,255,255,0)",
         "hoveron": "points",
         "hovertemplate": "transactions=%{y}<br>price in $=%{x}<extra></extra>",
         "legendgroup": "266",
         "line": {
          "color": "rgba(255,255,255,0)"
         },
         "marker": {
          "color": "#FF6692"
         },
         "name": "266",
         "offsetgroup": "266",
         "orientation": "v",
         "pointpos": 0,
         "showlegend": true,
         "type": "box",
         "x": [
          208.9132773109244
         ],
         "x0": " ",
         "xaxis": "x",
         "y": [
          266
         ],
         "y0": " ",
         "yaxis": "y"
        },
        {
         "alignmentgroup": "True",
         "boxpoints": "all",
         "fillcolor": "rgba(255,255,255,0)",
         "hoveron": "points",
         "hovertemplate": "transactions=%{y}<br>price in $=%{x}<extra></extra>",
         "legendgroup": "80",
         "line": {
          "color": "rgba(255,255,255,0)"
         },
         "marker": {
          "color": "#B6E880"
         },
         "name": "80",
         "offsetgroup": "80",
         "orientation": "v",
         "pointpos": 0,
         "showlegend": true,
         "type": "box",
         "x": [
          197.36612903225807
         ],
         "x0": " ",
         "xaxis": "x",
         "y": [
          80
         ],
         "y0": " ",
         "yaxis": "y"
        },
        {
         "alignmentgroup": "True",
         "boxpoints": "all",
         "fillcolor": "rgba(255,255,255,0)",
         "hoveron": "points",
         "hovertemplate": "transactions=%{y}<br>price in $=%{x}<extra></extra>",
         "legendgroup": "6",
         "line": {
          "color": "rgba(255,255,255,0)"
         },
         "marker": {
          "color": "#FF97FF"
         },
         "name": "6",
         "offsetgroup": "6",
         "orientation": "v",
         "pointpos": 0,
         "showlegend": true,
         "type": "box",
         "x": [
          190.6990476190475
         ],
         "x0": " ",
         "xaxis": "x",
         "y": [
          6
         ],
         "y0": " ",
         "yaxis": "y"
        },
        {
         "alignmentgroup": "True",
         "boxpoints": "all",
         "fillcolor": "rgba(255,255,255,0)",
         "hoveron": "points",
         "hovertemplate": "transactions=%{y}<br>price in $=%{x}<extra></extra>",
         "legendgroup": "7",
         "line": {
          "color": "rgba(255,255,255,0)"
         },
         "marker": {
          "color": "#FECB52"
         },
         "name": "7",
         "offsetgroup": "7",
         "orientation": "v",
         "pointpos": 0,
         "showlegend": true,
         "type": "box",
         "x": [
          189.18692982456145
         ],
         "x0": " ",
         "xaxis": "x",
         "y": [
          7
         ],
         "y0": " ",
         "yaxis": "y"
        },
        {
         "alignmentgroup": "True",
         "boxpoints": "all",
         "fillcolor": "rgba(255,255,255,0)",
         "hoveron": "points",
         "hovertemplate": "transactions=%{y}<br>price in $=%{x}<extra></extra>",
         "legendgroup": "2",
         "line": {
          "color": "rgba(255,255,255,0)"
         },
         "marker": {
          "color": "#636efa"
         },
         "name": "2",
         "offsetgroup": "2",
         "orientation": "v",
         "pointpos": 0,
         "showlegend": true,
         "type": "box",
         "x": [
          187.92038834951458
         ],
         "x0": " ",
         "xaxis": "x",
         "y": [
          2
         ],
         "y0": " ",
         "yaxis": "y"
        },
        {
         "alignmentgroup": "True",
         "boxpoints": "all",
         "fillcolor": "rgba(255,255,255,0)",
         "hoveron": "points",
         "hovertemplate": "transactions=%{y}<br>price in $=%{x}<extra></extra>",
         "legendgroup": "8",
         "line": {
          "color": "rgba(255,255,255,0)"
         },
         "marker": {
          "color": "#EF553B"
         },
         "name": "8",
         "offsetgroup": "8",
         "orientation": "v",
         "pointpos": 0,
         "showlegend": true,
         "type": "box",
         "x": [
          185.63287769784168
         ],
         "x0": " ",
         "xaxis": "x",
         "y": [
          8
         ],
         "y0": " ",
         "yaxis": "y"
        },
        {
         "alignmentgroup": "True",
         "boxpoints": "all",
         "fillcolor": "rgba(255,255,255,0)",
         "hoveron": "points",
         "hovertemplate": "transactions=%{y}<br>price in $=%{x}<extra></extra>",
         "legendgroup": "4",
         "line": {
          "color": "rgba(255,255,255,0)"
         },
         "marker": {
          "color": "#00cc96"
         },
         "name": "4",
         "offsetgroup": "4",
         "orientation": "v",
         "pointpos": 0,
         "showlegend": true,
         "type": "box",
         "x": [
          185.0484680851064
         ],
         "x0": " ",
         "xaxis": "x",
         "y": [
          4
         ],
         "y0": " ",
         "yaxis": "y"
        },
        {
         "alignmentgroup": "True",
         "boxpoints": "all",
         "fillcolor": "rgba(255,255,255,0)",
         "hoveron": "points",
         "hovertemplate": "transactions=%{y}<br>price in $=%{x}<extra></extra>",
         "legendgroup": "135",
         "line": {
          "color": "rgba(255,255,255,0)"
         },
         "marker": {
          "color": "#ab63fa"
         },
         "name": "135",
         "offsetgroup": "135",
         "orientation": "v",
         "pointpos": 0,
         "showlegend": true,
         "type": "box",
         "x": [
          174.17894230769227
         ],
         "x0": " ",
         "xaxis": "x",
         "y": [
          135
         ],
         "y0": " ",
         "yaxis": "y"
        },
        {
         "alignmentgroup": "True",
         "boxpoints": "all",
         "fillcolor": "rgba(255,255,255,0)",
         "hoveron": "points",
         "hovertemplate": "transactions=%{y}<br>price in $=%{x}<extra></extra>",
         "legendgroup": "38",
         "line": {
          "color": "rgba(255,255,255,0)"
         },
         "marker": {
          "color": "#FFA15A"
         },
         "name": "38",
         "offsetgroup": "38",
         "orientation": "v",
         "pointpos": 0,
         "showlegend": true,
         "type": "box",
         "x": [
          155.89512820512817
         ],
         "x0": " ",
         "xaxis": "x",
         "y": [
          38
         ],
         "y0": " ",
         "yaxis": "y"
        },
        {
         "alignmentgroup": "True",
         "boxpoints": "all",
         "fillcolor": "rgba(255,255,255,0)",
         "hoveron": "points",
         "hovertemplate": "transactions=%{y}<br>price in $=%{x}<extra></extra>",
         "legendgroup": "5",
         "line": {
          "color": "rgba(255,255,255,0)"
         },
         "marker": {
          "color": "#19d3f3"
         },
         "name": "5",
         "offsetgroup": "5",
         "orientation": "v",
         "pointpos": 0,
         "showlegend": true,
         "type": "box",
         "x": [
          124.82918367346936
         ],
         "x0": " ",
         "xaxis": "x",
         "y": [
          5
         ],
         "y0": " ",
         "yaxis": "y"
        },
        {
         "alignmentgroup": "True",
         "boxpoints": "all",
         "fillcolor": "rgba(255,255,255,0)",
         "hoveron": "points",
         "hovertemplate": "transactions=%{y}<br>price in $=%{x}<extra></extra>",
         "legendgroup": "248",
         "line": {
          "color": "rgba(255,255,255,0)"
         },
         "marker": {
          "color": "#FF6692"
         },
         "name": "248",
         "offsetgroup": "248",
         "orientation": "v",
         "pointpos": 0,
         "showlegend": true,
         "type": "box",
         "x": [
          124.4353781512605
         ],
         "x0": " ",
         "xaxis": "x",
         "y": [
          248
         ],
         "y0": " ",
         "yaxis": "y"
        },
        {
         "alignmentgroup": "True",
         "boxpoints": "all",
         "fillcolor": "rgba(255,255,255,0)",
         "hoveron": "points",
         "hovertemplate": "transactions=%{y}<br>price in $=%{x}<extra></extra>",
         "legendgroup": "256",
         "line": {
          "color": "rgba(255,255,255,0)"
         },
         "marker": {
          "color": "#B6E880"
         },
         "name": "256",
         "offsetgroup": "256",
         "orientation": "v",
         "pointpos": 0,
         "showlegend": true,
         "type": "box",
         "x": [
          118.71056910569105
         ],
         "x0": " ",
         "xaxis": "x",
         "y": [
          256
         ],
         "y0": " ",
         "yaxis": "y"
        },
        {
         "alignmentgroup": "True",
         "boxpoints": "all",
         "fillcolor": "rgba(255,255,255,0)",
         "hoveron": "points",
         "hovertemplate": "transactions=%{y}<br>price in $=%{x}<extra></extra>",
         "legendgroup": "175",
         "line": {
          "color": "rgba(255,255,255,0)"
         },
         "marker": {
          "color": "#FF97FF"
         },
         "name": "175",
         "offsetgroup": "175",
         "orientation": "v",
         "pointpos": 0,
         "showlegend": true,
         "type": "box",
         "x": [
          118.01084745762711
         ],
         "x0": " ",
         "xaxis": "x",
         "y": [
          175
         ],
         "y0": " ",
         "yaxis": "y"
        },
        {
         "alignmentgroup": "True",
         "boxpoints": "all",
         "fillcolor": "rgba(255,255,255,0)",
         "hoveron": "points",
         "hovertemplate": "transactions=%{y}<br>price in $=%{x}<extra></extra>",
         "legendgroup": "40",
         "line": {
          "color": "rgba(255,255,255,0)"
         },
         "marker": {
          "color": "#FECB52"
         },
         "name": "40",
         "offsetgroup": "40",
         "orientation": "v",
         "pointpos": 0,
         "showlegend": true,
         "type": "box",
         "x": [
          101.44990384615382
         ],
         "x0": " ",
         "xaxis": "x",
         "y": [
          40
         ],
         "y0": " ",
         "yaxis": "y"
        },
        {
         "alignmentgroup": "True",
         "boxpoints": "all",
         "fillcolor": "rgba(255,255,255,0)",
         "hoveron": "points",
         "hovertemplate": "transactions=%{y}<br>price in $=%{x}<extra></extra>",
         "legendgroup": "33",
         "line": {
          "color": "rgba(255,255,255,0)"
         },
         "marker": {
          "color": "#636efa"
         },
         "name": "33",
         "offsetgroup": "33",
         "orientation": "v",
         "pointpos": 0,
         "showlegend": true,
         "type": "box",
         "x": [
          94.87199999999997
         ],
         "x0": " ",
         "xaxis": "x",
         "y": [
          33
         ],
         "y0": " ",
         "yaxis": "y"
        },
        {
         "alignmentgroup": "True",
         "boxpoints": "all",
         "fillcolor": "rgba(255,255,255,0)",
         "hoveron": "points",
         "hovertemplate": "transactions=%{y}<br>price in $=%{x}<extra></extra>",
         "legendgroup": "1222",
         "line": {
          "color": "rgba(255,255,255,0)"
         },
         "marker": {
          "color": "#EF553B"
         },
         "name": "1222",
         "offsetgroup": "1222",
         "orientation": "v",
         "pointpos": 0,
         "showlegend": true,
         "type": "box",
         "x": [
          90.44696000000003
         ],
         "x0": " ",
         "xaxis": "x",
         "y": [
          1222
         ],
         "y0": " ",
         "yaxis": "y"
        },
        {
         "alignmentgroup": "True",
         "boxpoints": "all",
         "fillcolor": "rgba(255,255,255,0)",
         "hoveron": "points",
         "hovertemplate": "transactions=%{y}<br>price in $=%{x}<extra></extra>",
         "legendgroup": "240",
         "line": {
          "color": "rgba(255,255,255,0)"
         },
         "marker": {
          "color": "#00cc96"
         },
         "name": "240",
         "offsetgroup": "240",
         "orientation": "v",
         "pointpos": 0,
         "showlegend": true,
         "type": "box",
         "x": [
          90.09040983606558
         ],
         "x0": " ",
         "xaxis": "x",
         "y": [
          240
         ],
         "y0": " ",
         "yaxis": "y"
        },
        {
         "alignmentgroup": "True",
         "boxpoints": "all",
         "fillcolor": "rgba(255,255,255,0)",
         "hoveron": "points",
         "hovertemplate": "transactions=%{y}<br>price in $=%{x}<extra></extra>",
         "legendgroup": "52",
         "line": {
          "color": "rgba(255,255,255,0)"
         },
         "marker": {
          "color": "#ab63fa"
         },
         "name": "52",
         "offsetgroup": "52",
         "orientation": "v",
         "pointpos": 0,
         "showlegend": true,
         "type": "box",
         "x": [
          88.48425373134329
         ],
         "x0": " ",
         "xaxis": "x",
         "y": [
          52
         ],
         "y0": " ",
         "yaxis": "y"
        },
        {
         "alignmentgroup": "True",
         "boxpoints": "all",
         "fillcolor": "rgba(255,255,255,0)",
         "hoveron": "points",
         "hovertemplate": "transactions=%{y}<br>price in $=%{x}<extra></extra>",
         "legendgroup": "1649",
         "line": {
          "color": "rgba(255,255,255,0)"
         },
         "marker": {
          "color": "#FFA15A"
         },
         "name": "1649",
         "offsetgroup": "1649",
         "orientation": "v",
         "pointpos": 0,
         "showlegend": true,
         "type": "box",
         "x": [
          85.32317073170732
         ],
         "x0": " ",
         "xaxis": "x",
         "y": [
          1649
         ],
         "y0": " ",
         "yaxis": "y"
        },
        {
         "alignmentgroup": "True",
         "boxpoints": "all",
         "fillcolor": "rgba(255,255,255,0)",
         "hoveron": "points",
         "hovertemplate": "transactions=%{y}<br>price in $=%{x}<extra></extra>",
         "legendgroup": "279",
         "line": {
          "color": "rgba(255,255,255,0)"
         },
         "marker": {
          "color": "#19d3f3"
         },
         "name": "279",
         "offsetgroup": "279",
         "orientation": "v",
         "pointpos": 0,
         "showlegend": true,
         "type": "box",
         "x": [
          72.98006993006996
         ],
         "x0": " ",
         "xaxis": "x",
         "y": [
          279
         ],
         "y0": " ",
         "yaxis": "y"
        }
       ],
       "layout": {
        "boxmode": "group",
        "legend": {
         "title": {
          "text": "transactions"
         },
         "tracegroupgap": 0
        },
        "margin": {
         "t": 60
        },
        "template": {
         "data": {
          "bar": [
           {
            "error_x": {
             "color": "#2a3f5f"
            },
            "error_y": {
             "color": "#2a3f5f"
            },
            "marker": {
             "line": {
              "color": "#E5ECF6",
              "width": 0.5
             }
            },
            "type": "bar"
           }
          ],
          "barpolar": [
           {
            "marker": {
             "line": {
              "color": "#E5ECF6",
              "width": 0.5
             }
            },
            "type": "barpolar"
           }
          ],
          "carpet": [
           {
            "aaxis": {
             "endlinecolor": "#2a3f5f",
             "gridcolor": "white",
             "linecolor": "white",
             "minorgridcolor": "white",
             "startlinecolor": "#2a3f5f"
            },
            "baxis": {
             "endlinecolor": "#2a3f5f",
             "gridcolor": "white",
             "linecolor": "white",
             "minorgridcolor": "white",
             "startlinecolor": "#2a3f5f"
            },
            "type": "carpet"
           }
          ],
          "choropleth": [
           {
            "colorbar": {
             "outlinewidth": 0,
             "ticks": ""
            },
            "type": "choropleth"
           }
          ],
          "contour": [
           {
            "colorbar": {
             "outlinewidth": 0,
             "ticks": ""
            },
            "colorscale": [
             [
              0,
              "#0d0887"
             ],
             [
              0.1111111111111111,
              "#46039f"
             ],
             [
              0.2222222222222222,
              "#7201a8"
             ],
             [
              0.3333333333333333,
              "#9c179e"
             ],
             [
              0.4444444444444444,
              "#bd3786"
             ],
             [
              0.5555555555555556,
              "#d8576b"
             ],
             [
              0.6666666666666666,
              "#ed7953"
             ],
             [
              0.7777777777777778,
              "#fb9f3a"
             ],
             [
              0.8888888888888888,
              "#fdca26"
             ],
             [
              1,
              "#f0f921"
             ]
            ],
            "type": "contour"
           }
          ],
          "contourcarpet": [
           {
            "colorbar": {
             "outlinewidth": 0,
             "ticks": ""
            },
            "type": "contourcarpet"
           }
          ],
          "heatmap": [
           {
            "colorbar": {
             "outlinewidth": 0,
             "ticks": ""
            },
            "colorscale": [
             [
              0,
              "#0d0887"
             ],
             [
              0.1111111111111111,
              "#46039f"
             ],
             [
              0.2222222222222222,
              "#7201a8"
             ],
             [
              0.3333333333333333,
              "#9c179e"
             ],
             [
              0.4444444444444444,
              "#bd3786"
             ],
             [
              0.5555555555555556,
              "#d8576b"
             ],
             [
              0.6666666666666666,
              "#ed7953"
             ],
             [
              0.7777777777777778,
              "#fb9f3a"
             ],
             [
              0.8888888888888888,
              "#fdca26"
             ],
             [
              1,
              "#f0f921"
             ]
            ],
            "type": "heatmap"
           }
          ],
          "heatmapgl": [
           {
            "colorbar": {
             "outlinewidth": 0,
             "ticks": ""
            },
            "colorscale": [
             [
              0,
              "#0d0887"
             ],
             [
              0.1111111111111111,
              "#46039f"
             ],
             [
              0.2222222222222222,
              "#7201a8"
             ],
             [
              0.3333333333333333,
              "#9c179e"
             ],
             [
              0.4444444444444444,
              "#bd3786"
             ],
             [
              0.5555555555555556,
              "#d8576b"
             ],
             [
              0.6666666666666666,
              "#ed7953"
             ],
             [
              0.7777777777777778,
              "#fb9f3a"
             ],
             [
              0.8888888888888888,
              "#fdca26"
             ],
             [
              1,
              "#f0f921"
             ]
            ],
            "type": "heatmapgl"
           }
          ],
          "histogram": [
           {
            "marker": {
             "colorbar": {
              "outlinewidth": 0,
              "ticks": ""
             }
            },
            "type": "histogram"
           }
          ],
          "histogram2d": [
           {
            "colorbar": {
             "outlinewidth": 0,
             "ticks": ""
            },
            "colorscale": [
             [
              0,
              "#0d0887"
             ],
             [
              0.1111111111111111,
              "#46039f"
             ],
             [
              0.2222222222222222,
              "#7201a8"
             ],
             [
              0.3333333333333333,
              "#9c179e"
             ],
             [
              0.4444444444444444,
              "#bd3786"
             ],
             [
              0.5555555555555556,
              "#d8576b"
             ],
             [
              0.6666666666666666,
              "#ed7953"
             ],
             [
              0.7777777777777778,
              "#fb9f3a"
             ],
             [
              0.8888888888888888,
              "#fdca26"
             ],
             [
              1,
              "#f0f921"
             ]
            ],
            "type": "histogram2d"
           }
          ],
          "histogram2dcontour": [
           {
            "colorbar": {
             "outlinewidth": 0,
             "ticks": ""
            },
            "colorscale": [
             [
              0,
              "#0d0887"
             ],
             [
              0.1111111111111111,
              "#46039f"
             ],
             [
              0.2222222222222222,
              "#7201a8"
             ],
             [
              0.3333333333333333,
              "#9c179e"
             ],
             [
              0.4444444444444444,
              "#bd3786"
             ],
             [
              0.5555555555555556,
              "#d8576b"
             ],
             [
              0.6666666666666666,
              "#ed7953"
             ],
             [
              0.7777777777777778,
              "#fb9f3a"
             ],
             [
              0.8888888888888888,
              "#fdca26"
             ],
             [
              1,
              "#f0f921"
             ]
            ],
            "type": "histogram2dcontour"
           }
          ],
          "mesh3d": [
           {
            "colorbar": {
             "outlinewidth": 0,
             "ticks": ""
            },
            "type": "mesh3d"
           }
          ],
          "parcoords": [
           {
            "line": {
             "colorbar": {
              "outlinewidth": 0,
              "ticks": ""
             }
            },
            "type": "parcoords"
           }
          ],
          "pie": [
           {
            "automargin": true,
            "type": "pie"
           }
          ],
          "scatter": [
           {
            "marker": {
             "colorbar": {
              "outlinewidth": 0,
              "ticks": ""
             }
            },
            "type": "scatter"
           }
          ],
          "scatter3d": [
           {
            "line": {
             "colorbar": {
              "outlinewidth": 0,
              "ticks": ""
             }
            },
            "marker": {
             "colorbar": {
              "outlinewidth": 0,
              "ticks": ""
             }
            },
            "type": "scatter3d"
           }
          ],
          "scattercarpet": [
           {
            "marker": {
             "colorbar": {
              "outlinewidth": 0,
              "ticks": ""
             }
            },
            "type": "scattercarpet"
           }
          ],
          "scattergeo": [
           {
            "marker": {
             "colorbar": {
              "outlinewidth": 0,
              "ticks": ""
             }
            },
            "type": "scattergeo"
           }
          ],
          "scattergl": [
           {
            "marker": {
             "colorbar": {
              "outlinewidth": 0,
              "ticks": ""
             }
            },
            "type": "scattergl"
           }
          ],
          "scattermapbox": [
           {
            "marker": {
             "colorbar": {
              "outlinewidth": 0,
              "ticks": ""
             }
            },
            "type": "scattermapbox"
           }
          ],
          "scatterpolar": [
           {
            "marker": {
             "colorbar": {
              "outlinewidth": 0,
              "ticks": ""
             }
            },
            "type": "scatterpolar"
           }
          ],
          "scatterpolargl": [
           {
            "marker": {
             "colorbar": {
              "outlinewidth": 0,
              "ticks": ""
             }
            },
            "type": "scatterpolargl"
           }
          ],
          "scatterternary": [
           {
            "marker": {
             "colorbar": {
              "outlinewidth": 0,
              "ticks": ""
             }
            },
            "type": "scatterternary"
           }
          ],
          "surface": [
           {
            "colorbar": {
             "outlinewidth": 0,
             "ticks": ""
            },
            "colorscale": [
             [
              0,
              "#0d0887"
             ],
             [
              0.1111111111111111,
              "#46039f"
             ],
             [
              0.2222222222222222,
              "#7201a8"
             ],
             [
              0.3333333333333333,
              "#9c179e"
             ],
             [
              0.4444444444444444,
              "#bd3786"
             ],
             [
              0.5555555555555556,
              "#d8576b"
             ],
             [
              0.6666666666666666,
              "#ed7953"
             ],
             [
              0.7777777777777778,
              "#fb9f3a"
             ],
             [
              0.8888888888888888,
              "#fdca26"
             ],
             [
              1,
              "#f0f921"
             ]
            ],
            "type": "surface"
           }
          ],
          "table": [
           {
            "cells": {
             "fill": {
              "color": "#EBF0F8"
             },
             "line": {
              "color": "white"
             }
            },
            "header": {
             "fill": {
              "color": "#C8D4E3"
             },
             "line": {
              "color": "white"
             }
            },
            "type": "table"
           }
          ]
         },
         "layout": {
          "annotationdefaults": {
           "arrowcolor": "#2a3f5f",
           "arrowhead": 0,
           "arrowwidth": 1
          },
          "autotypenumbers": "strict",
          "coloraxis": {
           "colorbar": {
            "outlinewidth": 0,
            "ticks": ""
           }
          },
          "colorscale": {
           "diverging": [
            [
             0,
             "#8e0152"
            ],
            [
             0.1,
             "#c51b7d"
            ],
            [
             0.2,
             "#de77ae"
            ],
            [
             0.3,
             "#f1b6da"
            ],
            [
             0.4,
             "#fde0ef"
            ],
            [
             0.5,
             "#f7f7f7"
            ],
            [
             0.6,
             "#e6f5d0"
            ],
            [
             0.7,
             "#b8e186"
            ],
            [
             0.8,
             "#7fbc41"
            ],
            [
             0.9,
             "#4d9221"
            ],
            [
             1,
             "#276419"
            ]
           ],
           "sequential": [
            [
             0,
             "#0d0887"
            ],
            [
             0.1111111111111111,
             "#46039f"
            ],
            [
             0.2222222222222222,
             "#7201a8"
            ],
            [
             0.3333333333333333,
             "#9c179e"
            ],
            [
             0.4444444444444444,
             "#bd3786"
            ],
            [
             0.5555555555555556,
             "#d8576b"
            ],
            [
             0.6666666666666666,
             "#ed7953"
            ],
            [
             0.7777777777777778,
             "#fb9f3a"
            ],
            [
             0.8888888888888888,
             "#fdca26"
            ],
            [
             1,
             "#f0f921"
            ]
           ],
           "sequentialminus": [
            [
             0,
             "#0d0887"
            ],
            [
             0.1111111111111111,
             "#46039f"
            ],
            [
             0.2222222222222222,
             "#7201a8"
            ],
            [
             0.3333333333333333,
             "#9c179e"
            ],
            [
             0.4444444444444444,
             "#bd3786"
            ],
            [
             0.5555555555555556,
             "#d8576b"
            ],
            [
             0.6666666666666666,
             "#ed7953"
            ],
            [
             0.7777777777777778,
             "#fb9f3a"
            ],
            [
             0.8888888888888888,
             "#fdca26"
            ],
            [
             1,
             "#f0f921"
            ]
           ]
          },
          "colorway": [
           "#636efa",
           "#EF553B",
           "#00cc96",
           "#ab63fa",
           "#FFA15A",
           "#19d3f3",
           "#FF6692",
           "#B6E880",
           "#FF97FF",
           "#FECB52"
          ],
          "font": {
           "color": "#2a3f5f"
          },
          "geo": {
           "bgcolor": "white",
           "lakecolor": "white",
           "landcolor": "#E5ECF6",
           "showlakes": true,
           "showland": true,
           "subunitcolor": "white"
          },
          "hoverlabel": {
           "align": "left"
          },
          "hovermode": "closest",
          "mapbox": {
           "style": "light"
          },
          "paper_bgcolor": "white",
          "plot_bgcolor": "#E5ECF6",
          "polar": {
           "angularaxis": {
            "gridcolor": "white",
            "linecolor": "white",
            "ticks": ""
           },
           "bgcolor": "#E5ECF6",
           "radialaxis": {
            "gridcolor": "white",
            "linecolor": "white",
            "ticks": ""
           }
          },
          "scene": {
           "xaxis": {
            "backgroundcolor": "#E5ECF6",
            "gridcolor": "white",
            "gridwidth": 2,
            "linecolor": "white",
            "showbackground": true,
            "ticks": "",
            "zerolinecolor": "white"
           },
           "yaxis": {
            "backgroundcolor": "#E5ECF6",
            "gridcolor": "white",
            "gridwidth": 2,
            "linecolor": "white",
            "showbackground": true,
            "ticks": "",
            "zerolinecolor": "white"
           },
           "zaxis": {
            "backgroundcolor": "#E5ECF6",
            "gridcolor": "white",
            "gridwidth": 2,
            "linecolor": "white",
            "showbackground": true,
            "ticks": "",
            "zerolinecolor": "white"
           }
          },
          "shapedefaults": {
           "line": {
            "color": "#2a3f5f"
           }
          },
          "ternary": {
           "aaxis": {
            "gridcolor": "white",
            "linecolor": "white",
            "ticks": ""
           },
           "baxis": {
            "gridcolor": "white",
            "linecolor": "white",
            "ticks": ""
           },
           "bgcolor": "#E5ECF6",
           "caxis": {
            "gridcolor": "white",
            "linecolor": "white",
            "ticks": ""
           }
          },
          "title": {
           "x": 0.05
          },
          "xaxis": {
           "automargin": true,
           "gridcolor": "white",
           "linecolor": "white",
           "ticks": "",
           "title": {
            "standoff": 15
           },
           "zerolinecolor": "white",
           "zerolinewidth": 2
          },
          "yaxis": {
           "automargin": true,
           "gridcolor": "white",
           "linecolor": "white",
           "ticks": "",
           "title": {
            "standoff": 15
           },
           "zerolinecolor": "white",
           "zerolinewidth": 2
          }
         }
        },
        "xaxis": {
         "anchor": "y",
         "domain": [
          0,
          1
         ],
         "title": {
          "text": "price in $"
         }
        },
        "yaxis": {
         "anchor": "x",
         "categoryarray": [
          279,
          1649,
          52,
          240,
          1222,
          33,
          40,
          175,
          256,
          248,
          5,
          38,
          135,
          4,
          8,
          2,
          7,
          6,
          80,
          266,
          21,
          15,
          24,
          13,
          475,
          1,
          72,
          3,
          86,
          436,
          0,
          573,
          981,
          62,
          10,
          117
         ],
         "categoryorder": "array",
         "domain": [
          0,
          1
         ],
         "title": {
          "text": "transactions"
         }
        }
       }
      },
      "text/html": [
       "<div>                            <div id=\"7c9c3906-b2b6-47cc-9c23-0008762bb848\" class=\"plotly-graph-div\" style=\"height:525px; width:100%;\"></div>            <script type=\"text/javascript\">                require([\"plotly\"], function(Plotly) {                    window.PLOTLYENV=window.PLOTLYENV || {};                                    if (document.getElementById(\"7c9c3906-b2b6-47cc-9c23-0008762bb848\")) {                    Plotly.newPlot(                        \"7c9c3906-b2b6-47cc-9c23-0008762bb848\",                        [{\"alignmentgroup\": \"True\", \"boxpoints\": \"all\", \"fillcolor\": \"rgba(255,255,255,0)\", \"hoveron\": \"points\", \"hovertemplate\": \"transactions=%{y}<br>price in $=%{x}<extra></extra>\", \"legendgroup\": \"117\", \"line\": {\"color\": \"rgba(255,255,255,0)\"}, \"marker\": {\"color\": \"#636efa\"}, \"name\": \"117\", \"offsetgroup\": \"117\", \"orientation\": \"v\", \"pointpos\": 0, \"showlegend\": true, \"type\": \"box\", \"x\": [398.74317204301076], \"x0\": \" \", \"xaxis\": \"x\", \"y\": [117], \"y0\": \" \", \"yaxis\": \"y\"}, {\"alignmentgroup\": \"True\", \"boxpoints\": \"all\", \"fillcolor\": \"rgba(255,255,255,0)\", \"hoveron\": \"points\", \"hovertemplate\": \"transactions=%{y}<br>price in $=%{x}<extra></extra>\", \"legendgroup\": \"10\", \"line\": {\"color\": \"rgba(255,255,255,0)\"}, \"marker\": {\"color\": \"#EF553B\"}, \"name\": \"10\", \"offsetgroup\": \"10\", \"orientation\": \"v\", \"pointpos\": 0, \"showlegend\": true, \"type\": \"box\", \"x\": [389.15532374100735], \"x0\": \" \", \"xaxis\": \"x\", \"y\": [10], \"y0\": \" \", \"yaxis\": \"y\"}, {\"alignmentgroup\": \"True\", \"boxpoints\": \"all\", \"fillcolor\": \"rgba(255,255,255,0)\", \"hoveron\": \"points\", \"hovertemplate\": \"transactions=%{y}<br>price in $=%{x}<extra></extra>\", \"legendgroup\": \"62\", \"line\": {\"color\": \"rgba(255,255,255,0)\"}, \"marker\": {\"color\": \"#00cc96\"}, \"name\": \"62\", \"offsetgroup\": \"62\", \"orientation\": \"v\", \"pointpos\": 0, \"showlegend\": true, \"type\": \"box\", \"x\": [341.38818181818175], \"x0\": \" \", \"xaxis\": \"x\", \"y\": [62], \"y0\": \" \", \"yaxis\": \"y\"}, {\"alignmentgroup\": \"True\", \"boxpoints\": \"all\", \"fillcolor\": \"rgba(255,255,255,0)\", \"hoveron\": \"points\", \"hovertemplate\": \"transactions=%{y}<br>price in $=%{x}<extra></extra>\", \"legendgroup\": \"981\", \"line\": {\"color\": \"rgba(255,255,255,0)\"}, \"marker\": {\"color\": \"#ab63fa\"}, \"name\": \"981\", \"offsetgroup\": \"981\", \"orientation\": \"v\", \"pointpos\": 0, \"showlegend\": true, \"type\": \"box\", \"x\": [340.5998019801981], \"x0\": \" \", \"xaxis\": \"x\", \"y\": [981], \"y0\": \" \", \"yaxis\": \"y\"}, {\"alignmentgroup\": \"True\", \"boxpoints\": \"all\", \"fillcolor\": \"rgba(255,255,255,0)\", \"hoveron\": \"points\", \"hovertemplate\": \"transactions=%{y}<br>price in $=%{x}<extra></extra>\", \"legendgroup\": \"573\", \"line\": {\"color\": \"rgba(255,255,255,0)\"}, \"marker\": {\"color\": \"#FFA15A\"}, \"name\": \"573\", \"offsetgroup\": \"573\", \"orientation\": \"v\", \"pointpos\": 0, \"showlegend\": true, \"type\": \"box\", \"x\": [321.36959595959604], \"x0\": \" \", \"xaxis\": \"x\", \"y\": [573], \"y0\": \" \", \"yaxis\": \"y\"}, {\"alignmentgroup\": \"True\", \"boxpoints\": \"all\", \"fillcolor\": \"rgba(255,255,255,0)\", \"hoveron\": \"points\", \"hovertemplate\": \"transactions=%{y}<br>price in $=%{x}<extra></extra>\", \"legendgroup\": \"0\", \"line\": {\"color\": \"rgba(255,255,255,0)\"}, \"marker\": {\"color\": \"#19d3f3\"}, \"name\": \"0\", \"offsetgroup\": \"0\", \"orientation\": \"v\", \"pointpos\": 0, \"showlegend\": true, \"type\": \"box\", \"x\": [300.1695454545453], \"x0\": \" \", \"xaxis\": \"x\", \"y\": [0], \"y0\": \" \", \"yaxis\": \"y\"}, {\"alignmentgroup\": \"True\", \"boxpoints\": \"all\", \"fillcolor\": \"rgba(255,255,255,0)\", \"hoveron\": \"points\", \"hovertemplate\": \"transactions=%{y}<br>price in $=%{x}<extra></extra>\", \"legendgroup\": \"436\", \"line\": {\"color\": \"rgba(255,255,255,0)\"}, \"marker\": {\"color\": \"#FF6692\"}, \"name\": \"436\", \"offsetgroup\": \"436\", \"orientation\": \"v\", \"pointpos\": 0, \"showlegend\": true, \"type\": \"box\", \"x\": [296.70811320754717], \"x0\": \" \", \"xaxis\": \"x\", \"y\": [436], \"y0\": \" \", \"yaxis\": \"y\"}, {\"alignmentgroup\": \"True\", \"boxpoints\": \"all\", \"fillcolor\": \"rgba(255,255,255,0)\", \"hoveron\": \"points\", \"hovertemplate\": \"transactions=%{y}<br>price in $=%{x}<extra></extra>\", \"legendgroup\": \"86\", \"line\": {\"color\": \"rgba(255,255,255,0)\"}, \"marker\": {\"color\": \"#B6E880\"}, \"name\": \"86\", \"offsetgroup\": \"86\", \"orientation\": \"v\", \"pointpos\": 0, \"showlegend\": true, \"type\": \"box\", \"x\": [290.4944690265485], \"x0\": \" \", \"xaxis\": \"x\", \"y\": [86], \"y0\": \" \", \"yaxis\": \"y\"}, {\"alignmentgroup\": \"True\", \"boxpoints\": \"all\", \"fillcolor\": \"rgba(255,255,255,0)\", \"hoveron\": \"points\", \"hovertemplate\": \"transactions=%{y}<br>price in $=%{x}<extra></extra>\", \"legendgroup\": \"3\", \"line\": {\"color\": \"rgba(255,255,255,0)\"}, \"marker\": {\"color\": \"#FF97FF\"}, \"name\": \"3\", \"offsetgroup\": \"3\", \"orientation\": \"v\", \"pointpos\": 0, \"showlegend\": true, \"type\": \"box\", \"x\": [281.86896634615385], \"x0\": \" \", \"xaxis\": \"x\", \"y\": [3], \"y0\": \" \", \"yaxis\": \"y\"}, {\"alignmentgroup\": \"True\", \"boxpoints\": \"all\", \"fillcolor\": \"rgba(255,255,255,0)\", \"hoveron\": \"points\", \"hovertemplate\": \"transactions=%{y}<br>price in $=%{x}<extra></extra>\", \"legendgroup\": \"72\", \"line\": {\"color\": \"rgba(255,255,255,0)\"}, \"marker\": {\"color\": \"#FECB52\"}, \"name\": \"72\", \"offsetgroup\": \"72\", \"orientation\": \"v\", \"pointpos\": 0, \"showlegend\": true, \"type\": \"box\", \"x\": [278.06847328244277], \"x0\": \" \", \"xaxis\": \"x\", \"y\": [72], \"y0\": \" \", \"yaxis\": \"y\"}, {\"alignmentgroup\": \"True\", \"boxpoints\": \"all\", \"fillcolor\": \"rgba(255,255,255,0)\", \"hoveron\": \"points\", \"hovertemplate\": \"transactions=%{y}<br>price in $=%{x}<extra></extra>\", \"legendgroup\": \"1\", \"line\": {\"color\": \"rgba(255,255,255,0)\"}, \"marker\": {\"color\": \"#636efa\"}, \"name\": \"1\", \"offsetgroup\": \"1\", \"orientation\": \"v\", \"pointpos\": 0, \"showlegend\": true, \"type\": \"box\", \"x\": [273.8016504854368], \"x0\": \" \", \"xaxis\": \"x\", \"y\": [1], \"y0\": \" \", \"yaxis\": \"y\"}, {\"alignmentgroup\": \"True\", \"boxpoints\": \"all\", \"fillcolor\": \"rgba(255,255,255,0)\", \"hoveron\": \"points\", \"hovertemplate\": \"transactions=%{y}<br>price in $=%{x}<extra></extra>\", \"legendgroup\": \"475\", \"line\": {\"color\": \"rgba(255,255,255,0)\"}, \"marker\": {\"color\": \"#EF553B\"}, \"name\": \"475\", \"offsetgroup\": \"475\", \"orientation\": \"v\", \"pointpos\": 0, \"showlegend\": true, \"type\": \"box\", \"x\": [263.7325888324874], \"x0\": \" \", \"xaxis\": \"x\", \"y\": [475], \"y0\": \" \", \"yaxis\": \"y\"}, {\"alignmentgroup\": \"True\", \"boxpoints\": \"all\", \"fillcolor\": \"rgba(255,255,255,0)\", \"hoveron\": \"points\", \"hovertemplate\": \"transactions=%{y}<br>price in $=%{x}<extra></extra>\", \"legendgroup\": \"13\", \"line\": {\"color\": \"rgba(255,255,255,0)\"}, \"marker\": {\"color\": \"#00cc96\"}, \"name\": \"13\", \"offsetgroup\": \"13\", \"orientation\": \"v\", \"pointpos\": 0, \"showlegend\": true, \"type\": \"box\", \"x\": [263.5479090909091], \"x0\": \" \", \"xaxis\": \"x\", \"y\": [13], \"y0\": \" \", \"yaxis\": \"y\"}, {\"alignmentgroup\": \"True\", \"boxpoints\": \"all\", \"fillcolor\": \"rgba(255,255,255,0)\", \"hoveron\": \"points\", \"hovertemplate\": \"transactions=%{y}<br>price in $=%{x}<extra></extra>\", \"legendgroup\": \"24\", \"line\": {\"color\": \"rgba(255,255,255,0)\"}, \"marker\": {\"color\": \"#ab63fa\"}, \"name\": \"24\", \"offsetgroup\": \"24\", \"orientation\": \"v\", \"pointpos\": 0, \"showlegend\": true, \"type\": \"box\", \"x\": [257.9946938775511], \"x0\": \" \", \"xaxis\": \"x\", \"y\": [24], \"y0\": \" \", \"yaxis\": \"y\"}, {\"alignmentgroup\": \"True\", \"boxpoints\": \"all\", \"fillcolor\": \"rgba(255,255,255,0)\", \"hoveron\": \"points\", \"hovertemplate\": \"transactions=%{y}<br>price in $=%{x}<extra></extra>\", \"legendgroup\": \"15\", \"line\": {\"color\": \"rgba(255,255,255,0)\"}, \"marker\": {\"color\": \"#FFA15A\"}, \"name\": \"15\", \"offsetgroup\": \"15\", \"orientation\": \"v\", \"pointpos\": 0, \"showlegend\": true, \"type\": \"box\", \"x\": [253.68611650485457], \"x0\": \" \", \"xaxis\": \"x\", \"y\": [15], \"y0\": \" \", \"yaxis\": \"y\"}, {\"alignmentgroup\": \"True\", \"boxpoints\": \"all\", \"fillcolor\": \"rgba(255,255,255,0)\", \"hoveron\": \"points\", \"hovertemplate\": \"transactions=%{y}<br>price in $=%{x}<extra></extra>\", \"legendgroup\": \"21\", \"line\": {\"color\": \"rgba(255,255,255,0)\"}, \"marker\": {\"color\": \"#19d3f3\"}, \"name\": \"21\", \"offsetgroup\": \"21\", \"orientation\": \"v\", \"pointpos\": 0, \"showlegend\": true, \"type\": \"box\", \"x\": [218.83643835616442], \"x0\": \" \", \"xaxis\": \"x\", \"y\": [21], \"y0\": \" \", \"yaxis\": \"y\"}, {\"alignmentgroup\": \"True\", \"boxpoints\": \"all\", \"fillcolor\": \"rgba(255,255,255,0)\", \"hoveron\": \"points\", \"hovertemplate\": \"transactions=%{y}<br>price in $=%{x}<extra></extra>\", \"legendgroup\": \"266\", \"line\": {\"color\": \"rgba(255,255,255,0)\"}, \"marker\": {\"color\": \"#FF6692\"}, \"name\": \"266\", \"offsetgroup\": \"266\", \"orientation\": \"v\", \"pointpos\": 0, \"showlegend\": true, \"type\": \"box\", \"x\": [208.9132773109244], \"x0\": \" \", \"xaxis\": \"x\", \"y\": [266], \"y0\": \" \", \"yaxis\": \"y\"}, {\"alignmentgroup\": \"True\", \"boxpoints\": \"all\", \"fillcolor\": \"rgba(255,255,255,0)\", \"hoveron\": \"points\", \"hovertemplate\": \"transactions=%{y}<br>price in $=%{x}<extra></extra>\", \"legendgroup\": \"80\", \"line\": {\"color\": \"rgba(255,255,255,0)\"}, \"marker\": {\"color\": \"#B6E880\"}, \"name\": \"80\", \"offsetgroup\": \"80\", \"orientation\": \"v\", \"pointpos\": 0, \"showlegend\": true, \"type\": \"box\", \"x\": [197.36612903225807], \"x0\": \" \", \"xaxis\": \"x\", \"y\": [80], \"y0\": \" \", \"yaxis\": \"y\"}, {\"alignmentgroup\": \"True\", \"boxpoints\": \"all\", \"fillcolor\": \"rgba(255,255,255,0)\", \"hoveron\": \"points\", \"hovertemplate\": \"transactions=%{y}<br>price in $=%{x}<extra></extra>\", \"legendgroup\": \"6\", \"line\": {\"color\": \"rgba(255,255,255,0)\"}, \"marker\": {\"color\": \"#FF97FF\"}, \"name\": \"6\", \"offsetgroup\": \"6\", \"orientation\": \"v\", \"pointpos\": 0, \"showlegend\": true, \"type\": \"box\", \"x\": [190.6990476190475], \"x0\": \" \", \"xaxis\": \"x\", \"y\": [6], \"y0\": \" \", \"yaxis\": \"y\"}, {\"alignmentgroup\": \"True\", \"boxpoints\": \"all\", \"fillcolor\": \"rgba(255,255,255,0)\", \"hoveron\": \"points\", \"hovertemplate\": \"transactions=%{y}<br>price in $=%{x}<extra></extra>\", \"legendgroup\": \"7\", \"line\": {\"color\": \"rgba(255,255,255,0)\"}, \"marker\": {\"color\": \"#FECB52\"}, \"name\": \"7\", \"offsetgroup\": \"7\", \"orientation\": \"v\", \"pointpos\": 0, \"showlegend\": true, \"type\": \"box\", \"x\": [189.18692982456145], \"x0\": \" \", \"xaxis\": \"x\", \"y\": [7], \"y0\": \" \", \"yaxis\": \"y\"}, {\"alignmentgroup\": \"True\", \"boxpoints\": \"all\", \"fillcolor\": \"rgba(255,255,255,0)\", \"hoveron\": \"points\", \"hovertemplate\": \"transactions=%{y}<br>price in $=%{x}<extra></extra>\", \"legendgroup\": \"2\", \"line\": {\"color\": \"rgba(255,255,255,0)\"}, \"marker\": {\"color\": \"#636efa\"}, \"name\": \"2\", \"offsetgroup\": \"2\", \"orientation\": \"v\", \"pointpos\": 0, \"showlegend\": true, \"type\": \"box\", \"x\": [187.92038834951458], \"x0\": \" \", \"xaxis\": \"x\", \"y\": [2], \"y0\": \" \", \"yaxis\": \"y\"}, {\"alignmentgroup\": \"True\", \"boxpoints\": \"all\", \"fillcolor\": \"rgba(255,255,255,0)\", \"hoveron\": \"points\", \"hovertemplate\": \"transactions=%{y}<br>price in $=%{x}<extra></extra>\", \"legendgroup\": \"8\", \"line\": {\"color\": \"rgba(255,255,255,0)\"}, \"marker\": {\"color\": \"#EF553B\"}, \"name\": \"8\", \"offsetgroup\": \"8\", \"orientation\": \"v\", \"pointpos\": 0, \"showlegend\": true, \"type\": \"box\", \"x\": [185.63287769784168], \"x0\": \" \", \"xaxis\": \"x\", \"y\": [8], \"y0\": \" \", \"yaxis\": \"y\"}, {\"alignmentgroup\": \"True\", \"boxpoints\": \"all\", \"fillcolor\": \"rgba(255,255,255,0)\", \"hoveron\": \"points\", \"hovertemplate\": \"transactions=%{y}<br>price in $=%{x}<extra></extra>\", \"legendgroup\": \"4\", \"line\": {\"color\": \"rgba(255,255,255,0)\"}, \"marker\": {\"color\": \"#00cc96\"}, \"name\": \"4\", \"offsetgroup\": \"4\", \"orientation\": \"v\", \"pointpos\": 0, \"showlegend\": true, \"type\": \"box\", \"x\": [185.0484680851064], \"x0\": \" \", \"xaxis\": \"x\", \"y\": [4], \"y0\": \" \", \"yaxis\": \"y\"}, {\"alignmentgroup\": \"True\", \"boxpoints\": \"all\", \"fillcolor\": \"rgba(255,255,255,0)\", \"hoveron\": \"points\", \"hovertemplate\": \"transactions=%{y}<br>price in $=%{x}<extra></extra>\", \"legendgroup\": \"135\", \"line\": {\"color\": \"rgba(255,255,255,0)\"}, \"marker\": {\"color\": \"#ab63fa\"}, \"name\": \"135\", \"offsetgroup\": \"135\", \"orientation\": \"v\", \"pointpos\": 0, \"showlegend\": true, \"type\": \"box\", \"x\": [174.17894230769227], \"x0\": \" \", \"xaxis\": \"x\", \"y\": [135], \"y0\": \" \", \"yaxis\": \"y\"}, {\"alignmentgroup\": \"True\", \"boxpoints\": \"all\", \"fillcolor\": \"rgba(255,255,255,0)\", \"hoveron\": \"points\", \"hovertemplate\": \"transactions=%{y}<br>price in $=%{x}<extra></extra>\", \"legendgroup\": \"38\", \"line\": {\"color\": \"rgba(255,255,255,0)\"}, \"marker\": {\"color\": \"#FFA15A\"}, \"name\": \"38\", \"offsetgroup\": \"38\", \"orientation\": \"v\", \"pointpos\": 0, \"showlegend\": true, \"type\": \"box\", \"x\": [155.89512820512817], \"x0\": \" \", \"xaxis\": \"x\", \"y\": [38], \"y0\": \" \", \"yaxis\": \"y\"}, {\"alignmentgroup\": \"True\", \"boxpoints\": \"all\", \"fillcolor\": \"rgba(255,255,255,0)\", \"hoveron\": \"points\", \"hovertemplate\": \"transactions=%{y}<br>price in $=%{x}<extra></extra>\", \"legendgroup\": \"5\", \"line\": {\"color\": \"rgba(255,255,255,0)\"}, \"marker\": {\"color\": \"#19d3f3\"}, \"name\": \"5\", \"offsetgroup\": \"5\", \"orientation\": \"v\", \"pointpos\": 0, \"showlegend\": true, \"type\": \"box\", \"x\": [124.82918367346936], \"x0\": \" \", \"xaxis\": \"x\", \"y\": [5], \"y0\": \" \", \"yaxis\": \"y\"}, {\"alignmentgroup\": \"True\", \"boxpoints\": \"all\", \"fillcolor\": \"rgba(255,255,255,0)\", \"hoveron\": \"points\", \"hovertemplate\": \"transactions=%{y}<br>price in $=%{x}<extra></extra>\", \"legendgroup\": \"248\", \"line\": {\"color\": \"rgba(255,255,255,0)\"}, \"marker\": {\"color\": \"#FF6692\"}, \"name\": \"248\", \"offsetgroup\": \"248\", \"orientation\": \"v\", \"pointpos\": 0, \"showlegend\": true, \"type\": \"box\", \"x\": [124.4353781512605], \"x0\": \" \", \"xaxis\": \"x\", \"y\": [248], \"y0\": \" \", \"yaxis\": \"y\"}, {\"alignmentgroup\": \"True\", \"boxpoints\": \"all\", \"fillcolor\": \"rgba(255,255,255,0)\", \"hoveron\": \"points\", \"hovertemplate\": \"transactions=%{y}<br>price in $=%{x}<extra></extra>\", \"legendgroup\": \"256\", \"line\": {\"color\": \"rgba(255,255,255,0)\"}, \"marker\": {\"color\": \"#B6E880\"}, \"name\": \"256\", \"offsetgroup\": \"256\", \"orientation\": \"v\", \"pointpos\": 0, \"showlegend\": true, \"type\": \"box\", \"x\": [118.71056910569105], \"x0\": \" \", \"xaxis\": \"x\", \"y\": [256], \"y0\": \" \", \"yaxis\": \"y\"}, {\"alignmentgroup\": \"True\", \"boxpoints\": \"all\", \"fillcolor\": \"rgba(255,255,255,0)\", \"hoveron\": \"points\", \"hovertemplate\": \"transactions=%{y}<br>price in $=%{x}<extra></extra>\", \"legendgroup\": \"175\", \"line\": {\"color\": \"rgba(255,255,255,0)\"}, \"marker\": {\"color\": \"#FF97FF\"}, \"name\": \"175\", \"offsetgroup\": \"175\", \"orientation\": \"v\", \"pointpos\": 0, \"showlegend\": true, \"type\": \"box\", \"x\": [118.01084745762711], \"x0\": \" \", \"xaxis\": \"x\", \"y\": [175], \"y0\": \" \", \"yaxis\": \"y\"}, {\"alignmentgroup\": \"True\", \"boxpoints\": \"all\", \"fillcolor\": \"rgba(255,255,255,0)\", \"hoveron\": \"points\", \"hovertemplate\": \"transactions=%{y}<br>price in $=%{x}<extra></extra>\", \"legendgroup\": \"40\", \"line\": {\"color\": \"rgba(255,255,255,0)\"}, \"marker\": {\"color\": \"#FECB52\"}, \"name\": \"40\", \"offsetgroup\": \"40\", \"orientation\": \"v\", \"pointpos\": 0, \"showlegend\": true, \"type\": \"box\", \"x\": [101.44990384615382], \"x0\": \" \", \"xaxis\": \"x\", \"y\": [40], \"y0\": \" \", \"yaxis\": \"y\"}, {\"alignmentgroup\": \"True\", \"boxpoints\": \"all\", \"fillcolor\": \"rgba(255,255,255,0)\", \"hoveron\": \"points\", \"hovertemplate\": \"transactions=%{y}<br>price in $=%{x}<extra></extra>\", \"legendgroup\": \"33\", \"line\": {\"color\": \"rgba(255,255,255,0)\"}, \"marker\": {\"color\": \"#636efa\"}, \"name\": \"33\", \"offsetgroup\": \"33\", \"orientation\": \"v\", \"pointpos\": 0, \"showlegend\": true, \"type\": \"box\", \"x\": [94.87199999999997], \"x0\": \" \", \"xaxis\": \"x\", \"y\": [33], \"y0\": \" \", \"yaxis\": \"y\"}, {\"alignmentgroup\": \"True\", \"boxpoints\": \"all\", \"fillcolor\": \"rgba(255,255,255,0)\", \"hoveron\": \"points\", \"hovertemplate\": \"transactions=%{y}<br>price in $=%{x}<extra></extra>\", \"legendgroup\": \"1222\", \"line\": {\"color\": \"rgba(255,255,255,0)\"}, \"marker\": {\"color\": \"#EF553B\"}, \"name\": \"1222\", \"offsetgroup\": \"1222\", \"orientation\": \"v\", \"pointpos\": 0, \"showlegend\": true, \"type\": \"box\", \"x\": [90.44696000000003], \"x0\": \" \", \"xaxis\": \"x\", \"y\": [1222], \"y0\": \" \", \"yaxis\": \"y\"}, {\"alignmentgroup\": \"True\", \"boxpoints\": \"all\", \"fillcolor\": \"rgba(255,255,255,0)\", \"hoveron\": \"points\", \"hovertemplate\": \"transactions=%{y}<br>price in $=%{x}<extra></extra>\", \"legendgroup\": \"240\", \"line\": {\"color\": \"rgba(255,255,255,0)\"}, \"marker\": {\"color\": \"#00cc96\"}, \"name\": \"240\", \"offsetgroup\": \"240\", \"orientation\": \"v\", \"pointpos\": 0, \"showlegend\": true, \"type\": \"box\", \"x\": [90.09040983606558], \"x0\": \" \", \"xaxis\": \"x\", \"y\": [240], \"y0\": \" \", \"yaxis\": \"y\"}, {\"alignmentgroup\": \"True\", \"boxpoints\": \"all\", \"fillcolor\": \"rgba(255,255,255,0)\", \"hoveron\": \"points\", \"hovertemplate\": \"transactions=%{y}<br>price in $=%{x}<extra></extra>\", \"legendgroup\": \"52\", \"line\": {\"color\": \"rgba(255,255,255,0)\"}, \"marker\": {\"color\": \"#ab63fa\"}, \"name\": \"52\", \"offsetgroup\": \"52\", \"orientation\": \"v\", \"pointpos\": 0, \"showlegend\": true, \"type\": \"box\", \"x\": [88.48425373134329], \"x0\": \" \", \"xaxis\": \"x\", \"y\": [52], \"y0\": \" \", \"yaxis\": \"y\"}, {\"alignmentgroup\": \"True\", \"boxpoints\": \"all\", \"fillcolor\": \"rgba(255,255,255,0)\", \"hoveron\": \"points\", \"hovertemplate\": \"transactions=%{y}<br>price in $=%{x}<extra></extra>\", \"legendgroup\": \"1649\", \"line\": {\"color\": \"rgba(255,255,255,0)\"}, \"marker\": {\"color\": \"#FFA15A\"}, \"name\": \"1649\", \"offsetgroup\": \"1649\", \"orientation\": \"v\", \"pointpos\": 0, \"showlegend\": true, \"type\": \"box\", \"x\": [85.32317073170732], \"x0\": \" \", \"xaxis\": \"x\", \"y\": [1649], \"y0\": \" \", \"yaxis\": \"y\"}, {\"alignmentgroup\": \"True\", \"boxpoints\": \"all\", \"fillcolor\": \"rgba(255,255,255,0)\", \"hoveron\": \"points\", \"hovertemplate\": \"transactions=%{y}<br>price in $=%{x}<extra></extra>\", \"legendgroup\": \"279\", \"line\": {\"color\": \"rgba(255,255,255,0)\"}, \"marker\": {\"color\": \"#19d3f3\"}, \"name\": \"279\", \"offsetgroup\": \"279\", \"orientation\": \"v\", \"pointpos\": 0, \"showlegend\": true, \"type\": \"box\", \"x\": [72.98006993006996], \"x0\": \" \", \"xaxis\": \"x\", \"y\": [279], \"y0\": \" \", \"yaxis\": \"y\"}],                        {\"boxmode\": \"group\", \"legend\": {\"title\": {\"text\": \"transactions\"}, \"tracegroupgap\": 0}, \"margin\": {\"t\": 60}, \"template\": {\"data\": {\"bar\": [{\"error_x\": {\"color\": \"#2a3f5f\"}, \"error_y\": {\"color\": \"#2a3f5f\"}, \"marker\": {\"line\": {\"color\": \"#E5ECF6\", \"width\": 0.5}}, \"type\": \"bar\"}], \"barpolar\": [{\"marker\": {\"line\": {\"color\": \"#E5ECF6\", \"width\": 0.5}}, \"type\": \"barpolar\"}], \"carpet\": [{\"aaxis\": {\"endlinecolor\": \"#2a3f5f\", \"gridcolor\": \"white\", \"linecolor\": \"white\", \"minorgridcolor\": \"white\", \"startlinecolor\": \"#2a3f5f\"}, \"baxis\": {\"endlinecolor\": \"#2a3f5f\", \"gridcolor\": \"white\", \"linecolor\": \"white\", \"minorgridcolor\": \"white\", \"startlinecolor\": \"#2a3f5f\"}, \"type\": \"carpet\"}], \"choropleth\": [{\"colorbar\": {\"outlinewidth\": 0, \"ticks\": \"\"}, \"type\": \"choropleth\"}], \"contour\": [{\"colorbar\": {\"outlinewidth\": 0, \"ticks\": \"\"}, \"colorscale\": [[0.0, \"#0d0887\"], [0.1111111111111111, \"#46039f\"], [0.2222222222222222, \"#7201a8\"], [0.3333333333333333, \"#9c179e\"], [0.4444444444444444, \"#bd3786\"], [0.5555555555555556, \"#d8576b\"], [0.6666666666666666, \"#ed7953\"], [0.7777777777777778, \"#fb9f3a\"], [0.8888888888888888, \"#fdca26\"], [1.0, \"#f0f921\"]], \"type\": \"contour\"}], \"contourcarpet\": [{\"colorbar\": {\"outlinewidth\": 0, \"ticks\": \"\"}, \"type\": \"contourcarpet\"}], \"heatmap\": [{\"colorbar\": {\"outlinewidth\": 0, \"ticks\": \"\"}, \"colorscale\": [[0.0, \"#0d0887\"], [0.1111111111111111, \"#46039f\"], [0.2222222222222222, \"#7201a8\"], [0.3333333333333333, \"#9c179e\"], [0.4444444444444444, \"#bd3786\"], [0.5555555555555556, \"#d8576b\"], [0.6666666666666666, \"#ed7953\"], [0.7777777777777778, \"#fb9f3a\"], [0.8888888888888888, \"#fdca26\"], [1.0, \"#f0f921\"]], \"type\": \"heatmap\"}], \"heatmapgl\": [{\"colorbar\": {\"outlinewidth\": 0, \"ticks\": \"\"}, \"colorscale\": [[0.0, \"#0d0887\"], [0.1111111111111111, \"#46039f\"], [0.2222222222222222, \"#7201a8\"], [0.3333333333333333, \"#9c179e\"], [0.4444444444444444, \"#bd3786\"], [0.5555555555555556, \"#d8576b\"], [0.6666666666666666, \"#ed7953\"], [0.7777777777777778, \"#fb9f3a\"], [0.8888888888888888, \"#fdca26\"], [1.0, \"#f0f921\"]], \"type\": \"heatmapgl\"}], \"histogram\": [{\"marker\": {\"colorbar\": {\"outlinewidth\": 0, \"ticks\": \"\"}}, \"type\": \"histogram\"}], \"histogram2d\": [{\"colorbar\": {\"outlinewidth\": 0, \"ticks\": \"\"}, \"colorscale\": [[0.0, \"#0d0887\"], [0.1111111111111111, \"#46039f\"], [0.2222222222222222, \"#7201a8\"], [0.3333333333333333, \"#9c179e\"], [0.4444444444444444, \"#bd3786\"], [0.5555555555555556, \"#d8576b\"], [0.6666666666666666, \"#ed7953\"], [0.7777777777777778, \"#fb9f3a\"], [0.8888888888888888, \"#fdca26\"], [1.0, \"#f0f921\"]], \"type\": \"histogram2d\"}], \"histogram2dcontour\": [{\"colorbar\": {\"outlinewidth\": 0, \"ticks\": \"\"}, \"colorscale\": [[0.0, \"#0d0887\"], [0.1111111111111111, \"#46039f\"], [0.2222222222222222, \"#7201a8\"], [0.3333333333333333, \"#9c179e\"], [0.4444444444444444, \"#bd3786\"], [0.5555555555555556, \"#d8576b\"], [0.6666666666666666, \"#ed7953\"], [0.7777777777777778, \"#fb9f3a\"], [0.8888888888888888, \"#fdca26\"], [1.0, \"#f0f921\"]], \"type\": \"histogram2dcontour\"}], \"mesh3d\": [{\"colorbar\": {\"outlinewidth\": 0, \"ticks\": \"\"}, \"type\": \"mesh3d\"}], \"parcoords\": [{\"line\": {\"colorbar\": {\"outlinewidth\": 0, \"ticks\": \"\"}}, \"type\": \"parcoords\"}], \"pie\": [{\"automargin\": true, \"type\": \"pie\"}], \"scatter\": [{\"marker\": {\"colorbar\": {\"outlinewidth\": 0, \"ticks\": \"\"}}, \"type\": \"scatter\"}], \"scatter3d\": [{\"line\": {\"colorbar\": {\"outlinewidth\": 0, \"ticks\": \"\"}}, \"marker\": {\"colorbar\": {\"outlinewidth\": 0, \"ticks\": \"\"}}, \"type\": \"scatter3d\"}], \"scattercarpet\": [{\"marker\": {\"colorbar\": {\"outlinewidth\": 0, \"ticks\": \"\"}}, \"type\": \"scattercarpet\"}], \"scattergeo\": [{\"marker\": {\"colorbar\": {\"outlinewidth\": 0, \"ticks\": \"\"}}, \"type\": \"scattergeo\"}], \"scattergl\": [{\"marker\": {\"colorbar\": {\"outlinewidth\": 0, \"ticks\": \"\"}}, \"type\": \"scattergl\"}], \"scattermapbox\": [{\"marker\": {\"colorbar\": {\"outlinewidth\": 0, \"ticks\": \"\"}}, \"type\": \"scattermapbox\"}], \"scatterpolar\": [{\"marker\": {\"colorbar\": {\"outlinewidth\": 0, \"ticks\": \"\"}}, \"type\": \"scatterpolar\"}], \"scatterpolargl\": [{\"marker\": {\"colorbar\": {\"outlinewidth\": 0, \"ticks\": \"\"}}, \"type\": \"scatterpolargl\"}], \"scatterternary\": [{\"marker\": {\"colorbar\": {\"outlinewidth\": 0, \"ticks\": \"\"}}, \"type\": \"scatterternary\"}], \"surface\": [{\"colorbar\": {\"outlinewidth\": 0, \"ticks\": \"\"}, \"colorscale\": [[0.0, \"#0d0887\"], [0.1111111111111111, \"#46039f\"], [0.2222222222222222, \"#7201a8\"], [0.3333333333333333, \"#9c179e\"], [0.4444444444444444, \"#bd3786\"], [0.5555555555555556, \"#d8576b\"], [0.6666666666666666, \"#ed7953\"], [0.7777777777777778, \"#fb9f3a\"], [0.8888888888888888, \"#fdca26\"], [1.0, \"#f0f921\"]], \"type\": \"surface\"}], \"table\": [{\"cells\": {\"fill\": {\"color\": \"#EBF0F8\"}, \"line\": {\"color\": \"white\"}}, \"header\": {\"fill\": {\"color\": \"#C8D4E3\"}, \"line\": {\"color\": \"white\"}}, \"type\": \"table\"}]}, \"layout\": {\"annotationdefaults\": {\"arrowcolor\": \"#2a3f5f\", \"arrowhead\": 0, \"arrowwidth\": 1}, \"autotypenumbers\": \"strict\", \"coloraxis\": {\"colorbar\": {\"outlinewidth\": 0, \"ticks\": \"\"}}, \"colorscale\": {\"diverging\": [[0, \"#8e0152\"], [0.1, \"#c51b7d\"], [0.2, \"#de77ae\"], [0.3, \"#f1b6da\"], [0.4, \"#fde0ef\"], [0.5, \"#f7f7f7\"], [0.6, \"#e6f5d0\"], [0.7, \"#b8e186\"], [0.8, \"#7fbc41\"], [0.9, \"#4d9221\"], [1, \"#276419\"]], \"sequential\": [[0.0, \"#0d0887\"], [0.1111111111111111, \"#46039f\"], [0.2222222222222222, \"#7201a8\"], [0.3333333333333333, \"#9c179e\"], [0.4444444444444444, \"#bd3786\"], [0.5555555555555556, \"#d8576b\"], [0.6666666666666666, \"#ed7953\"], [0.7777777777777778, \"#fb9f3a\"], [0.8888888888888888, \"#fdca26\"], [1.0, \"#f0f921\"]], \"sequentialminus\": [[0.0, \"#0d0887\"], [0.1111111111111111, \"#46039f\"], [0.2222222222222222, \"#7201a8\"], [0.3333333333333333, \"#9c179e\"], [0.4444444444444444, \"#bd3786\"], [0.5555555555555556, \"#d8576b\"], [0.6666666666666666, \"#ed7953\"], [0.7777777777777778, \"#fb9f3a\"], [0.8888888888888888, \"#fdca26\"], [1.0, \"#f0f921\"]]}, \"colorway\": [\"#636efa\", \"#EF553B\", \"#00cc96\", \"#ab63fa\", \"#FFA15A\", \"#19d3f3\", \"#FF6692\", \"#B6E880\", \"#FF97FF\", \"#FECB52\"], \"font\": {\"color\": \"#2a3f5f\"}, \"geo\": {\"bgcolor\": \"white\", \"lakecolor\": \"white\", \"landcolor\": \"#E5ECF6\", \"showlakes\": true, \"showland\": true, \"subunitcolor\": \"white\"}, \"hoverlabel\": {\"align\": \"left\"}, \"hovermode\": \"closest\", \"mapbox\": {\"style\": \"light\"}, \"paper_bgcolor\": \"white\", \"plot_bgcolor\": \"#E5ECF6\", \"polar\": {\"angularaxis\": {\"gridcolor\": \"white\", \"linecolor\": \"white\", \"ticks\": \"\"}, \"bgcolor\": \"#E5ECF6\", \"radialaxis\": {\"gridcolor\": \"white\", \"linecolor\": \"white\", \"ticks\": \"\"}}, \"scene\": {\"xaxis\": {\"backgroundcolor\": \"#E5ECF6\", \"gridcolor\": \"white\", \"gridwidth\": 2, \"linecolor\": \"white\", \"showbackground\": true, \"ticks\": \"\", \"zerolinecolor\": \"white\"}, \"yaxis\": {\"backgroundcolor\": \"#E5ECF6\", \"gridcolor\": \"white\", \"gridwidth\": 2, \"linecolor\": \"white\", \"showbackground\": true, \"ticks\": \"\", \"zerolinecolor\": \"white\"}, \"zaxis\": {\"backgroundcolor\": \"#E5ECF6\", \"gridcolor\": \"white\", \"gridwidth\": 2, \"linecolor\": \"white\", \"showbackground\": true, \"ticks\": \"\", \"zerolinecolor\": \"white\"}}, \"shapedefaults\": {\"line\": {\"color\": \"#2a3f5f\"}}, \"ternary\": {\"aaxis\": {\"gridcolor\": \"white\", \"linecolor\": \"white\", \"ticks\": \"\"}, \"baxis\": {\"gridcolor\": \"white\", \"linecolor\": \"white\", \"ticks\": \"\"}, \"bgcolor\": \"#E5ECF6\", \"caxis\": {\"gridcolor\": \"white\", \"linecolor\": \"white\", \"ticks\": \"\"}}, \"title\": {\"x\": 0.05}, \"xaxis\": {\"automargin\": true, \"gridcolor\": \"white\", \"linecolor\": \"white\", \"ticks\": \"\", \"title\": {\"standoff\": 15}, \"zerolinecolor\": \"white\", \"zerolinewidth\": 2}, \"yaxis\": {\"automargin\": true, \"gridcolor\": \"white\", \"linecolor\": \"white\", \"ticks\": \"\", \"title\": {\"standoff\": 15}, \"zerolinecolor\": \"white\", \"zerolinewidth\": 2}}}, \"xaxis\": {\"anchor\": \"y\", \"domain\": [0.0, 1.0], \"title\": {\"text\": \"price in $\"}}, \"yaxis\": {\"anchor\": \"x\", \"categoryarray\": [279, 1649, 52, 240, 1222, 33, 40, 175, 256, 248, 5, 38, 135, 4, 8, 2, 7, 6, 80, 266, 21, 15, 24, 13, 475, 1, 72, 3, 86, 436, 0, 573, 981, 62, 10, 117], \"categoryorder\": \"array\", \"domain\": [0.0, 1.0], \"title\": {\"text\": \"transactions\"}}},                        {\"responsive\": true}                    ).then(function(){\n",
       "                            \n",
       "var gd = document.getElementById('7c9c3906-b2b6-47cc-9c23-0008762bb848');\n",
       "var x = new MutationObserver(function (mutations, observer) {{\n",
       "        var display = window.getComputedStyle(gd).display;\n",
       "        if (!display || display === 'none') {{\n",
       "            console.log([gd, 'removed!']);\n",
       "            Plotly.purge(gd);\n",
       "            observer.disconnect();\n",
       "        }}\n",
       "}});\n",
       "\n",
       "// Listen for the removal of the full notebook cells\n",
       "var notebookContainer = gd.closest('#notebook-container');\n",
       "if (notebookContainer) {{\n",
       "    x.observe(notebookContainer, {childList: true});\n",
       "}}\n",
       "\n",
       "// Listen for the clearing of the current output cell\n",
       "var outputEl = gd.closest('.output');\n",
       "if (outputEl) {{\n",
       "    x.observe(outputEl, {childList: true});\n",
       "}}\n",
       "\n",
       "                        })                };                });            </script>        </div>"
      ]
     },
     "metadata": {},
     "output_type": "display_data"
    }
   ],
   "source": [
    "plot_category_wise('transactions')"
   ]
  },
  {
   "cell_type": "code",
   "execution_count": 70,
   "id": "ranging-burst",
   "metadata": {
    "scrolled": false
   },
   "outputs": [
    {
     "data": {
      "application/vnd.plotly.v1+json": {
       "config": {
        "plotlyServerURL": "https://plot.ly"
       },
       "data": [
        {
         "alignmentgroup": "True",
         "boxpoints": "all",
         "fillcolor": "rgba(255,255,255,0)",
         "hoveron": "points",
         "hovertemplate": "feedback_total=%{y}<br>price in $=%{x}<extra></extra>",
         "legendgroup": "41",
         "line": {
          "color": "rgba(255,255,255,0)"
         },
         "marker": {
          "color": "#636efa"
         },
         "name": "41",
         "offsetgroup": "41",
         "orientation": "v",
         "pointpos": 0,
         "showlegend": true,
         "type": "box",
         "x": [
          455.9684105960264
         ],
         "x0": " ",
         "xaxis": "x",
         "y": [
          41
         ],
         "y0": " ",
         "yaxis": "y"
        },
        {
         "alignmentgroup": "True",
         "boxpoints": "all",
         "fillcolor": "rgba(255,255,255,0)",
         "hoveron": "points",
         "hovertemplate": "feedback_total=%{y}<br>price in $=%{x}<extra></extra>",
         "legendgroup": "31",
         "line": {
          "color": "rgba(255,255,255,0)"
         },
         "marker": {
          "color": "#EF553B"
         },
         "name": "31",
         "offsetgroup": "31",
         "orientation": "v",
         "pointpos": 0,
         "showlegend": true,
         "type": "box",
         "x": [
          352.6466666666667
         ],
         "x0": " ",
         "xaxis": "x",
         "y": [
          31
         ],
         "y0": " ",
         "yaxis": "y"
        },
        {
         "alignmentgroup": "True",
         "boxpoints": "all",
         "fillcolor": "rgba(255,255,255,0)",
         "hoveron": "points",
         "hovertemplate": "feedback_total=%{y}<br>price in $=%{x}<extra></extra>",
         "legendgroup": "446",
         "line": {
          "color": "rgba(255,255,255,0)"
         },
         "marker": {
          "color": "#00cc96"
         },
         "name": "446",
         "offsetgroup": "446",
         "orientation": "v",
         "pointpos": 0,
         "showlegend": true,
         "type": "box",
         "x": [
          340.5998019801981
         ],
         "x0": " ",
         "xaxis": "x",
         "y": [
          446
         ],
         "y0": " ",
         "yaxis": "y"
        },
        {
         "alignmentgroup": "True",
         "boxpoints": "all",
         "fillcolor": "rgba(255,255,255,0)",
         "hoveron": "points",
         "hovertemplate": "feedback_total=%{y}<br>price in $=%{x}<extra></extra>",
         "legendgroup": "241",
         "line": {
          "color": "rgba(255,255,255,0)"
         },
         "marker": {
          "color": "#ab63fa"
         },
         "name": "241",
         "offsetgroup": "241",
         "orientation": "v",
         "pointpos": 0,
         "showlegend": true,
         "type": "box",
         "x": [
          321.36959595959604
         ],
         "x0": " ",
         "xaxis": "x",
         "y": [
          241
         ],
         "y0": " ",
         "yaxis": "y"
        },
        {
         "alignmentgroup": "True",
         "boxpoints": "all",
         "fillcolor": "rgba(255,255,255,0)",
         "hoveron": "points",
         "hovertemplate": "feedback_total=%{y}<br>price in $=%{x}<extra></extra>",
         "legendgroup": "27",
         "line": {
          "color": "rgba(255,255,255,0)"
         },
         "marker": {
          "color": "#FFA15A"
         },
         "name": "27",
         "offsetgroup": "27",
         "orientation": "v",
         "pointpos": 0,
         "showlegend": true,
         "type": "box",
         "x": [
          307.350297029703
         ],
         "x0": " ",
         "xaxis": "x",
         "y": [
          27
         ],
         "y0": " ",
         "yaxis": "y"
        },
        {
         "alignmentgroup": "True",
         "boxpoints": "all",
         "fillcolor": "rgba(255,255,255,0)",
         "hoveron": "points",
         "hovertemplate": "feedback_total=%{y}<br>price in $=%{x}<extra></extra>",
         "legendgroup": "38",
         "line": {
          "color": "rgba(255,255,255,0)"
         },
         "marker": {
          "color": "#19d3f3"
         },
         "name": "38",
         "offsetgroup": "38",
         "orientation": "v",
         "pointpos": 0,
         "showlegend": true,
         "type": "box",
         "x": [
          302.2280363636363
         ],
         "x0": " ",
         "xaxis": "x",
         "y": [
          38
         ],
         "y0": " ",
         "yaxis": "y"
        },
        {
         "alignmentgroup": "True",
         "boxpoints": "all",
         "fillcolor": "rgba(255,255,255,0)",
         "hoveron": "points",
         "hovertemplate": "feedback_total=%{y}<br>price in $=%{x}<extra></extra>",
         "legendgroup": "18",
         "line": {
          "color": "rgba(255,255,255,0)"
         },
         "marker": {
          "color": "#FF6692"
         },
         "name": "18",
         "offsetgroup": "18",
         "orientation": "v",
         "pointpos": 0,
         "showlegend": true,
         "type": "box",
         "x": [
          280.28044444444436
         ],
         "x0": " ",
         "xaxis": "x",
         "y": [
          18
         ],
         "y0": " ",
         "yaxis": "y"
        },
        {
         "alignmentgroup": "True",
         "boxpoints": "all",
         "fillcolor": "rgba(255,255,255,0)",
         "hoveron": "points",
         "hovertemplate": "feedback_total=%{y}<br>price in $=%{x}<extra></extra>",
         "legendgroup": "203",
         "line": {
          "color": "rgba(255,255,255,0)"
         },
         "marker": {
          "color": "#B6E880"
         },
         "name": "203",
         "offsetgroup": "203",
         "orientation": "v",
         "pointpos": 0,
         "showlegend": true,
         "type": "box",
         "x": [
          274.9053956834532
         ],
         "x0": " ",
         "xaxis": "x",
         "y": [
          203
         ],
         "y0": " ",
         "yaxis": "y"
        },
        {
         "alignmentgroup": "True",
         "boxpoints": "all",
         "fillcolor": "rgba(255,255,255,0)",
         "hoveron": "points",
         "hovertemplate": "feedback_total=%{y}<br>price in $=%{x}<extra></extra>",
         "legendgroup": "182",
         "line": {
          "color": "rgba(255,255,255,0)"
         },
         "marker": {
          "color": "#FF97FF"
         },
         "name": "182",
         "offsetgroup": "182",
         "orientation": "v",
         "pointpos": 0,
         "showlegend": true,
         "type": "box",
         "x": [
          263.2911500000001
         ],
         "x0": " ",
         "xaxis": "x",
         "y": [
          182
         ],
         "y0": " ",
         "yaxis": "y"
        },
        {
         "alignmentgroup": "True",
         "boxpoints": "all",
         "fillcolor": "rgba(255,255,255,0)",
         "hoveron": "points",
         "hovertemplate": "feedback_total=%{y}<br>price in $=%{x}<extra></extra>",
         "legendgroup": "2",
         "line": {
          "color": "rgba(255,255,255,0)"
         },
         "marker": {
          "color": "#FECB52"
         },
         "name": "2",
         "offsetgroup": "2",
         "orientation": "v",
         "pointpos": 0,
         "showlegend": true,
         "type": "box",
         "x": [
          255.98944812362018
         ],
         "x0": " ",
         "xaxis": "x",
         "y": [
          2
         ],
         "y0": " ",
         "yaxis": "y"
        },
        {
         "alignmentgroup": "True",
         "boxpoints": "all",
         "fillcolor": "rgba(255,255,255,0)",
         "hoveron": "points",
         "hovertemplate": "feedback_total=%{y}<br>price in $=%{x}<extra></extra>",
         "legendgroup": "0",
         "line": {
          "color": "rgba(255,255,255,0)"
         },
         "marker": {
          "color": "#636efa"
         },
         "name": "0",
         "offsetgroup": "0",
         "orientation": "v",
         "pointpos": 0,
         "showlegend": true,
         "type": "box",
         "x": [
          253.31220735785985
         ],
         "x0": " ",
         "xaxis": "x",
         "y": [
          0
         ],
         "y0": " ",
         "yaxis": "y"
        },
        {
         "alignmentgroup": "True",
         "boxpoints": "all",
         "fillcolor": "rgba(255,255,255,0)",
         "hoveron": "points",
         "hovertemplate": "feedback_total=%{y}<br>price in $=%{x}<extra></extra>",
         "legendgroup": "6",
         "line": {
          "color": "rgba(255,255,255,0)"
         },
         "marker": {
          "color": "#EF553B"
         },
         "name": "6",
         "offsetgroup": "6",
         "orientation": "v",
         "pointpos": 0,
         "showlegend": true,
         "type": "box",
         "x": [
          245.12730158730162
         ],
         "x0": " ",
         "xaxis": "x",
         "y": [
          6
         ],
         "y0": " ",
         "yaxis": "y"
        },
        {
         "alignmentgroup": "True",
         "boxpoints": "all",
         "fillcolor": "rgba(255,255,255,0)",
         "hoveron": "points",
         "hovertemplate": "feedback_total=%{y}<br>price in $=%{x}<extra></extra>",
         "legendgroup": "5",
         "line": {
          "color": "rgba(255,255,255,0)"
         },
         "marker": {
          "color": "#00cc96"
         },
         "name": "5",
         "offsetgroup": "5",
         "orientation": "v",
         "pointpos": 0,
         "showlegend": true,
         "type": "box",
         "x": [
          242.4490909090909
         ],
         "x0": " ",
         "xaxis": "x",
         "y": [
          5
         ],
         "y0": " ",
         "yaxis": "y"
        },
        {
         "alignmentgroup": "True",
         "boxpoints": "all",
         "fillcolor": "rgba(255,255,255,0)",
         "hoveron": "points",
         "hovertemplate": "feedback_total=%{y}<br>price in $=%{x}<extra></extra>",
         "legendgroup": "13",
         "line": {
          "color": "rgba(255,255,255,0)"
         },
         "marker": {
          "color": "#ab63fa"
         },
         "name": "13",
         "offsetgroup": "13",
         "orientation": "v",
         "pointpos": 0,
         "showlegend": true,
         "type": "box",
         "x": [
          239.0935555555555
         ],
         "x0": " ",
         "xaxis": "x",
         "y": [
          13
         ],
         "y0": " ",
         "yaxis": "y"
        },
        {
         "alignmentgroup": "True",
         "boxpoints": "all",
         "fillcolor": "rgba(255,255,255,0)",
         "hoveron": "points",
         "hovertemplate": "feedback_total=%{y}<br>price in $=%{x}<extra></extra>",
         "legendgroup": "17",
         "line": {
          "color": "rgba(255,255,255,0)"
         },
         "marker": {
          "color": "#FFA15A"
         },
         "name": "17",
         "offsetgroup": "17",
         "orientation": "v",
         "pointpos": 0,
         "showlegend": true,
         "type": "box",
         "x": [
          237.04000000000002
         ],
         "x0": " ",
         "xaxis": "x",
         "y": [
          17
         ],
         "y0": " ",
         "yaxis": "y"
        },
        {
         "alignmentgroup": "True",
         "boxpoints": "all",
         "fillcolor": "rgba(255,255,255,0)",
         "hoveron": "points",
         "hovertemplate": "feedback_total=%{y}<br>price in $=%{x}<extra></extra>",
         "legendgroup": "7",
         "line": {
          "color": "rgba(255,255,255,0)"
         },
         "marker": {
          "color": "#19d3f3"
         },
         "name": "7",
         "offsetgroup": "7",
         "orientation": "v",
         "pointpos": 0,
         "showlegend": true,
         "type": "box",
         "x": [
          223.45887850467307
         ],
         "x0": " ",
         "xaxis": "x",
         "y": [
          7
         ],
         "y0": " ",
         "yaxis": "y"
        },
        {
         "alignmentgroup": "True",
         "boxpoints": "all",
         "fillcolor": "rgba(255,255,255,0)",
         "hoveron": "points",
         "hovertemplate": "feedback_total=%{y}<br>price in $=%{x}<extra></extra>",
         "legendgroup": "8",
         "line": {
          "color": "rgba(255,255,255,0)"
         },
         "marker": {
          "color": "#FF6692"
         },
         "name": "8",
         "offsetgroup": "8",
         "orientation": "v",
         "pointpos": 0,
         "showlegend": true,
         "type": "box",
         "x": [
          222.44994750656167
         ],
         "x0": " ",
         "xaxis": "x",
         "y": [
          8
         ],
         "y0": " ",
         "yaxis": "y"
        },
        {
         "alignmentgroup": "True",
         "boxpoints": "all",
         "fillcolor": "rgba(255,255,255,0)",
         "hoveron": "points",
         "hovertemplate": "feedback_total=%{y}<br>price in $=%{x}<extra></extra>",
         "legendgroup": "73",
         "line": {
          "color": "rgba(255,255,255,0)"
         },
         "marker": {
          "color": "#B6E880"
         },
         "name": "73",
         "offsetgroup": "73",
         "orientation": "v",
         "pointpos": 0,
         "showlegend": true,
         "type": "box",
         "x": [
          221.98994117647058
         ],
         "x0": " ",
         "xaxis": "x",
         "y": [
          73
         ],
         "y0": " ",
         "yaxis": "y"
        },
        {
         "alignmentgroup": "True",
         "boxpoints": "all",
         "fillcolor": "rgba(255,255,255,0)",
         "hoveron": "points",
         "hovertemplate": "feedback_total=%{y}<br>price in $=%{x}<extra></extra>",
         "legendgroup": "64",
         "line": {
          "color": "rgba(255,255,255,0)"
         },
         "marker": {
          "color": "#FF97FF"
         },
         "name": "64",
         "offsetgroup": "64",
         "orientation": "v",
         "pointpos": 0,
         "showlegend": true,
         "type": "box",
         "x": [
          208.55941747572822
         ],
         "x0": " ",
         "xaxis": "x",
         "y": [
          64
         ],
         "y0": " ",
         "yaxis": "y"
        },
        {
         "alignmentgroup": "True",
         "boxpoints": "all",
         "fillcolor": "rgba(255,255,255,0)",
         "hoveron": "points",
         "hovertemplate": "feedback_total=%{y}<br>price in $=%{x}<extra></extra>",
         "legendgroup": "56",
         "line": {
          "color": "rgba(255,255,255,0)"
         },
         "marker": {
          "color": "#FECB52"
         },
         "name": "56",
         "offsetgroup": "56",
         "orientation": "v",
         "pointpos": 0,
         "showlegend": true,
         "type": "box",
         "x": [
          208.02227488151667
         ],
         "x0": " ",
         "xaxis": "x",
         "y": [
          56
         ],
         "y0": " ",
         "yaxis": "y"
        },
        {
         "alignmentgroup": "True",
         "boxpoints": "all",
         "fillcolor": "rgba(255,255,255,0)",
         "hoveron": "points",
         "hovertemplate": "feedback_total=%{y}<br>price in $=%{x}<extra></extra>",
         "legendgroup": "3",
         "line": {
          "color": "rgba(255,255,255,0)"
         },
         "marker": {
          "color": "#636efa"
         },
         "name": "3",
         "offsetgroup": "3",
         "orientation": "v",
         "pointpos": 0,
         "showlegend": true,
         "type": "box",
         "x": [
          206.44501718213044
         ],
         "x0": " ",
         "xaxis": "x",
         "y": [
          3
         ],
         "y0": " ",
         "yaxis": "y"
        },
        {
         "alignmentgroup": "True",
         "boxpoints": "all",
         "fillcolor": "rgba(255,255,255,0)",
         "hoveron": "points",
         "hovertemplate": "feedback_total=%{y}<br>price in $=%{x}<extra></extra>",
         "legendgroup": "4",
         "line": {
          "color": "rgba(255,255,255,0)"
         },
         "marker": {
          "color": "#EF553B"
         },
         "name": "4",
         "offsetgroup": "4",
         "orientation": "v",
         "pointpos": 0,
         "showlegend": true,
         "type": "box",
         "x": [
          192.32864321608034
         ],
         "x0": " ",
         "xaxis": "x",
         "y": [
          4
         ],
         "y0": " ",
         "yaxis": "y"
        },
        {
         "alignmentgroup": "True",
         "boxpoints": "all",
         "fillcolor": "rgba(255,255,255,0)",
         "hoveron": "points",
         "hovertemplate": "feedback_total=%{y}<br>price in $=%{x}<extra></extra>",
         "legendgroup": "12",
         "line": {
          "color": "rgba(255,255,255,0)"
         },
         "marker": {
          "color": "#00cc96"
         },
         "name": "12",
         "offsetgroup": "12",
         "orientation": "v",
         "pointpos": 0,
         "showlegend": true,
         "type": "box",
         "x": [
          188.33721052631574
         ],
         "x0": " ",
         "xaxis": "x",
         "y": [
          12
         ],
         "y0": " ",
         "yaxis": "y"
        },
        {
         "alignmentgroup": "True",
         "boxpoints": "all",
         "fillcolor": "rgba(255,255,255,0)",
         "hoveron": "points",
         "hovertemplate": "feedback_total=%{y}<br>price in $=%{x}<extra></extra>",
         "legendgroup": "1",
         "line": {
          "color": "rgba(255,255,255,0)"
         },
         "marker": {
          "color": "#ab63fa"
         },
         "name": "1",
         "offsetgroup": "1",
         "orientation": "v",
         "pointpos": 0,
         "showlegend": true,
         "type": "box",
         "x": [
          153.12523437499996
         ],
         "x0": " ",
         "xaxis": "x",
         "y": [
          1
         ],
         "y0": " ",
         "yaxis": "y"
        },
        {
         "alignmentgroup": "True",
         "boxpoints": "all",
         "fillcolor": "rgba(255,255,255,0)",
         "hoveron": "points",
         "hovertemplate": "feedback_total=%{y}<br>price in $=%{x}<extra></extra>",
         "legendgroup": "22",
         "line": {
          "color": "rgba(255,255,255,0)"
         },
         "marker": {
          "color": "#FFA15A"
         },
         "name": "22",
         "offsetgroup": "22",
         "orientation": "v",
         "pointpos": 0,
         "showlegend": true,
         "type": "box",
         "x": [
          147.6197701149425
         ],
         "x0": " ",
         "xaxis": "x",
         "y": [
          22
         ],
         "y0": " ",
         "yaxis": "y"
        },
        {
         "alignmentgroup": "True",
         "boxpoints": "all",
         "fillcolor": "rgba(255,255,255,0)",
         "hoveron": "points",
         "hovertemplate": "feedback_total=%{y}<br>price in $=%{x}<extra></extra>",
         "legendgroup": "11",
         "line": {
          "color": "rgba(255,255,255,0)"
         },
         "marker": {
          "color": "#19d3f3"
         },
         "name": "11",
         "offsetgroup": "11",
         "orientation": "v",
         "pointpos": 0,
         "showlegend": true,
         "type": "box",
         "x": [
          147.53335025380713
         ],
         "x0": " ",
         "xaxis": "x",
         "y": [
          11
         ],
         "y0": " ",
         "yaxis": "y"
        },
        {
         "alignmentgroup": "True",
         "boxpoints": "all",
         "fillcolor": "rgba(255,255,255,0)",
         "hoveron": "points",
         "hovertemplate": "feedback_total=%{y}<br>price in $=%{x}<extra></extra>",
         "legendgroup": "45",
         "line": {
          "color": "rgba(255,255,255,0)"
         },
         "marker": {
          "color": "#FF6692"
         },
         "name": "45",
         "offsetgroup": "45",
         "orientation": "v",
         "pointpos": 0,
         "showlegend": true,
         "type": "box",
         "x": [
          145.2956390977444
         ],
         "x0": " ",
         "xaxis": "x",
         "y": [
          45
         ],
         "y0": " ",
         "yaxis": "y"
        },
        {
         "alignmentgroup": "True",
         "boxpoints": "all",
         "fillcolor": "rgba(255,255,255,0)",
         "hoveron": "points",
         "hovertemplate": "feedback_total=%{y}<br>price in $=%{x}<extra></extra>",
         "legendgroup": "87",
         "line": {
          "color": "rgba(255,255,255,0)"
         },
         "marker": {
          "color": "#B6E880"
         },
         "name": "87",
         "offsetgroup": "87",
         "orientation": "v",
         "pointpos": 0,
         "showlegend": true,
         "type": "box",
         "x": [
          130.5625
         ],
         "x0": " ",
         "xaxis": "x",
         "y": [
          87
         ],
         "y0": " ",
         "yaxis": "y"
        },
        {
         "alignmentgroup": "True",
         "boxpoints": "all",
         "fillcolor": "rgba(255,255,255,0)",
         "hoveron": "points",
         "hovertemplate": "feedback_total=%{y}<br>price in $=%{x}<extra></extra>",
         "legendgroup": "43",
         "line": {
          "color": "rgba(255,255,255,0)"
         },
         "marker": {
          "color": "#FF97FF"
         },
         "name": "43",
         "offsetgroup": "43",
         "orientation": "v",
         "pointpos": 0,
         "showlegend": true,
         "type": "box",
         "x": [
          126.46111111111111
         ],
         "x0": " ",
         "xaxis": "x",
         "y": [
          43
         ],
         "y0": " ",
         "yaxis": "y"
        },
        {
         "alignmentgroup": "True",
         "boxpoints": "all",
         "fillcolor": "rgba(255,255,255,0)",
         "hoveron": "points",
         "hovertemplate": "feedback_total=%{y}<br>price in $=%{x}<extra></extra>",
         "legendgroup": "103",
         "line": {
          "color": "rgba(255,255,255,0)"
         },
         "marker": {
          "color": "#FECB52"
         },
         "name": "103",
         "offsetgroup": "103",
         "orientation": "v",
         "pointpos": 0,
         "showlegend": true,
         "type": "box",
         "x": [
          121.98407821229048
         ],
         "x0": " ",
         "xaxis": "x",
         "y": [
          103
         ],
         "y0": " ",
         "yaxis": "y"
        },
        {
         "alignmentgroup": "True",
         "boxpoints": "all",
         "fillcolor": "rgba(255,255,255,0)",
         "hoveron": "points",
         "hovertemplate": "feedback_total=%{y}<br>price in $=%{x}<extra></extra>",
         "legendgroup": "88",
         "line": {
          "color": "rgba(255,255,255,0)"
         },
         "marker": {
          "color": "#636efa"
         },
         "name": "88",
         "offsetgroup": "88",
         "orientation": "v",
         "pointpos": 0,
         "showlegend": true,
         "type": "box",
         "x": [
          115.29940928270042
         ],
         "x0": " ",
         "xaxis": "x",
         "y": [
          88
         ],
         "y0": " ",
         "yaxis": "y"
        },
        {
         "alignmentgroup": "True",
         "boxpoints": "all",
         "fillcolor": "rgba(255,255,255,0)",
         "hoveron": "points",
         "hovertemplate": "feedback_total=%{y}<br>price in $=%{x}<extra></extra>",
         "legendgroup": "98",
         "line": {
          "color": "rgba(255,255,255,0)"
         },
         "marker": {
          "color": "#EF553B"
         },
         "name": "98",
         "offsetgroup": "98",
         "orientation": "v",
         "pointpos": 0,
         "showlegend": true,
         "type": "box",
         "x": [
          105.43592857142858
         ],
         "x0": " ",
         "xaxis": "x",
         "y": [
          98
         ],
         "y0": " ",
         "yaxis": "y"
        },
        {
         "alignmentgroup": "True",
         "boxpoints": "all",
         "fillcolor": "rgba(255,255,255,0)",
         "hoveron": "points",
         "hovertemplate": "feedback_total=%{y}<br>price in $=%{x}<extra></extra>",
         "legendgroup": "351",
         "line": {
          "color": "rgba(255,255,255,0)"
         },
         "marker": {
          "color": "#00cc96"
         },
         "name": "351",
         "offsetgroup": "351",
         "orientation": "v",
         "pointpos": 0,
         "showlegend": true,
         "type": "box",
         "x": [
          90.44696000000003
         ],
         "x0": " ",
         "xaxis": "x",
         "y": [
          351
         ],
         "y0": " ",
         "yaxis": "y"
        },
        {
         "alignmentgroup": "True",
         "boxpoints": "all",
         "fillcolor": "rgba(255,255,255,0)",
         "hoveron": "points",
         "hovertemplate": "feedback_total=%{y}<br>price in $=%{x}<extra></extra>",
         "legendgroup": "825",
         "line": {
          "color": "rgba(255,255,255,0)"
         },
         "marker": {
          "color": "#ab63fa"
         },
         "name": "825",
         "offsetgroup": "825",
         "orientation": "v",
         "pointpos": 0,
         "showlegend": true,
         "type": "box",
         "x": [
          85.32317073170732
         ],
         "x0": " ",
         "xaxis": "x",
         "y": [
          825
         ],
         "y0": " ",
         "yaxis": "y"
        }
       ],
       "layout": {
        "boxmode": "group",
        "legend": {
         "title": {
          "text": "feedback_total"
         },
         "tracegroupgap": 0
        },
        "margin": {
         "t": 60
        },
        "template": {
         "data": {
          "bar": [
           {
            "error_x": {
             "color": "#2a3f5f"
            },
            "error_y": {
             "color": "#2a3f5f"
            },
            "marker": {
             "line": {
              "color": "#E5ECF6",
              "width": 0.5
             }
            },
            "type": "bar"
           }
          ],
          "barpolar": [
           {
            "marker": {
             "line": {
              "color": "#E5ECF6",
              "width": 0.5
             }
            },
            "type": "barpolar"
           }
          ],
          "carpet": [
           {
            "aaxis": {
             "endlinecolor": "#2a3f5f",
             "gridcolor": "white",
             "linecolor": "white",
             "minorgridcolor": "white",
             "startlinecolor": "#2a3f5f"
            },
            "baxis": {
             "endlinecolor": "#2a3f5f",
             "gridcolor": "white",
             "linecolor": "white",
             "minorgridcolor": "white",
             "startlinecolor": "#2a3f5f"
            },
            "type": "carpet"
           }
          ],
          "choropleth": [
           {
            "colorbar": {
             "outlinewidth": 0,
             "ticks": ""
            },
            "type": "choropleth"
           }
          ],
          "contour": [
           {
            "colorbar": {
             "outlinewidth": 0,
             "ticks": ""
            },
            "colorscale": [
             [
              0,
              "#0d0887"
             ],
             [
              0.1111111111111111,
              "#46039f"
             ],
             [
              0.2222222222222222,
              "#7201a8"
             ],
             [
              0.3333333333333333,
              "#9c179e"
             ],
             [
              0.4444444444444444,
              "#bd3786"
             ],
             [
              0.5555555555555556,
              "#d8576b"
             ],
             [
              0.6666666666666666,
              "#ed7953"
             ],
             [
              0.7777777777777778,
              "#fb9f3a"
             ],
             [
              0.8888888888888888,
              "#fdca26"
             ],
             [
              1,
              "#f0f921"
             ]
            ],
            "type": "contour"
           }
          ],
          "contourcarpet": [
           {
            "colorbar": {
             "outlinewidth": 0,
             "ticks": ""
            },
            "type": "contourcarpet"
           }
          ],
          "heatmap": [
           {
            "colorbar": {
             "outlinewidth": 0,
             "ticks": ""
            },
            "colorscale": [
             [
              0,
              "#0d0887"
             ],
             [
              0.1111111111111111,
              "#46039f"
             ],
             [
              0.2222222222222222,
              "#7201a8"
             ],
             [
              0.3333333333333333,
              "#9c179e"
             ],
             [
              0.4444444444444444,
              "#bd3786"
             ],
             [
              0.5555555555555556,
              "#d8576b"
             ],
             [
              0.6666666666666666,
              "#ed7953"
             ],
             [
              0.7777777777777778,
              "#fb9f3a"
             ],
             [
              0.8888888888888888,
              "#fdca26"
             ],
             [
              1,
              "#f0f921"
             ]
            ],
            "type": "heatmap"
           }
          ],
          "heatmapgl": [
           {
            "colorbar": {
             "outlinewidth": 0,
             "ticks": ""
            },
            "colorscale": [
             [
              0,
              "#0d0887"
             ],
             [
              0.1111111111111111,
              "#46039f"
             ],
             [
              0.2222222222222222,
              "#7201a8"
             ],
             [
              0.3333333333333333,
              "#9c179e"
             ],
             [
              0.4444444444444444,
              "#bd3786"
             ],
             [
              0.5555555555555556,
              "#d8576b"
             ],
             [
              0.6666666666666666,
              "#ed7953"
             ],
             [
              0.7777777777777778,
              "#fb9f3a"
             ],
             [
              0.8888888888888888,
              "#fdca26"
             ],
             [
              1,
              "#f0f921"
             ]
            ],
            "type": "heatmapgl"
           }
          ],
          "histogram": [
           {
            "marker": {
             "colorbar": {
              "outlinewidth": 0,
              "ticks": ""
             }
            },
            "type": "histogram"
           }
          ],
          "histogram2d": [
           {
            "colorbar": {
             "outlinewidth": 0,
             "ticks": ""
            },
            "colorscale": [
             [
              0,
              "#0d0887"
             ],
             [
              0.1111111111111111,
              "#46039f"
             ],
             [
              0.2222222222222222,
              "#7201a8"
             ],
             [
              0.3333333333333333,
              "#9c179e"
             ],
             [
              0.4444444444444444,
              "#bd3786"
             ],
             [
              0.5555555555555556,
              "#d8576b"
             ],
             [
              0.6666666666666666,
              "#ed7953"
             ],
             [
              0.7777777777777778,
              "#fb9f3a"
             ],
             [
              0.8888888888888888,
              "#fdca26"
             ],
             [
              1,
              "#f0f921"
             ]
            ],
            "type": "histogram2d"
           }
          ],
          "histogram2dcontour": [
           {
            "colorbar": {
             "outlinewidth": 0,
             "ticks": ""
            },
            "colorscale": [
             [
              0,
              "#0d0887"
             ],
             [
              0.1111111111111111,
              "#46039f"
             ],
             [
              0.2222222222222222,
              "#7201a8"
             ],
             [
              0.3333333333333333,
              "#9c179e"
             ],
             [
              0.4444444444444444,
              "#bd3786"
             ],
             [
              0.5555555555555556,
              "#d8576b"
             ],
             [
              0.6666666666666666,
              "#ed7953"
             ],
             [
              0.7777777777777778,
              "#fb9f3a"
             ],
             [
              0.8888888888888888,
              "#fdca26"
             ],
             [
              1,
              "#f0f921"
             ]
            ],
            "type": "histogram2dcontour"
           }
          ],
          "mesh3d": [
           {
            "colorbar": {
             "outlinewidth": 0,
             "ticks": ""
            },
            "type": "mesh3d"
           }
          ],
          "parcoords": [
           {
            "line": {
             "colorbar": {
              "outlinewidth": 0,
              "ticks": ""
             }
            },
            "type": "parcoords"
           }
          ],
          "pie": [
           {
            "automargin": true,
            "type": "pie"
           }
          ],
          "scatter": [
           {
            "marker": {
             "colorbar": {
              "outlinewidth": 0,
              "ticks": ""
             }
            },
            "type": "scatter"
           }
          ],
          "scatter3d": [
           {
            "line": {
             "colorbar": {
              "outlinewidth": 0,
              "ticks": ""
             }
            },
            "marker": {
             "colorbar": {
              "outlinewidth": 0,
              "ticks": ""
             }
            },
            "type": "scatter3d"
           }
          ],
          "scattercarpet": [
           {
            "marker": {
             "colorbar": {
              "outlinewidth": 0,
              "ticks": ""
             }
            },
            "type": "scattercarpet"
           }
          ],
          "scattergeo": [
           {
            "marker": {
             "colorbar": {
              "outlinewidth": 0,
              "ticks": ""
             }
            },
            "type": "scattergeo"
           }
          ],
          "scattergl": [
           {
            "marker": {
             "colorbar": {
              "outlinewidth": 0,
              "ticks": ""
             }
            },
            "type": "scattergl"
           }
          ],
          "scattermapbox": [
           {
            "marker": {
             "colorbar": {
              "outlinewidth": 0,
              "ticks": ""
             }
            },
            "type": "scattermapbox"
           }
          ],
          "scatterpolar": [
           {
            "marker": {
             "colorbar": {
              "outlinewidth": 0,
              "ticks": ""
             }
            },
            "type": "scatterpolar"
           }
          ],
          "scatterpolargl": [
           {
            "marker": {
             "colorbar": {
              "outlinewidth": 0,
              "ticks": ""
             }
            },
            "type": "scatterpolargl"
           }
          ],
          "scatterternary": [
           {
            "marker": {
             "colorbar": {
              "outlinewidth": 0,
              "ticks": ""
             }
            },
            "type": "scatterternary"
           }
          ],
          "surface": [
           {
            "colorbar": {
             "outlinewidth": 0,
             "ticks": ""
            },
            "colorscale": [
             [
              0,
              "#0d0887"
             ],
             [
              0.1111111111111111,
              "#46039f"
             ],
             [
              0.2222222222222222,
              "#7201a8"
             ],
             [
              0.3333333333333333,
              "#9c179e"
             ],
             [
              0.4444444444444444,
              "#bd3786"
             ],
             [
              0.5555555555555556,
              "#d8576b"
             ],
             [
              0.6666666666666666,
              "#ed7953"
             ],
             [
              0.7777777777777778,
              "#fb9f3a"
             ],
             [
              0.8888888888888888,
              "#fdca26"
             ],
             [
              1,
              "#f0f921"
             ]
            ],
            "type": "surface"
           }
          ],
          "table": [
           {
            "cells": {
             "fill": {
              "color": "#EBF0F8"
             },
             "line": {
              "color": "white"
             }
            },
            "header": {
             "fill": {
              "color": "#C8D4E3"
             },
             "line": {
              "color": "white"
             }
            },
            "type": "table"
           }
          ]
         },
         "layout": {
          "annotationdefaults": {
           "arrowcolor": "#2a3f5f",
           "arrowhead": 0,
           "arrowwidth": 1
          },
          "autotypenumbers": "strict",
          "coloraxis": {
           "colorbar": {
            "outlinewidth": 0,
            "ticks": ""
           }
          },
          "colorscale": {
           "diverging": [
            [
             0,
             "#8e0152"
            ],
            [
             0.1,
             "#c51b7d"
            ],
            [
             0.2,
             "#de77ae"
            ],
            [
             0.3,
             "#f1b6da"
            ],
            [
             0.4,
             "#fde0ef"
            ],
            [
             0.5,
             "#f7f7f7"
            ],
            [
             0.6,
             "#e6f5d0"
            ],
            [
             0.7,
             "#b8e186"
            ],
            [
             0.8,
             "#7fbc41"
            ],
            [
             0.9,
             "#4d9221"
            ],
            [
             1,
             "#276419"
            ]
           ],
           "sequential": [
            [
             0,
             "#0d0887"
            ],
            [
             0.1111111111111111,
             "#46039f"
            ],
            [
             0.2222222222222222,
             "#7201a8"
            ],
            [
             0.3333333333333333,
             "#9c179e"
            ],
            [
             0.4444444444444444,
             "#bd3786"
            ],
            [
             0.5555555555555556,
             "#d8576b"
            ],
            [
             0.6666666666666666,
             "#ed7953"
            ],
            [
             0.7777777777777778,
             "#fb9f3a"
            ],
            [
             0.8888888888888888,
             "#fdca26"
            ],
            [
             1,
             "#f0f921"
            ]
           ],
           "sequentialminus": [
            [
             0,
             "#0d0887"
            ],
            [
             0.1111111111111111,
             "#46039f"
            ],
            [
             0.2222222222222222,
             "#7201a8"
            ],
            [
             0.3333333333333333,
             "#9c179e"
            ],
            [
             0.4444444444444444,
             "#bd3786"
            ],
            [
             0.5555555555555556,
             "#d8576b"
            ],
            [
             0.6666666666666666,
             "#ed7953"
            ],
            [
             0.7777777777777778,
             "#fb9f3a"
            ],
            [
             0.8888888888888888,
             "#fdca26"
            ],
            [
             1,
             "#f0f921"
            ]
           ]
          },
          "colorway": [
           "#636efa",
           "#EF553B",
           "#00cc96",
           "#ab63fa",
           "#FFA15A",
           "#19d3f3",
           "#FF6692",
           "#B6E880",
           "#FF97FF",
           "#FECB52"
          ],
          "font": {
           "color": "#2a3f5f"
          },
          "geo": {
           "bgcolor": "white",
           "lakecolor": "white",
           "landcolor": "#E5ECF6",
           "showlakes": true,
           "showland": true,
           "subunitcolor": "white"
          },
          "hoverlabel": {
           "align": "left"
          },
          "hovermode": "closest",
          "mapbox": {
           "style": "light"
          },
          "paper_bgcolor": "white",
          "plot_bgcolor": "#E5ECF6",
          "polar": {
           "angularaxis": {
            "gridcolor": "white",
            "linecolor": "white",
            "ticks": ""
           },
           "bgcolor": "#E5ECF6",
           "radialaxis": {
            "gridcolor": "white",
            "linecolor": "white",
            "ticks": ""
           }
          },
          "scene": {
           "xaxis": {
            "backgroundcolor": "#E5ECF6",
            "gridcolor": "white",
            "gridwidth": 2,
            "linecolor": "white",
            "showbackground": true,
            "ticks": "",
            "zerolinecolor": "white"
           },
           "yaxis": {
            "backgroundcolor": "#E5ECF6",
            "gridcolor": "white",
            "gridwidth": 2,
            "linecolor": "white",
            "showbackground": true,
            "ticks": "",
            "zerolinecolor": "white"
           },
           "zaxis": {
            "backgroundcolor": "#E5ECF6",
            "gridcolor": "white",
            "gridwidth": 2,
            "linecolor": "white",
            "showbackground": true,
            "ticks": "",
            "zerolinecolor": "white"
           }
          },
          "shapedefaults": {
           "line": {
            "color": "#2a3f5f"
           }
          },
          "ternary": {
           "aaxis": {
            "gridcolor": "white",
            "linecolor": "white",
            "ticks": ""
           },
           "baxis": {
            "gridcolor": "white",
            "linecolor": "white",
            "ticks": ""
           },
           "bgcolor": "#E5ECF6",
           "caxis": {
            "gridcolor": "white",
            "linecolor": "white",
            "ticks": ""
           }
          },
          "title": {
           "x": 0.05
          },
          "xaxis": {
           "automargin": true,
           "gridcolor": "white",
           "linecolor": "white",
           "ticks": "",
           "title": {
            "standoff": 15
           },
           "zerolinecolor": "white",
           "zerolinewidth": 2
          },
          "yaxis": {
           "automargin": true,
           "gridcolor": "white",
           "linecolor": "white",
           "ticks": "",
           "title": {
            "standoff": 15
           },
           "zerolinecolor": "white",
           "zerolinewidth": 2
          }
         }
        },
        "xaxis": {
         "anchor": "y",
         "domain": [
          0,
          1
         ],
         "title": {
          "text": "price in $"
         }
        },
        "yaxis": {
         "anchor": "x",
         "categoryarray": [
          825,
          351,
          98,
          88,
          103,
          43,
          87,
          45,
          11,
          22,
          1,
          12,
          4,
          3,
          56,
          64,
          73,
          8,
          7,
          17,
          13,
          5,
          6,
          0,
          2,
          182,
          203,
          18,
          38,
          27,
          241,
          446,
          31,
          41
         ],
         "categoryorder": "array",
         "domain": [
          0,
          1
         ],
         "title": {
          "text": "feedback_total"
         }
        }
       }
      },
      "text/html": [
       "<div>                            <div id=\"f22a386b-0d42-46d7-8aec-036c08b322a5\" class=\"plotly-graph-div\" style=\"height:525px; width:100%;\"></div>            <script type=\"text/javascript\">                require([\"plotly\"], function(Plotly) {                    window.PLOTLYENV=window.PLOTLYENV || {};                                    if (document.getElementById(\"f22a386b-0d42-46d7-8aec-036c08b322a5\")) {                    Plotly.newPlot(                        \"f22a386b-0d42-46d7-8aec-036c08b322a5\",                        [{\"alignmentgroup\": \"True\", \"boxpoints\": \"all\", \"fillcolor\": \"rgba(255,255,255,0)\", \"hoveron\": \"points\", \"hovertemplate\": \"feedback_total=%{y}<br>price in $=%{x}<extra></extra>\", \"legendgroup\": \"41\", \"line\": {\"color\": \"rgba(255,255,255,0)\"}, \"marker\": {\"color\": \"#636efa\"}, \"name\": \"41\", \"offsetgroup\": \"41\", \"orientation\": \"v\", \"pointpos\": 0, \"showlegend\": true, \"type\": \"box\", \"x\": [455.9684105960264], \"x0\": \" \", \"xaxis\": \"x\", \"y\": [41], \"y0\": \" \", \"yaxis\": \"y\"}, {\"alignmentgroup\": \"True\", \"boxpoints\": \"all\", \"fillcolor\": \"rgba(255,255,255,0)\", \"hoveron\": \"points\", \"hovertemplate\": \"feedback_total=%{y}<br>price in $=%{x}<extra></extra>\", \"legendgroup\": \"31\", \"line\": {\"color\": \"rgba(255,255,255,0)\"}, \"marker\": {\"color\": \"#EF553B\"}, \"name\": \"31\", \"offsetgroup\": \"31\", \"orientation\": \"v\", \"pointpos\": 0, \"showlegend\": true, \"type\": \"box\", \"x\": [352.6466666666667], \"x0\": \" \", \"xaxis\": \"x\", \"y\": [31], \"y0\": \" \", \"yaxis\": \"y\"}, {\"alignmentgroup\": \"True\", \"boxpoints\": \"all\", \"fillcolor\": \"rgba(255,255,255,0)\", \"hoveron\": \"points\", \"hovertemplate\": \"feedback_total=%{y}<br>price in $=%{x}<extra></extra>\", \"legendgroup\": \"446\", \"line\": {\"color\": \"rgba(255,255,255,0)\"}, \"marker\": {\"color\": \"#00cc96\"}, \"name\": \"446\", \"offsetgroup\": \"446\", \"orientation\": \"v\", \"pointpos\": 0, \"showlegend\": true, \"type\": \"box\", \"x\": [340.5998019801981], \"x0\": \" \", \"xaxis\": \"x\", \"y\": [446], \"y0\": \" \", \"yaxis\": \"y\"}, {\"alignmentgroup\": \"True\", \"boxpoints\": \"all\", \"fillcolor\": \"rgba(255,255,255,0)\", \"hoveron\": \"points\", \"hovertemplate\": \"feedback_total=%{y}<br>price in $=%{x}<extra></extra>\", \"legendgroup\": \"241\", \"line\": {\"color\": \"rgba(255,255,255,0)\"}, \"marker\": {\"color\": \"#ab63fa\"}, \"name\": \"241\", \"offsetgroup\": \"241\", \"orientation\": \"v\", \"pointpos\": 0, \"showlegend\": true, \"type\": \"box\", \"x\": [321.36959595959604], \"x0\": \" \", \"xaxis\": \"x\", \"y\": [241], \"y0\": \" \", \"yaxis\": \"y\"}, {\"alignmentgroup\": \"True\", \"boxpoints\": \"all\", \"fillcolor\": \"rgba(255,255,255,0)\", \"hoveron\": \"points\", \"hovertemplate\": \"feedback_total=%{y}<br>price in $=%{x}<extra></extra>\", \"legendgroup\": \"27\", \"line\": {\"color\": \"rgba(255,255,255,0)\"}, \"marker\": {\"color\": \"#FFA15A\"}, \"name\": \"27\", \"offsetgroup\": \"27\", \"orientation\": \"v\", \"pointpos\": 0, \"showlegend\": true, \"type\": \"box\", \"x\": [307.350297029703], \"x0\": \" \", \"xaxis\": \"x\", \"y\": [27], \"y0\": \" \", \"yaxis\": \"y\"}, {\"alignmentgroup\": \"True\", \"boxpoints\": \"all\", \"fillcolor\": \"rgba(255,255,255,0)\", \"hoveron\": \"points\", \"hovertemplate\": \"feedback_total=%{y}<br>price in $=%{x}<extra></extra>\", \"legendgroup\": \"38\", \"line\": {\"color\": \"rgba(255,255,255,0)\"}, \"marker\": {\"color\": \"#19d3f3\"}, \"name\": \"38\", \"offsetgroup\": \"38\", \"orientation\": \"v\", \"pointpos\": 0, \"showlegend\": true, \"type\": \"box\", \"x\": [302.2280363636363], \"x0\": \" \", \"xaxis\": \"x\", \"y\": [38], \"y0\": \" \", \"yaxis\": \"y\"}, {\"alignmentgroup\": \"True\", \"boxpoints\": \"all\", \"fillcolor\": \"rgba(255,255,255,0)\", \"hoveron\": \"points\", \"hovertemplate\": \"feedback_total=%{y}<br>price in $=%{x}<extra></extra>\", \"legendgroup\": \"18\", \"line\": {\"color\": \"rgba(255,255,255,0)\"}, \"marker\": {\"color\": \"#FF6692\"}, \"name\": \"18\", \"offsetgroup\": \"18\", \"orientation\": \"v\", \"pointpos\": 0, \"showlegend\": true, \"type\": \"box\", \"x\": [280.28044444444436], \"x0\": \" \", \"xaxis\": \"x\", \"y\": [18], \"y0\": \" \", \"yaxis\": \"y\"}, {\"alignmentgroup\": \"True\", \"boxpoints\": \"all\", \"fillcolor\": \"rgba(255,255,255,0)\", \"hoveron\": \"points\", \"hovertemplate\": \"feedback_total=%{y}<br>price in $=%{x}<extra></extra>\", \"legendgroup\": \"203\", \"line\": {\"color\": \"rgba(255,255,255,0)\"}, \"marker\": {\"color\": \"#B6E880\"}, \"name\": \"203\", \"offsetgroup\": \"203\", \"orientation\": \"v\", \"pointpos\": 0, \"showlegend\": true, \"type\": \"box\", \"x\": [274.9053956834532], \"x0\": \" \", \"xaxis\": \"x\", \"y\": [203], \"y0\": \" \", \"yaxis\": \"y\"}, {\"alignmentgroup\": \"True\", \"boxpoints\": \"all\", \"fillcolor\": \"rgba(255,255,255,0)\", \"hoveron\": \"points\", \"hovertemplate\": \"feedback_total=%{y}<br>price in $=%{x}<extra></extra>\", \"legendgroup\": \"182\", \"line\": {\"color\": \"rgba(255,255,255,0)\"}, \"marker\": {\"color\": \"#FF97FF\"}, \"name\": \"182\", \"offsetgroup\": \"182\", \"orientation\": \"v\", \"pointpos\": 0, \"showlegend\": true, \"type\": \"box\", \"x\": [263.2911500000001], \"x0\": \" \", \"xaxis\": \"x\", \"y\": [182], \"y0\": \" \", \"yaxis\": \"y\"}, {\"alignmentgroup\": \"True\", \"boxpoints\": \"all\", \"fillcolor\": \"rgba(255,255,255,0)\", \"hoveron\": \"points\", \"hovertemplate\": \"feedback_total=%{y}<br>price in $=%{x}<extra></extra>\", \"legendgroup\": \"2\", \"line\": {\"color\": \"rgba(255,255,255,0)\"}, \"marker\": {\"color\": \"#FECB52\"}, \"name\": \"2\", \"offsetgroup\": \"2\", \"orientation\": \"v\", \"pointpos\": 0, \"showlegend\": true, \"type\": \"box\", \"x\": [255.98944812362018], \"x0\": \" \", \"xaxis\": \"x\", \"y\": [2], \"y0\": \" \", \"yaxis\": \"y\"}, {\"alignmentgroup\": \"True\", \"boxpoints\": \"all\", \"fillcolor\": \"rgba(255,255,255,0)\", \"hoveron\": \"points\", \"hovertemplate\": \"feedback_total=%{y}<br>price in $=%{x}<extra></extra>\", \"legendgroup\": \"0\", \"line\": {\"color\": \"rgba(255,255,255,0)\"}, \"marker\": {\"color\": \"#636efa\"}, \"name\": \"0\", \"offsetgroup\": \"0\", \"orientation\": \"v\", \"pointpos\": 0, \"showlegend\": true, \"type\": \"box\", \"x\": [253.31220735785985], \"x0\": \" \", \"xaxis\": \"x\", \"y\": [0], \"y0\": \" \", \"yaxis\": \"y\"}, {\"alignmentgroup\": \"True\", \"boxpoints\": \"all\", \"fillcolor\": \"rgba(255,255,255,0)\", \"hoveron\": \"points\", \"hovertemplate\": \"feedback_total=%{y}<br>price in $=%{x}<extra></extra>\", \"legendgroup\": \"6\", \"line\": {\"color\": \"rgba(255,255,255,0)\"}, \"marker\": {\"color\": \"#EF553B\"}, \"name\": \"6\", \"offsetgroup\": \"6\", \"orientation\": \"v\", \"pointpos\": 0, \"showlegend\": true, \"type\": \"box\", \"x\": [245.12730158730162], \"x0\": \" \", \"xaxis\": \"x\", \"y\": [6], \"y0\": \" \", \"yaxis\": \"y\"}, {\"alignmentgroup\": \"True\", \"boxpoints\": \"all\", \"fillcolor\": \"rgba(255,255,255,0)\", \"hoveron\": \"points\", \"hovertemplate\": \"feedback_total=%{y}<br>price in $=%{x}<extra></extra>\", \"legendgroup\": \"5\", \"line\": {\"color\": \"rgba(255,255,255,0)\"}, \"marker\": {\"color\": \"#00cc96\"}, \"name\": \"5\", \"offsetgroup\": \"5\", \"orientation\": \"v\", \"pointpos\": 0, \"showlegend\": true, \"type\": \"box\", \"x\": [242.4490909090909], \"x0\": \" \", \"xaxis\": \"x\", \"y\": [5], \"y0\": \" \", \"yaxis\": \"y\"}, {\"alignmentgroup\": \"True\", \"boxpoints\": \"all\", \"fillcolor\": \"rgba(255,255,255,0)\", \"hoveron\": \"points\", \"hovertemplate\": \"feedback_total=%{y}<br>price in $=%{x}<extra></extra>\", \"legendgroup\": \"13\", \"line\": {\"color\": \"rgba(255,255,255,0)\"}, \"marker\": {\"color\": \"#ab63fa\"}, \"name\": \"13\", \"offsetgroup\": \"13\", \"orientation\": \"v\", \"pointpos\": 0, \"showlegend\": true, \"type\": \"box\", \"x\": [239.0935555555555], \"x0\": \" \", \"xaxis\": \"x\", \"y\": [13], \"y0\": \" \", \"yaxis\": \"y\"}, {\"alignmentgroup\": \"True\", \"boxpoints\": \"all\", \"fillcolor\": \"rgba(255,255,255,0)\", \"hoveron\": \"points\", \"hovertemplate\": \"feedback_total=%{y}<br>price in $=%{x}<extra></extra>\", \"legendgroup\": \"17\", \"line\": {\"color\": \"rgba(255,255,255,0)\"}, \"marker\": {\"color\": \"#FFA15A\"}, \"name\": \"17\", \"offsetgroup\": \"17\", \"orientation\": \"v\", \"pointpos\": 0, \"showlegend\": true, \"type\": \"box\", \"x\": [237.04000000000002], \"x0\": \" \", \"xaxis\": \"x\", \"y\": [17], \"y0\": \" \", \"yaxis\": \"y\"}, {\"alignmentgroup\": \"True\", \"boxpoints\": \"all\", \"fillcolor\": \"rgba(255,255,255,0)\", \"hoveron\": \"points\", \"hovertemplate\": \"feedback_total=%{y}<br>price in $=%{x}<extra></extra>\", \"legendgroup\": \"7\", \"line\": {\"color\": \"rgba(255,255,255,0)\"}, \"marker\": {\"color\": \"#19d3f3\"}, \"name\": \"7\", \"offsetgroup\": \"7\", \"orientation\": \"v\", \"pointpos\": 0, \"showlegend\": true, \"type\": \"box\", \"x\": [223.45887850467307], \"x0\": \" \", \"xaxis\": \"x\", \"y\": [7], \"y0\": \" \", \"yaxis\": \"y\"}, {\"alignmentgroup\": \"True\", \"boxpoints\": \"all\", \"fillcolor\": \"rgba(255,255,255,0)\", \"hoveron\": \"points\", \"hovertemplate\": \"feedback_total=%{y}<br>price in $=%{x}<extra></extra>\", \"legendgroup\": \"8\", \"line\": {\"color\": \"rgba(255,255,255,0)\"}, \"marker\": {\"color\": \"#FF6692\"}, \"name\": \"8\", \"offsetgroup\": \"8\", \"orientation\": \"v\", \"pointpos\": 0, \"showlegend\": true, \"type\": \"box\", \"x\": [222.44994750656167], \"x0\": \" \", \"xaxis\": \"x\", \"y\": [8], \"y0\": \" \", \"yaxis\": \"y\"}, {\"alignmentgroup\": \"True\", \"boxpoints\": \"all\", \"fillcolor\": \"rgba(255,255,255,0)\", \"hoveron\": \"points\", \"hovertemplate\": \"feedback_total=%{y}<br>price in $=%{x}<extra></extra>\", \"legendgroup\": \"73\", \"line\": {\"color\": \"rgba(255,255,255,0)\"}, \"marker\": {\"color\": \"#B6E880\"}, \"name\": \"73\", \"offsetgroup\": \"73\", \"orientation\": \"v\", \"pointpos\": 0, \"showlegend\": true, \"type\": \"box\", \"x\": [221.98994117647058], \"x0\": \" \", \"xaxis\": \"x\", \"y\": [73], \"y0\": \" \", \"yaxis\": \"y\"}, {\"alignmentgroup\": \"True\", \"boxpoints\": \"all\", \"fillcolor\": \"rgba(255,255,255,0)\", \"hoveron\": \"points\", \"hovertemplate\": \"feedback_total=%{y}<br>price in $=%{x}<extra></extra>\", \"legendgroup\": \"64\", \"line\": {\"color\": \"rgba(255,255,255,0)\"}, \"marker\": {\"color\": \"#FF97FF\"}, \"name\": \"64\", \"offsetgroup\": \"64\", \"orientation\": \"v\", \"pointpos\": 0, \"showlegend\": true, \"type\": \"box\", \"x\": [208.55941747572822], \"x0\": \" \", \"xaxis\": \"x\", \"y\": [64], \"y0\": \" \", \"yaxis\": \"y\"}, {\"alignmentgroup\": \"True\", \"boxpoints\": \"all\", \"fillcolor\": \"rgba(255,255,255,0)\", \"hoveron\": \"points\", \"hovertemplate\": \"feedback_total=%{y}<br>price in $=%{x}<extra></extra>\", \"legendgroup\": \"56\", \"line\": {\"color\": \"rgba(255,255,255,0)\"}, \"marker\": {\"color\": \"#FECB52\"}, \"name\": \"56\", \"offsetgroup\": \"56\", \"orientation\": \"v\", \"pointpos\": 0, \"showlegend\": true, \"type\": \"box\", \"x\": [208.02227488151667], \"x0\": \" \", \"xaxis\": \"x\", \"y\": [56], \"y0\": \" \", \"yaxis\": \"y\"}, {\"alignmentgroup\": \"True\", \"boxpoints\": \"all\", \"fillcolor\": \"rgba(255,255,255,0)\", \"hoveron\": \"points\", \"hovertemplate\": \"feedback_total=%{y}<br>price in $=%{x}<extra></extra>\", \"legendgroup\": \"3\", \"line\": {\"color\": \"rgba(255,255,255,0)\"}, \"marker\": {\"color\": \"#636efa\"}, \"name\": \"3\", \"offsetgroup\": \"3\", \"orientation\": \"v\", \"pointpos\": 0, \"showlegend\": true, \"type\": \"box\", \"x\": [206.44501718213044], \"x0\": \" \", \"xaxis\": \"x\", \"y\": [3], \"y0\": \" \", \"yaxis\": \"y\"}, {\"alignmentgroup\": \"True\", \"boxpoints\": \"all\", \"fillcolor\": \"rgba(255,255,255,0)\", \"hoveron\": \"points\", \"hovertemplate\": \"feedback_total=%{y}<br>price in $=%{x}<extra></extra>\", \"legendgroup\": \"4\", \"line\": {\"color\": \"rgba(255,255,255,0)\"}, \"marker\": {\"color\": \"#EF553B\"}, \"name\": \"4\", \"offsetgroup\": \"4\", \"orientation\": \"v\", \"pointpos\": 0, \"showlegend\": true, \"type\": \"box\", \"x\": [192.32864321608034], \"x0\": \" \", \"xaxis\": \"x\", \"y\": [4], \"y0\": \" \", \"yaxis\": \"y\"}, {\"alignmentgroup\": \"True\", \"boxpoints\": \"all\", \"fillcolor\": \"rgba(255,255,255,0)\", \"hoveron\": \"points\", \"hovertemplate\": \"feedback_total=%{y}<br>price in $=%{x}<extra></extra>\", \"legendgroup\": \"12\", \"line\": {\"color\": \"rgba(255,255,255,0)\"}, \"marker\": {\"color\": \"#00cc96\"}, \"name\": \"12\", \"offsetgroup\": \"12\", \"orientation\": \"v\", \"pointpos\": 0, \"showlegend\": true, \"type\": \"box\", \"x\": [188.33721052631574], \"x0\": \" \", \"xaxis\": \"x\", \"y\": [12], \"y0\": \" \", \"yaxis\": \"y\"}, {\"alignmentgroup\": \"True\", \"boxpoints\": \"all\", \"fillcolor\": \"rgba(255,255,255,0)\", \"hoveron\": \"points\", \"hovertemplate\": \"feedback_total=%{y}<br>price in $=%{x}<extra></extra>\", \"legendgroup\": \"1\", \"line\": {\"color\": \"rgba(255,255,255,0)\"}, \"marker\": {\"color\": \"#ab63fa\"}, \"name\": \"1\", \"offsetgroup\": \"1\", \"orientation\": \"v\", \"pointpos\": 0, \"showlegend\": true, \"type\": \"box\", \"x\": [153.12523437499996], \"x0\": \" \", \"xaxis\": \"x\", \"y\": [1], \"y0\": \" \", \"yaxis\": \"y\"}, {\"alignmentgroup\": \"True\", \"boxpoints\": \"all\", \"fillcolor\": \"rgba(255,255,255,0)\", \"hoveron\": \"points\", \"hovertemplate\": \"feedback_total=%{y}<br>price in $=%{x}<extra></extra>\", \"legendgroup\": \"22\", \"line\": {\"color\": \"rgba(255,255,255,0)\"}, \"marker\": {\"color\": \"#FFA15A\"}, \"name\": \"22\", \"offsetgroup\": \"22\", \"orientation\": \"v\", \"pointpos\": 0, \"showlegend\": true, \"type\": \"box\", \"x\": [147.6197701149425], \"x0\": \" \", \"xaxis\": \"x\", \"y\": [22], \"y0\": \" \", \"yaxis\": \"y\"}, {\"alignmentgroup\": \"True\", \"boxpoints\": \"all\", \"fillcolor\": \"rgba(255,255,255,0)\", \"hoveron\": \"points\", \"hovertemplate\": \"feedback_total=%{y}<br>price in $=%{x}<extra></extra>\", \"legendgroup\": \"11\", \"line\": {\"color\": \"rgba(255,255,255,0)\"}, \"marker\": {\"color\": \"#19d3f3\"}, \"name\": \"11\", \"offsetgroup\": \"11\", \"orientation\": \"v\", \"pointpos\": 0, \"showlegend\": true, \"type\": \"box\", \"x\": [147.53335025380713], \"x0\": \" \", \"xaxis\": \"x\", \"y\": [11], \"y0\": \" \", \"yaxis\": \"y\"}, {\"alignmentgroup\": \"True\", \"boxpoints\": \"all\", \"fillcolor\": \"rgba(255,255,255,0)\", \"hoveron\": \"points\", \"hovertemplate\": \"feedback_total=%{y}<br>price in $=%{x}<extra></extra>\", \"legendgroup\": \"45\", \"line\": {\"color\": \"rgba(255,255,255,0)\"}, \"marker\": {\"color\": \"#FF6692\"}, \"name\": \"45\", \"offsetgroup\": \"45\", \"orientation\": \"v\", \"pointpos\": 0, \"showlegend\": true, \"type\": \"box\", \"x\": [145.2956390977444], \"x0\": \" \", \"xaxis\": \"x\", \"y\": [45], \"y0\": \" \", \"yaxis\": \"y\"}, {\"alignmentgroup\": \"True\", \"boxpoints\": \"all\", \"fillcolor\": \"rgba(255,255,255,0)\", \"hoveron\": \"points\", \"hovertemplate\": \"feedback_total=%{y}<br>price in $=%{x}<extra></extra>\", \"legendgroup\": \"87\", \"line\": {\"color\": \"rgba(255,255,255,0)\"}, \"marker\": {\"color\": \"#B6E880\"}, \"name\": \"87\", \"offsetgroup\": \"87\", \"orientation\": \"v\", \"pointpos\": 0, \"showlegend\": true, \"type\": \"box\", \"x\": [130.5625], \"x0\": \" \", \"xaxis\": \"x\", \"y\": [87], \"y0\": \" \", \"yaxis\": \"y\"}, {\"alignmentgroup\": \"True\", \"boxpoints\": \"all\", \"fillcolor\": \"rgba(255,255,255,0)\", \"hoveron\": \"points\", \"hovertemplate\": \"feedback_total=%{y}<br>price in $=%{x}<extra></extra>\", \"legendgroup\": \"43\", \"line\": {\"color\": \"rgba(255,255,255,0)\"}, \"marker\": {\"color\": \"#FF97FF\"}, \"name\": \"43\", \"offsetgroup\": \"43\", \"orientation\": \"v\", \"pointpos\": 0, \"showlegend\": true, \"type\": \"box\", \"x\": [126.46111111111111], \"x0\": \" \", \"xaxis\": \"x\", \"y\": [43], \"y0\": \" \", \"yaxis\": \"y\"}, {\"alignmentgroup\": \"True\", \"boxpoints\": \"all\", \"fillcolor\": \"rgba(255,255,255,0)\", \"hoveron\": \"points\", \"hovertemplate\": \"feedback_total=%{y}<br>price in $=%{x}<extra></extra>\", \"legendgroup\": \"103\", \"line\": {\"color\": \"rgba(255,255,255,0)\"}, \"marker\": {\"color\": \"#FECB52\"}, \"name\": \"103\", \"offsetgroup\": \"103\", \"orientation\": \"v\", \"pointpos\": 0, \"showlegend\": true, \"type\": \"box\", \"x\": [121.98407821229048], \"x0\": \" \", \"xaxis\": \"x\", \"y\": [103], \"y0\": \" \", \"yaxis\": \"y\"}, {\"alignmentgroup\": \"True\", \"boxpoints\": \"all\", \"fillcolor\": \"rgba(255,255,255,0)\", \"hoveron\": \"points\", \"hovertemplate\": \"feedback_total=%{y}<br>price in $=%{x}<extra></extra>\", \"legendgroup\": \"88\", \"line\": {\"color\": \"rgba(255,255,255,0)\"}, \"marker\": {\"color\": \"#636efa\"}, \"name\": \"88\", \"offsetgroup\": \"88\", \"orientation\": \"v\", \"pointpos\": 0, \"showlegend\": true, \"type\": \"box\", \"x\": [115.29940928270042], \"x0\": \" \", \"xaxis\": \"x\", \"y\": [88], \"y0\": \" \", \"yaxis\": \"y\"}, {\"alignmentgroup\": \"True\", \"boxpoints\": \"all\", \"fillcolor\": \"rgba(255,255,255,0)\", \"hoveron\": \"points\", \"hovertemplate\": \"feedback_total=%{y}<br>price in $=%{x}<extra></extra>\", \"legendgroup\": \"98\", \"line\": {\"color\": \"rgba(255,255,255,0)\"}, \"marker\": {\"color\": \"#EF553B\"}, \"name\": \"98\", \"offsetgroup\": \"98\", \"orientation\": \"v\", \"pointpos\": 0, \"showlegend\": true, \"type\": \"box\", \"x\": [105.43592857142858], \"x0\": \" \", \"xaxis\": \"x\", \"y\": [98], \"y0\": \" \", \"yaxis\": \"y\"}, {\"alignmentgroup\": \"True\", \"boxpoints\": \"all\", \"fillcolor\": \"rgba(255,255,255,0)\", \"hoveron\": \"points\", \"hovertemplate\": \"feedback_total=%{y}<br>price in $=%{x}<extra></extra>\", \"legendgroup\": \"351\", \"line\": {\"color\": \"rgba(255,255,255,0)\"}, \"marker\": {\"color\": \"#00cc96\"}, \"name\": \"351\", \"offsetgroup\": \"351\", \"orientation\": \"v\", \"pointpos\": 0, \"showlegend\": true, \"type\": \"box\", \"x\": [90.44696000000003], \"x0\": \" \", \"xaxis\": \"x\", \"y\": [351], \"y0\": \" \", \"yaxis\": \"y\"}, {\"alignmentgroup\": \"True\", \"boxpoints\": \"all\", \"fillcolor\": \"rgba(255,255,255,0)\", \"hoveron\": \"points\", \"hovertemplate\": \"feedback_total=%{y}<br>price in $=%{x}<extra></extra>\", \"legendgroup\": \"825\", \"line\": {\"color\": \"rgba(255,255,255,0)\"}, \"marker\": {\"color\": \"#ab63fa\"}, \"name\": \"825\", \"offsetgroup\": \"825\", \"orientation\": \"v\", \"pointpos\": 0, \"showlegend\": true, \"type\": \"box\", \"x\": [85.32317073170732], \"x0\": \" \", \"xaxis\": \"x\", \"y\": [825], \"y0\": \" \", \"yaxis\": \"y\"}],                        {\"boxmode\": \"group\", \"legend\": {\"title\": {\"text\": \"feedback_total\"}, \"tracegroupgap\": 0}, \"margin\": {\"t\": 60}, \"template\": {\"data\": {\"bar\": [{\"error_x\": {\"color\": \"#2a3f5f\"}, \"error_y\": {\"color\": \"#2a3f5f\"}, \"marker\": {\"line\": {\"color\": \"#E5ECF6\", \"width\": 0.5}}, \"type\": \"bar\"}], \"barpolar\": [{\"marker\": {\"line\": {\"color\": \"#E5ECF6\", \"width\": 0.5}}, \"type\": \"barpolar\"}], \"carpet\": [{\"aaxis\": {\"endlinecolor\": \"#2a3f5f\", \"gridcolor\": \"white\", \"linecolor\": \"white\", \"minorgridcolor\": \"white\", \"startlinecolor\": \"#2a3f5f\"}, \"baxis\": {\"endlinecolor\": \"#2a3f5f\", \"gridcolor\": \"white\", \"linecolor\": \"white\", \"minorgridcolor\": \"white\", \"startlinecolor\": \"#2a3f5f\"}, \"type\": \"carpet\"}], \"choropleth\": [{\"colorbar\": {\"outlinewidth\": 0, \"ticks\": \"\"}, \"type\": \"choropleth\"}], \"contour\": [{\"colorbar\": {\"outlinewidth\": 0, \"ticks\": \"\"}, \"colorscale\": [[0.0, \"#0d0887\"], [0.1111111111111111, \"#46039f\"], [0.2222222222222222, \"#7201a8\"], [0.3333333333333333, \"#9c179e\"], [0.4444444444444444, \"#bd3786\"], [0.5555555555555556, \"#d8576b\"], [0.6666666666666666, \"#ed7953\"], [0.7777777777777778, \"#fb9f3a\"], [0.8888888888888888, \"#fdca26\"], [1.0, \"#f0f921\"]], \"type\": \"contour\"}], \"contourcarpet\": [{\"colorbar\": {\"outlinewidth\": 0, \"ticks\": \"\"}, \"type\": \"contourcarpet\"}], \"heatmap\": [{\"colorbar\": {\"outlinewidth\": 0, \"ticks\": \"\"}, \"colorscale\": [[0.0, \"#0d0887\"], [0.1111111111111111, \"#46039f\"], [0.2222222222222222, \"#7201a8\"], [0.3333333333333333, \"#9c179e\"], [0.4444444444444444, \"#bd3786\"], [0.5555555555555556, \"#d8576b\"], [0.6666666666666666, \"#ed7953\"], [0.7777777777777778, \"#fb9f3a\"], [0.8888888888888888, \"#fdca26\"], [1.0, \"#f0f921\"]], \"type\": \"heatmap\"}], \"heatmapgl\": [{\"colorbar\": {\"outlinewidth\": 0, \"ticks\": \"\"}, \"colorscale\": [[0.0, \"#0d0887\"], [0.1111111111111111, \"#46039f\"], [0.2222222222222222, \"#7201a8\"], [0.3333333333333333, \"#9c179e\"], [0.4444444444444444, \"#bd3786\"], [0.5555555555555556, \"#d8576b\"], [0.6666666666666666, \"#ed7953\"], [0.7777777777777778, \"#fb9f3a\"], [0.8888888888888888, \"#fdca26\"], [1.0, \"#f0f921\"]], \"type\": \"heatmapgl\"}], \"histogram\": [{\"marker\": {\"colorbar\": {\"outlinewidth\": 0, \"ticks\": \"\"}}, \"type\": \"histogram\"}], \"histogram2d\": [{\"colorbar\": {\"outlinewidth\": 0, \"ticks\": \"\"}, \"colorscale\": [[0.0, \"#0d0887\"], [0.1111111111111111, \"#46039f\"], [0.2222222222222222, \"#7201a8\"], [0.3333333333333333, \"#9c179e\"], [0.4444444444444444, \"#bd3786\"], [0.5555555555555556, \"#d8576b\"], [0.6666666666666666, \"#ed7953\"], [0.7777777777777778, \"#fb9f3a\"], [0.8888888888888888, \"#fdca26\"], [1.0, \"#f0f921\"]], \"type\": \"histogram2d\"}], \"histogram2dcontour\": [{\"colorbar\": {\"outlinewidth\": 0, \"ticks\": \"\"}, \"colorscale\": [[0.0, \"#0d0887\"], [0.1111111111111111, \"#46039f\"], [0.2222222222222222, \"#7201a8\"], [0.3333333333333333, \"#9c179e\"], [0.4444444444444444, \"#bd3786\"], [0.5555555555555556, \"#d8576b\"], [0.6666666666666666, \"#ed7953\"], [0.7777777777777778, \"#fb9f3a\"], [0.8888888888888888, \"#fdca26\"], [1.0, \"#f0f921\"]], \"type\": \"histogram2dcontour\"}], \"mesh3d\": [{\"colorbar\": {\"outlinewidth\": 0, \"ticks\": \"\"}, \"type\": \"mesh3d\"}], \"parcoords\": [{\"line\": {\"colorbar\": {\"outlinewidth\": 0, \"ticks\": \"\"}}, \"type\": \"parcoords\"}], \"pie\": [{\"automargin\": true, \"type\": \"pie\"}], \"scatter\": [{\"marker\": {\"colorbar\": {\"outlinewidth\": 0, \"ticks\": \"\"}}, \"type\": \"scatter\"}], \"scatter3d\": [{\"line\": {\"colorbar\": {\"outlinewidth\": 0, \"ticks\": \"\"}}, \"marker\": {\"colorbar\": {\"outlinewidth\": 0, \"ticks\": \"\"}}, \"type\": \"scatter3d\"}], \"scattercarpet\": [{\"marker\": {\"colorbar\": {\"outlinewidth\": 0, \"ticks\": \"\"}}, \"type\": \"scattercarpet\"}], \"scattergeo\": [{\"marker\": {\"colorbar\": {\"outlinewidth\": 0, \"ticks\": \"\"}}, \"type\": \"scattergeo\"}], \"scattergl\": [{\"marker\": {\"colorbar\": {\"outlinewidth\": 0, \"ticks\": \"\"}}, \"type\": \"scattergl\"}], \"scattermapbox\": [{\"marker\": {\"colorbar\": {\"outlinewidth\": 0, \"ticks\": \"\"}}, \"type\": \"scattermapbox\"}], \"scatterpolar\": [{\"marker\": {\"colorbar\": {\"outlinewidth\": 0, \"ticks\": \"\"}}, \"type\": \"scatterpolar\"}], \"scatterpolargl\": [{\"marker\": {\"colorbar\": {\"outlinewidth\": 0, \"ticks\": \"\"}}, \"type\": \"scatterpolargl\"}], \"scatterternary\": [{\"marker\": {\"colorbar\": {\"outlinewidth\": 0, \"ticks\": \"\"}}, \"type\": \"scatterternary\"}], \"surface\": [{\"colorbar\": {\"outlinewidth\": 0, \"ticks\": \"\"}, \"colorscale\": [[0.0, \"#0d0887\"], [0.1111111111111111, \"#46039f\"], [0.2222222222222222, \"#7201a8\"], [0.3333333333333333, \"#9c179e\"], [0.4444444444444444, \"#bd3786\"], [0.5555555555555556, \"#d8576b\"], [0.6666666666666666, \"#ed7953\"], [0.7777777777777778, \"#fb9f3a\"], [0.8888888888888888, \"#fdca26\"], [1.0, \"#f0f921\"]], \"type\": \"surface\"}], \"table\": [{\"cells\": {\"fill\": {\"color\": \"#EBF0F8\"}, \"line\": {\"color\": \"white\"}}, \"header\": {\"fill\": {\"color\": \"#C8D4E3\"}, \"line\": {\"color\": \"white\"}}, \"type\": \"table\"}]}, \"layout\": {\"annotationdefaults\": {\"arrowcolor\": \"#2a3f5f\", \"arrowhead\": 0, \"arrowwidth\": 1}, \"autotypenumbers\": \"strict\", \"coloraxis\": {\"colorbar\": {\"outlinewidth\": 0, \"ticks\": \"\"}}, \"colorscale\": {\"diverging\": [[0, \"#8e0152\"], [0.1, \"#c51b7d\"], [0.2, \"#de77ae\"], [0.3, \"#f1b6da\"], [0.4, \"#fde0ef\"], [0.5, \"#f7f7f7\"], [0.6, \"#e6f5d0\"], [0.7, \"#b8e186\"], [0.8, \"#7fbc41\"], [0.9, \"#4d9221\"], [1, \"#276419\"]], \"sequential\": [[0.0, \"#0d0887\"], [0.1111111111111111, \"#46039f\"], [0.2222222222222222, \"#7201a8\"], [0.3333333333333333, \"#9c179e\"], [0.4444444444444444, \"#bd3786\"], [0.5555555555555556, \"#d8576b\"], [0.6666666666666666, \"#ed7953\"], [0.7777777777777778, \"#fb9f3a\"], [0.8888888888888888, \"#fdca26\"], [1.0, \"#f0f921\"]], \"sequentialminus\": [[0.0, \"#0d0887\"], [0.1111111111111111, \"#46039f\"], [0.2222222222222222, \"#7201a8\"], [0.3333333333333333, \"#9c179e\"], [0.4444444444444444, \"#bd3786\"], [0.5555555555555556, \"#d8576b\"], [0.6666666666666666, \"#ed7953\"], [0.7777777777777778, \"#fb9f3a\"], [0.8888888888888888, \"#fdca26\"], [1.0, \"#f0f921\"]]}, \"colorway\": [\"#636efa\", \"#EF553B\", \"#00cc96\", \"#ab63fa\", \"#FFA15A\", \"#19d3f3\", \"#FF6692\", \"#B6E880\", \"#FF97FF\", \"#FECB52\"], \"font\": {\"color\": \"#2a3f5f\"}, \"geo\": {\"bgcolor\": \"white\", \"lakecolor\": \"white\", \"landcolor\": \"#E5ECF6\", \"showlakes\": true, \"showland\": true, \"subunitcolor\": \"white\"}, \"hoverlabel\": {\"align\": \"left\"}, \"hovermode\": \"closest\", \"mapbox\": {\"style\": \"light\"}, \"paper_bgcolor\": \"white\", \"plot_bgcolor\": \"#E5ECF6\", \"polar\": {\"angularaxis\": {\"gridcolor\": \"white\", \"linecolor\": \"white\", \"ticks\": \"\"}, \"bgcolor\": \"#E5ECF6\", \"radialaxis\": {\"gridcolor\": \"white\", \"linecolor\": \"white\", \"ticks\": \"\"}}, \"scene\": {\"xaxis\": {\"backgroundcolor\": \"#E5ECF6\", \"gridcolor\": \"white\", \"gridwidth\": 2, \"linecolor\": \"white\", \"showbackground\": true, \"ticks\": \"\", \"zerolinecolor\": \"white\"}, \"yaxis\": {\"backgroundcolor\": \"#E5ECF6\", \"gridcolor\": \"white\", \"gridwidth\": 2, \"linecolor\": \"white\", \"showbackground\": true, \"ticks\": \"\", \"zerolinecolor\": \"white\"}, \"zaxis\": {\"backgroundcolor\": \"#E5ECF6\", \"gridcolor\": \"white\", \"gridwidth\": 2, \"linecolor\": \"white\", \"showbackground\": true, \"ticks\": \"\", \"zerolinecolor\": \"white\"}}, \"shapedefaults\": {\"line\": {\"color\": \"#2a3f5f\"}}, \"ternary\": {\"aaxis\": {\"gridcolor\": \"white\", \"linecolor\": \"white\", \"ticks\": \"\"}, \"baxis\": {\"gridcolor\": \"white\", \"linecolor\": \"white\", \"ticks\": \"\"}, \"bgcolor\": \"#E5ECF6\", \"caxis\": {\"gridcolor\": \"white\", \"linecolor\": \"white\", \"ticks\": \"\"}}, \"title\": {\"x\": 0.05}, \"xaxis\": {\"automargin\": true, \"gridcolor\": \"white\", \"linecolor\": \"white\", \"ticks\": \"\", \"title\": {\"standoff\": 15}, \"zerolinecolor\": \"white\", \"zerolinewidth\": 2}, \"yaxis\": {\"automargin\": true, \"gridcolor\": \"white\", \"linecolor\": \"white\", \"ticks\": \"\", \"title\": {\"standoff\": 15}, \"zerolinecolor\": \"white\", \"zerolinewidth\": 2}}}, \"xaxis\": {\"anchor\": \"y\", \"domain\": [0.0, 1.0], \"title\": {\"text\": \"price in $\"}}, \"yaxis\": {\"anchor\": \"x\", \"categoryarray\": [825, 351, 98, 88, 103, 43, 87, 45, 11, 22, 1, 12, 4, 3, 56, 64, 73, 8, 7, 17, 13, 5, 6, 0, 2, 182, 203, 18, 38, 27, 241, 446, 31, 41], \"categoryorder\": \"array\", \"domain\": [0.0, 1.0], \"title\": {\"text\": \"feedback_total\"}}},                        {\"responsive\": true}                    ).then(function(){\n",
       "                            \n",
       "var gd = document.getElementById('f22a386b-0d42-46d7-8aec-036c08b322a5');\n",
       "var x = new MutationObserver(function (mutations, observer) {{\n",
       "        var display = window.getComputedStyle(gd).display;\n",
       "        if (!display || display === 'none') {{\n",
       "            console.log([gd, 'removed!']);\n",
       "            Plotly.purge(gd);\n",
       "            observer.disconnect();\n",
       "        }}\n",
       "}});\n",
       "\n",
       "// Listen for the removal of the full notebook cells\n",
       "var notebookContainer = gd.closest('#notebook-container');\n",
       "if (notebookContainer) {{\n",
       "    x.observe(notebookContainer, {childList: true});\n",
       "}}\n",
       "\n",
       "// Listen for the clearing of the current output cell\n",
       "var outputEl = gd.closest('.output');\n",
       "if (outputEl) {{\n",
       "    x.observe(outputEl, {childList: true});\n",
       "}}\n",
       "\n",
       "                        })                };                });            </script>        </div>"
      ]
     },
     "metadata": {},
     "output_type": "display_data"
    }
   ],
   "source": [
    "plot_category_wise('feedback_total')"
   ]
  },
  {
   "cell_type": "code",
   "execution_count": 75,
   "id": "sustained-african",
   "metadata": {},
   "outputs": [
    {
     "data": {
      "application/vnd.plotly.v1+json": {
       "config": {
        "plotlyServerURL": "https://plot.ly"
       },
       "data": [
        {
         "alignmentgroup": "True",
         "boxpoints": "all",
         "fillcolor": "rgba(255,255,255,0)",
         "hoveron": "points",
         "hovertemplate": "feedback_positive=%{y}<br>price in $=%{x}<extra></extra>",
         "legendgroup": "0% (0)",
         "line": {
          "color": "rgba(255,255,255,0)"
         },
         "marker": {
          "color": "#636efa"
         },
         "name": "0% (0)",
         "offsetgroup": "0% (0)",
         "orientation": "h",
         "pointpos": 0,
         "showlegend": true,
         "type": "box",
         "x": [
          252.3104472667038
         ],
         "x0": " ",
         "xaxis": "x",
         "y": [
          "0% (0)"
         ],
         "y0": " ",
         "yaxis": "y"
        },
        {
         "alignmentgroup": "True",
         "boxpoints": "all",
         "fillcolor": "rgba(255,255,255,0)",
         "hoveron": "points",
         "hovertemplate": "feedback_positive=%{y}<br>price in $=%{x}<extra></extra>",
         "legendgroup": "100% (1)",
         "line": {
          "color": "rgba(255,255,255,0)"
         },
         "marker": {
          "color": "#EF553B"
         },
         "name": "100% (1)",
         "offsetgroup": "100% (1)",
         "orientation": "h",
         "pointpos": 0,
         "showlegend": true,
         "type": "box",
         "x": [
          149.06922413793103
         ],
         "x0": " ",
         "xaxis": "x",
         "y": [
          "100% (1)"
         ],
         "y0": " ",
         "yaxis": "y"
        },
        {
         "alignmentgroup": "True",
         "boxpoints": "all",
         "fillcolor": "rgba(255,255,255,0)",
         "hoveron": "points",
         "hovertemplate": "feedback_positive=%{y}<br>price in $=%{x}<extra></extra>",
         "legendgroup": "100% (2)",
         "line": {
          "color": "rgba(255,255,255,0)"
         },
         "marker": {
          "color": "#00cc96"
         },
         "name": "100% (2)",
         "offsetgroup": "100% (2)",
         "orientation": "h",
         "pointpos": 0,
         "showlegend": true,
         "type": "box",
         "x": [
          268.74439560439566
         ],
         "x0": " ",
         "xaxis": "x",
         "y": [
          "100% (2)"
         ],
         "y0": " ",
         "yaxis": "y"
        },
        {
         "alignmentgroup": "True",
         "boxpoints": "all",
         "fillcolor": "rgba(255,255,255,0)",
         "hoveron": "points",
         "hovertemplate": "feedback_positive=%{y}<br>price in $=%{x}<extra></extra>",
         "legendgroup": "100% (3)",
         "line": {
          "color": "rgba(255,255,255,0)"
         },
         "marker": {
          "color": "#ab63fa"
         },
         "name": "100% (3)",
         "offsetgroup": "100% (3)",
         "orientation": "h",
         "pointpos": 0,
         "showlegend": true,
         "type": "box",
         "x": [
          213.63200743494406
         ],
         "x0": " ",
         "xaxis": "x",
         "y": [
          "100% (3)"
         ],
         "y0": " ",
         "yaxis": "y"
        },
        {
         "alignmentgroup": "True",
         "boxpoints": "all",
         "fillcolor": "rgba(255,255,255,0)",
         "hoveron": "points",
         "hovertemplate": "feedback_positive=%{y}<br>price in $=%{x}<extra></extra>",
         "legendgroup": "100% (4)",
         "line": {
          "color": "rgba(255,255,255,0)"
         },
         "marker": {
          "color": "#FFA15A"
         },
         "name": "100% (4)",
         "offsetgroup": "100% (4)",
         "orientation": "h",
         "pointpos": 0,
         "showlegend": true,
         "type": "box",
         "x": [
          205.1084927536231
         ],
         "x0": " ",
         "xaxis": "x",
         "y": [
          "100% (4)"
         ],
         "y0": " ",
         "yaxis": "y"
        },
        {
         "alignmentgroup": "True",
         "boxpoints": "all",
         "fillcolor": "rgba(255,255,255,0)",
         "hoveron": "points",
         "hovertemplate": "feedback_positive=%{y}<br>price in $=%{x}<extra></extra>",
         "legendgroup": "100% (5)",
         "line": {
          "color": "rgba(255,255,255,0)"
         },
         "marker": {
          "color": "#19d3f3"
         },
         "name": "100% (5)",
         "offsetgroup": "100% (5)",
         "orientation": "h",
         "pointpos": 0,
         "showlegend": true,
         "type": "box",
         "x": [
          258.74251700680287
         ],
         "x0": " ",
         "xaxis": "x",
         "y": [
          "100% (5)"
         ],
         "y0": " ",
         "yaxis": "y"
        },
        {
         "alignmentgroup": "True",
         "boxpoints": "all",
         "fillcolor": "rgba(255,255,255,0)",
         "hoveron": "points",
         "hovertemplate": "feedback_positive=%{y}<br>price in $=%{x}<extra></extra>",
         "legendgroup": "100% (8)",
         "line": {
          "color": "rgba(255,255,255,0)"
         },
         "marker": {
          "color": "#FF6692"
         },
         "name": "100% (8)",
         "offsetgroup": "100% (8)",
         "orientation": "h",
         "pointpos": 0,
         "showlegend": true,
         "type": "box",
         "x": [
          235.38349206349199
         ],
         "x0": " ",
         "xaxis": "x",
         "y": [
          "100% (8)"
         ],
         "y0": " ",
         "yaxis": "y"
        },
        {
         "alignmentgroup": "True",
         "boxpoints": "all",
         "fillcolor": "rgba(255,255,255,0)",
         "hoveron": "points",
         "hovertemplate": "feedback_positive=%{y}<br>price in $=%{x}<extra></extra>",
         "legendgroup": "68.42% (26)",
         "line": {
          "color": "rgba(255,255,255,0)"
         },
         "marker": {
          "color": "#B6E880"
         },
         "name": "68.42% (26)",
         "offsetgroup": "68.42% (26)",
         "orientation": "h",
         "pointpos": 0,
         "showlegend": true,
         "type": "box",
         "x": [
          298.4542079207919
         ],
         "x0": " ",
         "xaxis": "x",
         "y": [
          "68.42% (26)"
         ],
         "y0": " ",
         "yaxis": "y"
        },
        {
         "alignmentgroup": "True",
         "boxpoints": "all",
         "fillcolor": "rgba(255,255,255,0)",
         "hoveron": "points",
         "hovertemplate": "feedback_positive=%{y}<br>price in $=%{x}<extra></extra>",
         "legendgroup": "77.78% (14)",
         "line": {
          "color": "rgba(255,255,255,0)"
         },
         "marker": {
          "color": "#FF97FF"
         },
         "name": "77.78% (14)",
         "offsetgroup": "77.78% (14)",
         "orientation": "h",
         "pointpos": 0,
         "showlegend": true,
         "type": "box",
         "x": [
          248.267358490566
         ],
         "x0": " ",
         "xaxis": "x",
         "y": [
          "77.78% (14)"
         ],
         "y0": " ",
         "yaxis": "y"
        },
        {
         "alignmentgroup": "True",
         "boxpoints": "all",
         "fillcolor": "rgba(255,255,255,0)",
         "hoveron": "points",
         "hovertemplate": "feedback_positive=%{y}<br>price in $=%{x}<extra></extra>",
         "legendgroup": "82.42% (150)",
         "line": {
          "color": "rgba(255,255,255,0)"
         },
         "marker": {
          "color": "#FECB52"
         },
         "name": "82.42% (150)",
         "offsetgroup": "82.42% (150)",
         "orientation": "h",
         "pointpos": 0,
         "showlegend": true,
         "type": "box",
         "x": [
          266.3797587131368
         ],
         "x0": " ",
         "xaxis": "x",
         "y": [
          "82.42% (150)"
         ],
         "y0": " ",
         "yaxis": "y"
        },
        {
         "alignmentgroup": "True",
         "boxpoints": "all",
         "fillcolor": "rgba(255,255,255,0)",
         "hoveron": "points",
         "hovertemplate": "feedback_positive=%{y}<br>price in $=%{x}<extra></extra>",
         "legendgroup": "83.93% (47)",
         "line": {
          "color": "rgba(255,255,255,0)"
         },
         "marker": {
          "color": "#636efa"
         },
         "name": "83.93% (47)",
         "offsetgroup": "83.93% (47)",
         "orientation": "h",
         "pointpos": 0,
         "showlegend": true,
         "type": "box",
         "x": [
          174.17894230769227
         ],
         "x0": " ",
         "xaxis": "x",
         "y": [
          "83.93% (47)"
         ],
         "y0": " ",
         "yaxis": "y"
        },
        {
         "alignmentgroup": "True",
         "boxpoints": "all",
         "fillcolor": "rgba(255,255,255,0)",
         "hoveron": "points",
         "hovertemplate": "feedback_positive=%{y}<br>price in $=%{x}<extra></extra>",
         "legendgroup": "85.47% (300)",
         "line": {
          "color": "rgba(255,255,255,0)"
         },
         "marker": {
          "color": "#EF553B"
         },
         "name": "85.47% (300)",
         "offsetgroup": "85.47% (300)",
         "orientation": "h",
         "pointpos": 0,
         "showlegend": true,
         "type": "box",
         "x": [
          90.44696000000003
         ],
         "x0": " ",
         "xaxis": "x",
         "y": [
          "85.47% (300)"
         ],
         "y0": " ",
         "yaxis": "y"
        },
        {
         "alignmentgroup": "True",
         "boxpoints": "all",
         "fillcolor": "rgba(255,255,255,0)",
         "hoveron": "points",
         "hovertemplate": "feedback_positive=%{y}<br>price in $=%{x}<extra></extra>",
         "legendgroup": "86.21% (75)",
         "line": {
          "color": "rgba(255,255,255,0)"
         },
         "marker": {
          "color": "#00cc96"
         },
         "name": "86.21% (75)",
         "offsetgroup": "86.21% (75)",
         "orientation": "h",
         "pointpos": 0,
         "showlegend": true,
         "type": "box",
         "x": [
          130.5625
         ],
         "x0": " ",
         "xaxis": "x",
         "y": [
          "86.21% (75)"
         ],
         "y0": " ",
         "yaxis": "y"
        },
        {
         "alignmentgroup": "True",
         "boxpoints": "all",
         "fillcolor": "rgba(255,255,255,0)",
         "hoveron": "points",
         "hovertemplate": "feedback_positive=%{y}<br>price in $=%{x}<extra></extra>",
         "legendgroup": "94.52% (69)",
         "line": {
          "color": "rgba(255,255,255,0)"
         },
         "marker": {
          "color": "#ab63fa"
         },
         "name": "94.52% (69)",
         "offsetgroup": "94.52% (69)",
         "orientation": "h",
         "pointpos": 0,
         "showlegend": true,
         "type": "box",
         "x": [
          208.9132773109244
         ],
         "x0": " ",
         "xaxis": "x",
         "y": [
          "94.52% (69)"
         ],
         "y0": " ",
         "yaxis": "y"
        },
        {
         "alignmentgroup": "True",
         "boxpoints": "all",
         "fillcolor": "rgba(255,255,255,0)",
         "hoveron": "points",
         "hovertemplate": "feedback_positive=%{y}<br>price in $=%{x}<extra></extra>",
         "legendgroup": "94.67% (781)",
         "line": {
          "color": "rgba(255,255,255,0)"
         },
         "marker": {
          "color": "#FFA15A"
         },
         "name": "94.67% (781)",
         "offsetgroup": "94.67% (781)",
         "orientation": "h",
         "pointpos": 0,
         "showlegend": true,
         "type": "box",
         "x": [
          85.32317073170732
         ],
         "x0": " ",
         "xaxis": "x",
         "y": [
          "94.67% (781)"
         ],
         "y0": " ",
         "yaxis": "y"
        },
        {
         "alignmentgroup": "True",
         "boxpoints": "all",
         "fillcolor": "rgba(255,255,255,0)",
         "hoveron": "points",
         "hovertemplate": "feedback_positive=%{y}<br>price in $=%{x}<extra></extra>",
         "legendgroup": "94.90% (93)",
         "line": {
          "color": "rgba(255,255,255,0)"
         },
         "marker": {
          "color": "#19d3f3"
         },
         "name": "94.90% (93)",
         "offsetgroup": "94.90% (93)",
         "orientation": "h",
         "pointpos": 0,
         "showlegend": true,
         "type": "box",
         "x": [
          90.09040983606558
         ],
         "x0": " ",
         "xaxis": "x",
         "y": [
          "94.90% (93)"
         ],
         "y0": " ",
         "yaxis": "y"
        },
        {
         "alignmentgroup": "True",
         "boxpoints": "all",
         "fillcolor": "rgba(255,255,255,0)",
         "hoveron": "points",
         "hovertemplate": "feedback_positive=%{y}<br>price in $=%{x}<extra></extra>",
         "legendgroup": "96.59% (85)",
         "line": {
          "color": "rgba(255,255,255,0)"
         },
         "marker": {
          "color": "#FF6692"
         },
         "name": "96.59% (85)",
         "offsetgroup": "96.59% (85)",
         "orientation": "h",
         "pointpos": 0,
         "showlegend": true,
         "type": "box",
         "x": [
          116.91950892857143
         ],
         "x0": " ",
         "xaxis": "x",
         "y": [
          "96.59% (85)"
         ],
         "y0": " ",
         "yaxis": "y"
        },
        {
         "alignmentgroup": "True",
         "boxpoints": "all",
         "fillcolor": "rgba(255,255,255,0)",
         "hoveron": "points",
         "hovertemplate": "feedback_positive=%{y}<br>price in $=%{x}<extra></extra>",
         "legendgroup": "97.56% (40)",
         "line": {
          "color": "rgba(255,255,255,0)"
         },
         "marker": {
          "color": "#B6E880"
         },
         "name": "97.56% (40)",
         "offsetgroup": "97.56% (40)",
         "orientation": "h",
         "pointpos": 0,
         "showlegend": true,
         "type": "box",
         "x": [
          474.1815827338128
         ],
         "x0": " ",
         "xaxis": "x",
         "y": [
          "97.56% (40)"
         ],
         "y0": " ",
         "yaxis": "y"
        },
        {
         "alignmentgroup": "True",
         "boxpoints": "all",
         "fillcolor": "rgba(255,255,255,0)",
         "hoveron": "points",
         "hovertemplate": "feedback_positive=%{y}<br>price in $=%{x}<extra></extra>",
         "legendgroup": "97.76% (436)",
         "line": {
          "color": "rgba(255,255,255,0)"
         },
         "marker": {
          "color": "#FF97FF"
         },
         "name": "97.76% (436)",
         "offsetgroup": "97.76% (436)",
         "orientation": "h",
         "pointpos": 0,
         "showlegend": true,
         "type": "box",
         "x": [
          340.5998019801981
         ],
         "x0": " ",
         "xaxis": "x",
         "y": [
          "97.76% (436)"
         ],
         "y0": " ",
         "yaxis": "y"
        },
        {
         "alignmentgroup": "True",
         "boxpoints": "all",
         "fillcolor": "rgba(255,255,255,0)",
         "hoveron": "points",
         "hovertemplate": "feedback_positive=%{y}<br>price in $=%{x}<extra></extra>",
         "legendgroup": "99.03% (102)",
         "line": {
          "color": "rgba(255,255,255,0)"
         },
         "marker": {
          "color": "#FECB52"
         },
         "name": "99.03% (102)",
         "offsetgroup": "99.03% (102)",
         "orientation": "h",
         "pointpos": 0,
         "showlegend": true,
         "type": "box",
         "x": [
          72.98006993006996
         ],
         "x0": " ",
         "xaxis": "x",
         "y": [
          "99.03% (102)"
         ],
         "y0": " ",
         "yaxis": "y"
        },
        {
         "alignmentgroup": "True",
         "boxpoints": "all",
         "fillcolor": "rgba(255,255,255,0)",
         "hoveron": "points",
         "hovertemplate": "feedback_positive=%{y}<br>price in $=%{x}<extra></extra>",
         "legendgroup": "99.17% (239)",
         "line": {
          "color": "rgba(255,255,255,0)"
         },
         "marker": {
          "color": "#636efa"
         },
         "name": "99.17% (239)",
         "offsetgroup": "99.17% (239)",
         "orientation": "h",
         "pointpos": 0,
         "showlegend": true,
         "type": "box",
         "x": [
          321.36959595959604
         ],
         "x0": " ",
         "xaxis": "x",
         "y": [
          "99.17% (239)"
         ],
         "y0": " ",
         "yaxis": "y"
        },
        {
         "alignmentgroup": "True",
         "boxpoints": "all",
         "fillcolor": "rgba(255,255,255,0)",
         "hoveron": "points",
         "hovertemplate": "feedback_positive=%{y}<br>price in $=%{x}<extra></extra>",
         "legendgroup": "99.51% (202)",
         "line": {
          "color": "rgba(255,255,255,0)"
         },
         "marker": {
          "color": "#EF553B"
         },
         "name": "99.51% (202)",
         "offsetgroup": "99.51% (202)",
         "orientation": "h",
         "pointpos": 0,
         "showlegend": true,
         "type": "box",
         "x": [
          296.70811320754717
         ],
         "x0": " ",
         "xaxis": "x",
         "y": [
          "99.51% (202)"
         ],
         "y0": " ",
         "yaxis": "y"
        }
       ],
       "layout": {
        "boxmode": "overlay",
        "legend": {
         "title": {
          "text": "feedback_positive"
         },
         "tracegroupgap": 0
        },
        "margin": {
         "t": 60
        },
        "template": {
         "data": {
          "bar": [
           {
            "error_x": {
             "color": "#2a3f5f"
            },
            "error_y": {
             "color": "#2a3f5f"
            },
            "marker": {
             "line": {
              "color": "#E5ECF6",
              "width": 0.5
             }
            },
            "type": "bar"
           }
          ],
          "barpolar": [
           {
            "marker": {
             "line": {
              "color": "#E5ECF6",
              "width": 0.5
             }
            },
            "type": "barpolar"
           }
          ],
          "carpet": [
           {
            "aaxis": {
             "endlinecolor": "#2a3f5f",
             "gridcolor": "white",
             "linecolor": "white",
             "minorgridcolor": "white",
             "startlinecolor": "#2a3f5f"
            },
            "baxis": {
             "endlinecolor": "#2a3f5f",
             "gridcolor": "white",
             "linecolor": "white",
             "minorgridcolor": "white",
             "startlinecolor": "#2a3f5f"
            },
            "type": "carpet"
           }
          ],
          "choropleth": [
           {
            "colorbar": {
             "outlinewidth": 0,
             "ticks": ""
            },
            "type": "choropleth"
           }
          ],
          "contour": [
           {
            "colorbar": {
             "outlinewidth": 0,
             "ticks": ""
            },
            "colorscale": [
             [
              0,
              "#0d0887"
             ],
             [
              0.1111111111111111,
              "#46039f"
             ],
             [
              0.2222222222222222,
              "#7201a8"
             ],
             [
              0.3333333333333333,
              "#9c179e"
             ],
             [
              0.4444444444444444,
              "#bd3786"
             ],
             [
              0.5555555555555556,
              "#d8576b"
             ],
             [
              0.6666666666666666,
              "#ed7953"
             ],
             [
              0.7777777777777778,
              "#fb9f3a"
             ],
             [
              0.8888888888888888,
              "#fdca26"
             ],
             [
              1,
              "#f0f921"
             ]
            ],
            "type": "contour"
           }
          ],
          "contourcarpet": [
           {
            "colorbar": {
             "outlinewidth": 0,
             "ticks": ""
            },
            "type": "contourcarpet"
           }
          ],
          "heatmap": [
           {
            "colorbar": {
             "outlinewidth": 0,
             "ticks": ""
            },
            "colorscale": [
             [
              0,
              "#0d0887"
             ],
             [
              0.1111111111111111,
              "#46039f"
             ],
             [
              0.2222222222222222,
              "#7201a8"
             ],
             [
              0.3333333333333333,
              "#9c179e"
             ],
             [
              0.4444444444444444,
              "#bd3786"
             ],
             [
              0.5555555555555556,
              "#d8576b"
             ],
             [
              0.6666666666666666,
              "#ed7953"
             ],
             [
              0.7777777777777778,
              "#fb9f3a"
             ],
             [
              0.8888888888888888,
              "#fdca26"
             ],
             [
              1,
              "#f0f921"
             ]
            ],
            "type": "heatmap"
           }
          ],
          "heatmapgl": [
           {
            "colorbar": {
             "outlinewidth": 0,
             "ticks": ""
            },
            "colorscale": [
             [
              0,
              "#0d0887"
             ],
             [
              0.1111111111111111,
              "#46039f"
             ],
             [
              0.2222222222222222,
              "#7201a8"
             ],
             [
              0.3333333333333333,
              "#9c179e"
             ],
             [
              0.4444444444444444,
              "#bd3786"
             ],
             [
              0.5555555555555556,
              "#d8576b"
             ],
             [
              0.6666666666666666,
              "#ed7953"
             ],
             [
              0.7777777777777778,
              "#fb9f3a"
             ],
             [
              0.8888888888888888,
              "#fdca26"
             ],
             [
              1,
              "#f0f921"
             ]
            ],
            "type": "heatmapgl"
           }
          ],
          "histogram": [
           {
            "marker": {
             "colorbar": {
              "outlinewidth": 0,
              "ticks": ""
             }
            },
            "type": "histogram"
           }
          ],
          "histogram2d": [
           {
            "colorbar": {
             "outlinewidth": 0,
             "ticks": ""
            },
            "colorscale": [
             [
              0,
              "#0d0887"
             ],
             [
              0.1111111111111111,
              "#46039f"
             ],
             [
              0.2222222222222222,
              "#7201a8"
             ],
             [
              0.3333333333333333,
              "#9c179e"
             ],
             [
              0.4444444444444444,
              "#bd3786"
             ],
             [
              0.5555555555555556,
              "#d8576b"
             ],
             [
              0.6666666666666666,
              "#ed7953"
             ],
             [
              0.7777777777777778,
              "#fb9f3a"
             ],
             [
              0.8888888888888888,
              "#fdca26"
             ],
             [
              1,
              "#f0f921"
             ]
            ],
            "type": "histogram2d"
           }
          ],
          "histogram2dcontour": [
           {
            "colorbar": {
             "outlinewidth": 0,
             "ticks": ""
            },
            "colorscale": [
             [
              0,
              "#0d0887"
             ],
             [
              0.1111111111111111,
              "#46039f"
             ],
             [
              0.2222222222222222,
              "#7201a8"
             ],
             [
              0.3333333333333333,
              "#9c179e"
             ],
             [
              0.4444444444444444,
              "#bd3786"
             ],
             [
              0.5555555555555556,
              "#d8576b"
             ],
             [
              0.6666666666666666,
              "#ed7953"
             ],
             [
              0.7777777777777778,
              "#fb9f3a"
             ],
             [
              0.8888888888888888,
              "#fdca26"
             ],
             [
              1,
              "#f0f921"
             ]
            ],
            "type": "histogram2dcontour"
           }
          ],
          "mesh3d": [
           {
            "colorbar": {
             "outlinewidth": 0,
             "ticks": ""
            },
            "type": "mesh3d"
           }
          ],
          "parcoords": [
           {
            "line": {
             "colorbar": {
              "outlinewidth": 0,
              "ticks": ""
             }
            },
            "type": "parcoords"
           }
          ],
          "pie": [
           {
            "automargin": true,
            "type": "pie"
           }
          ],
          "scatter": [
           {
            "marker": {
             "colorbar": {
              "outlinewidth": 0,
              "ticks": ""
             }
            },
            "type": "scatter"
           }
          ],
          "scatter3d": [
           {
            "line": {
             "colorbar": {
              "outlinewidth": 0,
              "ticks": ""
             }
            },
            "marker": {
             "colorbar": {
              "outlinewidth": 0,
              "ticks": ""
             }
            },
            "type": "scatter3d"
           }
          ],
          "scattercarpet": [
           {
            "marker": {
             "colorbar": {
              "outlinewidth": 0,
              "ticks": ""
             }
            },
            "type": "scattercarpet"
           }
          ],
          "scattergeo": [
           {
            "marker": {
             "colorbar": {
              "outlinewidth": 0,
              "ticks": ""
             }
            },
            "type": "scattergeo"
           }
          ],
          "scattergl": [
           {
            "marker": {
             "colorbar": {
              "outlinewidth": 0,
              "ticks": ""
             }
            },
            "type": "scattergl"
           }
          ],
          "scattermapbox": [
           {
            "marker": {
             "colorbar": {
              "outlinewidth": 0,
              "ticks": ""
             }
            },
            "type": "scattermapbox"
           }
          ],
          "scatterpolar": [
           {
            "marker": {
             "colorbar": {
              "outlinewidth": 0,
              "ticks": ""
             }
            },
            "type": "scatterpolar"
           }
          ],
          "scatterpolargl": [
           {
            "marker": {
             "colorbar": {
              "outlinewidth": 0,
              "ticks": ""
             }
            },
            "type": "scatterpolargl"
           }
          ],
          "scatterternary": [
           {
            "marker": {
             "colorbar": {
              "outlinewidth": 0,
              "ticks": ""
             }
            },
            "type": "scatterternary"
           }
          ],
          "surface": [
           {
            "colorbar": {
             "outlinewidth": 0,
             "ticks": ""
            },
            "colorscale": [
             [
              0,
              "#0d0887"
             ],
             [
              0.1111111111111111,
              "#46039f"
             ],
             [
              0.2222222222222222,
              "#7201a8"
             ],
             [
              0.3333333333333333,
              "#9c179e"
             ],
             [
              0.4444444444444444,
              "#bd3786"
             ],
             [
              0.5555555555555556,
              "#d8576b"
             ],
             [
              0.6666666666666666,
              "#ed7953"
             ],
             [
              0.7777777777777778,
              "#fb9f3a"
             ],
             [
              0.8888888888888888,
              "#fdca26"
             ],
             [
              1,
              "#f0f921"
             ]
            ],
            "type": "surface"
           }
          ],
          "table": [
           {
            "cells": {
             "fill": {
              "color": "#EBF0F8"
             },
             "line": {
              "color": "white"
             }
            },
            "header": {
             "fill": {
              "color": "#C8D4E3"
             },
             "line": {
              "color": "white"
             }
            },
            "type": "table"
           }
          ]
         },
         "layout": {
          "annotationdefaults": {
           "arrowcolor": "#2a3f5f",
           "arrowhead": 0,
           "arrowwidth": 1
          },
          "autotypenumbers": "strict",
          "coloraxis": {
           "colorbar": {
            "outlinewidth": 0,
            "ticks": ""
           }
          },
          "colorscale": {
           "diverging": [
            [
             0,
             "#8e0152"
            ],
            [
             0.1,
             "#c51b7d"
            ],
            [
             0.2,
             "#de77ae"
            ],
            [
             0.3,
             "#f1b6da"
            ],
            [
             0.4,
             "#fde0ef"
            ],
            [
             0.5,
             "#f7f7f7"
            ],
            [
             0.6,
             "#e6f5d0"
            ],
            [
             0.7,
             "#b8e186"
            ],
            [
             0.8,
             "#7fbc41"
            ],
            [
             0.9,
             "#4d9221"
            ],
            [
             1,
             "#276419"
            ]
           ],
           "sequential": [
            [
             0,
             "#0d0887"
            ],
            [
             0.1111111111111111,
             "#46039f"
            ],
            [
             0.2222222222222222,
             "#7201a8"
            ],
            [
             0.3333333333333333,
             "#9c179e"
            ],
            [
             0.4444444444444444,
             "#bd3786"
            ],
            [
             0.5555555555555556,
             "#d8576b"
            ],
            [
             0.6666666666666666,
             "#ed7953"
            ],
            [
             0.7777777777777778,
             "#fb9f3a"
            ],
            [
             0.8888888888888888,
             "#fdca26"
            ],
            [
             1,
             "#f0f921"
            ]
           ],
           "sequentialminus": [
            [
             0,
             "#0d0887"
            ],
            [
             0.1111111111111111,
             "#46039f"
            ],
            [
             0.2222222222222222,
             "#7201a8"
            ],
            [
             0.3333333333333333,
             "#9c179e"
            ],
            [
             0.4444444444444444,
             "#bd3786"
            ],
            [
             0.5555555555555556,
             "#d8576b"
            ],
            [
             0.6666666666666666,
             "#ed7953"
            ],
            [
             0.7777777777777778,
             "#fb9f3a"
            ],
            [
             0.8888888888888888,
             "#fdca26"
            ],
            [
             1,
             "#f0f921"
            ]
           ]
          },
          "colorway": [
           "#636efa",
           "#EF553B",
           "#00cc96",
           "#ab63fa",
           "#FFA15A",
           "#19d3f3",
           "#FF6692",
           "#B6E880",
           "#FF97FF",
           "#FECB52"
          ],
          "font": {
           "color": "#2a3f5f"
          },
          "geo": {
           "bgcolor": "white",
           "lakecolor": "white",
           "landcolor": "#E5ECF6",
           "showlakes": true,
           "showland": true,
           "subunitcolor": "white"
          },
          "hoverlabel": {
           "align": "left"
          },
          "hovermode": "closest",
          "mapbox": {
           "style": "light"
          },
          "paper_bgcolor": "white",
          "plot_bgcolor": "#E5ECF6",
          "polar": {
           "angularaxis": {
            "gridcolor": "white",
            "linecolor": "white",
            "ticks": ""
           },
           "bgcolor": "#E5ECF6",
           "radialaxis": {
            "gridcolor": "white",
            "linecolor": "white",
            "ticks": ""
           }
          },
          "scene": {
           "xaxis": {
            "backgroundcolor": "#E5ECF6",
            "gridcolor": "white",
            "gridwidth": 2,
            "linecolor": "white",
            "showbackground": true,
            "ticks": "",
            "zerolinecolor": "white"
           },
           "yaxis": {
            "backgroundcolor": "#E5ECF6",
            "gridcolor": "white",
            "gridwidth": 2,
            "linecolor": "white",
            "showbackground": true,
            "ticks": "",
            "zerolinecolor": "white"
           },
           "zaxis": {
            "backgroundcolor": "#E5ECF6",
            "gridcolor": "white",
            "gridwidth": 2,
            "linecolor": "white",
            "showbackground": true,
            "ticks": "",
            "zerolinecolor": "white"
           }
          },
          "shapedefaults": {
           "line": {
            "color": "#2a3f5f"
           }
          },
          "ternary": {
           "aaxis": {
            "gridcolor": "white",
            "linecolor": "white",
            "ticks": ""
           },
           "baxis": {
            "gridcolor": "white",
            "linecolor": "white",
            "ticks": ""
           },
           "bgcolor": "#E5ECF6",
           "caxis": {
            "gridcolor": "white",
            "linecolor": "white",
            "ticks": ""
           }
          },
          "title": {
           "x": 0.05
          },
          "xaxis": {
           "automargin": true,
           "gridcolor": "white",
           "linecolor": "white",
           "ticks": "",
           "title": {
            "standoff": 15
           },
           "zerolinecolor": "white",
           "zerolinewidth": 2
          },
          "yaxis": {
           "automargin": true,
           "gridcolor": "white",
           "linecolor": "white",
           "ticks": "",
           "title": {
            "standoff": 15
           },
           "zerolinecolor": "white",
           "zerolinewidth": 2
          }
         }
        },
        "xaxis": {
         "anchor": "y",
         "domain": [
          0,
          1
         ],
         "title": {
          "text": "price in $"
         }
        },
        "yaxis": {
         "anchor": "x",
         "categoryarray": [
          "99.51% (202)",
          "99.17% (239)",
          "99.03% (102)",
          "97.76% (436)",
          "97.56% (40)",
          "96.59% (85)",
          "94.90% (93)",
          "94.67% (781)",
          "94.52% (69)",
          "86.21% (75)",
          "85.47% (300)",
          "83.93% (47)",
          "82.42% (150)",
          "77.78% (14)",
          "68.42% (26)",
          "100% (8)",
          "100% (5)",
          "100% (4)",
          "100% (3)",
          "100% (2)",
          "100% (1)",
          "0% (0)"
         ],
         "categoryorder": "array",
         "domain": [
          0,
          1
         ],
         "title": {
          "text": "feedback_positive"
         }
        }
       }
      },
      "text/html": [
       "<div>                            <div id=\"98b571e0-97da-4ab6-b7a3-240141b9ccab\" class=\"plotly-graph-div\" style=\"height:525px; width:100%;\"></div>            <script type=\"text/javascript\">                require([\"plotly\"], function(Plotly) {                    window.PLOTLYENV=window.PLOTLYENV || {};                                    if (document.getElementById(\"98b571e0-97da-4ab6-b7a3-240141b9ccab\")) {                    Plotly.newPlot(                        \"98b571e0-97da-4ab6-b7a3-240141b9ccab\",                        [{\"alignmentgroup\": \"True\", \"boxpoints\": \"all\", \"fillcolor\": \"rgba(255,255,255,0)\", \"hoveron\": \"points\", \"hovertemplate\": \"feedback_positive=%{y}<br>price in $=%{x}<extra></extra>\", \"legendgroup\": \"0%\\u00a0(0)\", \"line\": {\"color\": \"rgba(255,255,255,0)\"}, \"marker\": {\"color\": \"#636efa\"}, \"name\": \"0%\\u00a0(0)\", \"offsetgroup\": \"0%\\u00a0(0)\", \"orientation\": \"h\", \"pointpos\": 0, \"showlegend\": true, \"type\": \"box\", \"x\": [252.3104472667038], \"x0\": \" \", \"xaxis\": \"x\", \"y\": [\"0%\\u00a0(0)\"], \"y0\": \" \", \"yaxis\": \"y\"}, {\"alignmentgroup\": \"True\", \"boxpoints\": \"all\", \"fillcolor\": \"rgba(255,255,255,0)\", \"hoveron\": \"points\", \"hovertemplate\": \"feedback_positive=%{y}<br>price in $=%{x}<extra></extra>\", \"legendgroup\": \"100%\\u00a0(1)\", \"line\": {\"color\": \"rgba(255,255,255,0)\"}, \"marker\": {\"color\": \"#EF553B\"}, \"name\": \"100%\\u00a0(1)\", \"offsetgroup\": \"100%\\u00a0(1)\", \"orientation\": \"h\", \"pointpos\": 0, \"showlegend\": true, \"type\": \"box\", \"x\": [149.06922413793103], \"x0\": \" \", \"xaxis\": \"x\", \"y\": [\"100%\\u00a0(1)\"], \"y0\": \" \", \"yaxis\": \"y\"}, {\"alignmentgroup\": \"True\", \"boxpoints\": \"all\", \"fillcolor\": \"rgba(255,255,255,0)\", \"hoveron\": \"points\", \"hovertemplate\": \"feedback_positive=%{y}<br>price in $=%{x}<extra></extra>\", \"legendgroup\": \"100%\\u00a0(2)\", \"line\": {\"color\": \"rgba(255,255,255,0)\"}, \"marker\": {\"color\": \"#00cc96\"}, \"name\": \"100%\\u00a0(2)\", \"offsetgroup\": \"100%\\u00a0(2)\", \"orientation\": \"h\", \"pointpos\": 0, \"showlegend\": true, \"type\": \"box\", \"x\": [268.74439560439566], \"x0\": \" \", \"xaxis\": \"x\", \"y\": [\"100%\\u00a0(2)\"], \"y0\": \" \", \"yaxis\": \"y\"}, {\"alignmentgroup\": \"True\", \"boxpoints\": \"all\", \"fillcolor\": \"rgba(255,255,255,0)\", \"hoveron\": \"points\", \"hovertemplate\": \"feedback_positive=%{y}<br>price in $=%{x}<extra></extra>\", \"legendgroup\": \"100%\\u00a0(3)\", \"line\": {\"color\": \"rgba(255,255,255,0)\"}, \"marker\": {\"color\": \"#ab63fa\"}, \"name\": \"100%\\u00a0(3)\", \"offsetgroup\": \"100%\\u00a0(3)\", \"orientation\": \"h\", \"pointpos\": 0, \"showlegend\": true, \"type\": \"box\", \"x\": [213.63200743494406], \"x0\": \" \", \"xaxis\": \"x\", \"y\": [\"100%\\u00a0(3)\"], \"y0\": \" \", \"yaxis\": \"y\"}, {\"alignmentgroup\": \"True\", \"boxpoints\": \"all\", \"fillcolor\": \"rgba(255,255,255,0)\", \"hoveron\": \"points\", \"hovertemplate\": \"feedback_positive=%{y}<br>price in $=%{x}<extra></extra>\", \"legendgroup\": \"100%\\u00a0(4)\", \"line\": {\"color\": \"rgba(255,255,255,0)\"}, \"marker\": {\"color\": \"#FFA15A\"}, \"name\": \"100%\\u00a0(4)\", \"offsetgroup\": \"100%\\u00a0(4)\", \"orientation\": \"h\", \"pointpos\": 0, \"showlegend\": true, \"type\": \"box\", \"x\": [205.1084927536231], \"x0\": \" \", \"xaxis\": \"x\", \"y\": [\"100%\\u00a0(4)\"], \"y0\": \" \", \"yaxis\": \"y\"}, {\"alignmentgroup\": \"True\", \"boxpoints\": \"all\", \"fillcolor\": \"rgba(255,255,255,0)\", \"hoveron\": \"points\", \"hovertemplate\": \"feedback_positive=%{y}<br>price in $=%{x}<extra></extra>\", \"legendgroup\": \"100%\\u00a0(5)\", \"line\": {\"color\": \"rgba(255,255,255,0)\"}, \"marker\": {\"color\": \"#19d3f3\"}, \"name\": \"100%\\u00a0(5)\", \"offsetgroup\": \"100%\\u00a0(5)\", \"orientation\": \"h\", \"pointpos\": 0, \"showlegend\": true, \"type\": \"box\", \"x\": [258.74251700680287], \"x0\": \" \", \"xaxis\": \"x\", \"y\": [\"100%\\u00a0(5)\"], \"y0\": \" \", \"yaxis\": \"y\"}, {\"alignmentgroup\": \"True\", \"boxpoints\": \"all\", \"fillcolor\": \"rgba(255,255,255,0)\", \"hoveron\": \"points\", \"hovertemplate\": \"feedback_positive=%{y}<br>price in $=%{x}<extra></extra>\", \"legendgroup\": \"100%\\u00a0(8)\", \"line\": {\"color\": \"rgba(255,255,255,0)\"}, \"marker\": {\"color\": \"#FF6692\"}, \"name\": \"100%\\u00a0(8)\", \"offsetgroup\": \"100%\\u00a0(8)\", \"orientation\": \"h\", \"pointpos\": 0, \"showlegend\": true, \"type\": \"box\", \"x\": [235.38349206349199], \"x0\": \" \", \"xaxis\": \"x\", \"y\": [\"100%\\u00a0(8)\"], \"y0\": \" \", \"yaxis\": \"y\"}, {\"alignmentgroup\": \"True\", \"boxpoints\": \"all\", \"fillcolor\": \"rgba(255,255,255,0)\", \"hoveron\": \"points\", \"hovertemplate\": \"feedback_positive=%{y}<br>price in $=%{x}<extra></extra>\", \"legendgroup\": \"68.42%\\u00a0(26)\", \"line\": {\"color\": \"rgba(255,255,255,0)\"}, \"marker\": {\"color\": \"#B6E880\"}, \"name\": \"68.42%\\u00a0(26)\", \"offsetgroup\": \"68.42%\\u00a0(26)\", \"orientation\": \"h\", \"pointpos\": 0, \"showlegend\": true, \"type\": \"box\", \"x\": [298.4542079207919], \"x0\": \" \", \"xaxis\": \"x\", \"y\": [\"68.42%\\u00a0(26)\"], \"y0\": \" \", \"yaxis\": \"y\"}, {\"alignmentgroup\": \"True\", \"boxpoints\": \"all\", \"fillcolor\": \"rgba(255,255,255,0)\", \"hoveron\": \"points\", \"hovertemplate\": \"feedback_positive=%{y}<br>price in $=%{x}<extra></extra>\", \"legendgroup\": \"77.78%\\u00a0(14)\", \"line\": {\"color\": \"rgba(255,255,255,0)\"}, \"marker\": {\"color\": \"#FF97FF\"}, \"name\": \"77.78%\\u00a0(14)\", \"offsetgroup\": \"77.78%\\u00a0(14)\", \"orientation\": \"h\", \"pointpos\": 0, \"showlegend\": true, \"type\": \"box\", \"x\": [248.267358490566], \"x0\": \" \", \"xaxis\": \"x\", \"y\": [\"77.78%\\u00a0(14)\"], \"y0\": \" \", \"yaxis\": \"y\"}, {\"alignmentgroup\": \"True\", \"boxpoints\": \"all\", \"fillcolor\": \"rgba(255,255,255,0)\", \"hoveron\": \"points\", \"hovertemplate\": \"feedback_positive=%{y}<br>price in $=%{x}<extra></extra>\", \"legendgroup\": \"82.42%\\u00a0(150)\", \"line\": {\"color\": \"rgba(255,255,255,0)\"}, \"marker\": {\"color\": \"#FECB52\"}, \"name\": \"82.42%\\u00a0(150)\", \"offsetgroup\": \"82.42%\\u00a0(150)\", \"orientation\": \"h\", \"pointpos\": 0, \"showlegend\": true, \"type\": \"box\", \"x\": [266.3797587131368], \"x0\": \" \", \"xaxis\": \"x\", \"y\": [\"82.42%\\u00a0(150)\"], \"y0\": \" \", \"yaxis\": \"y\"}, {\"alignmentgroup\": \"True\", \"boxpoints\": \"all\", \"fillcolor\": \"rgba(255,255,255,0)\", \"hoveron\": \"points\", \"hovertemplate\": \"feedback_positive=%{y}<br>price in $=%{x}<extra></extra>\", \"legendgroup\": \"83.93%\\u00a0(47)\", \"line\": {\"color\": \"rgba(255,255,255,0)\"}, \"marker\": {\"color\": \"#636efa\"}, \"name\": \"83.93%\\u00a0(47)\", \"offsetgroup\": \"83.93%\\u00a0(47)\", \"orientation\": \"h\", \"pointpos\": 0, \"showlegend\": true, \"type\": \"box\", \"x\": [174.17894230769227], \"x0\": \" \", \"xaxis\": \"x\", \"y\": [\"83.93%\\u00a0(47)\"], \"y0\": \" \", \"yaxis\": \"y\"}, {\"alignmentgroup\": \"True\", \"boxpoints\": \"all\", \"fillcolor\": \"rgba(255,255,255,0)\", \"hoveron\": \"points\", \"hovertemplate\": \"feedback_positive=%{y}<br>price in $=%{x}<extra></extra>\", \"legendgroup\": \"85.47%\\u00a0(300)\", \"line\": {\"color\": \"rgba(255,255,255,0)\"}, \"marker\": {\"color\": \"#EF553B\"}, \"name\": \"85.47%\\u00a0(300)\", \"offsetgroup\": \"85.47%\\u00a0(300)\", \"orientation\": \"h\", \"pointpos\": 0, \"showlegend\": true, \"type\": \"box\", \"x\": [90.44696000000003], \"x0\": \" \", \"xaxis\": \"x\", \"y\": [\"85.47%\\u00a0(300)\"], \"y0\": \" \", \"yaxis\": \"y\"}, {\"alignmentgroup\": \"True\", \"boxpoints\": \"all\", \"fillcolor\": \"rgba(255,255,255,0)\", \"hoveron\": \"points\", \"hovertemplate\": \"feedback_positive=%{y}<br>price in $=%{x}<extra></extra>\", \"legendgroup\": \"86.21%\\u00a0(75)\", \"line\": {\"color\": \"rgba(255,255,255,0)\"}, \"marker\": {\"color\": \"#00cc96\"}, \"name\": \"86.21%\\u00a0(75)\", \"offsetgroup\": \"86.21%\\u00a0(75)\", \"orientation\": \"h\", \"pointpos\": 0, \"showlegend\": true, \"type\": \"box\", \"x\": [130.5625], \"x0\": \" \", \"xaxis\": \"x\", \"y\": [\"86.21%\\u00a0(75)\"], \"y0\": \" \", \"yaxis\": \"y\"}, {\"alignmentgroup\": \"True\", \"boxpoints\": \"all\", \"fillcolor\": \"rgba(255,255,255,0)\", \"hoveron\": \"points\", \"hovertemplate\": \"feedback_positive=%{y}<br>price in $=%{x}<extra></extra>\", \"legendgroup\": \"94.52%\\u00a0(69)\", \"line\": {\"color\": \"rgba(255,255,255,0)\"}, \"marker\": {\"color\": \"#ab63fa\"}, \"name\": \"94.52%\\u00a0(69)\", \"offsetgroup\": \"94.52%\\u00a0(69)\", \"orientation\": \"h\", \"pointpos\": 0, \"showlegend\": true, \"type\": \"box\", \"x\": [208.9132773109244], \"x0\": \" \", \"xaxis\": \"x\", \"y\": [\"94.52%\\u00a0(69)\"], \"y0\": \" \", \"yaxis\": \"y\"}, {\"alignmentgroup\": \"True\", \"boxpoints\": \"all\", \"fillcolor\": \"rgba(255,255,255,0)\", \"hoveron\": \"points\", \"hovertemplate\": \"feedback_positive=%{y}<br>price in $=%{x}<extra></extra>\", \"legendgroup\": \"94.67%\\u00a0(781)\", \"line\": {\"color\": \"rgba(255,255,255,0)\"}, \"marker\": {\"color\": \"#FFA15A\"}, \"name\": \"94.67%\\u00a0(781)\", \"offsetgroup\": \"94.67%\\u00a0(781)\", \"orientation\": \"h\", \"pointpos\": 0, \"showlegend\": true, \"type\": \"box\", \"x\": [85.32317073170732], \"x0\": \" \", \"xaxis\": \"x\", \"y\": [\"94.67%\\u00a0(781)\"], \"y0\": \" \", \"yaxis\": \"y\"}, {\"alignmentgroup\": \"True\", \"boxpoints\": \"all\", \"fillcolor\": \"rgba(255,255,255,0)\", \"hoveron\": \"points\", \"hovertemplate\": \"feedback_positive=%{y}<br>price in $=%{x}<extra></extra>\", \"legendgroup\": \"94.90%\\u00a0(93)\", \"line\": {\"color\": \"rgba(255,255,255,0)\"}, \"marker\": {\"color\": \"#19d3f3\"}, \"name\": \"94.90%\\u00a0(93)\", \"offsetgroup\": \"94.90%\\u00a0(93)\", \"orientation\": \"h\", \"pointpos\": 0, \"showlegend\": true, \"type\": \"box\", \"x\": [90.09040983606558], \"x0\": \" \", \"xaxis\": \"x\", \"y\": [\"94.90%\\u00a0(93)\"], \"y0\": \" \", \"yaxis\": \"y\"}, {\"alignmentgroup\": \"True\", \"boxpoints\": \"all\", \"fillcolor\": \"rgba(255,255,255,0)\", \"hoveron\": \"points\", \"hovertemplate\": \"feedback_positive=%{y}<br>price in $=%{x}<extra></extra>\", \"legendgroup\": \"96.59%\\u00a0(85)\", \"line\": {\"color\": \"rgba(255,255,255,0)\"}, \"marker\": {\"color\": \"#FF6692\"}, \"name\": \"96.59%\\u00a0(85)\", \"offsetgroup\": \"96.59%\\u00a0(85)\", \"orientation\": \"h\", \"pointpos\": 0, \"showlegend\": true, \"type\": \"box\", \"x\": [116.91950892857143], \"x0\": \" \", \"xaxis\": \"x\", \"y\": [\"96.59%\\u00a0(85)\"], \"y0\": \" \", \"yaxis\": \"y\"}, {\"alignmentgroup\": \"True\", \"boxpoints\": \"all\", \"fillcolor\": \"rgba(255,255,255,0)\", \"hoveron\": \"points\", \"hovertemplate\": \"feedback_positive=%{y}<br>price in $=%{x}<extra></extra>\", \"legendgroup\": \"97.56%\\u00a0(40)\", \"line\": {\"color\": \"rgba(255,255,255,0)\"}, \"marker\": {\"color\": \"#B6E880\"}, \"name\": \"97.56%\\u00a0(40)\", \"offsetgroup\": \"97.56%\\u00a0(40)\", \"orientation\": \"h\", \"pointpos\": 0, \"showlegend\": true, \"type\": \"box\", \"x\": [474.1815827338128], \"x0\": \" \", \"xaxis\": \"x\", \"y\": [\"97.56%\\u00a0(40)\"], \"y0\": \" \", \"yaxis\": \"y\"}, {\"alignmentgroup\": \"True\", \"boxpoints\": \"all\", \"fillcolor\": \"rgba(255,255,255,0)\", \"hoveron\": \"points\", \"hovertemplate\": \"feedback_positive=%{y}<br>price in $=%{x}<extra></extra>\", \"legendgroup\": \"97.76%\\u00a0(436)\", \"line\": {\"color\": \"rgba(255,255,255,0)\"}, \"marker\": {\"color\": \"#FF97FF\"}, \"name\": \"97.76%\\u00a0(436)\", \"offsetgroup\": \"97.76%\\u00a0(436)\", \"orientation\": \"h\", \"pointpos\": 0, \"showlegend\": true, \"type\": \"box\", \"x\": [340.5998019801981], \"x0\": \" \", \"xaxis\": \"x\", \"y\": [\"97.76%\\u00a0(436)\"], \"y0\": \" \", \"yaxis\": \"y\"}, {\"alignmentgroup\": \"True\", \"boxpoints\": \"all\", \"fillcolor\": \"rgba(255,255,255,0)\", \"hoveron\": \"points\", \"hovertemplate\": \"feedback_positive=%{y}<br>price in $=%{x}<extra></extra>\", \"legendgroup\": \"99.03%\\u00a0(102)\", \"line\": {\"color\": \"rgba(255,255,255,0)\"}, \"marker\": {\"color\": \"#FECB52\"}, \"name\": \"99.03%\\u00a0(102)\", \"offsetgroup\": \"99.03%\\u00a0(102)\", \"orientation\": \"h\", \"pointpos\": 0, \"showlegend\": true, \"type\": \"box\", \"x\": [72.98006993006996], \"x0\": \" \", \"xaxis\": \"x\", \"y\": [\"99.03%\\u00a0(102)\"], \"y0\": \" \", \"yaxis\": \"y\"}, {\"alignmentgroup\": \"True\", \"boxpoints\": \"all\", \"fillcolor\": \"rgba(255,255,255,0)\", \"hoveron\": \"points\", \"hovertemplate\": \"feedback_positive=%{y}<br>price in $=%{x}<extra></extra>\", \"legendgroup\": \"99.17%\\u00a0(239)\", \"line\": {\"color\": \"rgba(255,255,255,0)\"}, \"marker\": {\"color\": \"#636efa\"}, \"name\": \"99.17%\\u00a0(239)\", \"offsetgroup\": \"99.17%\\u00a0(239)\", \"orientation\": \"h\", \"pointpos\": 0, \"showlegend\": true, \"type\": \"box\", \"x\": [321.36959595959604], \"x0\": \" \", \"xaxis\": \"x\", \"y\": [\"99.17%\\u00a0(239)\"], \"y0\": \" \", \"yaxis\": \"y\"}, {\"alignmentgroup\": \"True\", \"boxpoints\": \"all\", \"fillcolor\": \"rgba(255,255,255,0)\", \"hoveron\": \"points\", \"hovertemplate\": \"feedback_positive=%{y}<br>price in $=%{x}<extra></extra>\", \"legendgroup\": \"99.51%\\u00a0(202)\", \"line\": {\"color\": \"rgba(255,255,255,0)\"}, \"marker\": {\"color\": \"#EF553B\"}, \"name\": \"99.51%\\u00a0(202)\", \"offsetgroup\": \"99.51%\\u00a0(202)\", \"orientation\": \"h\", \"pointpos\": 0, \"showlegend\": true, \"type\": \"box\", \"x\": [296.70811320754717], \"x0\": \" \", \"xaxis\": \"x\", \"y\": [\"99.51%\\u00a0(202)\"], \"y0\": \" \", \"yaxis\": \"y\"}],                        {\"boxmode\": \"overlay\", \"legend\": {\"title\": {\"text\": \"feedback_positive\"}, \"tracegroupgap\": 0}, \"margin\": {\"t\": 60}, \"template\": {\"data\": {\"bar\": [{\"error_x\": {\"color\": \"#2a3f5f\"}, \"error_y\": {\"color\": \"#2a3f5f\"}, \"marker\": {\"line\": {\"color\": \"#E5ECF6\", \"width\": 0.5}}, \"type\": \"bar\"}], \"barpolar\": [{\"marker\": {\"line\": {\"color\": \"#E5ECF6\", \"width\": 0.5}}, \"type\": \"barpolar\"}], \"carpet\": [{\"aaxis\": {\"endlinecolor\": \"#2a3f5f\", \"gridcolor\": \"white\", \"linecolor\": \"white\", \"minorgridcolor\": \"white\", \"startlinecolor\": \"#2a3f5f\"}, \"baxis\": {\"endlinecolor\": \"#2a3f5f\", \"gridcolor\": \"white\", \"linecolor\": \"white\", \"minorgridcolor\": \"white\", \"startlinecolor\": \"#2a3f5f\"}, \"type\": \"carpet\"}], \"choropleth\": [{\"colorbar\": {\"outlinewidth\": 0, \"ticks\": \"\"}, \"type\": \"choropleth\"}], \"contour\": [{\"colorbar\": {\"outlinewidth\": 0, \"ticks\": \"\"}, \"colorscale\": [[0.0, \"#0d0887\"], [0.1111111111111111, \"#46039f\"], [0.2222222222222222, \"#7201a8\"], [0.3333333333333333, \"#9c179e\"], [0.4444444444444444, \"#bd3786\"], [0.5555555555555556, \"#d8576b\"], [0.6666666666666666, \"#ed7953\"], [0.7777777777777778, \"#fb9f3a\"], [0.8888888888888888, \"#fdca26\"], [1.0, \"#f0f921\"]], \"type\": \"contour\"}], \"contourcarpet\": [{\"colorbar\": {\"outlinewidth\": 0, \"ticks\": \"\"}, \"type\": \"contourcarpet\"}], \"heatmap\": [{\"colorbar\": {\"outlinewidth\": 0, \"ticks\": \"\"}, \"colorscale\": [[0.0, \"#0d0887\"], [0.1111111111111111, \"#46039f\"], [0.2222222222222222, \"#7201a8\"], [0.3333333333333333, \"#9c179e\"], [0.4444444444444444, \"#bd3786\"], [0.5555555555555556, \"#d8576b\"], [0.6666666666666666, \"#ed7953\"], [0.7777777777777778, \"#fb9f3a\"], [0.8888888888888888, \"#fdca26\"], [1.0, \"#f0f921\"]], \"type\": \"heatmap\"}], \"heatmapgl\": [{\"colorbar\": {\"outlinewidth\": 0, \"ticks\": \"\"}, \"colorscale\": [[0.0, \"#0d0887\"], [0.1111111111111111, \"#46039f\"], [0.2222222222222222, \"#7201a8\"], [0.3333333333333333, \"#9c179e\"], [0.4444444444444444, \"#bd3786\"], [0.5555555555555556, \"#d8576b\"], [0.6666666666666666, \"#ed7953\"], [0.7777777777777778, \"#fb9f3a\"], [0.8888888888888888, \"#fdca26\"], [1.0, \"#f0f921\"]], \"type\": \"heatmapgl\"}], \"histogram\": [{\"marker\": {\"colorbar\": {\"outlinewidth\": 0, \"ticks\": \"\"}}, \"type\": \"histogram\"}], \"histogram2d\": [{\"colorbar\": {\"outlinewidth\": 0, \"ticks\": \"\"}, \"colorscale\": [[0.0, \"#0d0887\"], [0.1111111111111111, \"#46039f\"], [0.2222222222222222, \"#7201a8\"], [0.3333333333333333, \"#9c179e\"], [0.4444444444444444, \"#bd3786\"], [0.5555555555555556, \"#d8576b\"], [0.6666666666666666, \"#ed7953\"], [0.7777777777777778, \"#fb9f3a\"], [0.8888888888888888, \"#fdca26\"], [1.0, \"#f0f921\"]], \"type\": \"histogram2d\"}], \"histogram2dcontour\": [{\"colorbar\": {\"outlinewidth\": 0, \"ticks\": \"\"}, \"colorscale\": [[0.0, \"#0d0887\"], [0.1111111111111111, \"#46039f\"], [0.2222222222222222, \"#7201a8\"], [0.3333333333333333, \"#9c179e\"], [0.4444444444444444, \"#bd3786\"], [0.5555555555555556, \"#d8576b\"], [0.6666666666666666, \"#ed7953\"], [0.7777777777777778, \"#fb9f3a\"], [0.8888888888888888, \"#fdca26\"], [1.0, \"#f0f921\"]], \"type\": \"histogram2dcontour\"}], \"mesh3d\": [{\"colorbar\": {\"outlinewidth\": 0, \"ticks\": \"\"}, \"type\": \"mesh3d\"}], \"parcoords\": [{\"line\": {\"colorbar\": {\"outlinewidth\": 0, \"ticks\": \"\"}}, \"type\": \"parcoords\"}], \"pie\": [{\"automargin\": true, \"type\": \"pie\"}], \"scatter\": [{\"marker\": {\"colorbar\": {\"outlinewidth\": 0, \"ticks\": \"\"}}, \"type\": \"scatter\"}], \"scatter3d\": [{\"line\": {\"colorbar\": {\"outlinewidth\": 0, \"ticks\": \"\"}}, \"marker\": {\"colorbar\": {\"outlinewidth\": 0, \"ticks\": \"\"}}, \"type\": \"scatter3d\"}], \"scattercarpet\": [{\"marker\": {\"colorbar\": {\"outlinewidth\": 0, \"ticks\": \"\"}}, \"type\": \"scattercarpet\"}], \"scattergeo\": [{\"marker\": {\"colorbar\": {\"outlinewidth\": 0, \"ticks\": \"\"}}, \"type\": \"scattergeo\"}], \"scattergl\": [{\"marker\": {\"colorbar\": {\"outlinewidth\": 0, \"ticks\": \"\"}}, \"type\": \"scattergl\"}], \"scattermapbox\": [{\"marker\": {\"colorbar\": {\"outlinewidth\": 0, \"ticks\": \"\"}}, \"type\": \"scattermapbox\"}], \"scatterpolar\": [{\"marker\": {\"colorbar\": {\"outlinewidth\": 0, \"ticks\": \"\"}}, \"type\": \"scatterpolar\"}], \"scatterpolargl\": [{\"marker\": {\"colorbar\": {\"outlinewidth\": 0, \"ticks\": \"\"}}, \"type\": \"scatterpolargl\"}], \"scatterternary\": [{\"marker\": {\"colorbar\": {\"outlinewidth\": 0, \"ticks\": \"\"}}, \"type\": \"scatterternary\"}], \"surface\": [{\"colorbar\": {\"outlinewidth\": 0, \"ticks\": \"\"}, \"colorscale\": [[0.0, \"#0d0887\"], [0.1111111111111111, \"#46039f\"], [0.2222222222222222, \"#7201a8\"], [0.3333333333333333, \"#9c179e\"], [0.4444444444444444, \"#bd3786\"], [0.5555555555555556, \"#d8576b\"], [0.6666666666666666, \"#ed7953\"], [0.7777777777777778, \"#fb9f3a\"], [0.8888888888888888, \"#fdca26\"], [1.0, \"#f0f921\"]], \"type\": \"surface\"}], \"table\": [{\"cells\": {\"fill\": {\"color\": \"#EBF0F8\"}, \"line\": {\"color\": \"white\"}}, \"header\": {\"fill\": {\"color\": \"#C8D4E3\"}, \"line\": {\"color\": \"white\"}}, \"type\": \"table\"}]}, \"layout\": {\"annotationdefaults\": {\"arrowcolor\": \"#2a3f5f\", \"arrowhead\": 0, \"arrowwidth\": 1}, \"autotypenumbers\": \"strict\", \"coloraxis\": {\"colorbar\": {\"outlinewidth\": 0, \"ticks\": \"\"}}, \"colorscale\": {\"diverging\": [[0, \"#8e0152\"], [0.1, \"#c51b7d\"], [0.2, \"#de77ae\"], [0.3, \"#f1b6da\"], [0.4, \"#fde0ef\"], [0.5, \"#f7f7f7\"], [0.6, \"#e6f5d0\"], [0.7, \"#b8e186\"], [0.8, \"#7fbc41\"], [0.9, \"#4d9221\"], [1, \"#276419\"]], \"sequential\": [[0.0, \"#0d0887\"], [0.1111111111111111, \"#46039f\"], [0.2222222222222222, \"#7201a8\"], [0.3333333333333333, \"#9c179e\"], [0.4444444444444444, \"#bd3786\"], [0.5555555555555556, \"#d8576b\"], [0.6666666666666666, \"#ed7953\"], [0.7777777777777778, \"#fb9f3a\"], [0.8888888888888888, \"#fdca26\"], [1.0, \"#f0f921\"]], \"sequentialminus\": [[0.0, \"#0d0887\"], [0.1111111111111111, \"#46039f\"], [0.2222222222222222, \"#7201a8\"], [0.3333333333333333, \"#9c179e\"], [0.4444444444444444, \"#bd3786\"], [0.5555555555555556, \"#d8576b\"], [0.6666666666666666, \"#ed7953\"], [0.7777777777777778, \"#fb9f3a\"], [0.8888888888888888, \"#fdca26\"], [1.0, \"#f0f921\"]]}, \"colorway\": [\"#636efa\", \"#EF553B\", \"#00cc96\", \"#ab63fa\", \"#FFA15A\", \"#19d3f3\", \"#FF6692\", \"#B6E880\", \"#FF97FF\", \"#FECB52\"], \"font\": {\"color\": \"#2a3f5f\"}, \"geo\": {\"bgcolor\": \"white\", \"lakecolor\": \"white\", \"landcolor\": \"#E5ECF6\", \"showlakes\": true, \"showland\": true, \"subunitcolor\": \"white\"}, \"hoverlabel\": {\"align\": \"left\"}, \"hovermode\": \"closest\", \"mapbox\": {\"style\": \"light\"}, \"paper_bgcolor\": \"white\", \"plot_bgcolor\": \"#E5ECF6\", \"polar\": {\"angularaxis\": {\"gridcolor\": \"white\", \"linecolor\": \"white\", \"ticks\": \"\"}, \"bgcolor\": \"#E5ECF6\", \"radialaxis\": {\"gridcolor\": \"white\", \"linecolor\": \"white\", \"ticks\": \"\"}}, \"scene\": {\"xaxis\": {\"backgroundcolor\": \"#E5ECF6\", \"gridcolor\": \"white\", \"gridwidth\": 2, \"linecolor\": \"white\", \"showbackground\": true, \"ticks\": \"\", \"zerolinecolor\": \"white\"}, \"yaxis\": {\"backgroundcolor\": \"#E5ECF6\", \"gridcolor\": \"white\", \"gridwidth\": 2, \"linecolor\": \"white\", \"showbackground\": true, \"ticks\": \"\", \"zerolinecolor\": \"white\"}, \"zaxis\": {\"backgroundcolor\": \"#E5ECF6\", \"gridcolor\": \"white\", \"gridwidth\": 2, \"linecolor\": \"white\", \"showbackground\": true, \"ticks\": \"\", \"zerolinecolor\": \"white\"}}, \"shapedefaults\": {\"line\": {\"color\": \"#2a3f5f\"}}, \"ternary\": {\"aaxis\": {\"gridcolor\": \"white\", \"linecolor\": \"white\", \"ticks\": \"\"}, \"baxis\": {\"gridcolor\": \"white\", \"linecolor\": \"white\", \"ticks\": \"\"}, \"bgcolor\": \"#E5ECF6\", \"caxis\": {\"gridcolor\": \"white\", \"linecolor\": \"white\", \"ticks\": \"\"}}, \"title\": {\"x\": 0.05}, \"xaxis\": {\"automargin\": true, \"gridcolor\": \"white\", \"linecolor\": \"white\", \"ticks\": \"\", \"title\": {\"standoff\": 15}, \"zerolinecolor\": \"white\", \"zerolinewidth\": 2}, \"yaxis\": {\"automargin\": true, \"gridcolor\": \"white\", \"linecolor\": \"white\", \"ticks\": \"\", \"title\": {\"standoff\": 15}, \"zerolinecolor\": \"white\", \"zerolinewidth\": 2}}}, \"xaxis\": {\"anchor\": \"y\", \"domain\": [0.0, 1.0], \"title\": {\"text\": \"price in $\"}}, \"yaxis\": {\"anchor\": \"x\", \"categoryarray\": [\"99.51%\\u00a0(202)\", \"99.17%\\u00a0(239)\", \"99.03%\\u00a0(102)\", \"97.76%\\u00a0(436)\", \"97.56%\\u00a0(40)\", \"96.59%\\u00a0(85)\", \"94.90%\\u00a0(93)\", \"94.67%\\u00a0(781)\", \"94.52%\\u00a0(69)\", \"86.21%\\u00a0(75)\", \"85.47%\\u00a0(300)\", \"83.93%\\u00a0(47)\", \"82.42%\\u00a0(150)\", \"77.78%\\u00a0(14)\", \"68.42%\\u00a0(26)\", \"100%\\u00a0(8)\", \"100%\\u00a0(5)\", \"100%\\u00a0(4)\", \"100%\\u00a0(3)\", \"100%\\u00a0(2)\", \"100%\\u00a0(1)\", \"0%\\u00a0(0)\"], \"categoryorder\": \"array\", \"domain\": [0.0, 1.0], \"title\": {\"text\": \"feedback_positive\"}}},                        {\"responsive\": true}                    ).then(function(){\n",
       "                            \n",
       "var gd = document.getElementById('98b571e0-97da-4ab6-b7a3-240141b9ccab');\n",
       "var x = new MutationObserver(function (mutations, observer) {{\n",
       "        var display = window.getComputedStyle(gd).display;\n",
       "        if (!display || display === 'none') {{\n",
       "            console.log([gd, 'removed!']);\n",
       "            Plotly.purge(gd);\n",
       "            observer.disconnect();\n",
       "        }}\n",
       "}});\n",
       "\n",
       "// Listen for the removal of the full notebook cells\n",
       "var notebookContainer = gd.closest('#notebook-container');\n",
       "if (notebookContainer) {{\n",
       "    x.observe(notebookContainer, {childList: true});\n",
       "}}\n",
       "\n",
       "// Listen for the clearing of the current output cell\n",
       "var outputEl = gd.closest('.output');\n",
       "if (outputEl) {{\n",
       "    x.observe(outputEl, {childList: true});\n",
       "}}\n",
       "\n",
       "                        })                };                });            </script>        </div>"
      ]
     },
     "metadata": {},
     "output_type": "display_data"
    }
   ],
   "source": [
    "plot_category_wise_unsorted('feedback_positive')"
   ]
  },
  {
   "cell_type": "code",
   "execution_count": 76,
   "id": "unique-regard",
   "metadata": {},
   "outputs": [
    {
     "data": {
      "application/vnd.plotly.v1+json": {
       "config": {
        "plotlyServerURL": "https://plot.ly"
       },
       "data": [
        {
         "alignmentgroup": "True",
         "boxpoints": "all",
         "fillcolor": "rgba(255,255,255,0)",
         "hoveron": "points",
         "hovertemplate": "feedback_negative=%{y}<br>price in $=%{x}<extra></extra>",
         "legendgroup": "0% (0)",
         "line": {
          "color": "rgba(255,255,255,0)"
         },
         "marker": {
          "color": "#636efa"
         },
         "name": "0% (0)",
         "offsetgroup": "0% (0)",
         "orientation": "h",
         "pointpos": 0,
         "showlegend": true,
         "type": "box",
         "x": [
          232.27088760330557
         ],
         "x0": " ",
         "xaxis": "x",
         "y": [
          "0% (0)"
         ],
         "y0": " ",
         "yaxis": "y"
        },
        {
         "alignmentgroup": "True",
         "boxpoints": "all",
         "fillcolor": "rgba(255,255,255,0)",
         "hoveron": "points",
         "hovertemplate": "feedback_negative=%{y}<br>price in $=%{x}<extra></extra>",
         "legendgroup": "0.41% (1)",
         "line": {
          "color": "rgba(255,255,255,0)"
         },
         "marker": {
          "color": "#EF553B"
         },
         "name": "0.41% (1)",
         "offsetgroup": "0.41% (1)",
         "orientation": "h",
         "pointpos": 0,
         "showlegend": true,
         "type": "box",
         "x": [
          309.06306220095695
         ],
         "x0": " ",
         "xaxis": "x",
         "y": [
          "0.41% (1)"
         ],
         "y0": " ",
         "yaxis": "y"
        },
        {
         "alignmentgroup": "True",
         "boxpoints": "all",
         "fillcolor": "rgba(255,255,255,0)",
         "hoveron": "points",
         "hovertemplate": "feedback_negative=%{y}<br>price in $=%{x}<extra></extra>",
         "legendgroup": "0.49% (1)",
         "line": {
          "color": "rgba(255,255,255,0)"
         },
         "marker": {
          "color": "#00cc96"
         },
         "name": "0.49% (1)",
         "offsetgroup": "0.49% (1)",
         "orientation": "h",
         "pointpos": 0,
         "showlegend": true,
         "type": "box",
         "x": [
          296.70811320754717
         ],
         "x0": " ",
         "xaxis": "x",
         "y": [
          "0.49% (1)"
         ],
         "y0": " ",
         "yaxis": "y"
        },
        {
         "alignmentgroup": "True",
         "boxpoints": "all",
         "fillcolor": "rgba(255,255,255,0)",
         "hoveron": "points",
         "hovertemplate": "feedback_negative=%{y}<br>price in $=%{x}<extra></extra>",
         "legendgroup": "1.02% (1)",
         "line": {
          "color": "rgba(255,255,255,0)"
         },
         "marker": {
          "color": "#ab63fa"
         },
         "name": "1.02% (1)",
         "offsetgroup": "1.02% (1)",
         "orientation": "h",
         "pointpos": 0,
         "showlegend": true,
         "type": "box",
         "x": [
          90.09040983606558
         ],
         "x0": " ",
         "xaxis": "x",
         "y": [
          "1.02% (1)"
         ],
         "y0": " ",
         "yaxis": "y"
        },
        {
         "alignmentgroup": "True",
         "boxpoints": "all",
         "fillcolor": "rgba(255,255,255,0)",
         "hoveron": "points",
         "hovertemplate": "feedback_negative=%{y}<br>price in $=%{x}<extra></extra>",
         "legendgroup": "1.12% (5)",
         "line": {
          "color": "rgba(255,255,255,0)"
         },
         "marker": {
          "color": "#FFA15A"
         },
         "name": "1.12% (5)",
         "offsetgroup": "1.12% (5)",
         "orientation": "h",
         "pointpos": 0,
         "showlegend": true,
         "type": "box",
         "x": [
          340.5998019801981
         ],
         "x0": " ",
         "xaxis": "x",
         "y": [
          "1.12% (5)"
         ],
         "y0": " ",
         "yaxis": "y"
        },
        {
         "alignmentgroup": "True",
         "boxpoints": "all",
         "fillcolor": "rgba(255,255,255,0)",
         "hoveron": "points",
         "hovertemplate": "feedback_negative=%{y}<br>price in $=%{x}<extra></extra>",
         "legendgroup": "1.37% (1)",
         "line": {
          "color": "rgba(255,255,255,0)"
         },
         "marker": {
          "color": "#19d3f3"
         },
         "name": "1.37% (1)",
         "offsetgroup": "1.37% (1)",
         "orientation": "h",
         "pointpos": 0,
         "showlegend": true,
         "type": "box",
         "x": [
          208.9132773109244
         ],
         "x0": " ",
         "xaxis": "x",
         "y": [
          "1.37% (1)"
         ],
         "y0": " ",
         "yaxis": "y"
        },
        {
         "alignmentgroup": "True",
         "boxpoints": "all",
         "fillcolor": "rgba(255,255,255,0)",
         "hoveron": "points",
         "hovertemplate": "feedback_negative=%{y}<br>price in $=%{x}<extra></extra>",
         "legendgroup": "12.09% (22)",
         "line": {
          "color": "rgba(255,255,255,0)"
         },
         "marker": {
          "color": "#FF6692"
         },
         "name": "12.09% (22)",
         "offsetgroup": "12.09% (22)",
         "orientation": "h",
         "pointpos": 0,
         "showlegend": true,
         "type": "box",
         "x": [
          266.3797587131368
         ],
         "x0": " ",
         "xaxis": "x",
         "y": [
          "12.09% (22)"
         ],
         "y0": " ",
         "yaxis": "y"
        },
        {
         "alignmentgroup": "True",
         "boxpoints": "all",
         "fillcolor": "rgba(255,255,255,0)",
         "hoveron": "points",
         "hovertemplate": "feedback_negative=%{y}<br>price in $=%{x}<extra></extra>",
         "legendgroup": "12.50% (7)",
         "line": {
          "color": "rgba(255,255,255,0)"
         },
         "marker": {
          "color": "#B6E880"
         },
         "name": "12.50% (7)",
         "offsetgroup": "12.50% (7)",
         "orientation": "h",
         "pointpos": 0,
         "showlegend": true,
         "type": "box",
         "x": [
          174.17894230769227
         ],
         "x0": " ",
         "xaxis": "x",
         "y": [
          "12.50% (7)"
         ],
         "y0": " ",
         "yaxis": "y"
        },
        {
         "alignmentgroup": "True",
         "boxpoints": "all",
         "fillcolor": "rgba(255,255,255,0)",
         "hoveron": "points",
         "hovertemplate": "feedback_negative=%{y}<br>price in $=%{x}<extra></extra>",
         "legendgroup": "16.67% (3)",
         "line": {
          "color": "rgba(255,255,255,0)"
         },
         "marker": {
          "color": "#FF97FF"
         },
         "name": "16.67% (3)",
         "offsetgroup": "16.67% (3)",
         "orientation": "h",
         "pointpos": 0,
         "showlegend": true,
         "type": "box",
         "x": [
          248.267358490566
         ],
         "x0": " ",
         "xaxis": "x",
         "y": [
          "16.67% (3)"
         ],
         "y0": " ",
         "yaxis": "y"
        },
        {
         "alignmentgroup": "True",
         "boxpoints": "all",
         "fillcolor": "rgba(255,255,255,0)",
         "hoveron": "points",
         "hovertemplate": "feedback_negative=%{y}<br>price in $=%{x}<extra></extra>",
         "legendgroup": "18.42% (7)",
         "line": {
          "color": "rgba(255,255,255,0)"
         },
         "marker": {
          "color": "#FECB52"
         },
         "name": "18.42% (7)",
         "offsetgroup": "18.42% (7)",
         "orientation": "h",
         "pointpos": 0,
         "showlegend": true,
         "type": "box",
         "x": [
          298.4542079207919
         ],
         "x0": " ",
         "xaxis": "x",
         "y": [
          "18.42% (7)"
         ],
         "y0": " ",
         "yaxis": "y"
        },
        {
         "alignmentgroup": "True",
         "boxpoints": "all",
         "fillcolor": "rgba(255,255,255,0)",
         "hoveron": "points",
         "hovertemplate": "feedback_negative=%{y}<br>price in $=%{x}<extra></extra>",
         "legendgroup": "2.27% (2)",
         "line": {
          "color": "rgba(255,255,255,0)"
         },
         "marker": {
          "color": "#636efa"
         },
         "name": "2.27% (2)",
         "offsetgroup": "2.27% (2)",
         "orientation": "h",
         "pointpos": 0,
         "showlegend": true,
         "type": "box",
         "x": [
          116.91950892857143
         ],
         "x0": " ",
         "xaxis": "x",
         "y": [
          "2.27% (2)"
         ],
         "y0": " ",
         "yaxis": "y"
        },
        {
         "alignmentgroup": "True",
         "boxpoints": "all",
         "fillcolor": "rgba(255,255,255,0)",
         "hoveron": "points",
         "hovertemplate": "feedback_negative=%{y}<br>price in $=%{x}<extra></extra>",
         "legendgroup": "3.88% (32)",
         "line": {
          "color": "rgba(255,255,255,0)"
         },
         "marker": {
          "color": "#EF553B"
         },
         "name": "3.88% (32)",
         "offsetgroup": "3.88% (32)",
         "orientation": "h",
         "pointpos": 0,
         "showlegend": true,
         "type": "box",
         "x": [
          85.32317073170732
         ],
         "x0": " ",
         "xaxis": "x",
         "y": [
          "3.88% (32)"
         ],
         "y0": " ",
         "yaxis": "y"
        },
        {
         "alignmentgroup": "True",
         "boxpoints": "all",
         "fillcolor": "rgba(255,255,255,0)",
         "hoveron": "points",
         "hovertemplate": "feedback_negative=%{y}<br>price in $=%{x}<extra></extra>",
         "legendgroup": "8.83% (31)",
         "line": {
          "color": "rgba(255,255,255,0)"
         },
         "marker": {
          "color": "#00cc96"
         },
         "name": "8.83% (31)",
         "offsetgroup": "8.83% (31)",
         "orientation": "h",
         "pointpos": 0,
         "showlegend": true,
         "type": "box",
         "x": [
          90.44696000000003
         ],
         "x0": " ",
         "xaxis": "x",
         "y": [
          "8.83% (31)"
         ],
         "y0": " ",
         "yaxis": "y"
        },
        {
         "alignmentgroup": "True",
         "boxpoints": "all",
         "fillcolor": "rgba(255,255,255,0)",
         "hoveron": "points",
         "hovertemplate": "feedback_negative=%{y}<br>price in $=%{x}<extra></extra>",
         "legendgroup": "9.20% (8)",
         "line": {
          "color": "rgba(255,255,255,0)"
         },
         "marker": {
          "color": "#ab63fa"
         },
         "name": "9.20% (8)",
         "offsetgroup": "9.20% (8)",
         "orientation": "h",
         "pointpos": 0,
         "showlegend": true,
         "type": "box",
         "x": [
          130.5625
         ],
         "x0": " ",
         "xaxis": "x",
         "y": [
          "9.20% (8)"
         ],
         "y0": " ",
         "yaxis": "y"
        }
       ],
       "layout": {
        "boxmode": "overlay",
        "legend": {
         "title": {
          "text": "feedback_negative"
         },
         "tracegroupgap": 0
        },
        "margin": {
         "t": 60
        },
        "template": {
         "data": {
          "bar": [
           {
            "error_x": {
             "color": "#2a3f5f"
            },
            "error_y": {
             "color": "#2a3f5f"
            },
            "marker": {
             "line": {
              "color": "#E5ECF6",
              "width": 0.5
             }
            },
            "type": "bar"
           }
          ],
          "barpolar": [
           {
            "marker": {
             "line": {
              "color": "#E5ECF6",
              "width": 0.5
             }
            },
            "type": "barpolar"
           }
          ],
          "carpet": [
           {
            "aaxis": {
             "endlinecolor": "#2a3f5f",
             "gridcolor": "white",
             "linecolor": "white",
             "minorgridcolor": "white",
             "startlinecolor": "#2a3f5f"
            },
            "baxis": {
             "endlinecolor": "#2a3f5f",
             "gridcolor": "white",
             "linecolor": "white",
             "minorgridcolor": "white",
             "startlinecolor": "#2a3f5f"
            },
            "type": "carpet"
           }
          ],
          "choropleth": [
           {
            "colorbar": {
             "outlinewidth": 0,
             "ticks": ""
            },
            "type": "choropleth"
           }
          ],
          "contour": [
           {
            "colorbar": {
             "outlinewidth": 0,
             "ticks": ""
            },
            "colorscale": [
             [
              0,
              "#0d0887"
             ],
             [
              0.1111111111111111,
              "#46039f"
             ],
             [
              0.2222222222222222,
              "#7201a8"
             ],
             [
              0.3333333333333333,
              "#9c179e"
             ],
             [
              0.4444444444444444,
              "#bd3786"
             ],
             [
              0.5555555555555556,
              "#d8576b"
             ],
             [
              0.6666666666666666,
              "#ed7953"
             ],
             [
              0.7777777777777778,
              "#fb9f3a"
             ],
             [
              0.8888888888888888,
              "#fdca26"
             ],
             [
              1,
              "#f0f921"
             ]
            ],
            "type": "contour"
           }
          ],
          "contourcarpet": [
           {
            "colorbar": {
             "outlinewidth": 0,
             "ticks": ""
            },
            "type": "contourcarpet"
           }
          ],
          "heatmap": [
           {
            "colorbar": {
             "outlinewidth": 0,
             "ticks": ""
            },
            "colorscale": [
             [
              0,
              "#0d0887"
             ],
             [
              0.1111111111111111,
              "#46039f"
             ],
             [
              0.2222222222222222,
              "#7201a8"
             ],
             [
              0.3333333333333333,
              "#9c179e"
             ],
             [
              0.4444444444444444,
              "#bd3786"
             ],
             [
              0.5555555555555556,
              "#d8576b"
             ],
             [
              0.6666666666666666,
              "#ed7953"
             ],
             [
              0.7777777777777778,
              "#fb9f3a"
             ],
             [
              0.8888888888888888,
              "#fdca26"
             ],
             [
              1,
              "#f0f921"
             ]
            ],
            "type": "heatmap"
           }
          ],
          "heatmapgl": [
           {
            "colorbar": {
             "outlinewidth": 0,
             "ticks": ""
            },
            "colorscale": [
             [
              0,
              "#0d0887"
             ],
             [
              0.1111111111111111,
              "#46039f"
             ],
             [
              0.2222222222222222,
              "#7201a8"
             ],
             [
              0.3333333333333333,
              "#9c179e"
             ],
             [
              0.4444444444444444,
              "#bd3786"
             ],
             [
              0.5555555555555556,
              "#d8576b"
             ],
             [
              0.6666666666666666,
              "#ed7953"
             ],
             [
              0.7777777777777778,
              "#fb9f3a"
             ],
             [
              0.8888888888888888,
              "#fdca26"
             ],
             [
              1,
              "#f0f921"
             ]
            ],
            "type": "heatmapgl"
           }
          ],
          "histogram": [
           {
            "marker": {
             "colorbar": {
              "outlinewidth": 0,
              "ticks": ""
             }
            },
            "type": "histogram"
           }
          ],
          "histogram2d": [
           {
            "colorbar": {
             "outlinewidth": 0,
             "ticks": ""
            },
            "colorscale": [
             [
              0,
              "#0d0887"
             ],
             [
              0.1111111111111111,
              "#46039f"
             ],
             [
              0.2222222222222222,
              "#7201a8"
             ],
             [
              0.3333333333333333,
              "#9c179e"
             ],
             [
              0.4444444444444444,
              "#bd3786"
             ],
             [
              0.5555555555555556,
              "#d8576b"
             ],
             [
              0.6666666666666666,
              "#ed7953"
             ],
             [
              0.7777777777777778,
              "#fb9f3a"
             ],
             [
              0.8888888888888888,
              "#fdca26"
             ],
             [
              1,
              "#f0f921"
             ]
            ],
            "type": "histogram2d"
           }
          ],
          "histogram2dcontour": [
           {
            "colorbar": {
             "outlinewidth": 0,
             "ticks": ""
            },
            "colorscale": [
             [
              0,
              "#0d0887"
             ],
             [
              0.1111111111111111,
              "#46039f"
             ],
             [
              0.2222222222222222,
              "#7201a8"
             ],
             [
              0.3333333333333333,
              "#9c179e"
             ],
             [
              0.4444444444444444,
              "#bd3786"
             ],
             [
              0.5555555555555556,
              "#d8576b"
             ],
             [
              0.6666666666666666,
              "#ed7953"
             ],
             [
              0.7777777777777778,
              "#fb9f3a"
             ],
             [
              0.8888888888888888,
              "#fdca26"
             ],
             [
              1,
              "#f0f921"
             ]
            ],
            "type": "histogram2dcontour"
           }
          ],
          "mesh3d": [
           {
            "colorbar": {
             "outlinewidth": 0,
             "ticks": ""
            },
            "type": "mesh3d"
           }
          ],
          "parcoords": [
           {
            "line": {
             "colorbar": {
              "outlinewidth": 0,
              "ticks": ""
             }
            },
            "type": "parcoords"
           }
          ],
          "pie": [
           {
            "automargin": true,
            "type": "pie"
           }
          ],
          "scatter": [
           {
            "marker": {
             "colorbar": {
              "outlinewidth": 0,
              "ticks": ""
             }
            },
            "type": "scatter"
           }
          ],
          "scatter3d": [
           {
            "line": {
             "colorbar": {
              "outlinewidth": 0,
              "ticks": ""
             }
            },
            "marker": {
             "colorbar": {
              "outlinewidth": 0,
              "ticks": ""
             }
            },
            "type": "scatter3d"
           }
          ],
          "scattercarpet": [
           {
            "marker": {
             "colorbar": {
              "outlinewidth": 0,
              "ticks": ""
             }
            },
            "type": "scattercarpet"
           }
          ],
          "scattergeo": [
           {
            "marker": {
             "colorbar": {
              "outlinewidth": 0,
              "ticks": ""
             }
            },
            "type": "scattergeo"
           }
          ],
          "scattergl": [
           {
            "marker": {
             "colorbar": {
              "outlinewidth": 0,
              "ticks": ""
             }
            },
            "type": "scattergl"
           }
          ],
          "scattermapbox": [
           {
            "marker": {
             "colorbar": {
              "outlinewidth": 0,
              "ticks": ""
             }
            },
            "type": "scattermapbox"
           }
          ],
          "scatterpolar": [
           {
            "marker": {
             "colorbar": {
              "outlinewidth": 0,
              "ticks": ""
             }
            },
            "type": "scatterpolar"
           }
          ],
          "scatterpolargl": [
           {
            "marker": {
             "colorbar": {
              "outlinewidth": 0,
              "ticks": ""
             }
            },
            "type": "scatterpolargl"
           }
          ],
          "scatterternary": [
           {
            "marker": {
             "colorbar": {
              "outlinewidth": 0,
              "ticks": ""
             }
            },
            "type": "scatterternary"
           }
          ],
          "surface": [
           {
            "colorbar": {
             "outlinewidth": 0,
             "ticks": ""
            },
            "colorscale": [
             [
              0,
              "#0d0887"
             ],
             [
              0.1111111111111111,
              "#46039f"
             ],
             [
              0.2222222222222222,
              "#7201a8"
             ],
             [
              0.3333333333333333,
              "#9c179e"
             ],
             [
              0.4444444444444444,
              "#bd3786"
             ],
             [
              0.5555555555555556,
              "#d8576b"
             ],
             [
              0.6666666666666666,
              "#ed7953"
             ],
             [
              0.7777777777777778,
              "#fb9f3a"
             ],
             [
              0.8888888888888888,
              "#fdca26"
             ],
             [
              1,
              "#f0f921"
             ]
            ],
            "type": "surface"
           }
          ],
          "table": [
           {
            "cells": {
             "fill": {
              "color": "#EBF0F8"
             },
             "line": {
              "color": "white"
             }
            },
            "header": {
             "fill": {
              "color": "#C8D4E3"
             },
             "line": {
              "color": "white"
             }
            },
            "type": "table"
           }
          ]
         },
         "layout": {
          "annotationdefaults": {
           "arrowcolor": "#2a3f5f",
           "arrowhead": 0,
           "arrowwidth": 1
          },
          "autotypenumbers": "strict",
          "coloraxis": {
           "colorbar": {
            "outlinewidth": 0,
            "ticks": ""
           }
          },
          "colorscale": {
           "diverging": [
            [
             0,
             "#8e0152"
            ],
            [
             0.1,
             "#c51b7d"
            ],
            [
             0.2,
             "#de77ae"
            ],
            [
             0.3,
             "#f1b6da"
            ],
            [
             0.4,
             "#fde0ef"
            ],
            [
             0.5,
             "#f7f7f7"
            ],
            [
             0.6,
             "#e6f5d0"
            ],
            [
             0.7,
             "#b8e186"
            ],
            [
             0.8,
             "#7fbc41"
            ],
            [
             0.9,
             "#4d9221"
            ],
            [
             1,
             "#276419"
            ]
           ],
           "sequential": [
            [
             0,
             "#0d0887"
            ],
            [
             0.1111111111111111,
             "#46039f"
            ],
            [
             0.2222222222222222,
             "#7201a8"
            ],
            [
             0.3333333333333333,
             "#9c179e"
            ],
            [
             0.4444444444444444,
             "#bd3786"
            ],
            [
             0.5555555555555556,
             "#d8576b"
            ],
            [
             0.6666666666666666,
             "#ed7953"
            ],
            [
             0.7777777777777778,
             "#fb9f3a"
            ],
            [
             0.8888888888888888,
             "#fdca26"
            ],
            [
             1,
             "#f0f921"
            ]
           ],
           "sequentialminus": [
            [
             0,
             "#0d0887"
            ],
            [
             0.1111111111111111,
             "#46039f"
            ],
            [
             0.2222222222222222,
             "#7201a8"
            ],
            [
             0.3333333333333333,
             "#9c179e"
            ],
            [
             0.4444444444444444,
             "#bd3786"
            ],
            [
             0.5555555555555556,
             "#d8576b"
            ],
            [
             0.6666666666666666,
             "#ed7953"
            ],
            [
             0.7777777777777778,
             "#fb9f3a"
            ],
            [
             0.8888888888888888,
             "#fdca26"
            ],
            [
             1,
             "#f0f921"
            ]
           ]
          },
          "colorway": [
           "#636efa",
           "#EF553B",
           "#00cc96",
           "#ab63fa",
           "#FFA15A",
           "#19d3f3",
           "#FF6692",
           "#B6E880",
           "#FF97FF",
           "#FECB52"
          ],
          "font": {
           "color": "#2a3f5f"
          },
          "geo": {
           "bgcolor": "white",
           "lakecolor": "white",
           "landcolor": "#E5ECF6",
           "showlakes": true,
           "showland": true,
           "subunitcolor": "white"
          },
          "hoverlabel": {
           "align": "left"
          },
          "hovermode": "closest",
          "mapbox": {
           "style": "light"
          },
          "paper_bgcolor": "white",
          "plot_bgcolor": "#E5ECF6",
          "polar": {
           "angularaxis": {
            "gridcolor": "white",
            "linecolor": "white",
            "ticks": ""
           },
           "bgcolor": "#E5ECF6",
           "radialaxis": {
            "gridcolor": "white",
            "linecolor": "white",
            "ticks": ""
           }
          },
          "scene": {
           "xaxis": {
            "backgroundcolor": "#E5ECF6",
            "gridcolor": "white",
            "gridwidth": 2,
            "linecolor": "white",
            "showbackground": true,
            "ticks": "",
            "zerolinecolor": "white"
           },
           "yaxis": {
            "backgroundcolor": "#E5ECF6",
            "gridcolor": "white",
            "gridwidth": 2,
            "linecolor": "white",
            "showbackground": true,
            "ticks": "",
            "zerolinecolor": "white"
           },
           "zaxis": {
            "backgroundcolor": "#E5ECF6",
            "gridcolor": "white",
            "gridwidth": 2,
            "linecolor": "white",
            "showbackground": true,
            "ticks": "",
            "zerolinecolor": "white"
           }
          },
          "shapedefaults": {
           "line": {
            "color": "#2a3f5f"
           }
          },
          "ternary": {
           "aaxis": {
            "gridcolor": "white",
            "linecolor": "white",
            "ticks": ""
           },
           "baxis": {
            "gridcolor": "white",
            "linecolor": "white",
            "ticks": ""
           },
           "bgcolor": "#E5ECF6",
           "caxis": {
            "gridcolor": "white",
            "linecolor": "white",
            "ticks": ""
           }
          },
          "title": {
           "x": 0.05
          },
          "xaxis": {
           "automargin": true,
           "gridcolor": "white",
           "linecolor": "white",
           "ticks": "",
           "title": {
            "standoff": 15
           },
           "zerolinecolor": "white",
           "zerolinewidth": 2
          },
          "yaxis": {
           "automargin": true,
           "gridcolor": "white",
           "linecolor": "white",
           "ticks": "",
           "title": {
            "standoff": 15
           },
           "zerolinecolor": "white",
           "zerolinewidth": 2
          }
         }
        },
        "xaxis": {
         "anchor": "y",
         "domain": [
          0,
          1
         ],
         "title": {
          "text": "price in $"
         }
        },
        "yaxis": {
         "anchor": "x",
         "categoryarray": [
          "9.20% (8)",
          "8.83% (31)",
          "3.88% (32)",
          "2.27% (2)",
          "18.42% (7)",
          "16.67% (3)",
          "12.50% (7)",
          "12.09% (22)",
          "1.37% (1)",
          "1.12% (5)",
          "1.02% (1)",
          "0.49% (1)",
          "0.41% (1)",
          "0% (0)"
         ],
         "categoryorder": "array",
         "domain": [
          0,
          1
         ],
         "title": {
          "text": "feedback_negative"
         }
        }
       }
      },
      "text/html": [
       "<div>                            <div id=\"cdb690de-a482-4724-a754-4d8242c2f437\" class=\"plotly-graph-div\" style=\"height:525px; width:100%;\"></div>            <script type=\"text/javascript\">                require([\"plotly\"], function(Plotly) {                    window.PLOTLYENV=window.PLOTLYENV || {};                                    if (document.getElementById(\"cdb690de-a482-4724-a754-4d8242c2f437\")) {                    Plotly.newPlot(                        \"cdb690de-a482-4724-a754-4d8242c2f437\",                        [{\"alignmentgroup\": \"True\", \"boxpoints\": \"all\", \"fillcolor\": \"rgba(255,255,255,0)\", \"hoveron\": \"points\", \"hovertemplate\": \"feedback_negative=%{y}<br>price in $=%{x}<extra></extra>\", \"legendgroup\": \"0%\\u00a0(0)\", \"line\": {\"color\": \"rgba(255,255,255,0)\"}, \"marker\": {\"color\": \"#636efa\"}, \"name\": \"0%\\u00a0(0)\", \"offsetgroup\": \"0%\\u00a0(0)\", \"orientation\": \"h\", \"pointpos\": 0, \"showlegend\": true, \"type\": \"box\", \"x\": [232.27088760330557], \"x0\": \" \", \"xaxis\": \"x\", \"y\": [\"0%\\u00a0(0)\"], \"y0\": \" \", \"yaxis\": \"y\"}, {\"alignmentgroup\": \"True\", \"boxpoints\": \"all\", \"fillcolor\": \"rgba(255,255,255,0)\", \"hoveron\": \"points\", \"hovertemplate\": \"feedback_negative=%{y}<br>price in $=%{x}<extra></extra>\", \"legendgroup\": \"0.41%\\u00a0(1)\", \"line\": {\"color\": \"rgba(255,255,255,0)\"}, \"marker\": {\"color\": \"#EF553B\"}, \"name\": \"0.41%\\u00a0(1)\", \"offsetgroup\": \"0.41%\\u00a0(1)\", \"orientation\": \"h\", \"pointpos\": 0, \"showlegend\": true, \"type\": \"box\", \"x\": [309.06306220095695], \"x0\": \" \", \"xaxis\": \"x\", \"y\": [\"0.41%\\u00a0(1)\"], \"y0\": \" \", \"yaxis\": \"y\"}, {\"alignmentgroup\": \"True\", \"boxpoints\": \"all\", \"fillcolor\": \"rgba(255,255,255,0)\", \"hoveron\": \"points\", \"hovertemplate\": \"feedback_negative=%{y}<br>price in $=%{x}<extra></extra>\", \"legendgroup\": \"0.49%\\u00a0(1)\", \"line\": {\"color\": \"rgba(255,255,255,0)\"}, \"marker\": {\"color\": \"#00cc96\"}, \"name\": \"0.49%\\u00a0(1)\", \"offsetgroup\": \"0.49%\\u00a0(1)\", \"orientation\": \"h\", \"pointpos\": 0, \"showlegend\": true, \"type\": \"box\", \"x\": [296.70811320754717], \"x0\": \" \", \"xaxis\": \"x\", \"y\": [\"0.49%\\u00a0(1)\"], \"y0\": \" \", \"yaxis\": \"y\"}, {\"alignmentgroup\": \"True\", \"boxpoints\": \"all\", \"fillcolor\": \"rgba(255,255,255,0)\", \"hoveron\": \"points\", \"hovertemplate\": \"feedback_negative=%{y}<br>price in $=%{x}<extra></extra>\", \"legendgroup\": \"1.02%\\u00a0(1)\", \"line\": {\"color\": \"rgba(255,255,255,0)\"}, \"marker\": {\"color\": \"#ab63fa\"}, \"name\": \"1.02%\\u00a0(1)\", \"offsetgroup\": \"1.02%\\u00a0(1)\", \"orientation\": \"h\", \"pointpos\": 0, \"showlegend\": true, \"type\": \"box\", \"x\": [90.09040983606558], \"x0\": \" \", \"xaxis\": \"x\", \"y\": [\"1.02%\\u00a0(1)\"], \"y0\": \" \", \"yaxis\": \"y\"}, {\"alignmentgroup\": \"True\", \"boxpoints\": \"all\", \"fillcolor\": \"rgba(255,255,255,0)\", \"hoveron\": \"points\", \"hovertemplate\": \"feedback_negative=%{y}<br>price in $=%{x}<extra></extra>\", \"legendgroup\": \"1.12%\\u00a0(5)\", \"line\": {\"color\": \"rgba(255,255,255,0)\"}, \"marker\": {\"color\": \"#FFA15A\"}, \"name\": \"1.12%\\u00a0(5)\", \"offsetgroup\": \"1.12%\\u00a0(5)\", \"orientation\": \"h\", \"pointpos\": 0, \"showlegend\": true, \"type\": \"box\", \"x\": [340.5998019801981], \"x0\": \" \", \"xaxis\": \"x\", \"y\": [\"1.12%\\u00a0(5)\"], \"y0\": \" \", \"yaxis\": \"y\"}, {\"alignmentgroup\": \"True\", \"boxpoints\": \"all\", \"fillcolor\": \"rgba(255,255,255,0)\", \"hoveron\": \"points\", \"hovertemplate\": \"feedback_negative=%{y}<br>price in $=%{x}<extra></extra>\", \"legendgroup\": \"1.37%\\u00a0(1)\", \"line\": {\"color\": \"rgba(255,255,255,0)\"}, \"marker\": {\"color\": \"#19d3f3\"}, \"name\": \"1.37%\\u00a0(1)\", \"offsetgroup\": \"1.37%\\u00a0(1)\", \"orientation\": \"h\", \"pointpos\": 0, \"showlegend\": true, \"type\": \"box\", \"x\": [208.9132773109244], \"x0\": \" \", \"xaxis\": \"x\", \"y\": [\"1.37%\\u00a0(1)\"], \"y0\": \" \", \"yaxis\": \"y\"}, {\"alignmentgroup\": \"True\", \"boxpoints\": \"all\", \"fillcolor\": \"rgba(255,255,255,0)\", \"hoveron\": \"points\", \"hovertemplate\": \"feedback_negative=%{y}<br>price in $=%{x}<extra></extra>\", \"legendgroup\": \"12.09%\\u00a0(22)\", \"line\": {\"color\": \"rgba(255,255,255,0)\"}, \"marker\": {\"color\": \"#FF6692\"}, \"name\": \"12.09%\\u00a0(22)\", \"offsetgroup\": \"12.09%\\u00a0(22)\", \"orientation\": \"h\", \"pointpos\": 0, \"showlegend\": true, \"type\": \"box\", \"x\": [266.3797587131368], \"x0\": \" \", \"xaxis\": \"x\", \"y\": [\"12.09%\\u00a0(22)\"], \"y0\": \" \", \"yaxis\": \"y\"}, {\"alignmentgroup\": \"True\", \"boxpoints\": \"all\", \"fillcolor\": \"rgba(255,255,255,0)\", \"hoveron\": \"points\", \"hovertemplate\": \"feedback_negative=%{y}<br>price in $=%{x}<extra></extra>\", \"legendgroup\": \"12.50%\\u00a0(7)\", \"line\": {\"color\": \"rgba(255,255,255,0)\"}, \"marker\": {\"color\": \"#B6E880\"}, \"name\": \"12.50%\\u00a0(7)\", \"offsetgroup\": \"12.50%\\u00a0(7)\", \"orientation\": \"h\", \"pointpos\": 0, \"showlegend\": true, \"type\": \"box\", \"x\": [174.17894230769227], \"x0\": \" \", \"xaxis\": \"x\", \"y\": [\"12.50%\\u00a0(7)\"], \"y0\": \" \", \"yaxis\": \"y\"}, {\"alignmentgroup\": \"True\", \"boxpoints\": \"all\", \"fillcolor\": \"rgba(255,255,255,0)\", \"hoveron\": \"points\", \"hovertemplate\": \"feedback_negative=%{y}<br>price in $=%{x}<extra></extra>\", \"legendgroup\": \"16.67%\\u00a0(3)\", \"line\": {\"color\": \"rgba(255,255,255,0)\"}, \"marker\": {\"color\": \"#FF97FF\"}, \"name\": \"16.67%\\u00a0(3)\", \"offsetgroup\": \"16.67%\\u00a0(3)\", \"orientation\": \"h\", \"pointpos\": 0, \"showlegend\": true, \"type\": \"box\", \"x\": [248.267358490566], \"x0\": \" \", \"xaxis\": \"x\", \"y\": [\"16.67%\\u00a0(3)\"], \"y0\": \" \", \"yaxis\": \"y\"}, {\"alignmentgroup\": \"True\", \"boxpoints\": \"all\", \"fillcolor\": \"rgba(255,255,255,0)\", \"hoveron\": \"points\", \"hovertemplate\": \"feedback_negative=%{y}<br>price in $=%{x}<extra></extra>\", \"legendgroup\": \"18.42%\\u00a0(7)\", \"line\": {\"color\": \"rgba(255,255,255,0)\"}, \"marker\": {\"color\": \"#FECB52\"}, \"name\": \"18.42%\\u00a0(7)\", \"offsetgroup\": \"18.42%\\u00a0(7)\", \"orientation\": \"h\", \"pointpos\": 0, \"showlegend\": true, \"type\": \"box\", \"x\": [298.4542079207919], \"x0\": \" \", \"xaxis\": \"x\", \"y\": [\"18.42%\\u00a0(7)\"], \"y0\": \" \", \"yaxis\": \"y\"}, {\"alignmentgroup\": \"True\", \"boxpoints\": \"all\", \"fillcolor\": \"rgba(255,255,255,0)\", \"hoveron\": \"points\", \"hovertemplate\": \"feedback_negative=%{y}<br>price in $=%{x}<extra></extra>\", \"legendgroup\": \"2.27%\\u00a0(2)\", \"line\": {\"color\": \"rgba(255,255,255,0)\"}, \"marker\": {\"color\": \"#636efa\"}, \"name\": \"2.27%\\u00a0(2)\", \"offsetgroup\": \"2.27%\\u00a0(2)\", \"orientation\": \"h\", \"pointpos\": 0, \"showlegend\": true, \"type\": \"box\", \"x\": [116.91950892857143], \"x0\": \" \", \"xaxis\": \"x\", \"y\": [\"2.27%\\u00a0(2)\"], \"y0\": \" \", \"yaxis\": \"y\"}, {\"alignmentgroup\": \"True\", \"boxpoints\": \"all\", \"fillcolor\": \"rgba(255,255,255,0)\", \"hoveron\": \"points\", \"hovertemplate\": \"feedback_negative=%{y}<br>price in $=%{x}<extra></extra>\", \"legendgroup\": \"3.88%\\u00a0(32)\", \"line\": {\"color\": \"rgba(255,255,255,0)\"}, \"marker\": {\"color\": \"#EF553B\"}, \"name\": \"3.88%\\u00a0(32)\", \"offsetgroup\": \"3.88%\\u00a0(32)\", \"orientation\": \"h\", \"pointpos\": 0, \"showlegend\": true, \"type\": \"box\", \"x\": [85.32317073170732], \"x0\": \" \", \"xaxis\": \"x\", \"y\": [\"3.88%\\u00a0(32)\"], \"y0\": \" \", \"yaxis\": \"y\"}, {\"alignmentgroup\": \"True\", \"boxpoints\": \"all\", \"fillcolor\": \"rgba(255,255,255,0)\", \"hoveron\": \"points\", \"hovertemplate\": \"feedback_negative=%{y}<br>price in $=%{x}<extra></extra>\", \"legendgroup\": \"8.83%\\u00a0(31)\", \"line\": {\"color\": \"rgba(255,255,255,0)\"}, \"marker\": {\"color\": \"#00cc96\"}, \"name\": \"8.83%\\u00a0(31)\", \"offsetgroup\": \"8.83%\\u00a0(31)\", \"orientation\": \"h\", \"pointpos\": 0, \"showlegend\": true, \"type\": \"box\", \"x\": [90.44696000000003], \"x0\": \" \", \"xaxis\": \"x\", \"y\": [\"8.83%\\u00a0(31)\"], \"y0\": \" \", \"yaxis\": \"y\"}, {\"alignmentgroup\": \"True\", \"boxpoints\": \"all\", \"fillcolor\": \"rgba(255,255,255,0)\", \"hoveron\": \"points\", \"hovertemplate\": \"feedback_negative=%{y}<br>price in $=%{x}<extra></extra>\", \"legendgroup\": \"9.20%\\u00a0(8)\", \"line\": {\"color\": \"rgba(255,255,255,0)\"}, \"marker\": {\"color\": \"#ab63fa\"}, \"name\": \"9.20%\\u00a0(8)\", \"offsetgroup\": \"9.20%\\u00a0(8)\", \"orientation\": \"h\", \"pointpos\": 0, \"showlegend\": true, \"type\": \"box\", \"x\": [130.5625], \"x0\": \" \", \"xaxis\": \"x\", \"y\": [\"9.20%\\u00a0(8)\"], \"y0\": \" \", \"yaxis\": \"y\"}],                        {\"boxmode\": \"overlay\", \"legend\": {\"title\": {\"text\": \"feedback_negative\"}, \"tracegroupgap\": 0}, \"margin\": {\"t\": 60}, \"template\": {\"data\": {\"bar\": [{\"error_x\": {\"color\": \"#2a3f5f\"}, \"error_y\": {\"color\": \"#2a3f5f\"}, \"marker\": {\"line\": {\"color\": \"#E5ECF6\", \"width\": 0.5}}, \"type\": \"bar\"}], \"barpolar\": [{\"marker\": {\"line\": {\"color\": \"#E5ECF6\", \"width\": 0.5}}, \"type\": \"barpolar\"}], \"carpet\": [{\"aaxis\": {\"endlinecolor\": \"#2a3f5f\", \"gridcolor\": \"white\", \"linecolor\": \"white\", \"minorgridcolor\": \"white\", \"startlinecolor\": \"#2a3f5f\"}, \"baxis\": {\"endlinecolor\": \"#2a3f5f\", \"gridcolor\": \"white\", \"linecolor\": \"white\", \"minorgridcolor\": \"white\", \"startlinecolor\": \"#2a3f5f\"}, \"type\": \"carpet\"}], \"choropleth\": [{\"colorbar\": {\"outlinewidth\": 0, \"ticks\": \"\"}, \"type\": \"choropleth\"}], \"contour\": [{\"colorbar\": {\"outlinewidth\": 0, \"ticks\": \"\"}, \"colorscale\": [[0.0, \"#0d0887\"], [0.1111111111111111, \"#46039f\"], [0.2222222222222222, \"#7201a8\"], [0.3333333333333333, \"#9c179e\"], [0.4444444444444444, \"#bd3786\"], [0.5555555555555556, \"#d8576b\"], [0.6666666666666666, \"#ed7953\"], [0.7777777777777778, \"#fb9f3a\"], [0.8888888888888888, \"#fdca26\"], [1.0, \"#f0f921\"]], \"type\": \"contour\"}], \"contourcarpet\": [{\"colorbar\": {\"outlinewidth\": 0, \"ticks\": \"\"}, \"type\": \"contourcarpet\"}], \"heatmap\": [{\"colorbar\": {\"outlinewidth\": 0, \"ticks\": \"\"}, \"colorscale\": [[0.0, \"#0d0887\"], [0.1111111111111111, \"#46039f\"], [0.2222222222222222, \"#7201a8\"], [0.3333333333333333, \"#9c179e\"], [0.4444444444444444, \"#bd3786\"], [0.5555555555555556, \"#d8576b\"], [0.6666666666666666, \"#ed7953\"], [0.7777777777777778, \"#fb9f3a\"], [0.8888888888888888, \"#fdca26\"], [1.0, \"#f0f921\"]], \"type\": \"heatmap\"}], \"heatmapgl\": [{\"colorbar\": {\"outlinewidth\": 0, \"ticks\": \"\"}, \"colorscale\": [[0.0, \"#0d0887\"], [0.1111111111111111, \"#46039f\"], [0.2222222222222222, \"#7201a8\"], [0.3333333333333333, \"#9c179e\"], [0.4444444444444444, \"#bd3786\"], [0.5555555555555556, \"#d8576b\"], [0.6666666666666666, \"#ed7953\"], [0.7777777777777778, \"#fb9f3a\"], [0.8888888888888888, \"#fdca26\"], [1.0, \"#f0f921\"]], \"type\": \"heatmapgl\"}], \"histogram\": [{\"marker\": {\"colorbar\": {\"outlinewidth\": 0, \"ticks\": \"\"}}, \"type\": \"histogram\"}], \"histogram2d\": [{\"colorbar\": {\"outlinewidth\": 0, \"ticks\": \"\"}, \"colorscale\": [[0.0, \"#0d0887\"], [0.1111111111111111, \"#46039f\"], [0.2222222222222222, \"#7201a8\"], [0.3333333333333333, \"#9c179e\"], [0.4444444444444444, \"#bd3786\"], [0.5555555555555556, \"#d8576b\"], [0.6666666666666666, \"#ed7953\"], [0.7777777777777778, \"#fb9f3a\"], [0.8888888888888888, \"#fdca26\"], [1.0, \"#f0f921\"]], \"type\": \"histogram2d\"}], \"histogram2dcontour\": [{\"colorbar\": {\"outlinewidth\": 0, \"ticks\": \"\"}, \"colorscale\": [[0.0, \"#0d0887\"], [0.1111111111111111, \"#46039f\"], [0.2222222222222222, \"#7201a8\"], [0.3333333333333333, \"#9c179e\"], [0.4444444444444444, \"#bd3786\"], [0.5555555555555556, \"#d8576b\"], [0.6666666666666666, \"#ed7953\"], [0.7777777777777778, \"#fb9f3a\"], [0.8888888888888888, \"#fdca26\"], [1.0, \"#f0f921\"]], \"type\": \"histogram2dcontour\"}], \"mesh3d\": [{\"colorbar\": {\"outlinewidth\": 0, \"ticks\": \"\"}, \"type\": \"mesh3d\"}], \"parcoords\": [{\"line\": {\"colorbar\": {\"outlinewidth\": 0, \"ticks\": \"\"}}, \"type\": \"parcoords\"}], \"pie\": [{\"automargin\": true, \"type\": \"pie\"}], \"scatter\": [{\"marker\": {\"colorbar\": {\"outlinewidth\": 0, \"ticks\": \"\"}}, \"type\": \"scatter\"}], \"scatter3d\": [{\"line\": {\"colorbar\": {\"outlinewidth\": 0, \"ticks\": \"\"}}, \"marker\": {\"colorbar\": {\"outlinewidth\": 0, \"ticks\": \"\"}}, \"type\": \"scatter3d\"}], \"scattercarpet\": [{\"marker\": {\"colorbar\": {\"outlinewidth\": 0, \"ticks\": \"\"}}, \"type\": \"scattercarpet\"}], \"scattergeo\": [{\"marker\": {\"colorbar\": {\"outlinewidth\": 0, \"ticks\": \"\"}}, \"type\": \"scattergeo\"}], \"scattergl\": [{\"marker\": {\"colorbar\": {\"outlinewidth\": 0, \"ticks\": \"\"}}, \"type\": \"scattergl\"}], \"scattermapbox\": [{\"marker\": {\"colorbar\": {\"outlinewidth\": 0, \"ticks\": \"\"}}, \"type\": \"scattermapbox\"}], \"scatterpolar\": [{\"marker\": {\"colorbar\": {\"outlinewidth\": 0, \"ticks\": \"\"}}, \"type\": \"scatterpolar\"}], \"scatterpolargl\": [{\"marker\": {\"colorbar\": {\"outlinewidth\": 0, \"ticks\": \"\"}}, \"type\": \"scatterpolargl\"}], \"scatterternary\": [{\"marker\": {\"colorbar\": {\"outlinewidth\": 0, \"ticks\": \"\"}}, \"type\": \"scatterternary\"}], \"surface\": [{\"colorbar\": {\"outlinewidth\": 0, \"ticks\": \"\"}, \"colorscale\": [[0.0, \"#0d0887\"], [0.1111111111111111, \"#46039f\"], [0.2222222222222222, \"#7201a8\"], [0.3333333333333333, \"#9c179e\"], [0.4444444444444444, \"#bd3786\"], [0.5555555555555556, \"#d8576b\"], [0.6666666666666666, \"#ed7953\"], [0.7777777777777778, \"#fb9f3a\"], [0.8888888888888888, \"#fdca26\"], [1.0, \"#f0f921\"]], \"type\": \"surface\"}], \"table\": [{\"cells\": {\"fill\": {\"color\": \"#EBF0F8\"}, \"line\": {\"color\": \"white\"}}, \"header\": {\"fill\": {\"color\": \"#C8D4E3\"}, \"line\": {\"color\": \"white\"}}, \"type\": \"table\"}]}, \"layout\": {\"annotationdefaults\": {\"arrowcolor\": \"#2a3f5f\", \"arrowhead\": 0, \"arrowwidth\": 1}, \"autotypenumbers\": \"strict\", \"coloraxis\": {\"colorbar\": {\"outlinewidth\": 0, \"ticks\": \"\"}}, \"colorscale\": {\"diverging\": [[0, \"#8e0152\"], [0.1, \"#c51b7d\"], [0.2, \"#de77ae\"], [0.3, \"#f1b6da\"], [0.4, \"#fde0ef\"], [0.5, \"#f7f7f7\"], [0.6, \"#e6f5d0\"], [0.7, \"#b8e186\"], [0.8, \"#7fbc41\"], [0.9, \"#4d9221\"], [1, \"#276419\"]], \"sequential\": [[0.0, \"#0d0887\"], [0.1111111111111111, \"#46039f\"], [0.2222222222222222, \"#7201a8\"], [0.3333333333333333, \"#9c179e\"], [0.4444444444444444, \"#bd3786\"], [0.5555555555555556, \"#d8576b\"], [0.6666666666666666, \"#ed7953\"], [0.7777777777777778, \"#fb9f3a\"], [0.8888888888888888, \"#fdca26\"], [1.0, \"#f0f921\"]], \"sequentialminus\": [[0.0, \"#0d0887\"], [0.1111111111111111, \"#46039f\"], [0.2222222222222222, \"#7201a8\"], [0.3333333333333333, \"#9c179e\"], [0.4444444444444444, \"#bd3786\"], [0.5555555555555556, \"#d8576b\"], [0.6666666666666666, \"#ed7953\"], [0.7777777777777778, \"#fb9f3a\"], [0.8888888888888888, \"#fdca26\"], [1.0, \"#f0f921\"]]}, \"colorway\": [\"#636efa\", \"#EF553B\", \"#00cc96\", \"#ab63fa\", \"#FFA15A\", \"#19d3f3\", \"#FF6692\", \"#B6E880\", \"#FF97FF\", \"#FECB52\"], \"font\": {\"color\": \"#2a3f5f\"}, \"geo\": {\"bgcolor\": \"white\", \"lakecolor\": \"white\", \"landcolor\": \"#E5ECF6\", \"showlakes\": true, \"showland\": true, \"subunitcolor\": \"white\"}, \"hoverlabel\": {\"align\": \"left\"}, \"hovermode\": \"closest\", \"mapbox\": {\"style\": \"light\"}, \"paper_bgcolor\": \"white\", \"plot_bgcolor\": \"#E5ECF6\", \"polar\": {\"angularaxis\": {\"gridcolor\": \"white\", \"linecolor\": \"white\", \"ticks\": \"\"}, \"bgcolor\": \"#E5ECF6\", \"radialaxis\": {\"gridcolor\": \"white\", \"linecolor\": \"white\", \"ticks\": \"\"}}, \"scene\": {\"xaxis\": {\"backgroundcolor\": \"#E5ECF6\", \"gridcolor\": \"white\", \"gridwidth\": 2, \"linecolor\": \"white\", \"showbackground\": true, \"ticks\": \"\", \"zerolinecolor\": \"white\"}, \"yaxis\": {\"backgroundcolor\": \"#E5ECF6\", \"gridcolor\": \"white\", \"gridwidth\": 2, \"linecolor\": \"white\", \"showbackground\": true, \"ticks\": \"\", \"zerolinecolor\": \"white\"}, \"zaxis\": {\"backgroundcolor\": \"#E5ECF6\", \"gridcolor\": \"white\", \"gridwidth\": 2, \"linecolor\": \"white\", \"showbackground\": true, \"ticks\": \"\", \"zerolinecolor\": \"white\"}}, \"shapedefaults\": {\"line\": {\"color\": \"#2a3f5f\"}}, \"ternary\": {\"aaxis\": {\"gridcolor\": \"white\", \"linecolor\": \"white\", \"ticks\": \"\"}, \"baxis\": {\"gridcolor\": \"white\", \"linecolor\": \"white\", \"ticks\": \"\"}, \"bgcolor\": \"#E5ECF6\", \"caxis\": {\"gridcolor\": \"white\", \"linecolor\": \"white\", \"ticks\": \"\"}}, \"title\": {\"x\": 0.05}, \"xaxis\": {\"automargin\": true, \"gridcolor\": \"white\", \"linecolor\": \"white\", \"ticks\": \"\", \"title\": {\"standoff\": 15}, \"zerolinecolor\": \"white\", \"zerolinewidth\": 2}, \"yaxis\": {\"automargin\": true, \"gridcolor\": \"white\", \"linecolor\": \"white\", \"ticks\": \"\", \"title\": {\"standoff\": 15}, \"zerolinecolor\": \"white\", \"zerolinewidth\": 2}}}, \"xaxis\": {\"anchor\": \"y\", \"domain\": [0.0, 1.0], \"title\": {\"text\": \"price in $\"}}, \"yaxis\": {\"anchor\": \"x\", \"categoryarray\": [\"9.20%\\u00a0(8)\", \"8.83%\\u00a0(31)\", \"3.88%\\u00a0(32)\", \"2.27%\\u00a0(2)\", \"18.42%\\u00a0(7)\", \"16.67%\\u00a0(3)\", \"12.50%\\u00a0(7)\", \"12.09%\\u00a0(22)\", \"1.37%\\u00a0(1)\", \"1.12%\\u00a0(5)\", \"1.02%\\u00a0(1)\", \"0.49%\\u00a0(1)\", \"0.41%\\u00a0(1)\", \"0%\\u00a0(0)\"], \"categoryorder\": \"array\", \"domain\": [0.0, 1.0], \"title\": {\"text\": \"feedback_negative\"}}},                        {\"responsive\": true}                    ).then(function(){\n",
       "                            \n",
       "var gd = document.getElementById('cdb690de-a482-4724-a754-4d8242c2f437');\n",
       "var x = new MutationObserver(function (mutations, observer) {{\n",
       "        var display = window.getComputedStyle(gd).display;\n",
       "        if (!display || display === 'none') {{\n",
       "            console.log([gd, 'removed!']);\n",
       "            Plotly.purge(gd);\n",
       "            observer.disconnect();\n",
       "        }}\n",
       "}});\n",
       "\n",
       "// Listen for the removal of the full notebook cells\n",
       "var notebookContainer = gd.closest('#notebook-container');\n",
       "if (notebookContainer) {{\n",
       "    x.observe(notebookContainer, {childList: true});\n",
       "}}\n",
       "\n",
       "// Listen for the clearing of the current output cell\n",
       "var outputEl = gd.closest('.output');\n",
       "if (outputEl) {{\n",
       "    x.observe(outputEl, {childList: true});\n",
       "}}\n",
       "\n",
       "                        })                };                });            </script>        </div>"
      ]
     },
     "metadata": {},
     "output_type": "display_data"
    }
   ],
   "source": [
    "plot_category_wise_unsorted('feedback_negative')"
   ]
  },
  {
   "cell_type": "code",
   "execution_count": 79,
   "id": "capital-latter",
   "metadata": {},
   "outputs": [
    {
     "data": {
      "application/vnd.plotly.v1+json": {
       "config": {
        "plotlyServerURL": "https://plot.ly"
       },
       "data": [
        {
         "alignmentgroup": "True",
         "boxpoints": "all",
         "fillcolor": "rgba(255,255,255,0)",
         "hoveron": "points",
         "hovertemplate": "since=%{y}<br>price in $=%{x}<extra></extra>",
         "legendgroup": "Aug 11, 2020",
         "line": {
          "color": "rgba(255,255,255,0)"
         },
         "marker": {
          "color": "#636efa"
         },
         "name": "Aug 11, 2020",
         "offsetgroup": "Aug 11, 2020",
         "orientation": "h",
         "pointpos": 0,
         "showlegend": true,
         "type": "box",
         "x": [
          266.3797587131368
         ],
         "x0": " ",
         "xaxis": "x",
         "y": [
          "Aug 11, 2020"
         ],
         "y0": " ",
         "yaxis": "y"
        },
        {
         "alignmentgroup": "True",
         "boxpoints": "all",
         "fillcolor": "rgba(255,255,255,0)",
         "hoveron": "points",
         "hovertemplate": "since=%{y}<br>price in $=%{x}<extra></extra>",
         "legendgroup": "Aug 25, 2020",
         "line": {
          "color": "rgba(255,255,255,0)"
         },
         "marker": {
          "color": "#EF553B"
         },
         "name": "Aug 25, 2020",
         "offsetgroup": "Aug 25, 2020",
         "orientation": "h",
         "pointpos": 0,
         "showlegend": true,
         "type": "box",
         "x": [
          269.5377327935223
         ],
         "x0": " ",
         "xaxis": "x",
         "y": [
          "Aug 25, 2020"
         ],
         "y0": " ",
         "yaxis": "y"
        },
        {
         "alignmentgroup": "True",
         "boxpoints": "all",
         "fillcolor": "rgba(255,255,255,0)",
         "hoveron": "points",
         "hovertemplate": "since=%{y}<br>price in $=%{x}<extra></extra>",
         "legendgroup": "Aug 27, 2020",
         "line": {
          "color": "rgba(255,255,255,0)"
         },
         "marker": {
          "color": "#00cc96"
         },
         "name": "Aug 27, 2020",
         "offsetgroup": "Aug 27, 2020",
         "orientation": "h",
         "pointpos": 0,
         "showlegend": true,
         "type": "box",
         "x": [
          87.07104046242776
         ],
         "x0": " ",
         "xaxis": "x",
         "y": [
          "Aug 27, 2020"
         ],
         "y0": " ",
         "yaxis": "y"
        },
        {
         "alignmentgroup": "True",
         "boxpoints": "all",
         "fillcolor": "rgba(255,255,255,0)",
         "hoveron": "points",
         "hovertemplate": "since=%{y}<br>price in $=%{x}<extra></extra>",
         "legendgroup": "Aug 28, 2020",
         "line": {
          "color": "rgba(255,255,255,0)"
         },
         "marker": {
          "color": "#ab63fa"
         },
         "name": "Aug 28, 2020",
         "offsetgroup": "Aug 28, 2020",
         "orientation": "h",
         "pointpos": 0,
         "showlegend": true,
         "type": "box",
         "x": [
          165.80394160583944
         ],
         "x0": " ",
         "xaxis": "x",
         "y": [
          "Aug 28, 2020"
         ],
         "y0": " ",
         "yaxis": "y"
        },
        {
         "alignmentgroup": "True",
         "boxpoints": "all",
         "fillcolor": "rgba(255,255,255,0)",
         "hoveron": "points",
         "hovertemplate": "since=%{y}<br>price in $=%{x}<extra></extra>",
         "legendgroup": "Aug 29, 2020",
         "line": {
          "color": "rgba(255,255,255,0)"
         },
         "marker": {
          "color": "#FFA15A"
         },
         "name": "Aug 29, 2020",
         "offsetgroup": "Aug 29, 2020",
         "orientation": "h",
         "pointpos": 0,
         "showlegend": true,
         "type": "box",
         "x": [
          131.32465116279067
         ],
         "x0": " ",
         "xaxis": "x",
         "y": [
          "Aug 29, 2020"
         ],
         "y0": " ",
         "yaxis": "y"
        },
        {
         "alignmentgroup": "True",
         "boxpoints": "all",
         "fillcolor": "rgba(255,255,255,0)",
         "hoveron": "points",
         "hovertemplate": "since=%{y}<br>price in $=%{x}<extra></extra>",
         "legendgroup": "Aug 9, 2020",
         "line": {
          "color": "rgba(255,255,255,0)"
         },
         "marker": {
          "color": "#19d3f3"
         },
         "name": "Aug 9, 2020",
         "offsetgroup": "Aug 9, 2020",
         "orientation": "h",
         "pointpos": 0,
         "showlegend": true,
         "type": "box",
         "x": [
          376.5833663366337
         ],
         "x0": " ",
         "xaxis": "x",
         "y": [
          "Aug 9, 2020"
         ],
         "y0": " ",
         "yaxis": "y"
        },
        {
         "alignmentgroup": "True",
         "boxpoints": "all",
         "fillcolor": "rgba(255,255,255,0)",
         "hoveron": "points",
         "hovertemplate": "since=%{y}<br>price in $=%{x}<extra></extra>",
         "legendgroup": "Dec 10, 2020",
         "line": {
          "color": "rgba(255,255,255,0)"
         },
         "marker": {
          "color": "#FF6692"
         },
         "name": "Dec 10, 2020",
         "offsetgroup": "Dec 10, 2020",
         "orientation": "h",
         "pointpos": 0,
         "showlegend": true,
         "type": "box",
         "x": [
          296.8081818181818
         ],
         "x0": " ",
         "xaxis": "x",
         "y": [
          "Dec 10, 2020"
         ],
         "y0": " ",
         "yaxis": "y"
        },
        {
         "alignmentgroup": "True",
         "boxpoints": "all",
         "fillcolor": "rgba(255,255,255,0)",
         "hoveron": "points",
         "hovertemplate": "since=%{y}<br>price in $=%{x}<extra></extra>",
         "legendgroup": "Dec 22, 2020",
         "line": {
          "color": "rgba(255,255,255,0)"
         },
         "marker": {
          "color": "#B6E880"
         },
         "name": "Dec 22, 2020",
         "offsetgroup": "Dec 22, 2020",
         "orientation": "h",
         "pointpos": 0,
         "showlegend": true,
         "type": "box",
         "x": [
          157.48603351955308
         ],
         "x0": " ",
         "xaxis": "x",
         "y": [
          "Dec 22, 2020"
         ],
         "y0": " ",
         "yaxis": "y"
        },
        {
         "alignmentgroup": "True",
         "boxpoints": "all",
         "fillcolor": "rgba(255,255,255,0)",
         "hoveron": "points",
         "hovertemplate": "since=%{y}<br>price in $=%{x}<extra></extra>",
         "legendgroup": "Dec 27, 2020",
         "line": {
          "color": "rgba(255,255,255,0)"
         },
         "marker": {
          "color": "#FF97FF"
         },
         "name": "Dec 27, 2020",
         "offsetgroup": "Dec 27, 2020",
         "orientation": "h",
         "pointpos": 0,
         "showlegend": true,
         "type": "box",
         "x": [
          253.14120000000005
         ],
         "x0": " ",
         "xaxis": "x",
         "y": [
          "Dec 27, 2020"
         ],
         "y0": " ",
         "yaxis": "y"
        },
        {
         "alignmentgroup": "True",
         "boxpoints": "all",
         "fillcolor": "rgba(255,255,255,0)",
         "hoveron": "points",
         "hovertemplate": "since=%{y}<br>price in $=%{x}<extra></extra>",
         "legendgroup": "Dec 9, 2020",
         "line": {
          "color": "rgba(255,255,255,0)"
         },
         "marker": {
          "color": "#FECB52"
         },
         "name": "Dec 9, 2020",
         "offsetgroup": "Dec 9, 2020",
         "orientation": "h",
         "pointpos": 0,
         "showlegend": true,
         "type": "box",
         "x": [
          305.06590909090914
         ],
         "x0": " ",
         "xaxis": "x",
         "y": [
          "Dec 9, 2020"
         ],
         "y0": " ",
         "yaxis": "y"
        },
        {
         "alignmentgroup": "True",
         "boxpoints": "all",
         "fillcolor": "rgba(255,255,255,0)",
         "hoveron": "points",
         "hovertemplate": "since=%{y}<br>price in $=%{x}<extra></extra>",
         "legendgroup": "Feb 21, 2021",
         "line": {
          "color": "rgba(255,255,255,0)"
         },
         "marker": {
          "color": "#636efa"
         },
         "name": "Feb 21, 2021",
         "offsetgroup": "Feb 21, 2021",
         "orientation": "h",
         "pointpos": 0,
         "showlegend": true,
         "type": "box",
         "x": [
          213.75374045801533
         ],
         "x0": " ",
         "xaxis": "x",
         "y": [
          "Feb 21, 2021"
         ],
         "y0": " ",
         "yaxis": "y"
        },
        {
         "alignmentgroup": "True",
         "boxpoints": "all",
         "fillcolor": "rgba(255,255,255,0)",
         "hoveron": "points",
         "hovertemplate": "since=%{y}<br>price in $=%{x}<extra></extra>",
         "legendgroup": "Feb 28, 2020",
         "line": {
          "color": "rgba(255,255,255,0)"
         },
         "marker": {
          "color": "#EF553B"
         },
         "name": "Feb 28, 2020",
         "offsetgroup": "Feb 28, 2020",
         "orientation": "h",
         "pointpos": 0,
         "showlegend": true,
         "type": "box",
         "x": [
          85.41080882352946
         ],
         "x0": " ",
         "xaxis": "x",
         "y": [
          "Feb 28, 2020"
         ],
         "y0": " ",
         "yaxis": "y"
        },
        {
         "alignmentgroup": "True",
         "boxpoints": "all",
         "fillcolor": "rgba(255,255,255,0)",
         "hoveron": "points",
         "hovertemplate": "since=%{y}<br>price in $=%{x}<extra></extra>",
         "legendgroup": "Jan 13, 2021",
         "line": {
          "color": "rgba(255,255,255,0)"
         },
         "marker": {
          "color": "#00cc96"
         },
         "name": "Jan 13, 2021",
         "offsetgroup": "Jan 13, 2021",
         "orientation": "h",
         "pointpos": 0,
         "showlegend": true,
         "type": "box",
         "x": [
          122.77126050420172
         ],
         "x0": " ",
         "xaxis": "x",
         "y": [
          "Jan 13, 2021"
         ],
         "y0": " ",
         "yaxis": "y"
        },
        {
         "alignmentgroup": "True",
         "boxpoints": "all",
         "fillcolor": "rgba(255,255,255,0)",
         "hoveron": "points",
         "hovertemplate": "since=%{y}<br>price in $=%{x}<extra></extra>",
         "legendgroup": "Jan 16, 2021",
         "line": {
          "color": "rgba(255,255,255,0)"
         },
         "marker": {
          "color": "#ab63fa"
         },
         "name": "Jan 16, 2021",
         "offsetgroup": "Jan 16, 2021",
         "orientation": "h",
         "pointpos": 0,
         "showlegend": true,
         "type": "box",
         "x": [
          298.4542079207919
         ],
         "x0": " ",
         "xaxis": "x",
         "y": [
          "Jan 16, 2021"
         ],
         "y0": " ",
         "yaxis": "y"
        },
        {
         "alignmentgroup": "True",
         "boxpoints": "all",
         "fillcolor": "rgba(255,255,255,0)",
         "hoveron": "points",
         "hovertemplate": "since=%{y}<br>price in $=%{x}<extra></extra>",
         "legendgroup": "Jan 17, 2021",
         "line": {
          "color": "rgba(255,255,255,0)"
         },
         "marker": {
          "color": "#FFA15A"
         },
         "name": "Jan 17, 2021",
         "offsetgroup": "Jan 17, 2021",
         "orientation": "h",
         "pointpos": 0,
         "showlegend": true,
         "type": "box",
         "x": [
          293.461572327044
         ],
         "x0": " ",
         "xaxis": "x",
         "y": [
          "Jan 17, 2021"
         ],
         "y0": " ",
         "yaxis": "y"
        },
        {
         "alignmentgroup": "True",
         "boxpoints": "all",
         "fillcolor": "rgba(255,255,255,0)",
         "hoveron": "points",
         "hovertemplate": "since=%{y}<br>price in $=%{x}<extra></extra>",
         "legendgroup": "Jan 18, 2021",
         "line": {
          "color": "rgba(255,255,255,0)"
         },
         "marker": {
          "color": "#19d3f3"
         },
         "name": "Jan 18, 2021",
         "offsetgroup": "Jan 18, 2021",
         "orientation": "h",
         "pointpos": 0,
         "showlegend": true,
         "type": "box",
         "x": [
          329.94226086956525
         ],
         "x0": " ",
         "xaxis": "x",
         "y": [
          "Jan 18, 2021"
         ],
         "y0": " ",
         "yaxis": "y"
        },
        {
         "alignmentgroup": "True",
         "boxpoints": "all",
         "fillcolor": "rgba(255,255,255,0)",
         "hoveron": "points",
         "hovertemplate": "since=%{y}<br>price in $=%{x}<extra></extra>",
         "legendgroup": "Jan 21, 2021",
         "line": {
          "color": "rgba(255,255,255,0)"
         },
         "marker": {
          "color": "#FF6692"
         },
         "name": "Jan 21, 2021",
         "offsetgroup": "Jan 21, 2021",
         "orientation": "h",
         "pointpos": 0,
         "showlegend": true,
         "type": "box",
         "x": [
          320.04093750000004
         ],
         "x0": " ",
         "xaxis": "x",
         "y": [
          "Jan 21, 2021"
         ],
         "y0": " ",
         "yaxis": "y"
        },
        {
         "alignmentgroup": "True",
         "boxpoints": "all",
         "fillcolor": "rgba(255,255,255,0)",
         "hoveron": "points",
         "hovertemplate": "since=%{y}<br>price in $=%{x}<extra></extra>",
         "legendgroup": "Jan 25, 2021",
         "line": {
          "color": "rgba(255,255,255,0)"
         },
         "marker": {
          "color": "#B6E880"
         },
         "name": "Jan 25, 2021",
         "offsetgroup": "Jan 25, 2021",
         "orientation": "h",
         "pointpos": 0,
         "showlegend": true,
         "type": "box",
         "x": [
          229.2581147540985
         ],
         "x0": " ",
         "xaxis": "x",
         "y": [
          "Jan 25, 2021"
         ],
         "y0": " ",
         "yaxis": "y"
        },
        {
         "alignmentgroup": "True",
         "boxpoints": "all",
         "fillcolor": "rgba(255,255,255,0)",
         "hoveron": "points",
         "hovertemplate": "since=%{y}<br>price in $=%{x}<extra></extra>",
         "legendgroup": "Jan 26, 2021",
         "line": {
          "color": "rgba(255,255,255,0)"
         },
         "marker": {
          "color": "#FF97FF"
         },
         "name": "Jan 26, 2021",
         "offsetgroup": "Jan 26, 2021",
         "orientation": "h",
         "pointpos": 0,
         "showlegend": true,
         "type": "box",
         "x": [
          267.3979924242423
         ],
         "x0": " ",
         "xaxis": "x",
         "y": [
          "Jan 26, 2021"
         ],
         "y0": " ",
         "yaxis": "y"
        },
        {
         "alignmentgroup": "True",
         "boxpoints": "all",
         "fillcolor": "rgba(255,255,255,0)",
         "hoveron": "points",
         "hovertemplate": "since=%{y}<br>price in $=%{x}<extra></extra>",
         "legendgroup": "Jan 28, 2021",
         "line": {
          "color": "rgba(255,255,255,0)"
         },
         "marker": {
          "color": "#FECB52"
         },
         "name": "Jan 28, 2021",
         "offsetgroup": "Jan 28, 2021",
         "orientation": "h",
         "pointpos": 0,
         "showlegend": true,
         "type": "box",
         "x": [
          222.47809210526316
         ],
         "x0": " ",
         "xaxis": "x",
         "y": [
          "Jan 28, 2021"
         ],
         "y0": " ",
         "yaxis": "y"
        },
        {
         "alignmentgroup": "True",
         "boxpoints": "all",
         "fillcolor": "rgba(255,255,255,0)",
         "hoveron": "points",
         "hovertemplate": "since=%{y}<br>price in $=%{x}<extra></extra>",
         "legendgroup": "Mar 1, 2021",
         "line": {
          "color": "rgba(255,255,255,0)"
         },
         "marker": {
          "color": "#636efa"
         },
         "name": "Mar 1, 2021",
         "offsetgroup": "Mar 1, 2021",
         "orientation": "h",
         "pointpos": 0,
         "showlegend": true,
         "type": "box",
         "x": [
          120.47441441441441
         ],
         "x0": " ",
         "xaxis": "x",
         "y": [
          "Mar 1, 2021"
         ],
         "y0": " ",
         "yaxis": "y"
        },
        {
         "alignmentgroup": "True",
         "boxpoints": "all",
         "fillcolor": "rgba(255,255,255,0)",
         "hoveron": "points",
         "hovertemplate": "since=%{y}<br>price in $=%{x}<extra></extra>",
         "legendgroup": "Mar 20, 2020",
         "line": {
          "color": "rgba(255,255,255,0)"
         },
         "marker": {
          "color": "#EF553B"
         },
         "name": "Mar 20, 2020",
         "offsetgroup": "Mar 20, 2020",
         "orientation": "h",
         "pointpos": 0,
         "showlegend": true,
         "type": "box",
         "x": [
          130.8448120300752
         ],
         "x0": " ",
         "xaxis": "x",
         "y": [
          "Mar 20, 2020"
         ],
         "y0": " ",
         "yaxis": "y"
        },
        {
         "alignmentgroup": "True",
         "boxpoints": "all",
         "fillcolor": "rgba(255,255,255,0)",
         "hoveron": "points",
         "hovertemplate": "since=%{y}<br>price in $=%{x}<extra></extra>",
         "legendgroup": "Nov 11, 2020",
         "line": {
          "color": "rgba(255,255,255,0)"
         },
         "marker": {
          "color": "#00cc96"
         },
         "name": "Nov 11, 2020",
         "offsetgroup": "Nov 11, 2020",
         "orientation": "h",
         "pointpos": 0,
         "showlegend": true,
         "type": "box",
         "x": [
          271.2472277227722
         ],
         "x0": " ",
         "xaxis": "x",
         "y": [
          "Nov 11, 2020"
         ],
         "y0": " ",
         "yaxis": "y"
        },
        {
         "alignmentgroup": "True",
         "boxpoints": "all",
         "fillcolor": "rgba(255,255,255,0)",
         "hoveron": "points",
         "hovertemplate": "since=%{y}<br>price in $=%{x}<extra></extra>",
         "legendgroup": "Nov 18, 2020",
         "line": {
          "color": "rgba(255,255,255,0)"
         },
         "marker": {
          "color": "#ab63fa"
         },
         "name": "Nov 18, 2020",
         "offsetgroup": "Nov 18, 2020",
         "orientation": "h",
         "pointpos": 0,
         "showlegend": true,
         "type": "box",
         "x": [
          205.64327485380122
         ],
         "x0": " ",
         "xaxis": "x",
         "y": [
          "Nov 18, 2020"
         ],
         "y0": " ",
         "yaxis": "y"
        },
        {
         "alignmentgroup": "True",
         "boxpoints": "all",
         "fillcolor": "rgba(255,255,255,0)",
         "hoveron": "points",
         "hovertemplate": "since=%{y}<br>price in $=%{x}<extra></extra>",
         "legendgroup": "Nov 20, 2020",
         "line": {
          "color": "rgba(255,255,255,0)"
         },
         "marker": {
          "color": "#FFA15A"
         },
         "name": "Nov 20, 2020",
         "offsetgroup": "Nov 20, 2020",
         "orientation": "h",
         "pointpos": 0,
         "showlegend": true,
         "type": "box",
         "x": [
          171.34783783783777
         ],
         "x0": " ",
         "xaxis": "x",
         "y": [
          "Nov 20, 2020"
         ],
         "y0": " ",
         "yaxis": "y"
        },
        {
         "alignmentgroup": "True",
         "boxpoints": "all",
         "fillcolor": "rgba(255,255,255,0)",
         "hoveron": "points",
         "hovertemplate": "since=%{y}<br>price in $=%{x}<extra></extra>",
         "legendgroup": "Nov 22, 2020",
         "line": {
          "color": "rgba(255,255,255,0)"
         },
         "marker": {
          "color": "#19d3f3"
         },
         "name": "Nov 22, 2020",
         "offsetgroup": "Nov 22, 2020",
         "orientation": "h",
         "pointpos": 0,
         "showlegend": true,
         "type": "box",
         "x": [
          120.05694560669457
         ],
         "x0": " ",
         "xaxis": "x",
         "y": [
          "Nov 22, 2020"
         ],
         "y0": " ",
         "yaxis": "y"
        },
        {
         "alignmentgroup": "True",
         "boxpoints": "all",
         "fillcolor": "rgba(255,255,255,0)",
         "hoveron": "points",
         "hovertemplate": "since=%{y}<br>price in $=%{x}<extra></extra>",
         "legendgroup": "Nov 24, 2020",
         "line": {
          "color": "rgba(255,255,255,0)"
         },
         "marker": {
          "color": "#FF6692"
         },
         "name": "Nov 24, 2020",
         "offsetgroup": "Nov 24, 2020",
         "orientation": "h",
         "pointpos": 0,
         "showlegend": true,
         "type": "box",
         "x": [
          283.9771818181818
         ],
         "x0": " ",
         "xaxis": "x",
         "y": [
          "Nov 24, 2020"
         ],
         "y0": " ",
         "yaxis": "y"
        },
        {
         "alignmentgroup": "True",
         "boxpoints": "all",
         "fillcolor": "rgba(255,255,255,0)",
         "hoveron": "points",
         "hovertemplate": "since=%{y}<br>price in $=%{x}<extra></extra>",
         "legendgroup": "Nov 9, 2020",
         "line": {
          "color": "rgba(255,255,255,0)"
         },
         "marker": {
          "color": "#B6E880"
         },
         "name": "Nov 9, 2020",
         "offsetgroup": "Nov 9, 2020",
         "orientation": "h",
         "pointpos": 0,
         "showlegend": true,
         "type": "box",
         "x": [
          301.2188392857144
         ],
         "x0": " ",
         "xaxis": "x",
         "y": [
          "Nov 9, 2020"
         ],
         "y0": " ",
         "yaxis": "y"
        },
        {
         "alignmentgroup": "True",
         "boxpoints": "all",
         "fillcolor": "rgba(255,255,255,0)",
         "hoveron": "points",
         "hovertemplate": "since=%{y}<br>price in $=%{x}<extra></extra>",
         "legendgroup": "Oct 1, 2020",
         "line": {
          "color": "rgba(255,255,255,0)"
         },
         "marker": {
          "color": "#FF97FF"
         },
         "name": "Oct 1, 2020",
         "offsetgroup": "Oct 1, 2020",
         "orientation": "h",
         "pointpos": 0,
         "showlegend": true,
         "type": "box",
         "x": [
          404.53732758620697
         ],
         "x0": " ",
         "xaxis": "x",
         "y": [
          "Oct 1, 2020"
         ],
         "y0": " ",
         "yaxis": "y"
        },
        {
         "alignmentgroup": "True",
         "boxpoints": "all",
         "fillcolor": "rgba(255,255,255,0)",
         "hoveron": "points",
         "hovertemplate": "since=%{y}<br>price in $=%{x}<extra></extra>",
         "legendgroup": "Oct 14, 2020",
         "line": {
          "color": "rgba(255,255,255,0)"
         },
         "marker": {
          "color": "#FECB52"
         },
         "name": "Oct 14, 2020",
         "offsetgroup": "Oct 14, 2020",
         "orientation": "h",
         "pointpos": 0,
         "showlegend": true,
         "type": "box",
         "x": [
          296.9185714285715
         ],
         "x0": " ",
         "xaxis": "x",
         "y": [
          "Oct 14, 2020"
         ],
         "y0": " ",
         "yaxis": "y"
        },
        {
         "alignmentgroup": "True",
         "boxpoints": "all",
         "fillcolor": "rgba(255,255,255,0)",
         "hoveron": "points",
         "hovertemplate": "since=%{y}<br>price in $=%{x}<extra></extra>",
         "legendgroup": "Oct 15, 2020",
         "line": {
          "color": "rgba(255,255,255,0)"
         },
         "marker": {
          "color": "#636efa"
         },
         "name": "Oct 15, 2020",
         "offsetgroup": "Oct 15, 2020",
         "orientation": "h",
         "pointpos": 0,
         "showlegend": true,
         "type": "box",
         "x": [
          197.51263513513518
         ],
         "x0": " ",
         "xaxis": "x",
         "y": [
          "Oct 15, 2020"
         ],
         "y0": " ",
         "yaxis": "y"
        },
        {
         "alignmentgroup": "True",
         "boxpoints": "all",
         "fillcolor": "rgba(255,255,255,0)",
         "hoveron": "points",
         "hovertemplate": "since=%{y}<br>price in $=%{x}<extra></extra>",
         "legendgroup": "Oct 28, 2020",
         "line": {
          "color": "rgba(255,255,255,0)"
         },
         "marker": {
          "color": "#EF553B"
         },
         "name": "Oct 28, 2020",
         "offsetgroup": "Oct 28, 2020",
         "orientation": "h",
         "pointpos": 0,
         "showlegend": true,
         "type": "box",
         "x": [
          311.8644516129032
         ],
         "x0": " ",
         "xaxis": "x",
         "y": [
          "Oct 28, 2020"
         ],
         "y0": " ",
         "yaxis": "y"
        },
        {
         "alignmentgroup": "True",
         "boxpoints": "all",
         "fillcolor": "rgba(255,255,255,0)",
         "hoveron": "points",
         "hovertemplate": "since=%{y}<br>price in $=%{x}<extra></extra>",
         "legendgroup": "Oct 3, 2020",
         "line": {
          "color": "rgba(255,255,255,0)"
         },
         "marker": {
          "color": "#00cc96"
         },
         "name": "Oct 3, 2020",
         "offsetgroup": "Oct 3, 2020",
         "orientation": "h",
         "pointpos": 0,
         "showlegend": true,
         "type": "box",
         "x": [
          300.7638267148012
         ],
         "x0": " ",
         "xaxis": "x",
         "y": [
          "Oct 3, 2020"
         ],
         "y0": " ",
         "yaxis": "y"
        },
        {
         "alignmentgroup": "True",
         "boxpoints": "all",
         "fillcolor": "rgba(255,255,255,0)",
         "hoveron": "points",
         "hovertemplate": "since=%{y}<br>price in $=%{x}<extra></extra>",
         "legendgroup": "Oct 6, 2020",
         "line": {
          "color": "rgba(255,255,255,0)"
         },
         "marker": {
          "color": "#ab63fa"
         },
         "name": "Oct 6, 2020",
         "offsetgroup": "Oct 6, 2020",
         "orientation": "h",
         "pointpos": 0,
         "showlegend": true,
         "type": "box",
         "x": [
          194.8361290322582
         ],
         "x0": " ",
         "xaxis": "x",
         "y": [
          "Oct 6, 2020"
         ],
         "y0": " ",
         "yaxis": "y"
        },
        {
         "alignmentgroup": "True",
         "boxpoints": "all",
         "fillcolor": "rgba(255,255,255,0)",
         "hoveron": "points",
         "hovertemplate": "since=%{y}<br>price in $=%{x}<extra></extra>",
         "legendgroup": "Sep 1, 2020",
         "line": {
          "color": "rgba(255,255,255,0)"
         },
         "marker": {
          "color": "#FFA15A"
         },
         "name": "Sep 1, 2020",
         "offsetgroup": "Sep 1, 2020",
         "orientation": "h",
         "pointpos": 0,
         "showlegend": true,
         "type": "box",
         "x": [
          184.9775132275132
         ],
         "x0": " ",
         "xaxis": "x",
         "y": [
          "Sep 1, 2020"
         ],
         "y0": " ",
         "yaxis": "y"
        },
        {
         "alignmentgroup": "True",
         "boxpoints": "all",
         "fillcolor": "rgba(255,255,255,0)",
         "hoveron": "points",
         "hovertemplate": "since=%{y}<br>price in $=%{x}<extra></extra>",
         "legendgroup": "Sep 12, 2020",
         "line": {
          "color": "rgba(255,255,255,0)"
         },
         "marker": {
          "color": "#19d3f3"
         },
         "name": "Sep 12, 2020",
         "offsetgroup": "Sep 12, 2020",
         "orientation": "h",
         "pointpos": 0,
         "showlegend": true,
         "type": "box",
         "x": [
          174.3372348484848
         ],
         "x0": " ",
         "xaxis": "x",
         "y": [
          "Sep 12, 2020"
         ],
         "y0": " ",
         "yaxis": "y"
        },
        {
         "alignmentgroup": "True",
         "boxpoints": "all",
         "fillcolor": "rgba(255,255,255,0)",
         "hoveron": "points",
         "hovertemplate": "since=%{y}<br>price in $=%{x}<extra></extra>",
         "legendgroup": "Sep 14, 2020",
         "line": {
          "color": "rgba(255,255,255,0)"
         },
         "marker": {
          "color": "#FF6692"
         },
         "name": "Sep 14, 2020",
         "offsetgroup": "Sep 14, 2020",
         "orientation": "h",
         "pointpos": 0,
         "showlegend": true,
         "type": "box",
         "x": [
          247.67278846153846
         ],
         "x0": " ",
         "xaxis": "x",
         "y": [
          "Sep 14, 2020"
         ],
         "y0": " ",
         "yaxis": "y"
        },
        {
         "alignmentgroup": "True",
         "boxpoints": "all",
         "fillcolor": "rgba(255,255,255,0)",
         "hoveron": "points",
         "hovertemplate": "since=%{y}<br>price in $=%{x}<extra></extra>",
         "legendgroup": "Sep 16, 2020",
         "line": {
          "color": "rgba(255,255,255,0)"
         },
         "marker": {
          "color": "#B6E880"
         },
         "name": "Sep 16, 2020",
         "offsetgroup": "Sep 16, 2020",
         "orientation": "h",
         "pointpos": 0,
         "showlegend": true,
         "type": "box",
         "x": [
          285.8724561403509
         ],
         "x0": " ",
         "xaxis": "x",
         "y": [
          "Sep 16, 2020"
         ],
         "y0": " ",
         "yaxis": "y"
        },
        {
         "alignmentgroup": "True",
         "boxpoints": "all",
         "fillcolor": "rgba(255,255,255,0)",
         "hoveron": "points",
         "hovertemplate": "since=%{y}<br>price in $=%{x}<extra></extra>",
         "legendgroup": "Sep 21, 2020",
         "line": {
          "color": "rgba(255,255,255,0)"
         },
         "marker": {
          "color": "#FF97FF"
         },
         "name": "Sep 21, 2020",
         "offsetgroup": "Sep 21, 2020",
         "orientation": "h",
         "pointpos": 0,
         "showlegend": true,
         "type": "box",
         "x": [
          137.96277777777775
         ],
         "x0": " ",
         "xaxis": "x",
         "y": [
          "Sep 21, 2020"
         ],
         "y0": " ",
         "yaxis": "y"
        }
       ],
       "layout": {
        "boxmode": "overlay",
        "legend": {
         "title": {
          "text": "since"
         },
         "tracegroupgap": 0
        },
        "margin": {
         "t": 60
        },
        "template": {
         "data": {
          "bar": [
           {
            "error_x": {
             "color": "#2a3f5f"
            },
            "error_y": {
             "color": "#2a3f5f"
            },
            "marker": {
             "line": {
              "color": "#E5ECF6",
              "width": 0.5
             }
            },
            "type": "bar"
           }
          ],
          "barpolar": [
           {
            "marker": {
             "line": {
              "color": "#E5ECF6",
              "width": 0.5
             }
            },
            "type": "barpolar"
           }
          ],
          "carpet": [
           {
            "aaxis": {
             "endlinecolor": "#2a3f5f",
             "gridcolor": "white",
             "linecolor": "white",
             "minorgridcolor": "white",
             "startlinecolor": "#2a3f5f"
            },
            "baxis": {
             "endlinecolor": "#2a3f5f",
             "gridcolor": "white",
             "linecolor": "white",
             "minorgridcolor": "white",
             "startlinecolor": "#2a3f5f"
            },
            "type": "carpet"
           }
          ],
          "choropleth": [
           {
            "colorbar": {
             "outlinewidth": 0,
             "ticks": ""
            },
            "type": "choropleth"
           }
          ],
          "contour": [
           {
            "colorbar": {
             "outlinewidth": 0,
             "ticks": ""
            },
            "colorscale": [
             [
              0,
              "#0d0887"
             ],
             [
              0.1111111111111111,
              "#46039f"
             ],
             [
              0.2222222222222222,
              "#7201a8"
             ],
             [
              0.3333333333333333,
              "#9c179e"
             ],
             [
              0.4444444444444444,
              "#bd3786"
             ],
             [
              0.5555555555555556,
              "#d8576b"
             ],
             [
              0.6666666666666666,
              "#ed7953"
             ],
             [
              0.7777777777777778,
              "#fb9f3a"
             ],
             [
              0.8888888888888888,
              "#fdca26"
             ],
             [
              1,
              "#f0f921"
             ]
            ],
            "type": "contour"
           }
          ],
          "contourcarpet": [
           {
            "colorbar": {
             "outlinewidth": 0,
             "ticks": ""
            },
            "type": "contourcarpet"
           }
          ],
          "heatmap": [
           {
            "colorbar": {
             "outlinewidth": 0,
             "ticks": ""
            },
            "colorscale": [
             [
              0,
              "#0d0887"
             ],
             [
              0.1111111111111111,
              "#46039f"
             ],
             [
              0.2222222222222222,
              "#7201a8"
             ],
             [
              0.3333333333333333,
              "#9c179e"
             ],
             [
              0.4444444444444444,
              "#bd3786"
             ],
             [
              0.5555555555555556,
              "#d8576b"
             ],
             [
              0.6666666666666666,
              "#ed7953"
             ],
             [
              0.7777777777777778,
              "#fb9f3a"
             ],
             [
              0.8888888888888888,
              "#fdca26"
             ],
             [
              1,
              "#f0f921"
             ]
            ],
            "type": "heatmap"
           }
          ],
          "heatmapgl": [
           {
            "colorbar": {
             "outlinewidth": 0,
             "ticks": ""
            },
            "colorscale": [
             [
              0,
              "#0d0887"
             ],
             [
              0.1111111111111111,
              "#46039f"
             ],
             [
              0.2222222222222222,
              "#7201a8"
             ],
             [
              0.3333333333333333,
              "#9c179e"
             ],
             [
              0.4444444444444444,
              "#bd3786"
             ],
             [
              0.5555555555555556,
              "#d8576b"
             ],
             [
              0.6666666666666666,
              "#ed7953"
             ],
             [
              0.7777777777777778,
              "#fb9f3a"
             ],
             [
              0.8888888888888888,
              "#fdca26"
             ],
             [
              1,
              "#f0f921"
             ]
            ],
            "type": "heatmapgl"
           }
          ],
          "histogram": [
           {
            "marker": {
             "colorbar": {
              "outlinewidth": 0,
              "ticks": ""
             }
            },
            "type": "histogram"
           }
          ],
          "histogram2d": [
           {
            "colorbar": {
             "outlinewidth": 0,
             "ticks": ""
            },
            "colorscale": [
             [
              0,
              "#0d0887"
             ],
             [
              0.1111111111111111,
              "#46039f"
             ],
             [
              0.2222222222222222,
              "#7201a8"
             ],
             [
              0.3333333333333333,
              "#9c179e"
             ],
             [
              0.4444444444444444,
              "#bd3786"
             ],
             [
              0.5555555555555556,
              "#d8576b"
             ],
             [
              0.6666666666666666,
              "#ed7953"
             ],
             [
              0.7777777777777778,
              "#fb9f3a"
             ],
             [
              0.8888888888888888,
              "#fdca26"
             ],
             [
              1,
              "#f0f921"
             ]
            ],
            "type": "histogram2d"
           }
          ],
          "histogram2dcontour": [
           {
            "colorbar": {
             "outlinewidth": 0,
             "ticks": ""
            },
            "colorscale": [
             [
              0,
              "#0d0887"
             ],
             [
              0.1111111111111111,
              "#46039f"
             ],
             [
              0.2222222222222222,
              "#7201a8"
             ],
             [
              0.3333333333333333,
              "#9c179e"
             ],
             [
              0.4444444444444444,
              "#bd3786"
             ],
             [
              0.5555555555555556,
              "#d8576b"
             ],
             [
              0.6666666666666666,
              "#ed7953"
             ],
             [
              0.7777777777777778,
              "#fb9f3a"
             ],
             [
              0.8888888888888888,
              "#fdca26"
             ],
             [
              1,
              "#f0f921"
             ]
            ],
            "type": "histogram2dcontour"
           }
          ],
          "mesh3d": [
           {
            "colorbar": {
             "outlinewidth": 0,
             "ticks": ""
            },
            "type": "mesh3d"
           }
          ],
          "parcoords": [
           {
            "line": {
             "colorbar": {
              "outlinewidth": 0,
              "ticks": ""
             }
            },
            "type": "parcoords"
           }
          ],
          "pie": [
           {
            "automargin": true,
            "type": "pie"
           }
          ],
          "scatter": [
           {
            "marker": {
             "colorbar": {
              "outlinewidth": 0,
              "ticks": ""
             }
            },
            "type": "scatter"
           }
          ],
          "scatter3d": [
           {
            "line": {
             "colorbar": {
              "outlinewidth": 0,
              "ticks": ""
             }
            },
            "marker": {
             "colorbar": {
              "outlinewidth": 0,
              "ticks": ""
             }
            },
            "type": "scatter3d"
           }
          ],
          "scattercarpet": [
           {
            "marker": {
             "colorbar": {
              "outlinewidth": 0,
              "ticks": ""
             }
            },
            "type": "scattercarpet"
           }
          ],
          "scattergeo": [
           {
            "marker": {
             "colorbar": {
              "outlinewidth": 0,
              "ticks": ""
             }
            },
            "type": "scattergeo"
           }
          ],
          "scattergl": [
           {
            "marker": {
             "colorbar": {
              "outlinewidth": 0,
              "ticks": ""
             }
            },
            "type": "scattergl"
           }
          ],
          "scattermapbox": [
           {
            "marker": {
             "colorbar": {
              "outlinewidth": 0,
              "ticks": ""
             }
            },
            "type": "scattermapbox"
           }
          ],
          "scatterpolar": [
           {
            "marker": {
             "colorbar": {
              "outlinewidth": 0,
              "ticks": ""
             }
            },
            "type": "scatterpolar"
           }
          ],
          "scatterpolargl": [
           {
            "marker": {
             "colorbar": {
              "outlinewidth": 0,
              "ticks": ""
             }
            },
            "type": "scatterpolargl"
           }
          ],
          "scatterternary": [
           {
            "marker": {
             "colorbar": {
              "outlinewidth": 0,
              "ticks": ""
             }
            },
            "type": "scatterternary"
           }
          ],
          "surface": [
           {
            "colorbar": {
             "outlinewidth": 0,
             "ticks": ""
            },
            "colorscale": [
             [
              0,
              "#0d0887"
             ],
             [
              0.1111111111111111,
              "#46039f"
             ],
             [
              0.2222222222222222,
              "#7201a8"
             ],
             [
              0.3333333333333333,
              "#9c179e"
             ],
             [
              0.4444444444444444,
              "#bd3786"
             ],
             [
              0.5555555555555556,
              "#d8576b"
             ],
             [
              0.6666666666666666,
              "#ed7953"
             ],
             [
              0.7777777777777778,
              "#fb9f3a"
             ],
             [
              0.8888888888888888,
              "#fdca26"
             ],
             [
              1,
              "#f0f921"
             ]
            ],
            "type": "surface"
           }
          ],
          "table": [
           {
            "cells": {
             "fill": {
              "color": "#EBF0F8"
             },
             "line": {
              "color": "white"
             }
            },
            "header": {
             "fill": {
              "color": "#C8D4E3"
             },
             "line": {
              "color": "white"
             }
            },
            "type": "table"
           }
          ]
         },
         "layout": {
          "annotationdefaults": {
           "arrowcolor": "#2a3f5f",
           "arrowhead": 0,
           "arrowwidth": 1
          },
          "autotypenumbers": "strict",
          "coloraxis": {
           "colorbar": {
            "outlinewidth": 0,
            "ticks": ""
           }
          },
          "colorscale": {
           "diverging": [
            [
             0,
             "#8e0152"
            ],
            [
             0.1,
             "#c51b7d"
            ],
            [
             0.2,
             "#de77ae"
            ],
            [
             0.3,
             "#f1b6da"
            ],
            [
             0.4,
             "#fde0ef"
            ],
            [
             0.5,
             "#f7f7f7"
            ],
            [
             0.6,
             "#e6f5d0"
            ],
            [
             0.7,
             "#b8e186"
            ],
            [
             0.8,
             "#7fbc41"
            ],
            [
             0.9,
             "#4d9221"
            ],
            [
             1,
             "#276419"
            ]
           ],
           "sequential": [
            [
             0,
             "#0d0887"
            ],
            [
             0.1111111111111111,
             "#46039f"
            ],
            [
             0.2222222222222222,
             "#7201a8"
            ],
            [
             0.3333333333333333,
             "#9c179e"
            ],
            [
             0.4444444444444444,
             "#bd3786"
            ],
            [
             0.5555555555555556,
             "#d8576b"
            ],
            [
             0.6666666666666666,
             "#ed7953"
            ],
            [
             0.7777777777777778,
             "#fb9f3a"
            ],
            [
             0.8888888888888888,
             "#fdca26"
            ],
            [
             1,
             "#f0f921"
            ]
           ],
           "sequentialminus": [
            [
             0,
             "#0d0887"
            ],
            [
             0.1111111111111111,
             "#46039f"
            ],
            [
             0.2222222222222222,
             "#7201a8"
            ],
            [
             0.3333333333333333,
             "#9c179e"
            ],
            [
             0.4444444444444444,
             "#bd3786"
            ],
            [
             0.5555555555555556,
             "#d8576b"
            ],
            [
             0.6666666666666666,
             "#ed7953"
            ],
            [
             0.7777777777777778,
             "#fb9f3a"
            ],
            [
             0.8888888888888888,
             "#fdca26"
            ],
            [
             1,
             "#f0f921"
            ]
           ]
          },
          "colorway": [
           "#636efa",
           "#EF553B",
           "#00cc96",
           "#ab63fa",
           "#FFA15A",
           "#19d3f3",
           "#FF6692",
           "#B6E880",
           "#FF97FF",
           "#FECB52"
          ],
          "font": {
           "color": "#2a3f5f"
          },
          "geo": {
           "bgcolor": "white",
           "lakecolor": "white",
           "landcolor": "#E5ECF6",
           "showlakes": true,
           "showland": true,
           "subunitcolor": "white"
          },
          "hoverlabel": {
           "align": "left"
          },
          "hovermode": "closest",
          "mapbox": {
           "style": "light"
          },
          "paper_bgcolor": "white",
          "plot_bgcolor": "#E5ECF6",
          "polar": {
           "angularaxis": {
            "gridcolor": "white",
            "linecolor": "white",
            "ticks": ""
           },
           "bgcolor": "#E5ECF6",
           "radialaxis": {
            "gridcolor": "white",
            "linecolor": "white",
            "ticks": ""
           }
          },
          "scene": {
           "xaxis": {
            "backgroundcolor": "#E5ECF6",
            "gridcolor": "white",
            "gridwidth": 2,
            "linecolor": "white",
            "showbackground": true,
            "ticks": "",
            "zerolinecolor": "white"
           },
           "yaxis": {
            "backgroundcolor": "#E5ECF6",
            "gridcolor": "white",
            "gridwidth": 2,
            "linecolor": "white",
            "showbackground": true,
            "ticks": "",
            "zerolinecolor": "white"
           },
           "zaxis": {
            "backgroundcolor": "#E5ECF6",
            "gridcolor": "white",
            "gridwidth": 2,
            "linecolor": "white",
            "showbackground": true,
            "ticks": "",
            "zerolinecolor": "white"
           }
          },
          "shapedefaults": {
           "line": {
            "color": "#2a3f5f"
           }
          },
          "ternary": {
           "aaxis": {
            "gridcolor": "white",
            "linecolor": "white",
            "ticks": ""
           },
           "baxis": {
            "gridcolor": "white",
            "linecolor": "white",
            "ticks": ""
           },
           "bgcolor": "#E5ECF6",
           "caxis": {
            "gridcolor": "white",
            "linecolor": "white",
            "ticks": ""
           }
          },
          "title": {
           "x": 0.05
          },
          "xaxis": {
           "automargin": true,
           "gridcolor": "white",
           "linecolor": "white",
           "ticks": "",
           "title": {
            "standoff": 15
           },
           "zerolinecolor": "white",
           "zerolinewidth": 2
          },
          "yaxis": {
           "automargin": true,
           "gridcolor": "white",
           "linecolor": "white",
           "ticks": "",
           "title": {
            "standoff": 15
           },
           "zerolinecolor": "white",
           "zerolinewidth": 2
          }
         }
        },
        "xaxis": {
         "anchor": "y",
         "domain": [
          0,
          1
         ],
         "title": {
          "text": "price in $"
         }
        },
        "yaxis": {
         "anchor": "x",
         "categoryarray": [
          "Sep 21, 2020",
          "Sep 16, 2020",
          "Sep 14, 2020",
          "Sep 12, 2020",
          "Sep 1, 2020",
          "Oct 6, 2020",
          "Oct 3, 2020",
          "Oct 28, 2020",
          "Oct 15, 2020",
          "Oct 14, 2020",
          "Oct 1, 2020",
          "Nov 9, 2020",
          "Nov 24, 2020",
          "Nov 22, 2020",
          "Nov 20, 2020",
          "Nov 18, 2020",
          "Nov 11, 2020",
          "Mar 20, 2020",
          "Mar 1, 2021",
          "Jan 28, 2021",
          "Jan 26, 2021",
          "Jan 25, 2021",
          "Jan 21, 2021",
          "Jan 18, 2021",
          "Jan 17, 2021",
          "Jan 16, 2021",
          "Jan 13, 2021",
          "Feb 28, 2020",
          "Feb 21, 2021",
          "Dec 9, 2020",
          "Dec 27, 2020",
          "Dec 22, 2020",
          "Dec 10, 2020",
          "Aug 9, 2020",
          "Aug 29, 2020",
          "Aug 28, 2020",
          "Aug 27, 2020",
          "Aug 25, 2020",
          "Aug 11, 2020"
         ],
         "categoryorder": "array",
         "domain": [
          0,
          1
         ],
         "title": {
          "text": "since"
         }
        }
       }
      },
      "text/html": [
       "<div>                            <div id=\"02e2ca2a-5f63-4ad7-8d00-0b1f9ad35d8f\" class=\"plotly-graph-div\" style=\"height:525px; width:100%;\"></div>            <script type=\"text/javascript\">                require([\"plotly\"], function(Plotly) {                    window.PLOTLYENV=window.PLOTLYENV || {};                                    if (document.getElementById(\"02e2ca2a-5f63-4ad7-8d00-0b1f9ad35d8f\")) {                    Plotly.newPlot(                        \"02e2ca2a-5f63-4ad7-8d00-0b1f9ad35d8f\",                        [{\"alignmentgroup\": \"True\", \"boxpoints\": \"all\", \"fillcolor\": \"rgba(255,255,255,0)\", \"hoveron\": \"points\", \"hovertemplate\": \"since=%{y}<br>price in $=%{x}<extra></extra>\", \"legendgroup\": \"Aug 11, 2020\", \"line\": {\"color\": \"rgba(255,255,255,0)\"}, \"marker\": {\"color\": \"#636efa\"}, \"name\": \"Aug 11, 2020\", \"offsetgroup\": \"Aug 11, 2020\", \"orientation\": \"h\", \"pointpos\": 0, \"showlegend\": true, \"type\": \"box\", \"x\": [266.3797587131368], \"x0\": \" \", \"xaxis\": \"x\", \"y\": [\"Aug 11, 2020\"], \"y0\": \" \", \"yaxis\": \"y\"}, {\"alignmentgroup\": \"True\", \"boxpoints\": \"all\", \"fillcolor\": \"rgba(255,255,255,0)\", \"hoveron\": \"points\", \"hovertemplate\": \"since=%{y}<br>price in $=%{x}<extra></extra>\", \"legendgroup\": \"Aug 25, 2020\", \"line\": {\"color\": \"rgba(255,255,255,0)\"}, \"marker\": {\"color\": \"#EF553B\"}, \"name\": \"Aug 25, 2020\", \"offsetgroup\": \"Aug 25, 2020\", \"orientation\": \"h\", \"pointpos\": 0, \"showlegend\": true, \"type\": \"box\", \"x\": [269.5377327935223], \"x0\": \" \", \"xaxis\": \"x\", \"y\": [\"Aug 25, 2020\"], \"y0\": \" \", \"yaxis\": \"y\"}, {\"alignmentgroup\": \"True\", \"boxpoints\": \"all\", \"fillcolor\": \"rgba(255,255,255,0)\", \"hoveron\": \"points\", \"hovertemplate\": \"since=%{y}<br>price in $=%{x}<extra></extra>\", \"legendgroup\": \"Aug 27, 2020\", \"line\": {\"color\": \"rgba(255,255,255,0)\"}, \"marker\": {\"color\": \"#00cc96\"}, \"name\": \"Aug 27, 2020\", \"offsetgroup\": \"Aug 27, 2020\", \"orientation\": \"h\", \"pointpos\": 0, \"showlegend\": true, \"type\": \"box\", \"x\": [87.07104046242776], \"x0\": \" \", \"xaxis\": \"x\", \"y\": [\"Aug 27, 2020\"], \"y0\": \" \", \"yaxis\": \"y\"}, {\"alignmentgroup\": \"True\", \"boxpoints\": \"all\", \"fillcolor\": \"rgba(255,255,255,0)\", \"hoveron\": \"points\", \"hovertemplate\": \"since=%{y}<br>price in $=%{x}<extra></extra>\", \"legendgroup\": \"Aug 28, 2020\", \"line\": {\"color\": \"rgba(255,255,255,0)\"}, \"marker\": {\"color\": \"#ab63fa\"}, \"name\": \"Aug 28, 2020\", \"offsetgroup\": \"Aug 28, 2020\", \"orientation\": \"h\", \"pointpos\": 0, \"showlegend\": true, \"type\": \"box\", \"x\": [165.80394160583944], \"x0\": \" \", \"xaxis\": \"x\", \"y\": [\"Aug 28, 2020\"], \"y0\": \" \", \"yaxis\": \"y\"}, {\"alignmentgroup\": \"True\", \"boxpoints\": \"all\", \"fillcolor\": \"rgba(255,255,255,0)\", \"hoveron\": \"points\", \"hovertemplate\": \"since=%{y}<br>price in $=%{x}<extra></extra>\", \"legendgroup\": \"Aug 29, 2020\", \"line\": {\"color\": \"rgba(255,255,255,0)\"}, \"marker\": {\"color\": \"#FFA15A\"}, \"name\": \"Aug 29, 2020\", \"offsetgroup\": \"Aug 29, 2020\", \"orientation\": \"h\", \"pointpos\": 0, \"showlegend\": true, \"type\": \"box\", \"x\": [131.32465116279067], \"x0\": \" \", \"xaxis\": \"x\", \"y\": [\"Aug 29, 2020\"], \"y0\": \" \", \"yaxis\": \"y\"}, {\"alignmentgroup\": \"True\", \"boxpoints\": \"all\", \"fillcolor\": \"rgba(255,255,255,0)\", \"hoveron\": \"points\", \"hovertemplate\": \"since=%{y}<br>price in $=%{x}<extra></extra>\", \"legendgroup\": \"Aug 9, 2020\", \"line\": {\"color\": \"rgba(255,255,255,0)\"}, \"marker\": {\"color\": \"#19d3f3\"}, \"name\": \"Aug 9, 2020\", \"offsetgroup\": \"Aug 9, 2020\", \"orientation\": \"h\", \"pointpos\": 0, \"showlegend\": true, \"type\": \"box\", \"x\": [376.5833663366337], \"x0\": \" \", \"xaxis\": \"x\", \"y\": [\"Aug 9, 2020\"], \"y0\": \" \", \"yaxis\": \"y\"}, {\"alignmentgroup\": \"True\", \"boxpoints\": \"all\", \"fillcolor\": \"rgba(255,255,255,0)\", \"hoveron\": \"points\", \"hovertemplate\": \"since=%{y}<br>price in $=%{x}<extra></extra>\", \"legendgroup\": \"Dec 10, 2020\", \"line\": {\"color\": \"rgba(255,255,255,0)\"}, \"marker\": {\"color\": \"#FF6692\"}, \"name\": \"Dec 10, 2020\", \"offsetgroup\": \"Dec 10, 2020\", \"orientation\": \"h\", \"pointpos\": 0, \"showlegend\": true, \"type\": \"box\", \"x\": [296.8081818181818], \"x0\": \" \", \"xaxis\": \"x\", \"y\": [\"Dec 10, 2020\"], \"y0\": \" \", \"yaxis\": \"y\"}, {\"alignmentgroup\": \"True\", \"boxpoints\": \"all\", \"fillcolor\": \"rgba(255,255,255,0)\", \"hoveron\": \"points\", \"hovertemplate\": \"since=%{y}<br>price in $=%{x}<extra></extra>\", \"legendgroup\": \"Dec 22, 2020\", \"line\": {\"color\": \"rgba(255,255,255,0)\"}, \"marker\": {\"color\": \"#B6E880\"}, \"name\": \"Dec 22, 2020\", \"offsetgroup\": \"Dec 22, 2020\", \"orientation\": \"h\", \"pointpos\": 0, \"showlegend\": true, \"type\": \"box\", \"x\": [157.48603351955308], \"x0\": \" \", \"xaxis\": \"x\", \"y\": [\"Dec 22, 2020\"], \"y0\": \" \", \"yaxis\": \"y\"}, {\"alignmentgroup\": \"True\", \"boxpoints\": \"all\", \"fillcolor\": \"rgba(255,255,255,0)\", \"hoveron\": \"points\", \"hovertemplate\": \"since=%{y}<br>price in $=%{x}<extra></extra>\", \"legendgroup\": \"Dec 27, 2020\", \"line\": {\"color\": \"rgba(255,255,255,0)\"}, \"marker\": {\"color\": \"#FF97FF\"}, \"name\": \"Dec 27, 2020\", \"offsetgroup\": \"Dec 27, 2020\", \"orientation\": \"h\", \"pointpos\": 0, \"showlegend\": true, \"type\": \"box\", \"x\": [253.14120000000005], \"x0\": \" \", \"xaxis\": \"x\", \"y\": [\"Dec 27, 2020\"], \"y0\": \" \", \"yaxis\": \"y\"}, {\"alignmentgroup\": \"True\", \"boxpoints\": \"all\", \"fillcolor\": \"rgba(255,255,255,0)\", \"hoveron\": \"points\", \"hovertemplate\": \"since=%{y}<br>price in $=%{x}<extra></extra>\", \"legendgroup\": \"Dec 9, 2020\", \"line\": {\"color\": \"rgba(255,255,255,0)\"}, \"marker\": {\"color\": \"#FECB52\"}, \"name\": \"Dec 9, 2020\", \"offsetgroup\": \"Dec 9, 2020\", \"orientation\": \"h\", \"pointpos\": 0, \"showlegend\": true, \"type\": \"box\", \"x\": [305.06590909090914], \"x0\": \" \", \"xaxis\": \"x\", \"y\": [\"Dec 9, 2020\"], \"y0\": \" \", \"yaxis\": \"y\"}, {\"alignmentgroup\": \"True\", \"boxpoints\": \"all\", \"fillcolor\": \"rgba(255,255,255,0)\", \"hoveron\": \"points\", \"hovertemplate\": \"since=%{y}<br>price in $=%{x}<extra></extra>\", \"legendgroup\": \"Feb 21, 2021\", \"line\": {\"color\": \"rgba(255,255,255,0)\"}, \"marker\": {\"color\": \"#636efa\"}, \"name\": \"Feb 21, 2021\", \"offsetgroup\": \"Feb 21, 2021\", \"orientation\": \"h\", \"pointpos\": 0, \"showlegend\": true, \"type\": \"box\", \"x\": [213.75374045801533], \"x0\": \" \", \"xaxis\": \"x\", \"y\": [\"Feb 21, 2021\"], \"y0\": \" \", \"yaxis\": \"y\"}, {\"alignmentgroup\": \"True\", \"boxpoints\": \"all\", \"fillcolor\": \"rgba(255,255,255,0)\", \"hoveron\": \"points\", \"hovertemplate\": \"since=%{y}<br>price in $=%{x}<extra></extra>\", \"legendgroup\": \"Feb 28, 2020\", \"line\": {\"color\": \"rgba(255,255,255,0)\"}, \"marker\": {\"color\": \"#EF553B\"}, \"name\": \"Feb 28, 2020\", \"offsetgroup\": \"Feb 28, 2020\", \"orientation\": \"h\", \"pointpos\": 0, \"showlegend\": true, \"type\": \"box\", \"x\": [85.41080882352946], \"x0\": \" \", \"xaxis\": \"x\", \"y\": [\"Feb 28, 2020\"], \"y0\": \" \", \"yaxis\": \"y\"}, {\"alignmentgroup\": \"True\", \"boxpoints\": \"all\", \"fillcolor\": \"rgba(255,255,255,0)\", \"hoveron\": \"points\", \"hovertemplate\": \"since=%{y}<br>price in $=%{x}<extra></extra>\", \"legendgroup\": \"Jan 13, 2021\", \"line\": {\"color\": \"rgba(255,255,255,0)\"}, \"marker\": {\"color\": \"#00cc96\"}, \"name\": \"Jan 13, 2021\", \"offsetgroup\": \"Jan 13, 2021\", \"orientation\": \"h\", \"pointpos\": 0, \"showlegend\": true, \"type\": \"box\", \"x\": [122.77126050420172], \"x0\": \" \", \"xaxis\": \"x\", \"y\": [\"Jan 13, 2021\"], \"y0\": \" \", \"yaxis\": \"y\"}, {\"alignmentgroup\": \"True\", \"boxpoints\": \"all\", \"fillcolor\": \"rgba(255,255,255,0)\", \"hoveron\": \"points\", \"hovertemplate\": \"since=%{y}<br>price in $=%{x}<extra></extra>\", \"legendgroup\": \"Jan 16, 2021\", \"line\": {\"color\": \"rgba(255,255,255,0)\"}, \"marker\": {\"color\": \"#ab63fa\"}, \"name\": \"Jan 16, 2021\", \"offsetgroup\": \"Jan 16, 2021\", \"orientation\": \"h\", \"pointpos\": 0, \"showlegend\": true, \"type\": \"box\", \"x\": [298.4542079207919], \"x0\": \" \", \"xaxis\": \"x\", \"y\": [\"Jan 16, 2021\"], \"y0\": \" \", \"yaxis\": \"y\"}, {\"alignmentgroup\": \"True\", \"boxpoints\": \"all\", \"fillcolor\": \"rgba(255,255,255,0)\", \"hoveron\": \"points\", \"hovertemplate\": \"since=%{y}<br>price in $=%{x}<extra></extra>\", \"legendgroup\": \"Jan 17, 2021\", \"line\": {\"color\": \"rgba(255,255,255,0)\"}, \"marker\": {\"color\": \"#FFA15A\"}, \"name\": \"Jan 17, 2021\", \"offsetgroup\": \"Jan 17, 2021\", \"orientation\": \"h\", \"pointpos\": 0, \"showlegend\": true, \"type\": \"box\", \"x\": [293.461572327044], \"x0\": \" \", \"xaxis\": \"x\", \"y\": [\"Jan 17, 2021\"], \"y0\": \" \", \"yaxis\": \"y\"}, {\"alignmentgroup\": \"True\", \"boxpoints\": \"all\", \"fillcolor\": \"rgba(255,255,255,0)\", \"hoveron\": \"points\", \"hovertemplate\": \"since=%{y}<br>price in $=%{x}<extra></extra>\", \"legendgroup\": \"Jan 18, 2021\", \"line\": {\"color\": \"rgba(255,255,255,0)\"}, \"marker\": {\"color\": \"#19d3f3\"}, \"name\": \"Jan 18, 2021\", \"offsetgroup\": \"Jan 18, 2021\", \"orientation\": \"h\", \"pointpos\": 0, \"showlegend\": true, \"type\": \"box\", \"x\": [329.94226086956525], \"x0\": \" \", \"xaxis\": \"x\", \"y\": [\"Jan 18, 2021\"], \"y0\": \" \", \"yaxis\": \"y\"}, {\"alignmentgroup\": \"True\", \"boxpoints\": \"all\", \"fillcolor\": \"rgba(255,255,255,0)\", \"hoveron\": \"points\", \"hovertemplate\": \"since=%{y}<br>price in $=%{x}<extra></extra>\", \"legendgroup\": \"Jan 21, 2021\", \"line\": {\"color\": \"rgba(255,255,255,0)\"}, \"marker\": {\"color\": \"#FF6692\"}, \"name\": \"Jan 21, 2021\", \"offsetgroup\": \"Jan 21, 2021\", \"orientation\": \"h\", \"pointpos\": 0, \"showlegend\": true, \"type\": \"box\", \"x\": [320.04093750000004], \"x0\": \" \", \"xaxis\": \"x\", \"y\": [\"Jan 21, 2021\"], \"y0\": \" \", \"yaxis\": \"y\"}, {\"alignmentgroup\": \"True\", \"boxpoints\": \"all\", \"fillcolor\": \"rgba(255,255,255,0)\", \"hoveron\": \"points\", \"hovertemplate\": \"since=%{y}<br>price in $=%{x}<extra></extra>\", \"legendgroup\": \"Jan 25, 2021\", \"line\": {\"color\": \"rgba(255,255,255,0)\"}, \"marker\": {\"color\": \"#B6E880\"}, \"name\": \"Jan 25, 2021\", \"offsetgroup\": \"Jan 25, 2021\", \"orientation\": \"h\", \"pointpos\": 0, \"showlegend\": true, \"type\": \"box\", \"x\": [229.2581147540985], \"x0\": \" \", \"xaxis\": \"x\", \"y\": [\"Jan 25, 2021\"], \"y0\": \" \", \"yaxis\": \"y\"}, {\"alignmentgroup\": \"True\", \"boxpoints\": \"all\", \"fillcolor\": \"rgba(255,255,255,0)\", \"hoveron\": \"points\", \"hovertemplate\": \"since=%{y}<br>price in $=%{x}<extra></extra>\", \"legendgroup\": \"Jan 26, 2021\", \"line\": {\"color\": \"rgba(255,255,255,0)\"}, \"marker\": {\"color\": \"#FF97FF\"}, \"name\": \"Jan 26, 2021\", \"offsetgroup\": \"Jan 26, 2021\", \"orientation\": \"h\", \"pointpos\": 0, \"showlegend\": true, \"type\": \"box\", \"x\": [267.3979924242423], \"x0\": \" \", \"xaxis\": \"x\", \"y\": [\"Jan 26, 2021\"], \"y0\": \" \", \"yaxis\": \"y\"}, {\"alignmentgroup\": \"True\", \"boxpoints\": \"all\", \"fillcolor\": \"rgba(255,255,255,0)\", \"hoveron\": \"points\", \"hovertemplate\": \"since=%{y}<br>price in $=%{x}<extra></extra>\", \"legendgroup\": \"Jan 28, 2021\", \"line\": {\"color\": \"rgba(255,255,255,0)\"}, \"marker\": {\"color\": \"#FECB52\"}, \"name\": \"Jan 28, 2021\", \"offsetgroup\": \"Jan 28, 2021\", \"orientation\": \"h\", \"pointpos\": 0, \"showlegend\": true, \"type\": \"box\", \"x\": [222.47809210526316], \"x0\": \" \", \"xaxis\": \"x\", \"y\": [\"Jan 28, 2021\"], \"y0\": \" \", \"yaxis\": \"y\"}, {\"alignmentgroup\": \"True\", \"boxpoints\": \"all\", \"fillcolor\": \"rgba(255,255,255,0)\", \"hoveron\": \"points\", \"hovertemplate\": \"since=%{y}<br>price in $=%{x}<extra></extra>\", \"legendgroup\": \"Mar 1, 2021\", \"line\": {\"color\": \"rgba(255,255,255,0)\"}, \"marker\": {\"color\": \"#636efa\"}, \"name\": \"Mar 1, 2021\", \"offsetgroup\": \"Mar 1, 2021\", \"orientation\": \"h\", \"pointpos\": 0, \"showlegend\": true, \"type\": \"box\", \"x\": [120.47441441441441], \"x0\": \" \", \"xaxis\": \"x\", \"y\": [\"Mar 1, 2021\"], \"y0\": \" \", \"yaxis\": \"y\"}, {\"alignmentgroup\": \"True\", \"boxpoints\": \"all\", \"fillcolor\": \"rgba(255,255,255,0)\", \"hoveron\": \"points\", \"hovertemplate\": \"since=%{y}<br>price in $=%{x}<extra></extra>\", \"legendgroup\": \"Mar 20, 2020\", \"line\": {\"color\": \"rgba(255,255,255,0)\"}, \"marker\": {\"color\": \"#EF553B\"}, \"name\": \"Mar 20, 2020\", \"offsetgroup\": \"Mar 20, 2020\", \"orientation\": \"h\", \"pointpos\": 0, \"showlegend\": true, \"type\": \"box\", \"x\": [130.8448120300752], \"x0\": \" \", \"xaxis\": \"x\", \"y\": [\"Mar 20, 2020\"], \"y0\": \" \", \"yaxis\": \"y\"}, {\"alignmentgroup\": \"True\", \"boxpoints\": \"all\", \"fillcolor\": \"rgba(255,255,255,0)\", \"hoveron\": \"points\", \"hovertemplate\": \"since=%{y}<br>price in $=%{x}<extra></extra>\", \"legendgroup\": \"Nov 11, 2020\", \"line\": {\"color\": \"rgba(255,255,255,0)\"}, \"marker\": {\"color\": \"#00cc96\"}, \"name\": \"Nov 11, 2020\", \"offsetgroup\": \"Nov 11, 2020\", \"orientation\": \"h\", \"pointpos\": 0, \"showlegend\": true, \"type\": \"box\", \"x\": [271.2472277227722], \"x0\": \" \", \"xaxis\": \"x\", \"y\": [\"Nov 11, 2020\"], \"y0\": \" \", \"yaxis\": \"y\"}, {\"alignmentgroup\": \"True\", \"boxpoints\": \"all\", \"fillcolor\": \"rgba(255,255,255,0)\", \"hoveron\": \"points\", \"hovertemplate\": \"since=%{y}<br>price in $=%{x}<extra></extra>\", \"legendgroup\": \"Nov 18, 2020\", \"line\": {\"color\": \"rgba(255,255,255,0)\"}, \"marker\": {\"color\": \"#ab63fa\"}, \"name\": \"Nov 18, 2020\", \"offsetgroup\": \"Nov 18, 2020\", \"orientation\": \"h\", \"pointpos\": 0, \"showlegend\": true, \"type\": \"box\", \"x\": [205.64327485380122], \"x0\": \" \", \"xaxis\": \"x\", \"y\": [\"Nov 18, 2020\"], \"y0\": \" \", \"yaxis\": \"y\"}, {\"alignmentgroup\": \"True\", \"boxpoints\": \"all\", \"fillcolor\": \"rgba(255,255,255,0)\", \"hoveron\": \"points\", \"hovertemplate\": \"since=%{y}<br>price in $=%{x}<extra></extra>\", \"legendgroup\": \"Nov 20, 2020\", \"line\": {\"color\": \"rgba(255,255,255,0)\"}, \"marker\": {\"color\": \"#FFA15A\"}, \"name\": \"Nov 20, 2020\", \"offsetgroup\": \"Nov 20, 2020\", \"orientation\": \"h\", \"pointpos\": 0, \"showlegend\": true, \"type\": \"box\", \"x\": [171.34783783783777], \"x0\": \" \", \"xaxis\": \"x\", \"y\": [\"Nov 20, 2020\"], \"y0\": \" \", \"yaxis\": \"y\"}, {\"alignmentgroup\": \"True\", \"boxpoints\": \"all\", \"fillcolor\": \"rgba(255,255,255,0)\", \"hoveron\": \"points\", \"hovertemplate\": \"since=%{y}<br>price in $=%{x}<extra></extra>\", \"legendgroup\": \"Nov 22, 2020\", \"line\": {\"color\": \"rgba(255,255,255,0)\"}, \"marker\": {\"color\": \"#19d3f3\"}, \"name\": \"Nov 22, 2020\", \"offsetgroup\": \"Nov 22, 2020\", \"orientation\": \"h\", \"pointpos\": 0, \"showlegend\": true, \"type\": \"box\", \"x\": [120.05694560669457], \"x0\": \" \", \"xaxis\": \"x\", \"y\": [\"Nov 22, 2020\"], \"y0\": \" \", \"yaxis\": \"y\"}, {\"alignmentgroup\": \"True\", \"boxpoints\": \"all\", \"fillcolor\": \"rgba(255,255,255,0)\", \"hoveron\": \"points\", \"hovertemplate\": \"since=%{y}<br>price in $=%{x}<extra></extra>\", \"legendgroup\": \"Nov 24, 2020\", \"line\": {\"color\": \"rgba(255,255,255,0)\"}, \"marker\": {\"color\": \"#FF6692\"}, \"name\": \"Nov 24, 2020\", \"offsetgroup\": \"Nov 24, 2020\", \"orientation\": \"h\", \"pointpos\": 0, \"showlegend\": true, \"type\": \"box\", \"x\": [283.9771818181818], \"x0\": \" \", \"xaxis\": \"x\", \"y\": [\"Nov 24, 2020\"], \"y0\": \" \", \"yaxis\": \"y\"}, {\"alignmentgroup\": \"True\", \"boxpoints\": \"all\", \"fillcolor\": \"rgba(255,255,255,0)\", \"hoveron\": \"points\", \"hovertemplate\": \"since=%{y}<br>price in $=%{x}<extra></extra>\", \"legendgroup\": \"Nov 9, 2020\", \"line\": {\"color\": \"rgba(255,255,255,0)\"}, \"marker\": {\"color\": \"#B6E880\"}, \"name\": \"Nov 9, 2020\", \"offsetgroup\": \"Nov 9, 2020\", \"orientation\": \"h\", \"pointpos\": 0, \"showlegend\": true, \"type\": \"box\", \"x\": [301.2188392857144], \"x0\": \" \", \"xaxis\": \"x\", \"y\": [\"Nov 9, 2020\"], \"y0\": \" \", \"yaxis\": \"y\"}, {\"alignmentgroup\": \"True\", \"boxpoints\": \"all\", \"fillcolor\": \"rgba(255,255,255,0)\", \"hoveron\": \"points\", \"hovertemplate\": \"since=%{y}<br>price in $=%{x}<extra></extra>\", \"legendgroup\": \"Oct 1, 2020\", \"line\": {\"color\": \"rgba(255,255,255,0)\"}, \"marker\": {\"color\": \"#FF97FF\"}, \"name\": \"Oct 1, 2020\", \"offsetgroup\": \"Oct 1, 2020\", \"orientation\": \"h\", \"pointpos\": 0, \"showlegend\": true, \"type\": \"box\", \"x\": [404.53732758620697], \"x0\": \" \", \"xaxis\": \"x\", \"y\": [\"Oct 1, 2020\"], \"y0\": \" \", \"yaxis\": \"y\"}, {\"alignmentgroup\": \"True\", \"boxpoints\": \"all\", \"fillcolor\": \"rgba(255,255,255,0)\", \"hoveron\": \"points\", \"hovertemplate\": \"since=%{y}<br>price in $=%{x}<extra></extra>\", \"legendgroup\": \"Oct 14, 2020\", \"line\": {\"color\": \"rgba(255,255,255,0)\"}, \"marker\": {\"color\": \"#FECB52\"}, \"name\": \"Oct 14, 2020\", \"offsetgroup\": \"Oct 14, 2020\", \"orientation\": \"h\", \"pointpos\": 0, \"showlegend\": true, \"type\": \"box\", \"x\": [296.9185714285715], \"x0\": \" \", \"xaxis\": \"x\", \"y\": [\"Oct 14, 2020\"], \"y0\": \" \", \"yaxis\": \"y\"}, {\"alignmentgroup\": \"True\", \"boxpoints\": \"all\", \"fillcolor\": \"rgba(255,255,255,0)\", \"hoveron\": \"points\", \"hovertemplate\": \"since=%{y}<br>price in $=%{x}<extra></extra>\", \"legendgroup\": \"Oct 15, 2020\", \"line\": {\"color\": \"rgba(255,255,255,0)\"}, \"marker\": {\"color\": \"#636efa\"}, \"name\": \"Oct 15, 2020\", \"offsetgroup\": \"Oct 15, 2020\", \"orientation\": \"h\", \"pointpos\": 0, \"showlegend\": true, \"type\": \"box\", \"x\": [197.51263513513518], \"x0\": \" \", \"xaxis\": \"x\", \"y\": [\"Oct 15, 2020\"], \"y0\": \" \", \"yaxis\": \"y\"}, {\"alignmentgroup\": \"True\", \"boxpoints\": \"all\", \"fillcolor\": \"rgba(255,255,255,0)\", \"hoveron\": \"points\", \"hovertemplate\": \"since=%{y}<br>price in $=%{x}<extra></extra>\", \"legendgroup\": \"Oct 28, 2020\", \"line\": {\"color\": \"rgba(255,255,255,0)\"}, \"marker\": {\"color\": \"#EF553B\"}, \"name\": \"Oct 28, 2020\", \"offsetgroup\": \"Oct 28, 2020\", \"orientation\": \"h\", \"pointpos\": 0, \"showlegend\": true, \"type\": \"box\", \"x\": [311.8644516129032], \"x0\": \" \", \"xaxis\": \"x\", \"y\": [\"Oct 28, 2020\"], \"y0\": \" \", \"yaxis\": \"y\"}, {\"alignmentgroup\": \"True\", \"boxpoints\": \"all\", \"fillcolor\": \"rgba(255,255,255,0)\", \"hoveron\": \"points\", \"hovertemplate\": \"since=%{y}<br>price in $=%{x}<extra></extra>\", \"legendgroup\": \"Oct 3, 2020\", \"line\": {\"color\": \"rgba(255,255,255,0)\"}, \"marker\": {\"color\": \"#00cc96\"}, \"name\": \"Oct 3, 2020\", \"offsetgroup\": \"Oct 3, 2020\", \"orientation\": \"h\", \"pointpos\": 0, \"showlegend\": true, \"type\": \"box\", \"x\": [300.7638267148012], \"x0\": \" \", \"xaxis\": \"x\", \"y\": [\"Oct 3, 2020\"], \"y0\": \" \", \"yaxis\": \"y\"}, {\"alignmentgroup\": \"True\", \"boxpoints\": \"all\", \"fillcolor\": \"rgba(255,255,255,0)\", \"hoveron\": \"points\", \"hovertemplate\": \"since=%{y}<br>price in $=%{x}<extra></extra>\", \"legendgroup\": \"Oct 6, 2020\", \"line\": {\"color\": \"rgba(255,255,255,0)\"}, \"marker\": {\"color\": \"#ab63fa\"}, \"name\": \"Oct 6, 2020\", \"offsetgroup\": \"Oct 6, 2020\", \"orientation\": \"h\", \"pointpos\": 0, \"showlegend\": true, \"type\": \"box\", \"x\": [194.8361290322582], \"x0\": \" \", \"xaxis\": \"x\", \"y\": [\"Oct 6, 2020\"], \"y0\": \" \", \"yaxis\": \"y\"}, {\"alignmentgroup\": \"True\", \"boxpoints\": \"all\", \"fillcolor\": \"rgba(255,255,255,0)\", \"hoveron\": \"points\", \"hovertemplate\": \"since=%{y}<br>price in $=%{x}<extra></extra>\", \"legendgroup\": \"Sep 1, 2020\", \"line\": {\"color\": \"rgba(255,255,255,0)\"}, \"marker\": {\"color\": \"#FFA15A\"}, \"name\": \"Sep 1, 2020\", \"offsetgroup\": \"Sep 1, 2020\", \"orientation\": \"h\", \"pointpos\": 0, \"showlegend\": true, \"type\": \"box\", \"x\": [184.9775132275132], \"x0\": \" \", \"xaxis\": \"x\", \"y\": [\"Sep 1, 2020\"], \"y0\": \" \", \"yaxis\": \"y\"}, {\"alignmentgroup\": \"True\", \"boxpoints\": \"all\", \"fillcolor\": \"rgba(255,255,255,0)\", \"hoveron\": \"points\", \"hovertemplate\": \"since=%{y}<br>price in $=%{x}<extra></extra>\", \"legendgroup\": \"Sep 12, 2020\", \"line\": {\"color\": \"rgba(255,255,255,0)\"}, \"marker\": {\"color\": \"#19d3f3\"}, \"name\": \"Sep 12, 2020\", \"offsetgroup\": \"Sep 12, 2020\", \"orientation\": \"h\", \"pointpos\": 0, \"showlegend\": true, \"type\": \"box\", \"x\": [174.3372348484848], \"x0\": \" \", \"xaxis\": \"x\", \"y\": [\"Sep 12, 2020\"], \"y0\": \" \", \"yaxis\": \"y\"}, {\"alignmentgroup\": \"True\", \"boxpoints\": \"all\", \"fillcolor\": \"rgba(255,255,255,0)\", \"hoveron\": \"points\", \"hovertemplate\": \"since=%{y}<br>price in $=%{x}<extra></extra>\", \"legendgroup\": \"Sep 14, 2020\", \"line\": {\"color\": \"rgba(255,255,255,0)\"}, \"marker\": {\"color\": \"#FF6692\"}, \"name\": \"Sep 14, 2020\", \"offsetgroup\": \"Sep 14, 2020\", \"orientation\": \"h\", \"pointpos\": 0, \"showlegend\": true, \"type\": \"box\", \"x\": [247.67278846153846], \"x0\": \" \", \"xaxis\": \"x\", \"y\": [\"Sep 14, 2020\"], \"y0\": \" \", \"yaxis\": \"y\"}, {\"alignmentgroup\": \"True\", \"boxpoints\": \"all\", \"fillcolor\": \"rgba(255,255,255,0)\", \"hoveron\": \"points\", \"hovertemplate\": \"since=%{y}<br>price in $=%{x}<extra></extra>\", \"legendgroup\": \"Sep 16, 2020\", \"line\": {\"color\": \"rgba(255,255,255,0)\"}, \"marker\": {\"color\": \"#B6E880\"}, \"name\": \"Sep 16, 2020\", \"offsetgroup\": \"Sep 16, 2020\", \"orientation\": \"h\", \"pointpos\": 0, \"showlegend\": true, \"type\": \"box\", \"x\": [285.8724561403509], \"x0\": \" \", \"xaxis\": \"x\", \"y\": [\"Sep 16, 2020\"], \"y0\": \" \", \"yaxis\": \"y\"}, {\"alignmentgroup\": \"True\", \"boxpoints\": \"all\", \"fillcolor\": \"rgba(255,255,255,0)\", \"hoveron\": \"points\", \"hovertemplate\": \"since=%{y}<br>price in $=%{x}<extra></extra>\", \"legendgroup\": \"Sep 21, 2020\", \"line\": {\"color\": \"rgba(255,255,255,0)\"}, \"marker\": {\"color\": \"#FF97FF\"}, \"name\": \"Sep 21, 2020\", \"offsetgroup\": \"Sep 21, 2020\", \"orientation\": \"h\", \"pointpos\": 0, \"showlegend\": true, \"type\": \"box\", \"x\": [137.96277777777775], \"x0\": \" \", \"xaxis\": \"x\", \"y\": [\"Sep 21, 2020\"], \"y0\": \" \", \"yaxis\": \"y\"}],                        {\"boxmode\": \"overlay\", \"legend\": {\"title\": {\"text\": \"since\"}, \"tracegroupgap\": 0}, \"margin\": {\"t\": 60}, \"template\": {\"data\": {\"bar\": [{\"error_x\": {\"color\": \"#2a3f5f\"}, \"error_y\": {\"color\": \"#2a3f5f\"}, \"marker\": {\"line\": {\"color\": \"#E5ECF6\", \"width\": 0.5}}, \"type\": \"bar\"}], \"barpolar\": [{\"marker\": {\"line\": {\"color\": \"#E5ECF6\", \"width\": 0.5}}, \"type\": \"barpolar\"}], \"carpet\": [{\"aaxis\": {\"endlinecolor\": \"#2a3f5f\", \"gridcolor\": \"white\", \"linecolor\": \"white\", \"minorgridcolor\": \"white\", \"startlinecolor\": \"#2a3f5f\"}, \"baxis\": {\"endlinecolor\": \"#2a3f5f\", \"gridcolor\": \"white\", \"linecolor\": \"white\", \"minorgridcolor\": \"white\", \"startlinecolor\": \"#2a3f5f\"}, \"type\": \"carpet\"}], \"choropleth\": [{\"colorbar\": {\"outlinewidth\": 0, \"ticks\": \"\"}, \"type\": \"choropleth\"}], \"contour\": [{\"colorbar\": {\"outlinewidth\": 0, \"ticks\": \"\"}, \"colorscale\": [[0.0, \"#0d0887\"], [0.1111111111111111, \"#46039f\"], [0.2222222222222222, \"#7201a8\"], [0.3333333333333333, \"#9c179e\"], [0.4444444444444444, \"#bd3786\"], [0.5555555555555556, \"#d8576b\"], [0.6666666666666666, \"#ed7953\"], [0.7777777777777778, \"#fb9f3a\"], [0.8888888888888888, \"#fdca26\"], [1.0, \"#f0f921\"]], \"type\": \"contour\"}], \"contourcarpet\": [{\"colorbar\": {\"outlinewidth\": 0, \"ticks\": \"\"}, \"type\": \"contourcarpet\"}], \"heatmap\": [{\"colorbar\": {\"outlinewidth\": 0, \"ticks\": \"\"}, \"colorscale\": [[0.0, \"#0d0887\"], [0.1111111111111111, \"#46039f\"], [0.2222222222222222, \"#7201a8\"], [0.3333333333333333, \"#9c179e\"], [0.4444444444444444, \"#bd3786\"], [0.5555555555555556, \"#d8576b\"], [0.6666666666666666, \"#ed7953\"], [0.7777777777777778, \"#fb9f3a\"], [0.8888888888888888, \"#fdca26\"], [1.0, \"#f0f921\"]], \"type\": \"heatmap\"}], \"heatmapgl\": [{\"colorbar\": {\"outlinewidth\": 0, \"ticks\": \"\"}, \"colorscale\": [[0.0, \"#0d0887\"], [0.1111111111111111, \"#46039f\"], [0.2222222222222222, \"#7201a8\"], [0.3333333333333333, \"#9c179e\"], [0.4444444444444444, \"#bd3786\"], [0.5555555555555556, \"#d8576b\"], [0.6666666666666666, \"#ed7953\"], [0.7777777777777778, \"#fb9f3a\"], [0.8888888888888888, \"#fdca26\"], [1.0, \"#f0f921\"]], \"type\": \"heatmapgl\"}], \"histogram\": [{\"marker\": {\"colorbar\": {\"outlinewidth\": 0, \"ticks\": \"\"}}, \"type\": \"histogram\"}], \"histogram2d\": [{\"colorbar\": {\"outlinewidth\": 0, \"ticks\": \"\"}, \"colorscale\": [[0.0, \"#0d0887\"], [0.1111111111111111, \"#46039f\"], [0.2222222222222222, \"#7201a8\"], [0.3333333333333333, \"#9c179e\"], [0.4444444444444444, \"#bd3786\"], [0.5555555555555556, \"#d8576b\"], [0.6666666666666666, \"#ed7953\"], [0.7777777777777778, \"#fb9f3a\"], [0.8888888888888888, \"#fdca26\"], [1.0, \"#f0f921\"]], \"type\": \"histogram2d\"}], \"histogram2dcontour\": [{\"colorbar\": {\"outlinewidth\": 0, \"ticks\": \"\"}, \"colorscale\": [[0.0, \"#0d0887\"], [0.1111111111111111, \"#46039f\"], [0.2222222222222222, \"#7201a8\"], [0.3333333333333333, \"#9c179e\"], [0.4444444444444444, \"#bd3786\"], [0.5555555555555556, \"#d8576b\"], [0.6666666666666666, \"#ed7953\"], [0.7777777777777778, \"#fb9f3a\"], [0.8888888888888888, \"#fdca26\"], [1.0, \"#f0f921\"]], \"type\": \"histogram2dcontour\"}], \"mesh3d\": [{\"colorbar\": {\"outlinewidth\": 0, \"ticks\": \"\"}, \"type\": \"mesh3d\"}], \"parcoords\": [{\"line\": {\"colorbar\": {\"outlinewidth\": 0, \"ticks\": \"\"}}, \"type\": \"parcoords\"}], \"pie\": [{\"automargin\": true, \"type\": \"pie\"}], \"scatter\": [{\"marker\": {\"colorbar\": {\"outlinewidth\": 0, \"ticks\": \"\"}}, \"type\": \"scatter\"}], \"scatter3d\": [{\"line\": {\"colorbar\": {\"outlinewidth\": 0, \"ticks\": \"\"}}, \"marker\": {\"colorbar\": {\"outlinewidth\": 0, \"ticks\": \"\"}}, \"type\": \"scatter3d\"}], \"scattercarpet\": [{\"marker\": {\"colorbar\": {\"outlinewidth\": 0, \"ticks\": \"\"}}, \"type\": \"scattercarpet\"}], \"scattergeo\": [{\"marker\": {\"colorbar\": {\"outlinewidth\": 0, \"ticks\": \"\"}}, \"type\": \"scattergeo\"}], \"scattergl\": [{\"marker\": {\"colorbar\": {\"outlinewidth\": 0, \"ticks\": \"\"}}, \"type\": \"scattergl\"}], \"scattermapbox\": [{\"marker\": {\"colorbar\": {\"outlinewidth\": 0, \"ticks\": \"\"}}, \"type\": \"scattermapbox\"}], \"scatterpolar\": [{\"marker\": {\"colorbar\": {\"outlinewidth\": 0, \"ticks\": \"\"}}, \"type\": \"scatterpolar\"}], \"scatterpolargl\": [{\"marker\": {\"colorbar\": {\"outlinewidth\": 0, \"ticks\": \"\"}}, \"type\": \"scatterpolargl\"}], \"scatterternary\": [{\"marker\": {\"colorbar\": {\"outlinewidth\": 0, \"ticks\": \"\"}}, \"type\": \"scatterternary\"}], \"surface\": [{\"colorbar\": {\"outlinewidth\": 0, \"ticks\": \"\"}, \"colorscale\": [[0.0, \"#0d0887\"], [0.1111111111111111, \"#46039f\"], [0.2222222222222222, \"#7201a8\"], [0.3333333333333333, \"#9c179e\"], [0.4444444444444444, \"#bd3786\"], [0.5555555555555556, \"#d8576b\"], [0.6666666666666666, \"#ed7953\"], [0.7777777777777778, \"#fb9f3a\"], [0.8888888888888888, \"#fdca26\"], [1.0, \"#f0f921\"]], \"type\": \"surface\"}], \"table\": [{\"cells\": {\"fill\": {\"color\": \"#EBF0F8\"}, \"line\": {\"color\": \"white\"}}, \"header\": {\"fill\": {\"color\": \"#C8D4E3\"}, \"line\": {\"color\": \"white\"}}, \"type\": \"table\"}]}, \"layout\": {\"annotationdefaults\": {\"arrowcolor\": \"#2a3f5f\", \"arrowhead\": 0, \"arrowwidth\": 1}, \"autotypenumbers\": \"strict\", \"coloraxis\": {\"colorbar\": {\"outlinewidth\": 0, \"ticks\": \"\"}}, \"colorscale\": {\"diverging\": [[0, \"#8e0152\"], [0.1, \"#c51b7d\"], [0.2, \"#de77ae\"], [0.3, \"#f1b6da\"], [0.4, \"#fde0ef\"], [0.5, \"#f7f7f7\"], [0.6, \"#e6f5d0\"], [0.7, \"#b8e186\"], [0.8, \"#7fbc41\"], [0.9, \"#4d9221\"], [1, \"#276419\"]], \"sequential\": [[0.0, \"#0d0887\"], [0.1111111111111111, \"#46039f\"], [0.2222222222222222, \"#7201a8\"], [0.3333333333333333, \"#9c179e\"], [0.4444444444444444, \"#bd3786\"], [0.5555555555555556, \"#d8576b\"], [0.6666666666666666, \"#ed7953\"], [0.7777777777777778, \"#fb9f3a\"], [0.8888888888888888, \"#fdca26\"], [1.0, \"#f0f921\"]], \"sequentialminus\": [[0.0, \"#0d0887\"], [0.1111111111111111, \"#46039f\"], [0.2222222222222222, \"#7201a8\"], [0.3333333333333333, \"#9c179e\"], [0.4444444444444444, \"#bd3786\"], [0.5555555555555556, \"#d8576b\"], [0.6666666666666666, \"#ed7953\"], [0.7777777777777778, \"#fb9f3a\"], [0.8888888888888888, \"#fdca26\"], [1.0, \"#f0f921\"]]}, \"colorway\": [\"#636efa\", \"#EF553B\", \"#00cc96\", \"#ab63fa\", \"#FFA15A\", \"#19d3f3\", \"#FF6692\", \"#B6E880\", \"#FF97FF\", \"#FECB52\"], \"font\": {\"color\": \"#2a3f5f\"}, \"geo\": {\"bgcolor\": \"white\", \"lakecolor\": \"white\", \"landcolor\": \"#E5ECF6\", \"showlakes\": true, \"showland\": true, \"subunitcolor\": \"white\"}, \"hoverlabel\": {\"align\": \"left\"}, \"hovermode\": \"closest\", \"mapbox\": {\"style\": \"light\"}, \"paper_bgcolor\": \"white\", \"plot_bgcolor\": \"#E5ECF6\", \"polar\": {\"angularaxis\": {\"gridcolor\": \"white\", \"linecolor\": \"white\", \"ticks\": \"\"}, \"bgcolor\": \"#E5ECF6\", \"radialaxis\": {\"gridcolor\": \"white\", \"linecolor\": \"white\", \"ticks\": \"\"}}, \"scene\": {\"xaxis\": {\"backgroundcolor\": \"#E5ECF6\", \"gridcolor\": \"white\", \"gridwidth\": 2, \"linecolor\": \"white\", \"showbackground\": true, \"ticks\": \"\", \"zerolinecolor\": \"white\"}, \"yaxis\": {\"backgroundcolor\": \"#E5ECF6\", \"gridcolor\": \"white\", \"gridwidth\": 2, \"linecolor\": \"white\", \"showbackground\": true, \"ticks\": \"\", \"zerolinecolor\": \"white\"}, \"zaxis\": {\"backgroundcolor\": \"#E5ECF6\", \"gridcolor\": \"white\", \"gridwidth\": 2, \"linecolor\": \"white\", \"showbackground\": true, \"ticks\": \"\", \"zerolinecolor\": \"white\"}}, \"shapedefaults\": {\"line\": {\"color\": \"#2a3f5f\"}}, \"ternary\": {\"aaxis\": {\"gridcolor\": \"white\", \"linecolor\": \"white\", \"ticks\": \"\"}, \"baxis\": {\"gridcolor\": \"white\", \"linecolor\": \"white\", \"ticks\": \"\"}, \"bgcolor\": \"#E5ECF6\", \"caxis\": {\"gridcolor\": \"white\", \"linecolor\": \"white\", \"ticks\": \"\"}}, \"title\": {\"x\": 0.05}, \"xaxis\": {\"automargin\": true, \"gridcolor\": \"white\", \"linecolor\": \"white\", \"ticks\": \"\", \"title\": {\"standoff\": 15}, \"zerolinecolor\": \"white\", \"zerolinewidth\": 2}, \"yaxis\": {\"automargin\": true, \"gridcolor\": \"white\", \"linecolor\": \"white\", \"ticks\": \"\", \"title\": {\"standoff\": 15}, \"zerolinecolor\": \"white\", \"zerolinewidth\": 2}}}, \"xaxis\": {\"anchor\": \"y\", \"domain\": [0.0, 1.0], \"title\": {\"text\": \"price in $\"}}, \"yaxis\": {\"anchor\": \"x\", \"categoryarray\": [\"Sep 21, 2020\", \"Sep 16, 2020\", \"Sep 14, 2020\", \"Sep 12, 2020\", \"Sep 1, 2020\", \"Oct 6, 2020\", \"Oct 3, 2020\", \"Oct 28, 2020\", \"Oct 15, 2020\", \"Oct 14, 2020\", \"Oct 1, 2020\", \"Nov 9, 2020\", \"Nov 24, 2020\", \"Nov 22, 2020\", \"Nov 20, 2020\", \"Nov 18, 2020\", \"Nov 11, 2020\", \"Mar 20, 2020\", \"Mar 1, 2021\", \"Jan 28, 2021\", \"Jan 26, 2021\", \"Jan 25, 2021\", \"Jan 21, 2021\", \"Jan 18, 2021\", \"Jan 17, 2021\", \"Jan 16, 2021\", \"Jan 13, 2021\", \"Feb 28, 2020\", \"Feb 21, 2021\", \"Dec 9, 2020\", \"Dec 27, 2020\", \"Dec 22, 2020\", \"Dec 10, 2020\", \"Aug 9, 2020\", \"Aug 29, 2020\", \"Aug 28, 2020\", \"Aug 27, 2020\", \"Aug 25, 2020\", \"Aug 11, 2020\"], \"categoryorder\": \"array\", \"domain\": [0.0, 1.0], \"title\": {\"text\": \"since\"}}},                        {\"responsive\": true}                    ).then(function(){\n",
       "                            \n",
       "var gd = document.getElementById('02e2ca2a-5f63-4ad7-8d00-0b1f9ad35d8f');\n",
       "var x = new MutationObserver(function (mutations, observer) {{\n",
       "        var display = window.getComputedStyle(gd).display;\n",
       "        if (!display || display === 'none') {{\n",
       "            console.log([gd, 'removed!']);\n",
       "            Plotly.purge(gd);\n",
       "            observer.disconnect();\n",
       "        }}\n",
       "}});\n",
       "\n",
       "// Listen for the removal of the full notebook cells\n",
       "var notebookContainer = gd.closest('#notebook-container');\n",
       "if (notebookContainer) {{\n",
       "    x.observe(notebookContainer, {childList: true});\n",
       "}}\n",
       "\n",
       "// Listen for the clearing of the current output cell\n",
       "var outputEl = gd.closest('.output');\n",
       "if (outputEl) {{\n",
       "    x.observe(outputEl, {childList: true});\n",
       "}}\n",
       "\n",
       "                        })                };                });            </script>        </div>"
      ]
     },
     "metadata": {},
     "output_type": "display_data"
    }
   ],
   "source": [
    "plot_category_wise_unsorted('since')"
   ]
  },
  {
   "cell_type": "code",
   "execution_count": 80,
   "id": "incoming-newsletter",
   "metadata": {},
   "outputs": [
    {
     "data": {
      "application/vnd.plotly.v1+json": {
       "config": {
        "plotlyServerURL": "https://plot.ly"
       },
       "data": [
        {
         "alignmentgroup": "True",
         "boxpoints": "all",
         "fillcolor": "rgba(255,255,255,0)",
         "hoveron": "points",
         "hovertemplate": "disputes_total=%{y}<br>price in $=%{x}<extra></extra>",
         "legendgroup": "18",
         "line": {
          "color": "rgba(255,255,255,0)"
         },
         "marker": {
          "color": "#636efa"
         },
         "name": "18",
         "offsetgroup": "18",
         "orientation": "v",
         "pointpos": 0,
         "showlegend": true,
         "type": "box",
         "x": [
          285.2525242718446
         ],
         "x0": " ",
         "xaxis": "x",
         "y": [
          18
         ],
         "y0": " ",
         "yaxis": "y"
        },
        {
         "alignmentgroup": "True",
         "boxpoints": "all",
         "fillcolor": "rgba(255,255,255,0)",
         "hoveron": "points",
         "hovertemplate": "disputes_total=%{y}<br>price in $=%{x}<extra></extra>",
         "legendgroup": "6",
         "line": {
          "color": "rgba(255,255,255,0)"
         },
         "marker": {
          "color": "#EF553B"
         },
         "name": "6",
         "offsetgroup": "6",
         "orientation": "v",
         "pointpos": 0,
         "showlegend": true,
         "type": "box",
         "x": [
          282.9707028112446
         ],
         "x0": " ",
         "xaxis": "x",
         "y": [
          6
         ],
         "y0": " ",
         "yaxis": "y"
        },
        {
         "alignmentgroup": "True",
         "boxpoints": "all",
         "fillcolor": "rgba(255,255,255,0)",
         "hoveron": "points",
         "hovertemplate": "disputes_total=%{y}<br>price in $=%{x}<extra></extra>",
         "legendgroup": "9",
         "line": {
          "color": "rgba(255,255,255,0)"
         },
         "marker": {
          "color": "#00cc96"
         },
         "name": "9",
         "offsetgroup": "9",
         "orientation": "v",
         "pointpos": 0,
         "showlegend": true,
         "type": "box",
         "x": [
          272.7024556213017
         ],
         "x0": " ",
         "xaxis": "x",
         "y": [
          9
         ],
         "y0": " ",
         "yaxis": "y"
        },
        {
         "alignmentgroup": "True",
         "boxpoints": "all",
         "fillcolor": "rgba(255,255,255,0)",
         "hoveron": "points",
         "hovertemplate": "disputes_total=%{y}<br>price in $=%{x}<extra></extra>",
         "legendgroup": "32",
         "line": {
          "color": "rgba(255,255,255,0)"
         },
         "marker": {
          "color": "#ab63fa"
         },
         "name": "32",
         "offsetgroup": "32",
         "orientation": "v",
         "pointpos": 0,
         "showlegend": true,
         "type": "box",
         "x": [
          266.3797587131368
         ],
         "x0": " ",
         "xaxis": "x",
         "y": [
          32
         ],
         "y0": " ",
         "yaxis": "y"
        },
        {
         "alignmentgroup": "True",
         "boxpoints": "all",
         "fillcolor": "rgba(255,255,255,0)",
         "hoveron": "points",
         "hovertemplate": "disputes_total=%{y}<br>price in $=%{x}<extra></extra>",
         "legendgroup": "27",
         "line": {
          "color": "rgba(255,255,255,0)"
         },
         "marker": {
          "color": "#FFA15A"
         },
         "name": "27",
         "offsetgroup": "27",
         "orientation": "v",
         "pointpos": 0,
         "showlegend": true,
         "type": "box",
         "x": [
          257.5625384615384
         ],
         "x0": " ",
         "xaxis": "x",
         "y": [
          27
         ],
         "y0": " ",
         "yaxis": "y"
        },
        {
         "alignmentgroup": "True",
         "boxpoints": "all",
         "fillcolor": "rgba(255,255,255,0)",
         "hoveron": "points",
         "hovertemplate": "disputes_total=%{y}<br>price in $=%{x}<extra></extra>",
         "legendgroup": "12",
         "line": {
          "color": "rgba(255,255,255,0)"
         },
         "marker": {
          "color": "#19d3f3"
         },
         "name": "12",
         "offsetgroup": "12",
         "orientation": "v",
         "pointpos": 0,
         "showlegend": true,
         "type": "box",
         "x": [
          240.25152073732716
         ],
         "x0": " ",
         "xaxis": "x",
         "y": [
          12
         ],
         "y0": " ",
         "yaxis": "y"
        },
        {
         "alignmentgroup": "True",
         "boxpoints": "all",
         "fillcolor": "rgba(255,255,255,0)",
         "hoveron": "points",
         "hovertemplate": "disputes_total=%{y}<br>price in $=%{x}<extra></extra>",
         "legendgroup": "0",
         "line": {
          "color": "rgba(255,255,255,0)"
         },
         "marker": {
          "color": "#FF6692"
         },
         "name": "0",
         "offsetgroup": "0",
         "orientation": "v",
         "pointpos": 0,
         "showlegend": true,
         "type": "box",
         "x": [
          238.71142541436467
         ],
         "x0": " ",
         "xaxis": "x",
         "y": [
          0
         ],
         "y0": " ",
         "yaxis": "y"
        },
        {
         "alignmentgroup": "True",
         "boxpoints": "all",
         "fillcolor": "rgba(255,255,255,0)",
         "hoveron": "points",
         "hovertemplate": "disputes_total=%{y}<br>price in $=%{x}<extra></extra>",
         "legendgroup": "8",
         "line": {
          "color": "rgba(255,255,255,0)"
         },
         "marker": {
          "color": "#B6E880"
         },
         "name": "8",
         "offsetgroup": "8",
         "orientation": "v",
         "pointpos": 0,
         "showlegend": true,
         "type": "box",
         "x": [
          223.04934873949577
         ],
         "x0": " ",
         "xaxis": "x",
         "y": [
          8
         ],
         "y0": " ",
         "yaxis": "y"
        },
        {
         "alignmentgroup": "True",
         "boxpoints": "all",
         "fillcolor": "rgba(255,255,255,0)",
         "hoveron": "points",
         "hovertemplate": "disputes_total=%{y}<br>price in $=%{x}<extra></extra>",
         "legendgroup": "2",
         "line": {
          "color": "rgba(255,255,255,0)"
         },
         "marker": {
          "color": "#FF97FF"
         },
         "name": "2",
         "offsetgroup": "2",
         "orientation": "v",
         "pointpos": 0,
         "showlegend": true,
         "type": "box",
         "x": [
          220.6869012345681
         ],
         "x0": " ",
         "xaxis": "x",
         "y": [
          2
         ],
         "y0": " ",
         "yaxis": "y"
        },
        {
         "alignmentgroup": "True",
         "boxpoints": "all",
         "fillcolor": "rgba(255,255,255,0)",
         "hoveron": "points",
         "hovertemplate": "disputes_total=%{y}<br>price in $=%{x}<extra></extra>",
         "legendgroup": "3",
         "line": {
          "color": "rgba(255,255,255,0)"
         },
         "marker": {
          "color": "#FECB52"
         },
         "name": "3",
         "offsetgroup": "3",
         "orientation": "v",
         "pointpos": 0,
         "showlegend": true,
         "type": "box",
         "x": [
          213.773208828523
         ],
         "x0": " ",
         "xaxis": "x",
         "y": [
          3
         ],
         "y0": " ",
         "yaxis": "y"
        },
        {
         "alignmentgroup": "True",
         "boxpoints": "all",
         "fillcolor": "rgba(255,255,255,0)",
         "hoveron": "points",
         "hovertemplate": "disputes_total=%{y}<br>price in $=%{x}<extra></extra>",
         "legendgroup": "5",
         "line": {
          "color": "rgba(255,255,255,0)"
         },
         "marker": {
          "color": "#636efa"
         },
         "name": "5",
         "offsetgroup": "5",
         "orientation": "v",
         "pointpos": 0,
         "showlegend": true,
         "type": "box",
         "x": [
          205.86305084745766
         ],
         "x0": " ",
         "xaxis": "x",
         "y": [
          5
         ],
         "y0": " ",
         "yaxis": "y"
        },
        {
         "alignmentgroup": "True",
         "boxpoints": "all",
         "fillcolor": "rgba(255,255,255,0)",
         "hoveron": "points",
         "hovertemplate": "disputes_total=%{y}<br>price in $=%{x}<extra></extra>",
         "legendgroup": "11",
         "line": {
          "color": "rgba(255,255,255,0)"
         },
         "marker": {
          "color": "#EF553B"
         },
         "name": "11",
         "offsetgroup": "11",
         "orientation": "v",
         "pointpos": 0,
         "showlegend": true,
         "type": "box",
         "x": [
          203.9655487804879
         ],
         "x0": " ",
         "xaxis": "x",
         "y": [
          11
         ],
         "y0": " ",
         "yaxis": "y"
        },
        {
         "alignmentgroup": "True",
         "boxpoints": "all",
         "fillcolor": "rgba(255,255,255,0)",
         "hoveron": "points",
         "hovertemplate": "disputes_total=%{y}<br>price in $=%{x}<extra></extra>",
         "legendgroup": "1",
         "line": {
          "color": "rgba(255,255,255,0)"
         },
         "marker": {
          "color": "#00cc96"
         },
         "name": "1",
         "offsetgroup": "1",
         "orientation": "v",
         "pointpos": 0,
         "showlegend": true,
         "type": "box",
         "x": [
          203.58914523974988
         ],
         "x0": " ",
         "xaxis": "x",
         "y": [
          1
         ],
         "y0": " ",
         "yaxis": "y"
        },
        {
         "alignmentgroup": "True",
         "boxpoints": "all",
         "fillcolor": "rgba(255,255,255,0)",
         "hoveron": "points",
         "hovertemplate": "disputes_total=%{y}<br>price in $=%{x}<extra></extra>",
         "legendgroup": "13",
         "line": {
          "color": "rgba(255,255,255,0)"
         },
         "marker": {
          "color": "#ab63fa"
         },
         "name": "13",
         "offsetgroup": "13",
         "orientation": "v",
         "pointpos": 0,
         "showlegend": true,
         "type": "box",
         "x": [
          202.34675496688737
         ],
         "x0": " ",
         "xaxis": "x",
         "y": [
          13
         ],
         "y0": " ",
         "yaxis": "y"
        },
        {
         "alignmentgroup": "True",
         "boxpoints": "all",
         "fillcolor": "rgba(255,255,255,0)",
         "hoveron": "points",
         "hovertemplate": "disputes_total=%{y}<br>price in $=%{x}<extra></extra>",
         "legendgroup": "7",
         "line": {
          "color": "rgba(255,255,255,0)"
         },
         "marker": {
          "color": "#FFA15A"
         },
         "name": "7",
         "offsetgroup": "7",
         "orientation": "v",
         "pointpos": 0,
         "showlegend": true,
         "type": "box",
         "x": [
          186.59222366710026
         ],
         "x0": " ",
         "xaxis": "x",
         "y": [
          7
         ],
         "y0": " ",
         "yaxis": "y"
        },
        {
         "alignmentgroup": "True",
         "boxpoints": "all",
         "fillcolor": "rgba(255,255,255,0)",
         "hoveron": "points",
         "hovertemplate": "disputes_total=%{y}<br>price in $=%{x}<extra></extra>",
         "legendgroup": "4",
         "line": {
          "color": "rgba(255,255,255,0)"
         },
         "marker": {
          "color": "#19d3f3"
         },
         "name": "4",
         "offsetgroup": "4",
         "orientation": "v",
         "pointpos": 0,
         "showlegend": true,
         "type": "box",
         "x": [
          183.23252302025764
         ],
         "x0": " ",
         "xaxis": "x",
         "y": [
          4
         ],
         "y0": " ",
         "yaxis": "y"
        },
        {
         "alignmentgroup": "True",
         "boxpoints": "all",
         "fillcolor": "rgba(255,255,255,0)",
         "hoveron": "points",
         "hovertemplate": "disputes_total=%{y}<br>price in $=%{x}<extra></extra>",
         "legendgroup": "22",
         "line": {
          "color": "rgba(255,255,255,0)"
         },
         "marker": {
          "color": "#FF6692"
         },
         "name": "22",
         "offsetgroup": "22",
         "orientation": "v",
         "pointpos": 0,
         "showlegend": true,
         "type": "box",
         "x": [
          161.076
         ],
         "x0": " ",
         "xaxis": "x",
         "y": [
          22
         ],
         "y0": " ",
         "yaxis": "y"
        },
        {
         "alignmentgroup": "True",
         "boxpoints": "all",
         "fillcolor": "rgba(255,255,255,0)",
         "hoveron": "points",
         "hovertemplate": "disputes_total=%{y}<br>price in $=%{x}<extra></extra>",
         "legendgroup": "16",
         "line": {
          "color": "rgba(255,255,255,0)"
         },
         "marker": {
          "color": "#B6E880"
         },
         "name": "16",
         "offsetgroup": "16",
         "orientation": "v",
         "pointpos": 0,
         "showlegend": true,
         "type": "box",
         "x": [
          155.46110236220474
         ],
         "x0": " ",
         "xaxis": "x",
         "y": [
          16
         ],
         "y0": " ",
         "yaxis": "y"
        },
        {
         "alignmentgroup": "True",
         "boxpoints": "all",
         "fillcolor": "rgba(255,255,255,0)",
         "hoveron": "points",
         "hovertemplate": "disputes_total=%{y}<br>price in $=%{x}<extra></extra>",
         "legendgroup": "24",
         "line": {
          "color": "rgba(255,255,255,0)"
         },
         "marker": {
          "color": "#FF97FF"
         },
         "name": "24",
         "offsetgroup": "24",
         "orientation": "v",
         "pointpos": 0,
         "showlegend": true,
         "type": "box",
         "x": [
          114.03144230769227
         ],
         "x0": " ",
         "xaxis": "x",
         "y": [
          24
         ],
         "y0": " ",
         "yaxis": "y"
        },
        {
         "alignmentgroup": "True",
         "boxpoints": "all",
         "fillcolor": "rgba(255,255,255,0)",
         "hoveron": "points",
         "hovertemplate": "disputes_total=%{y}<br>price in $=%{x}<extra></extra>",
         "legendgroup": "54",
         "line": {
          "color": "rgba(255,255,255,0)"
         },
         "marker": {
          "color": "#FECB52"
         },
         "name": "54",
         "offsetgroup": "54",
         "orientation": "v",
         "pointpos": 0,
         "showlegend": true,
         "type": "box",
         "x": [
          90.44696000000003
         ],
         "x0": " ",
         "xaxis": "x",
         "y": [
          54
         ],
         "y0": " ",
         "yaxis": "y"
        }
       ],
       "layout": {
        "boxmode": "group",
        "legend": {
         "title": {
          "text": "disputes_total"
         },
         "tracegroupgap": 0
        },
        "margin": {
         "t": 60
        },
        "template": {
         "data": {
          "bar": [
           {
            "error_x": {
             "color": "#2a3f5f"
            },
            "error_y": {
             "color": "#2a3f5f"
            },
            "marker": {
             "line": {
              "color": "#E5ECF6",
              "width": 0.5
             }
            },
            "type": "bar"
           }
          ],
          "barpolar": [
           {
            "marker": {
             "line": {
              "color": "#E5ECF6",
              "width": 0.5
             }
            },
            "type": "barpolar"
           }
          ],
          "carpet": [
           {
            "aaxis": {
             "endlinecolor": "#2a3f5f",
             "gridcolor": "white",
             "linecolor": "white",
             "minorgridcolor": "white",
             "startlinecolor": "#2a3f5f"
            },
            "baxis": {
             "endlinecolor": "#2a3f5f",
             "gridcolor": "white",
             "linecolor": "white",
             "minorgridcolor": "white",
             "startlinecolor": "#2a3f5f"
            },
            "type": "carpet"
           }
          ],
          "choropleth": [
           {
            "colorbar": {
             "outlinewidth": 0,
             "ticks": ""
            },
            "type": "choropleth"
           }
          ],
          "contour": [
           {
            "colorbar": {
             "outlinewidth": 0,
             "ticks": ""
            },
            "colorscale": [
             [
              0,
              "#0d0887"
             ],
             [
              0.1111111111111111,
              "#46039f"
             ],
             [
              0.2222222222222222,
              "#7201a8"
             ],
             [
              0.3333333333333333,
              "#9c179e"
             ],
             [
              0.4444444444444444,
              "#bd3786"
             ],
             [
              0.5555555555555556,
              "#d8576b"
             ],
             [
              0.6666666666666666,
              "#ed7953"
             ],
             [
              0.7777777777777778,
              "#fb9f3a"
             ],
             [
              0.8888888888888888,
              "#fdca26"
             ],
             [
              1,
              "#f0f921"
             ]
            ],
            "type": "contour"
           }
          ],
          "contourcarpet": [
           {
            "colorbar": {
             "outlinewidth": 0,
             "ticks": ""
            },
            "type": "contourcarpet"
           }
          ],
          "heatmap": [
           {
            "colorbar": {
             "outlinewidth": 0,
             "ticks": ""
            },
            "colorscale": [
             [
              0,
              "#0d0887"
             ],
             [
              0.1111111111111111,
              "#46039f"
             ],
             [
              0.2222222222222222,
              "#7201a8"
             ],
             [
              0.3333333333333333,
              "#9c179e"
             ],
             [
              0.4444444444444444,
              "#bd3786"
             ],
             [
              0.5555555555555556,
              "#d8576b"
             ],
             [
              0.6666666666666666,
              "#ed7953"
             ],
             [
              0.7777777777777778,
              "#fb9f3a"
             ],
             [
              0.8888888888888888,
              "#fdca26"
             ],
             [
              1,
              "#f0f921"
             ]
            ],
            "type": "heatmap"
           }
          ],
          "heatmapgl": [
           {
            "colorbar": {
             "outlinewidth": 0,
             "ticks": ""
            },
            "colorscale": [
             [
              0,
              "#0d0887"
             ],
             [
              0.1111111111111111,
              "#46039f"
             ],
             [
              0.2222222222222222,
              "#7201a8"
             ],
             [
              0.3333333333333333,
              "#9c179e"
             ],
             [
              0.4444444444444444,
              "#bd3786"
             ],
             [
              0.5555555555555556,
              "#d8576b"
             ],
             [
              0.6666666666666666,
              "#ed7953"
             ],
             [
              0.7777777777777778,
              "#fb9f3a"
             ],
             [
              0.8888888888888888,
              "#fdca26"
             ],
             [
              1,
              "#f0f921"
             ]
            ],
            "type": "heatmapgl"
           }
          ],
          "histogram": [
           {
            "marker": {
             "colorbar": {
              "outlinewidth": 0,
              "ticks": ""
             }
            },
            "type": "histogram"
           }
          ],
          "histogram2d": [
           {
            "colorbar": {
             "outlinewidth": 0,
             "ticks": ""
            },
            "colorscale": [
             [
              0,
              "#0d0887"
             ],
             [
              0.1111111111111111,
              "#46039f"
             ],
             [
              0.2222222222222222,
              "#7201a8"
             ],
             [
              0.3333333333333333,
              "#9c179e"
             ],
             [
              0.4444444444444444,
              "#bd3786"
             ],
             [
              0.5555555555555556,
              "#d8576b"
             ],
             [
              0.6666666666666666,
              "#ed7953"
             ],
             [
              0.7777777777777778,
              "#fb9f3a"
             ],
             [
              0.8888888888888888,
              "#fdca26"
             ],
             [
              1,
              "#f0f921"
             ]
            ],
            "type": "histogram2d"
           }
          ],
          "histogram2dcontour": [
           {
            "colorbar": {
             "outlinewidth": 0,
             "ticks": ""
            },
            "colorscale": [
             [
              0,
              "#0d0887"
             ],
             [
              0.1111111111111111,
              "#46039f"
             ],
             [
              0.2222222222222222,
              "#7201a8"
             ],
             [
              0.3333333333333333,
              "#9c179e"
             ],
             [
              0.4444444444444444,
              "#bd3786"
             ],
             [
              0.5555555555555556,
              "#d8576b"
             ],
             [
              0.6666666666666666,
              "#ed7953"
             ],
             [
              0.7777777777777778,
              "#fb9f3a"
             ],
             [
              0.8888888888888888,
              "#fdca26"
             ],
             [
              1,
              "#f0f921"
             ]
            ],
            "type": "histogram2dcontour"
           }
          ],
          "mesh3d": [
           {
            "colorbar": {
             "outlinewidth": 0,
             "ticks": ""
            },
            "type": "mesh3d"
           }
          ],
          "parcoords": [
           {
            "line": {
             "colorbar": {
              "outlinewidth": 0,
              "ticks": ""
             }
            },
            "type": "parcoords"
           }
          ],
          "pie": [
           {
            "automargin": true,
            "type": "pie"
           }
          ],
          "scatter": [
           {
            "marker": {
             "colorbar": {
              "outlinewidth": 0,
              "ticks": ""
             }
            },
            "type": "scatter"
           }
          ],
          "scatter3d": [
           {
            "line": {
             "colorbar": {
              "outlinewidth": 0,
              "ticks": ""
             }
            },
            "marker": {
             "colorbar": {
              "outlinewidth": 0,
              "ticks": ""
             }
            },
            "type": "scatter3d"
           }
          ],
          "scattercarpet": [
           {
            "marker": {
             "colorbar": {
              "outlinewidth": 0,
              "ticks": ""
             }
            },
            "type": "scattercarpet"
           }
          ],
          "scattergeo": [
           {
            "marker": {
             "colorbar": {
              "outlinewidth": 0,
              "ticks": ""
             }
            },
            "type": "scattergeo"
           }
          ],
          "scattergl": [
           {
            "marker": {
             "colorbar": {
              "outlinewidth": 0,
              "ticks": ""
             }
            },
            "type": "scattergl"
           }
          ],
          "scattermapbox": [
           {
            "marker": {
             "colorbar": {
              "outlinewidth": 0,
              "ticks": ""
             }
            },
            "type": "scattermapbox"
           }
          ],
          "scatterpolar": [
           {
            "marker": {
             "colorbar": {
              "outlinewidth": 0,
              "ticks": ""
             }
            },
            "type": "scatterpolar"
           }
          ],
          "scatterpolargl": [
           {
            "marker": {
             "colorbar": {
              "outlinewidth": 0,
              "ticks": ""
             }
            },
            "type": "scatterpolargl"
           }
          ],
          "scatterternary": [
           {
            "marker": {
             "colorbar": {
              "outlinewidth": 0,
              "ticks": ""
             }
            },
            "type": "scatterternary"
           }
          ],
          "surface": [
           {
            "colorbar": {
             "outlinewidth": 0,
             "ticks": ""
            },
            "colorscale": [
             [
              0,
              "#0d0887"
             ],
             [
              0.1111111111111111,
              "#46039f"
             ],
             [
              0.2222222222222222,
              "#7201a8"
             ],
             [
              0.3333333333333333,
              "#9c179e"
             ],
             [
              0.4444444444444444,
              "#bd3786"
             ],
             [
              0.5555555555555556,
              "#d8576b"
             ],
             [
              0.6666666666666666,
              "#ed7953"
             ],
             [
              0.7777777777777778,
              "#fb9f3a"
             ],
             [
              0.8888888888888888,
              "#fdca26"
             ],
             [
              1,
              "#f0f921"
             ]
            ],
            "type": "surface"
           }
          ],
          "table": [
           {
            "cells": {
             "fill": {
              "color": "#EBF0F8"
             },
             "line": {
              "color": "white"
             }
            },
            "header": {
             "fill": {
              "color": "#C8D4E3"
             },
             "line": {
              "color": "white"
             }
            },
            "type": "table"
           }
          ]
         },
         "layout": {
          "annotationdefaults": {
           "arrowcolor": "#2a3f5f",
           "arrowhead": 0,
           "arrowwidth": 1
          },
          "autotypenumbers": "strict",
          "coloraxis": {
           "colorbar": {
            "outlinewidth": 0,
            "ticks": ""
           }
          },
          "colorscale": {
           "diverging": [
            [
             0,
             "#8e0152"
            ],
            [
             0.1,
             "#c51b7d"
            ],
            [
             0.2,
             "#de77ae"
            ],
            [
             0.3,
             "#f1b6da"
            ],
            [
             0.4,
             "#fde0ef"
            ],
            [
             0.5,
             "#f7f7f7"
            ],
            [
             0.6,
             "#e6f5d0"
            ],
            [
             0.7,
             "#b8e186"
            ],
            [
             0.8,
             "#7fbc41"
            ],
            [
             0.9,
             "#4d9221"
            ],
            [
             1,
             "#276419"
            ]
           ],
           "sequential": [
            [
             0,
             "#0d0887"
            ],
            [
             0.1111111111111111,
             "#46039f"
            ],
            [
             0.2222222222222222,
             "#7201a8"
            ],
            [
             0.3333333333333333,
             "#9c179e"
            ],
            [
             0.4444444444444444,
             "#bd3786"
            ],
            [
             0.5555555555555556,
             "#d8576b"
            ],
            [
             0.6666666666666666,
             "#ed7953"
            ],
            [
             0.7777777777777778,
             "#fb9f3a"
            ],
            [
             0.8888888888888888,
             "#fdca26"
            ],
            [
             1,
             "#f0f921"
            ]
           ],
           "sequentialminus": [
            [
             0,
             "#0d0887"
            ],
            [
             0.1111111111111111,
             "#46039f"
            ],
            [
             0.2222222222222222,
             "#7201a8"
            ],
            [
             0.3333333333333333,
             "#9c179e"
            ],
            [
             0.4444444444444444,
             "#bd3786"
            ],
            [
             0.5555555555555556,
             "#d8576b"
            ],
            [
             0.6666666666666666,
             "#ed7953"
            ],
            [
             0.7777777777777778,
             "#fb9f3a"
            ],
            [
             0.8888888888888888,
             "#fdca26"
            ],
            [
             1,
             "#f0f921"
            ]
           ]
          },
          "colorway": [
           "#636efa",
           "#EF553B",
           "#00cc96",
           "#ab63fa",
           "#FFA15A",
           "#19d3f3",
           "#FF6692",
           "#B6E880",
           "#FF97FF",
           "#FECB52"
          ],
          "font": {
           "color": "#2a3f5f"
          },
          "geo": {
           "bgcolor": "white",
           "lakecolor": "white",
           "landcolor": "#E5ECF6",
           "showlakes": true,
           "showland": true,
           "subunitcolor": "white"
          },
          "hoverlabel": {
           "align": "left"
          },
          "hovermode": "closest",
          "mapbox": {
           "style": "light"
          },
          "paper_bgcolor": "white",
          "plot_bgcolor": "#E5ECF6",
          "polar": {
           "angularaxis": {
            "gridcolor": "white",
            "linecolor": "white",
            "ticks": ""
           },
           "bgcolor": "#E5ECF6",
           "radialaxis": {
            "gridcolor": "white",
            "linecolor": "white",
            "ticks": ""
           }
          },
          "scene": {
           "xaxis": {
            "backgroundcolor": "#E5ECF6",
            "gridcolor": "white",
            "gridwidth": 2,
            "linecolor": "white",
            "showbackground": true,
            "ticks": "",
            "zerolinecolor": "white"
           },
           "yaxis": {
            "backgroundcolor": "#E5ECF6",
            "gridcolor": "white",
            "gridwidth": 2,
            "linecolor": "white",
            "showbackground": true,
            "ticks": "",
            "zerolinecolor": "white"
           },
           "zaxis": {
            "backgroundcolor": "#E5ECF6",
            "gridcolor": "white",
            "gridwidth": 2,
            "linecolor": "white",
            "showbackground": true,
            "ticks": "",
            "zerolinecolor": "white"
           }
          },
          "shapedefaults": {
           "line": {
            "color": "#2a3f5f"
           }
          },
          "ternary": {
           "aaxis": {
            "gridcolor": "white",
            "linecolor": "white",
            "ticks": ""
           },
           "baxis": {
            "gridcolor": "white",
            "linecolor": "white",
            "ticks": ""
           },
           "bgcolor": "#E5ECF6",
           "caxis": {
            "gridcolor": "white",
            "linecolor": "white",
            "ticks": ""
           }
          },
          "title": {
           "x": 0.05
          },
          "xaxis": {
           "automargin": true,
           "gridcolor": "white",
           "linecolor": "white",
           "ticks": "",
           "title": {
            "standoff": 15
           },
           "zerolinecolor": "white",
           "zerolinewidth": 2
          },
          "yaxis": {
           "automargin": true,
           "gridcolor": "white",
           "linecolor": "white",
           "ticks": "",
           "title": {
            "standoff": 15
           },
           "zerolinecolor": "white",
           "zerolinewidth": 2
          }
         }
        },
        "xaxis": {
         "anchor": "y",
         "domain": [
          0,
          1
         ],
         "title": {
          "text": "price in $"
         }
        },
        "yaxis": {
         "anchor": "x",
         "categoryarray": [
          54,
          24,
          16,
          22,
          4,
          7,
          13,
          1,
          11,
          5,
          3,
          2,
          8,
          0,
          12,
          27,
          32,
          9,
          6,
          18
         ],
         "categoryorder": "array",
         "domain": [
          0,
          1
         ],
         "title": {
          "text": "disputes_total"
         }
        }
       }
      },
      "text/html": [
       "<div>                            <div id=\"fce12d6b-7b23-4cf6-8e60-5803db0eb96f\" class=\"plotly-graph-div\" style=\"height:525px; width:100%;\"></div>            <script type=\"text/javascript\">                require([\"plotly\"], function(Plotly) {                    window.PLOTLYENV=window.PLOTLYENV || {};                                    if (document.getElementById(\"fce12d6b-7b23-4cf6-8e60-5803db0eb96f\")) {                    Plotly.newPlot(                        \"fce12d6b-7b23-4cf6-8e60-5803db0eb96f\",                        [{\"alignmentgroup\": \"True\", \"boxpoints\": \"all\", \"fillcolor\": \"rgba(255,255,255,0)\", \"hoveron\": \"points\", \"hovertemplate\": \"disputes_total=%{y}<br>price in $=%{x}<extra></extra>\", \"legendgroup\": \"18\", \"line\": {\"color\": \"rgba(255,255,255,0)\"}, \"marker\": {\"color\": \"#636efa\"}, \"name\": \"18\", \"offsetgroup\": \"18\", \"orientation\": \"v\", \"pointpos\": 0, \"showlegend\": true, \"type\": \"box\", \"x\": [285.2525242718446], \"x0\": \" \", \"xaxis\": \"x\", \"y\": [18], \"y0\": \" \", \"yaxis\": \"y\"}, {\"alignmentgroup\": \"True\", \"boxpoints\": \"all\", \"fillcolor\": \"rgba(255,255,255,0)\", \"hoveron\": \"points\", \"hovertemplate\": \"disputes_total=%{y}<br>price in $=%{x}<extra></extra>\", \"legendgroup\": \"6\", \"line\": {\"color\": \"rgba(255,255,255,0)\"}, \"marker\": {\"color\": \"#EF553B\"}, \"name\": \"6\", \"offsetgroup\": \"6\", \"orientation\": \"v\", \"pointpos\": 0, \"showlegend\": true, \"type\": \"box\", \"x\": [282.9707028112446], \"x0\": \" \", \"xaxis\": \"x\", \"y\": [6], \"y0\": \" \", \"yaxis\": \"y\"}, {\"alignmentgroup\": \"True\", \"boxpoints\": \"all\", \"fillcolor\": \"rgba(255,255,255,0)\", \"hoveron\": \"points\", \"hovertemplate\": \"disputes_total=%{y}<br>price in $=%{x}<extra></extra>\", \"legendgroup\": \"9\", \"line\": {\"color\": \"rgba(255,255,255,0)\"}, \"marker\": {\"color\": \"#00cc96\"}, \"name\": \"9\", \"offsetgroup\": \"9\", \"orientation\": \"v\", \"pointpos\": 0, \"showlegend\": true, \"type\": \"box\", \"x\": [272.7024556213017], \"x0\": \" \", \"xaxis\": \"x\", \"y\": [9], \"y0\": \" \", \"yaxis\": \"y\"}, {\"alignmentgroup\": \"True\", \"boxpoints\": \"all\", \"fillcolor\": \"rgba(255,255,255,0)\", \"hoveron\": \"points\", \"hovertemplate\": \"disputes_total=%{y}<br>price in $=%{x}<extra></extra>\", \"legendgroup\": \"32\", \"line\": {\"color\": \"rgba(255,255,255,0)\"}, \"marker\": {\"color\": \"#ab63fa\"}, \"name\": \"32\", \"offsetgroup\": \"32\", \"orientation\": \"v\", \"pointpos\": 0, \"showlegend\": true, \"type\": \"box\", \"x\": [266.3797587131368], \"x0\": \" \", \"xaxis\": \"x\", \"y\": [32], \"y0\": \" \", \"yaxis\": \"y\"}, {\"alignmentgroup\": \"True\", \"boxpoints\": \"all\", \"fillcolor\": \"rgba(255,255,255,0)\", \"hoveron\": \"points\", \"hovertemplate\": \"disputes_total=%{y}<br>price in $=%{x}<extra></extra>\", \"legendgroup\": \"27\", \"line\": {\"color\": \"rgba(255,255,255,0)\"}, \"marker\": {\"color\": \"#FFA15A\"}, \"name\": \"27\", \"offsetgroup\": \"27\", \"orientation\": \"v\", \"pointpos\": 0, \"showlegend\": true, \"type\": \"box\", \"x\": [257.5625384615384], \"x0\": \" \", \"xaxis\": \"x\", \"y\": [27], \"y0\": \" \", \"yaxis\": \"y\"}, {\"alignmentgroup\": \"True\", \"boxpoints\": \"all\", \"fillcolor\": \"rgba(255,255,255,0)\", \"hoveron\": \"points\", \"hovertemplate\": \"disputes_total=%{y}<br>price in $=%{x}<extra></extra>\", \"legendgroup\": \"12\", \"line\": {\"color\": \"rgba(255,255,255,0)\"}, \"marker\": {\"color\": \"#19d3f3\"}, \"name\": \"12\", \"offsetgroup\": \"12\", \"orientation\": \"v\", \"pointpos\": 0, \"showlegend\": true, \"type\": \"box\", \"x\": [240.25152073732716], \"x0\": \" \", \"xaxis\": \"x\", \"y\": [12], \"y0\": \" \", \"yaxis\": \"y\"}, {\"alignmentgroup\": \"True\", \"boxpoints\": \"all\", \"fillcolor\": \"rgba(255,255,255,0)\", \"hoveron\": \"points\", \"hovertemplate\": \"disputes_total=%{y}<br>price in $=%{x}<extra></extra>\", \"legendgroup\": \"0\", \"line\": {\"color\": \"rgba(255,255,255,0)\"}, \"marker\": {\"color\": \"#FF6692\"}, \"name\": \"0\", \"offsetgroup\": \"0\", \"orientation\": \"v\", \"pointpos\": 0, \"showlegend\": true, \"type\": \"box\", \"x\": [238.71142541436467], \"x0\": \" \", \"xaxis\": \"x\", \"y\": [0], \"y0\": \" \", \"yaxis\": \"y\"}, {\"alignmentgroup\": \"True\", \"boxpoints\": \"all\", \"fillcolor\": \"rgba(255,255,255,0)\", \"hoveron\": \"points\", \"hovertemplate\": \"disputes_total=%{y}<br>price in $=%{x}<extra></extra>\", \"legendgroup\": \"8\", \"line\": {\"color\": \"rgba(255,255,255,0)\"}, \"marker\": {\"color\": \"#B6E880\"}, \"name\": \"8\", \"offsetgroup\": \"8\", \"orientation\": \"v\", \"pointpos\": 0, \"showlegend\": true, \"type\": \"box\", \"x\": [223.04934873949577], \"x0\": \" \", \"xaxis\": \"x\", \"y\": [8], \"y0\": \" \", \"yaxis\": \"y\"}, {\"alignmentgroup\": \"True\", \"boxpoints\": \"all\", \"fillcolor\": \"rgba(255,255,255,0)\", \"hoveron\": \"points\", \"hovertemplate\": \"disputes_total=%{y}<br>price in $=%{x}<extra></extra>\", \"legendgroup\": \"2\", \"line\": {\"color\": \"rgba(255,255,255,0)\"}, \"marker\": {\"color\": \"#FF97FF\"}, \"name\": \"2\", \"offsetgroup\": \"2\", \"orientation\": \"v\", \"pointpos\": 0, \"showlegend\": true, \"type\": \"box\", \"x\": [220.6869012345681], \"x0\": \" \", \"xaxis\": \"x\", \"y\": [2], \"y0\": \" \", \"yaxis\": \"y\"}, {\"alignmentgroup\": \"True\", \"boxpoints\": \"all\", \"fillcolor\": \"rgba(255,255,255,0)\", \"hoveron\": \"points\", \"hovertemplate\": \"disputes_total=%{y}<br>price in $=%{x}<extra></extra>\", \"legendgroup\": \"3\", \"line\": {\"color\": \"rgba(255,255,255,0)\"}, \"marker\": {\"color\": \"#FECB52\"}, \"name\": \"3\", \"offsetgroup\": \"3\", \"orientation\": \"v\", \"pointpos\": 0, \"showlegend\": true, \"type\": \"box\", \"x\": [213.773208828523], \"x0\": \" \", \"xaxis\": \"x\", \"y\": [3], \"y0\": \" \", \"yaxis\": \"y\"}, {\"alignmentgroup\": \"True\", \"boxpoints\": \"all\", \"fillcolor\": \"rgba(255,255,255,0)\", \"hoveron\": \"points\", \"hovertemplate\": \"disputes_total=%{y}<br>price in $=%{x}<extra></extra>\", \"legendgroup\": \"5\", \"line\": {\"color\": \"rgba(255,255,255,0)\"}, \"marker\": {\"color\": \"#636efa\"}, \"name\": \"5\", \"offsetgroup\": \"5\", \"orientation\": \"v\", \"pointpos\": 0, \"showlegend\": true, \"type\": \"box\", \"x\": [205.86305084745766], \"x0\": \" \", \"xaxis\": \"x\", \"y\": [5], \"y0\": \" \", \"yaxis\": \"y\"}, {\"alignmentgroup\": \"True\", \"boxpoints\": \"all\", \"fillcolor\": \"rgba(255,255,255,0)\", \"hoveron\": \"points\", \"hovertemplate\": \"disputes_total=%{y}<br>price in $=%{x}<extra></extra>\", \"legendgroup\": \"11\", \"line\": {\"color\": \"rgba(255,255,255,0)\"}, \"marker\": {\"color\": \"#EF553B\"}, \"name\": \"11\", \"offsetgroup\": \"11\", \"orientation\": \"v\", \"pointpos\": 0, \"showlegend\": true, \"type\": \"box\", \"x\": [203.9655487804879], \"x0\": \" \", \"xaxis\": \"x\", \"y\": [11], \"y0\": \" \", \"yaxis\": \"y\"}, {\"alignmentgroup\": \"True\", \"boxpoints\": \"all\", \"fillcolor\": \"rgba(255,255,255,0)\", \"hoveron\": \"points\", \"hovertemplate\": \"disputes_total=%{y}<br>price in $=%{x}<extra></extra>\", \"legendgroup\": \"1\", \"line\": {\"color\": \"rgba(255,255,255,0)\"}, \"marker\": {\"color\": \"#00cc96\"}, \"name\": \"1\", \"offsetgroup\": \"1\", \"orientation\": \"v\", \"pointpos\": 0, \"showlegend\": true, \"type\": \"box\", \"x\": [203.58914523974988], \"x0\": \" \", \"xaxis\": \"x\", \"y\": [1], \"y0\": \" \", \"yaxis\": \"y\"}, {\"alignmentgroup\": \"True\", \"boxpoints\": \"all\", \"fillcolor\": \"rgba(255,255,255,0)\", \"hoveron\": \"points\", \"hovertemplate\": \"disputes_total=%{y}<br>price in $=%{x}<extra></extra>\", \"legendgroup\": \"13\", \"line\": {\"color\": \"rgba(255,255,255,0)\"}, \"marker\": {\"color\": \"#ab63fa\"}, \"name\": \"13\", \"offsetgroup\": \"13\", \"orientation\": \"v\", \"pointpos\": 0, \"showlegend\": true, \"type\": \"box\", \"x\": [202.34675496688737], \"x0\": \" \", \"xaxis\": \"x\", \"y\": [13], \"y0\": \" \", \"yaxis\": \"y\"}, {\"alignmentgroup\": \"True\", \"boxpoints\": \"all\", \"fillcolor\": \"rgba(255,255,255,0)\", \"hoveron\": \"points\", \"hovertemplate\": \"disputes_total=%{y}<br>price in $=%{x}<extra></extra>\", \"legendgroup\": \"7\", \"line\": {\"color\": \"rgba(255,255,255,0)\"}, \"marker\": {\"color\": \"#FFA15A\"}, \"name\": \"7\", \"offsetgroup\": \"7\", \"orientation\": \"v\", \"pointpos\": 0, \"showlegend\": true, \"type\": \"box\", \"x\": [186.59222366710026], \"x0\": \" \", \"xaxis\": \"x\", \"y\": [7], \"y0\": \" \", \"yaxis\": \"y\"}, {\"alignmentgroup\": \"True\", \"boxpoints\": \"all\", \"fillcolor\": \"rgba(255,255,255,0)\", \"hoveron\": \"points\", \"hovertemplate\": \"disputes_total=%{y}<br>price in $=%{x}<extra></extra>\", \"legendgroup\": \"4\", \"line\": {\"color\": \"rgba(255,255,255,0)\"}, \"marker\": {\"color\": \"#19d3f3\"}, \"name\": \"4\", \"offsetgroup\": \"4\", \"orientation\": \"v\", \"pointpos\": 0, \"showlegend\": true, \"type\": \"box\", \"x\": [183.23252302025764], \"x0\": \" \", \"xaxis\": \"x\", \"y\": [4], \"y0\": \" \", \"yaxis\": \"y\"}, {\"alignmentgroup\": \"True\", \"boxpoints\": \"all\", \"fillcolor\": \"rgba(255,255,255,0)\", \"hoveron\": \"points\", \"hovertemplate\": \"disputes_total=%{y}<br>price in $=%{x}<extra></extra>\", \"legendgroup\": \"22\", \"line\": {\"color\": \"rgba(255,255,255,0)\"}, \"marker\": {\"color\": \"#FF6692\"}, \"name\": \"22\", \"offsetgroup\": \"22\", \"orientation\": \"v\", \"pointpos\": 0, \"showlegend\": true, \"type\": \"box\", \"x\": [161.076], \"x0\": \" \", \"xaxis\": \"x\", \"y\": [22], \"y0\": \" \", \"yaxis\": \"y\"}, {\"alignmentgroup\": \"True\", \"boxpoints\": \"all\", \"fillcolor\": \"rgba(255,255,255,0)\", \"hoveron\": \"points\", \"hovertemplate\": \"disputes_total=%{y}<br>price in $=%{x}<extra></extra>\", \"legendgroup\": \"16\", \"line\": {\"color\": \"rgba(255,255,255,0)\"}, \"marker\": {\"color\": \"#B6E880\"}, \"name\": \"16\", \"offsetgroup\": \"16\", \"orientation\": \"v\", \"pointpos\": 0, \"showlegend\": true, \"type\": \"box\", \"x\": [155.46110236220474], \"x0\": \" \", \"xaxis\": \"x\", \"y\": [16], \"y0\": \" \", \"yaxis\": \"y\"}, {\"alignmentgroup\": \"True\", \"boxpoints\": \"all\", \"fillcolor\": \"rgba(255,255,255,0)\", \"hoveron\": \"points\", \"hovertemplate\": \"disputes_total=%{y}<br>price in $=%{x}<extra></extra>\", \"legendgroup\": \"24\", \"line\": {\"color\": \"rgba(255,255,255,0)\"}, \"marker\": {\"color\": \"#FF97FF\"}, \"name\": \"24\", \"offsetgroup\": \"24\", \"orientation\": \"v\", \"pointpos\": 0, \"showlegend\": true, \"type\": \"box\", \"x\": [114.03144230769227], \"x0\": \" \", \"xaxis\": \"x\", \"y\": [24], \"y0\": \" \", \"yaxis\": \"y\"}, {\"alignmentgroup\": \"True\", \"boxpoints\": \"all\", \"fillcolor\": \"rgba(255,255,255,0)\", \"hoveron\": \"points\", \"hovertemplate\": \"disputes_total=%{y}<br>price in $=%{x}<extra></extra>\", \"legendgroup\": \"54\", \"line\": {\"color\": \"rgba(255,255,255,0)\"}, \"marker\": {\"color\": \"#FECB52\"}, \"name\": \"54\", \"offsetgroup\": \"54\", \"orientation\": \"v\", \"pointpos\": 0, \"showlegend\": true, \"type\": \"box\", \"x\": [90.44696000000003], \"x0\": \" \", \"xaxis\": \"x\", \"y\": [54], \"y0\": \" \", \"yaxis\": \"y\"}],                        {\"boxmode\": \"group\", \"legend\": {\"title\": {\"text\": \"disputes_total\"}, \"tracegroupgap\": 0}, \"margin\": {\"t\": 60}, \"template\": {\"data\": {\"bar\": [{\"error_x\": {\"color\": \"#2a3f5f\"}, \"error_y\": {\"color\": \"#2a3f5f\"}, \"marker\": {\"line\": {\"color\": \"#E5ECF6\", \"width\": 0.5}}, \"type\": \"bar\"}], \"barpolar\": [{\"marker\": {\"line\": {\"color\": \"#E5ECF6\", \"width\": 0.5}}, \"type\": \"barpolar\"}], \"carpet\": [{\"aaxis\": {\"endlinecolor\": \"#2a3f5f\", \"gridcolor\": \"white\", \"linecolor\": \"white\", \"minorgridcolor\": \"white\", \"startlinecolor\": \"#2a3f5f\"}, \"baxis\": {\"endlinecolor\": \"#2a3f5f\", \"gridcolor\": \"white\", \"linecolor\": \"white\", \"minorgridcolor\": \"white\", \"startlinecolor\": \"#2a3f5f\"}, \"type\": \"carpet\"}], \"choropleth\": [{\"colorbar\": {\"outlinewidth\": 0, \"ticks\": \"\"}, \"type\": \"choropleth\"}], \"contour\": [{\"colorbar\": {\"outlinewidth\": 0, \"ticks\": \"\"}, \"colorscale\": [[0.0, \"#0d0887\"], [0.1111111111111111, \"#46039f\"], [0.2222222222222222, \"#7201a8\"], [0.3333333333333333, \"#9c179e\"], [0.4444444444444444, \"#bd3786\"], [0.5555555555555556, \"#d8576b\"], [0.6666666666666666, \"#ed7953\"], [0.7777777777777778, \"#fb9f3a\"], [0.8888888888888888, \"#fdca26\"], [1.0, \"#f0f921\"]], \"type\": \"contour\"}], \"contourcarpet\": [{\"colorbar\": {\"outlinewidth\": 0, \"ticks\": \"\"}, \"type\": \"contourcarpet\"}], \"heatmap\": [{\"colorbar\": {\"outlinewidth\": 0, \"ticks\": \"\"}, \"colorscale\": [[0.0, \"#0d0887\"], [0.1111111111111111, \"#46039f\"], [0.2222222222222222, \"#7201a8\"], [0.3333333333333333, \"#9c179e\"], [0.4444444444444444, \"#bd3786\"], [0.5555555555555556, \"#d8576b\"], [0.6666666666666666, \"#ed7953\"], [0.7777777777777778, \"#fb9f3a\"], [0.8888888888888888, \"#fdca26\"], [1.0, \"#f0f921\"]], \"type\": \"heatmap\"}], \"heatmapgl\": [{\"colorbar\": {\"outlinewidth\": 0, \"ticks\": \"\"}, \"colorscale\": [[0.0, \"#0d0887\"], [0.1111111111111111, \"#46039f\"], [0.2222222222222222, \"#7201a8\"], [0.3333333333333333, \"#9c179e\"], [0.4444444444444444, \"#bd3786\"], [0.5555555555555556, \"#d8576b\"], [0.6666666666666666, \"#ed7953\"], [0.7777777777777778, \"#fb9f3a\"], [0.8888888888888888, \"#fdca26\"], [1.0, \"#f0f921\"]], \"type\": \"heatmapgl\"}], \"histogram\": [{\"marker\": {\"colorbar\": {\"outlinewidth\": 0, \"ticks\": \"\"}}, \"type\": \"histogram\"}], \"histogram2d\": [{\"colorbar\": {\"outlinewidth\": 0, \"ticks\": \"\"}, \"colorscale\": [[0.0, \"#0d0887\"], [0.1111111111111111, \"#46039f\"], [0.2222222222222222, \"#7201a8\"], [0.3333333333333333, \"#9c179e\"], [0.4444444444444444, \"#bd3786\"], [0.5555555555555556, \"#d8576b\"], [0.6666666666666666, \"#ed7953\"], [0.7777777777777778, \"#fb9f3a\"], [0.8888888888888888, \"#fdca26\"], [1.0, \"#f0f921\"]], \"type\": \"histogram2d\"}], \"histogram2dcontour\": [{\"colorbar\": {\"outlinewidth\": 0, \"ticks\": \"\"}, \"colorscale\": [[0.0, \"#0d0887\"], [0.1111111111111111, \"#46039f\"], [0.2222222222222222, \"#7201a8\"], [0.3333333333333333, \"#9c179e\"], [0.4444444444444444, \"#bd3786\"], [0.5555555555555556, \"#d8576b\"], [0.6666666666666666, \"#ed7953\"], [0.7777777777777778, \"#fb9f3a\"], [0.8888888888888888, \"#fdca26\"], [1.0, \"#f0f921\"]], \"type\": \"histogram2dcontour\"}], \"mesh3d\": [{\"colorbar\": {\"outlinewidth\": 0, \"ticks\": \"\"}, \"type\": \"mesh3d\"}], \"parcoords\": [{\"line\": {\"colorbar\": {\"outlinewidth\": 0, \"ticks\": \"\"}}, \"type\": \"parcoords\"}], \"pie\": [{\"automargin\": true, \"type\": \"pie\"}], \"scatter\": [{\"marker\": {\"colorbar\": {\"outlinewidth\": 0, \"ticks\": \"\"}}, \"type\": \"scatter\"}], \"scatter3d\": [{\"line\": {\"colorbar\": {\"outlinewidth\": 0, \"ticks\": \"\"}}, \"marker\": {\"colorbar\": {\"outlinewidth\": 0, \"ticks\": \"\"}}, \"type\": \"scatter3d\"}], \"scattercarpet\": [{\"marker\": {\"colorbar\": {\"outlinewidth\": 0, \"ticks\": \"\"}}, \"type\": \"scattercarpet\"}], \"scattergeo\": [{\"marker\": {\"colorbar\": {\"outlinewidth\": 0, \"ticks\": \"\"}}, \"type\": \"scattergeo\"}], \"scattergl\": [{\"marker\": {\"colorbar\": {\"outlinewidth\": 0, \"ticks\": \"\"}}, \"type\": \"scattergl\"}], \"scattermapbox\": [{\"marker\": {\"colorbar\": {\"outlinewidth\": 0, \"ticks\": \"\"}}, \"type\": \"scattermapbox\"}], \"scatterpolar\": [{\"marker\": {\"colorbar\": {\"outlinewidth\": 0, \"ticks\": \"\"}}, \"type\": \"scatterpolar\"}], \"scatterpolargl\": [{\"marker\": {\"colorbar\": {\"outlinewidth\": 0, \"ticks\": \"\"}}, \"type\": \"scatterpolargl\"}], \"scatterternary\": [{\"marker\": {\"colorbar\": {\"outlinewidth\": 0, \"ticks\": \"\"}}, \"type\": \"scatterternary\"}], \"surface\": [{\"colorbar\": {\"outlinewidth\": 0, \"ticks\": \"\"}, \"colorscale\": [[0.0, \"#0d0887\"], [0.1111111111111111, \"#46039f\"], [0.2222222222222222, \"#7201a8\"], [0.3333333333333333, \"#9c179e\"], [0.4444444444444444, \"#bd3786\"], [0.5555555555555556, \"#d8576b\"], [0.6666666666666666, \"#ed7953\"], [0.7777777777777778, \"#fb9f3a\"], [0.8888888888888888, \"#fdca26\"], [1.0, \"#f0f921\"]], \"type\": \"surface\"}], \"table\": [{\"cells\": {\"fill\": {\"color\": \"#EBF0F8\"}, \"line\": {\"color\": \"white\"}}, \"header\": {\"fill\": {\"color\": \"#C8D4E3\"}, \"line\": {\"color\": \"white\"}}, \"type\": \"table\"}]}, \"layout\": {\"annotationdefaults\": {\"arrowcolor\": \"#2a3f5f\", \"arrowhead\": 0, \"arrowwidth\": 1}, \"autotypenumbers\": \"strict\", \"coloraxis\": {\"colorbar\": {\"outlinewidth\": 0, \"ticks\": \"\"}}, \"colorscale\": {\"diverging\": [[0, \"#8e0152\"], [0.1, \"#c51b7d\"], [0.2, \"#de77ae\"], [0.3, \"#f1b6da\"], [0.4, \"#fde0ef\"], [0.5, \"#f7f7f7\"], [0.6, \"#e6f5d0\"], [0.7, \"#b8e186\"], [0.8, \"#7fbc41\"], [0.9, \"#4d9221\"], [1, \"#276419\"]], \"sequential\": [[0.0, \"#0d0887\"], [0.1111111111111111, \"#46039f\"], [0.2222222222222222, \"#7201a8\"], [0.3333333333333333, \"#9c179e\"], [0.4444444444444444, \"#bd3786\"], [0.5555555555555556, \"#d8576b\"], [0.6666666666666666, \"#ed7953\"], [0.7777777777777778, \"#fb9f3a\"], [0.8888888888888888, \"#fdca26\"], [1.0, \"#f0f921\"]], \"sequentialminus\": [[0.0, \"#0d0887\"], [0.1111111111111111, \"#46039f\"], [0.2222222222222222, \"#7201a8\"], [0.3333333333333333, \"#9c179e\"], [0.4444444444444444, \"#bd3786\"], [0.5555555555555556, \"#d8576b\"], [0.6666666666666666, \"#ed7953\"], [0.7777777777777778, \"#fb9f3a\"], [0.8888888888888888, \"#fdca26\"], [1.0, \"#f0f921\"]]}, \"colorway\": [\"#636efa\", \"#EF553B\", \"#00cc96\", \"#ab63fa\", \"#FFA15A\", \"#19d3f3\", \"#FF6692\", \"#B6E880\", \"#FF97FF\", \"#FECB52\"], \"font\": {\"color\": \"#2a3f5f\"}, \"geo\": {\"bgcolor\": \"white\", \"lakecolor\": \"white\", \"landcolor\": \"#E5ECF6\", \"showlakes\": true, \"showland\": true, \"subunitcolor\": \"white\"}, \"hoverlabel\": {\"align\": \"left\"}, \"hovermode\": \"closest\", \"mapbox\": {\"style\": \"light\"}, \"paper_bgcolor\": \"white\", \"plot_bgcolor\": \"#E5ECF6\", \"polar\": {\"angularaxis\": {\"gridcolor\": \"white\", \"linecolor\": \"white\", \"ticks\": \"\"}, \"bgcolor\": \"#E5ECF6\", \"radialaxis\": {\"gridcolor\": \"white\", \"linecolor\": \"white\", \"ticks\": \"\"}}, \"scene\": {\"xaxis\": {\"backgroundcolor\": \"#E5ECF6\", \"gridcolor\": \"white\", \"gridwidth\": 2, \"linecolor\": \"white\", \"showbackground\": true, \"ticks\": \"\", \"zerolinecolor\": \"white\"}, \"yaxis\": {\"backgroundcolor\": \"#E5ECF6\", \"gridcolor\": \"white\", \"gridwidth\": 2, \"linecolor\": \"white\", \"showbackground\": true, \"ticks\": \"\", \"zerolinecolor\": \"white\"}, \"zaxis\": {\"backgroundcolor\": \"#E5ECF6\", \"gridcolor\": \"white\", \"gridwidth\": 2, \"linecolor\": \"white\", \"showbackground\": true, \"ticks\": \"\", \"zerolinecolor\": \"white\"}}, \"shapedefaults\": {\"line\": {\"color\": \"#2a3f5f\"}}, \"ternary\": {\"aaxis\": {\"gridcolor\": \"white\", \"linecolor\": \"white\", \"ticks\": \"\"}, \"baxis\": {\"gridcolor\": \"white\", \"linecolor\": \"white\", \"ticks\": \"\"}, \"bgcolor\": \"#E5ECF6\", \"caxis\": {\"gridcolor\": \"white\", \"linecolor\": \"white\", \"ticks\": \"\"}}, \"title\": {\"x\": 0.05}, \"xaxis\": {\"automargin\": true, \"gridcolor\": \"white\", \"linecolor\": \"white\", \"ticks\": \"\", \"title\": {\"standoff\": 15}, \"zerolinecolor\": \"white\", \"zerolinewidth\": 2}, \"yaxis\": {\"automargin\": true, \"gridcolor\": \"white\", \"linecolor\": \"white\", \"ticks\": \"\", \"title\": {\"standoff\": 15}, \"zerolinecolor\": \"white\", \"zerolinewidth\": 2}}}, \"xaxis\": {\"anchor\": \"y\", \"domain\": [0.0, 1.0], \"title\": {\"text\": \"price in $\"}}, \"yaxis\": {\"anchor\": \"x\", \"categoryarray\": [54, 24, 16, 22, 4, 7, 13, 1, 11, 5, 3, 2, 8, 0, 12, 27, 32, 9, 6, 18], \"categoryorder\": \"array\", \"domain\": [0.0, 1.0], \"title\": {\"text\": \"disputes_total\"}}},                        {\"responsive\": true}                    ).then(function(){\n",
       "                            \n",
       "var gd = document.getElementById('fce12d6b-7b23-4cf6-8e60-5803db0eb96f');\n",
       "var x = new MutationObserver(function (mutations, observer) {{\n",
       "        var display = window.getComputedStyle(gd).display;\n",
       "        if (!display || display === 'none') {{\n",
       "            console.log([gd, 'removed!']);\n",
       "            Plotly.purge(gd);\n",
       "            observer.disconnect();\n",
       "        }}\n",
       "}});\n",
       "\n",
       "// Listen for the removal of the full notebook cells\n",
       "var notebookContainer = gd.closest('#notebook-container');\n",
       "if (notebookContainer) {{\n",
       "    x.observe(notebookContainer, {childList: true});\n",
       "}}\n",
       "\n",
       "// Listen for the clearing of the current output cell\n",
       "var outputEl = gd.closest('.output');\n",
       "if (outputEl) {{\n",
       "    x.observe(outputEl, {childList: true});\n",
       "}}\n",
       "\n",
       "                        })                };                });            </script>        </div>"
      ]
     },
     "metadata": {},
     "output_type": "display_data"
    }
   ],
   "source": [
    "plot_category_wise('disputes_total')"
   ]
  },
  {
   "cell_type": "code",
   "execution_count": 82,
   "id": "eastern-colorado",
   "metadata": {},
   "outputs": [
    {
     "data": {
      "application/vnd.plotly.v1+json": {
       "config": {
        "plotlyServerURL": "https://plot.ly"
       },
       "data": [
        {
         "alignmentgroup": "True",
         "boxpoints": "all",
         "fillcolor": "rgba(255,255,255,0)",
         "hoveron": "points",
         "hovertemplate": "disputes_won=%{y}<br>price in $=%{x}<extra></extra>",
         "legendgroup": "0% (0)",
         "line": {
          "color": "rgba(255,255,255,0)"
         },
         "marker": {
          "color": "#636efa"
         },
         "name": "0% (0)",
         "offsetgroup": "0% (0)",
         "orientation": "h",
         "pointpos": 0,
         "showlegend": true,
         "type": "box",
         "x": [
          226.4438770713361
         ],
         "x0": " ",
         "xaxis": "x",
         "y": [
          "0% (0)"
         ],
         "y0": " ",
         "yaxis": "y"
        },
        {
         "alignmentgroup": "True",
         "boxpoints": "all",
         "fillcolor": "rgba(255,255,255,0)",
         "hoveron": "points",
         "hovertemplate": "disputes_won=%{y}<br>price in $=%{x}<extra></extra>",
         "legendgroup": "100% (4)",
         "line": {
          "color": "rgba(255,255,255,0)"
         },
         "marker": {
          "color": "#EF553B"
         },
         "name": "100% (4)",
         "offsetgroup": "100% (4)",
         "orientation": "h",
         "pointpos": 0,
         "showlegend": true,
         "type": "box",
         "x": [
          72.98006993006996
         ],
         "x0": " ",
         "xaxis": "x",
         "y": [
          "100% (4)"
         ],
         "y0": " ",
         "yaxis": "y"
        },
        {
         "alignmentgroup": "True",
         "boxpoints": "all",
         "fillcolor": "rgba(255,255,255,0)",
         "hoveron": "points",
         "hovertemplate": "disputes_won=%{y}<br>price in $=%{x}<extra></extra>",
         "legendgroup": "11.11% (1)",
         "line": {
          "color": "rgba(255,255,255,0)"
         },
         "marker": {
          "color": "#00cc96"
         },
         "name": "11.11% (1)",
         "offsetgroup": "11.11% (1)",
         "orientation": "h",
         "pointpos": 0,
         "showlegend": true,
         "type": "box",
         "x": [
          294.1562650602411
         ],
         "x0": " ",
         "xaxis": "x",
         "y": [
          "11.11% (1)"
         ],
         "y0": " ",
         "yaxis": "y"
        },
        {
         "alignmentgroup": "True",
         "boxpoints": "all",
         "fillcolor": "rgba(255,255,255,0)",
         "hoveron": "points",
         "hovertemplate": "disputes_won=%{y}<br>price in $=%{x}<extra></extra>",
         "legendgroup": "12.50% (4)",
         "line": {
          "color": "rgba(255,255,255,0)"
         },
         "marker": {
          "color": "#ab63fa"
         },
         "name": "12.50% (4)",
         "offsetgroup": "12.50% (4)",
         "orientation": "h",
         "pointpos": 0,
         "showlegend": true,
         "type": "box",
         "x": [
          266.3797587131368
         ],
         "x0": " ",
         "xaxis": "x",
         "y": [
          "12.50% (4)"
         ],
         "y0": " ",
         "yaxis": "y"
        },
        {
         "alignmentgroup": "True",
         "boxpoints": "all",
         "fillcolor": "rgba(255,255,255,0)",
         "hoveron": "points",
         "hovertemplate": "disputes_won=%{y}<br>price in $=%{x}<extra></extra>",
         "legendgroup": "16.67% (1)",
         "line": {
          "color": "rgba(255,255,255,0)"
         },
         "marker": {
          "color": "#FFA15A"
         },
         "name": "16.67% (1)",
         "offsetgroup": "16.67% (1)",
         "orientation": "h",
         "pointpos": 0,
         "showlegend": true,
         "type": "box",
         "x": [
          228.3307352941177
         ],
         "x0": " ",
         "xaxis": "x",
         "y": [
          "16.67% (1)"
         ],
         "y0": " ",
         "yaxis": "y"
        },
        {
         "alignmentgroup": "True",
         "boxpoints": "all",
         "fillcolor": "rgba(255,255,255,0)",
         "hoveron": "points",
         "hovertemplate": "disputes_won=%{y}<br>price in $=%{x}<extra></extra>",
         "legendgroup": "16.67% (2)",
         "line": {
          "color": "rgba(255,255,255,0)"
         },
         "marker": {
          "color": "#19d3f3"
         },
         "name": "16.67% (2)",
         "offsetgroup": "16.67% (2)",
         "orientation": "h",
         "pointpos": 0,
         "showlegend": true,
         "type": "box",
         "x": [
          241.81509554140138
         ],
         "x0": " ",
         "xaxis": "x",
         "y": [
          "16.67% (2)"
         ],
         "y0": " ",
         "yaxis": "y"
        },
        {
         "alignmentgroup": "True",
         "boxpoints": "all",
         "fillcolor": "rgba(255,255,255,0)",
         "hoveron": "points",
         "hovertemplate": "disputes_won=%{y}<br>price in $=%{x}<extra></extra>",
         "legendgroup": "18.75% (3)",
         "line": {
          "color": "rgba(255,255,255,0)"
         },
         "marker": {
          "color": "#FF6692"
         },
         "name": "18.75% (3)",
         "offsetgroup": "18.75% (3)",
         "orientation": "h",
         "pointpos": 0,
         "showlegend": true,
         "type": "box",
         "x": [
          130.5625
         ],
         "x0": " ",
         "xaxis": "x",
         "y": [
          "18.75% (3)"
         ],
         "y0": " ",
         "yaxis": "y"
        },
        {
         "alignmentgroup": "True",
         "boxpoints": "all",
         "fillcolor": "rgba(255,255,255,0)",
         "hoveron": "points",
         "hovertemplate": "disputes_won=%{y}<br>price in $=%{x}<extra></extra>",
         "legendgroup": "20% (1)",
         "line": {
          "color": "rgba(255,255,255,0)"
         },
         "marker": {
          "color": "#B6E880"
         },
         "name": "20% (1)",
         "offsetgroup": "20% (1)",
         "orientation": "h",
         "pointpos": 0,
         "showlegend": true,
         "type": "box",
         "x": [
          288.2433944954129
         ],
         "x0": " ",
         "xaxis": "x",
         "y": [
          "20% (1)"
         ],
         "y0": " ",
         "yaxis": "y"
        },
        {
         "alignmentgroup": "True",
         "boxpoints": "all",
         "fillcolor": "rgba(255,255,255,0)",
         "hoveron": "points",
         "hovertemplate": "disputes_won=%{y}<br>price in $=%{x}<extra></extra>",
         "legendgroup": "20.37% (11)",
         "line": {
          "color": "rgba(255,255,255,0)"
         },
         "marker": {
          "color": "#FF97FF"
         },
         "name": "20.37% (11)",
         "offsetgroup": "20.37% (11)",
         "orientation": "h",
         "pointpos": 0,
         "showlegend": true,
         "type": "box",
         "x": [
          90.44696000000003
         ],
         "x0": " ",
         "xaxis": "x",
         "y": [
          "20.37% (11)"
         ],
         "y0": " ",
         "yaxis": "y"
        },
        {
         "alignmentgroup": "True",
         "boxpoints": "all",
         "fillcolor": "rgba(255,255,255,0)",
         "hoveron": "points",
         "hovertemplate": "disputes_won=%{y}<br>price in $=%{x}<extra></extra>",
         "legendgroup": "25% (1)",
         "line": {
          "color": "rgba(255,255,255,0)"
         },
         "marker": {
          "color": "#FECB52"
         },
         "name": "25% (1)",
         "offsetgroup": "25% (1)",
         "orientation": "h",
         "pointpos": 0,
         "showlegend": true,
         "type": "box",
         "x": [
          219.62505102040802
         ],
         "x0": " ",
         "xaxis": "x",
         "y": [
          "25% (1)"
         ],
         "y0": " ",
         "yaxis": "y"
        },
        {
         "alignmentgroup": "True",
         "boxpoints": "all",
         "fillcolor": "rgba(255,255,255,0)",
         "hoveron": "points",
         "hovertemplate": "disputes_won=%{y}<br>price in $=%{x}<extra></extra>",
         "legendgroup": "28.57% (2)",
         "line": {
          "color": "rgba(255,255,255,0)"
         },
         "marker": {
          "color": "#636efa"
         },
         "name": "28.57% (2)",
         "offsetgroup": "28.57% (2)",
         "orientation": "h",
         "pointpos": 0,
         "showlegend": true,
         "type": "box",
         "x": [
          93.61193693693691
         ],
         "x0": " ",
         "xaxis": "x",
         "y": [
          "28.57% (2)"
         ],
         "y0": " ",
         "yaxis": "y"
        },
        {
         "alignmentgroup": "True",
         "boxpoints": "all",
         "fillcolor": "rgba(255,255,255,0)",
         "hoveron": "points",
         "hovertemplate": "disputes_won=%{y}<br>price in $=%{x}<extra></extra>",
         "legendgroup": "37.50% (3)",
         "line": {
          "color": "rgba(255,255,255,0)"
         },
         "marker": {
          "color": "#EF553B"
         },
         "name": "37.50% (3)",
         "offsetgroup": "37.50% (3)",
         "orientation": "h",
         "pointpos": 0,
         "showlegend": true,
         "type": "box",
         "x": [
          298.4542079207919
         ],
         "x0": " ",
         "xaxis": "x",
         "y": [
          "37.50% (3)"
         ],
         "y0": " ",
         "yaxis": "y"
        },
        {
         "alignmentgroup": "True",
         "boxpoints": "all",
         "fillcolor": "rgba(255,255,255,0)",
         "hoveron": "points",
         "hovertemplate": "disputes_won=%{y}<br>price in $=%{x}<extra></extra>",
         "legendgroup": "4.17% (1)",
         "line": {
          "color": "rgba(255,255,255,0)"
         },
         "marker": {
          "color": "#00cc96"
         },
         "name": "4.17% (1)",
         "offsetgroup": "4.17% (1)",
         "orientation": "h",
         "pointpos": 0,
         "showlegend": true,
         "type": "box",
         "x": [
          85.32317073170732
         ],
         "x0": " ",
         "xaxis": "x",
         "y": [
          "4.17% (1)"
         ],
         "y0": " ",
         "yaxis": "y"
        },
        {
         "alignmentgroup": "True",
         "boxpoints": "all",
         "fillcolor": "rgba(255,255,255,0)",
         "hoveron": "points",
         "hovertemplate": "disputes_won=%{y}<br>price in $=%{x}<extra></extra>",
         "legendgroup": "50% (1)",
         "line": {
          "color": "rgba(255,255,255,0)"
         },
         "marker": {
          "color": "#ab63fa"
         },
         "name": "50% (1)",
         "offsetgroup": "50% (1)",
         "orientation": "h",
         "pointpos": 0,
         "showlegend": true,
         "type": "box",
         "x": [
          150.57147058823531
         ],
         "x0": " ",
         "xaxis": "x",
         "y": [
          "50% (1)"
         ],
         "y0": " ",
         "yaxis": "y"
        },
        {
         "alignmentgroup": "True",
         "boxpoints": "all",
         "fillcolor": "rgba(255,255,255,0)",
         "hoveron": "points",
         "hovertemplate": "disputes_won=%{y}<br>price in $=%{x}<extra></extra>",
         "legendgroup": "50% (3)",
         "line": {
          "color": "rgba(255,255,255,0)"
         },
         "marker": {
          "color": "#FFA15A"
         },
         "name": "50% (3)",
         "offsetgroup": "50% (3)",
         "orientation": "h",
         "pointpos": 0,
         "showlegend": true,
         "type": "box",
         "x": [
          321.36959595959604
         ],
         "x0": " ",
         "xaxis": "x",
         "y": [
          "50% (3)"
         ],
         "y0": " ",
         "yaxis": "y"
        },
        {
         "alignmentgroup": "True",
         "boxpoints": "all",
         "fillcolor": "rgba(255,255,255,0)",
         "hoveron": "points",
         "hovertemplate": "disputes_won=%{y}<br>price in $=%{x}<extra></extra>",
         "legendgroup": "7.41% (2)",
         "line": {
          "color": "rgba(255,255,255,0)"
         },
         "marker": {
          "color": "#19d3f3"
         },
         "name": "7.41% (2)",
         "offsetgroup": "7.41% (2)",
         "orientation": "h",
         "pointpos": 0,
         "showlegend": true,
         "type": "box",
         "x": [
          257.5625384615384
         ],
         "x0": " ",
         "xaxis": "x",
         "y": [
          "7.41% (2)"
         ],
         "y0": " ",
         "yaxis": "y"
        }
       ],
       "layout": {
        "boxmode": "overlay",
        "legend": {
         "title": {
          "text": "disputes_won"
         },
         "tracegroupgap": 0
        },
        "margin": {
         "t": 60
        },
        "template": {
         "data": {
          "bar": [
           {
            "error_x": {
             "color": "#2a3f5f"
            },
            "error_y": {
             "color": "#2a3f5f"
            },
            "marker": {
             "line": {
              "color": "#E5ECF6",
              "width": 0.5
             }
            },
            "type": "bar"
           }
          ],
          "barpolar": [
           {
            "marker": {
             "line": {
              "color": "#E5ECF6",
              "width": 0.5
             }
            },
            "type": "barpolar"
           }
          ],
          "carpet": [
           {
            "aaxis": {
             "endlinecolor": "#2a3f5f",
             "gridcolor": "white",
             "linecolor": "white",
             "minorgridcolor": "white",
             "startlinecolor": "#2a3f5f"
            },
            "baxis": {
             "endlinecolor": "#2a3f5f",
             "gridcolor": "white",
             "linecolor": "white",
             "minorgridcolor": "white",
             "startlinecolor": "#2a3f5f"
            },
            "type": "carpet"
           }
          ],
          "choropleth": [
           {
            "colorbar": {
             "outlinewidth": 0,
             "ticks": ""
            },
            "type": "choropleth"
           }
          ],
          "contour": [
           {
            "colorbar": {
             "outlinewidth": 0,
             "ticks": ""
            },
            "colorscale": [
             [
              0,
              "#0d0887"
             ],
             [
              0.1111111111111111,
              "#46039f"
             ],
             [
              0.2222222222222222,
              "#7201a8"
             ],
             [
              0.3333333333333333,
              "#9c179e"
             ],
             [
              0.4444444444444444,
              "#bd3786"
             ],
             [
              0.5555555555555556,
              "#d8576b"
             ],
             [
              0.6666666666666666,
              "#ed7953"
             ],
             [
              0.7777777777777778,
              "#fb9f3a"
             ],
             [
              0.8888888888888888,
              "#fdca26"
             ],
             [
              1,
              "#f0f921"
             ]
            ],
            "type": "contour"
           }
          ],
          "contourcarpet": [
           {
            "colorbar": {
             "outlinewidth": 0,
             "ticks": ""
            },
            "type": "contourcarpet"
           }
          ],
          "heatmap": [
           {
            "colorbar": {
             "outlinewidth": 0,
             "ticks": ""
            },
            "colorscale": [
             [
              0,
              "#0d0887"
             ],
             [
              0.1111111111111111,
              "#46039f"
             ],
             [
              0.2222222222222222,
              "#7201a8"
             ],
             [
              0.3333333333333333,
              "#9c179e"
             ],
             [
              0.4444444444444444,
              "#bd3786"
             ],
             [
              0.5555555555555556,
              "#d8576b"
             ],
             [
              0.6666666666666666,
              "#ed7953"
             ],
             [
              0.7777777777777778,
              "#fb9f3a"
             ],
             [
              0.8888888888888888,
              "#fdca26"
             ],
             [
              1,
              "#f0f921"
             ]
            ],
            "type": "heatmap"
           }
          ],
          "heatmapgl": [
           {
            "colorbar": {
             "outlinewidth": 0,
             "ticks": ""
            },
            "colorscale": [
             [
              0,
              "#0d0887"
             ],
             [
              0.1111111111111111,
              "#46039f"
             ],
             [
              0.2222222222222222,
              "#7201a8"
             ],
             [
              0.3333333333333333,
              "#9c179e"
             ],
             [
              0.4444444444444444,
              "#bd3786"
             ],
             [
              0.5555555555555556,
              "#d8576b"
             ],
             [
              0.6666666666666666,
              "#ed7953"
             ],
             [
              0.7777777777777778,
              "#fb9f3a"
             ],
             [
              0.8888888888888888,
              "#fdca26"
             ],
             [
              1,
              "#f0f921"
             ]
            ],
            "type": "heatmapgl"
           }
          ],
          "histogram": [
           {
            "marker": {
             "colorbar": {
              "outlinewidth": 0,
              "ticks": ""
             }
            },
            "type": "histogram"
           }
          ],
          "histogram2d": [
           {
            "colorbar": {
             "outlinewidth": 0,
             "ticks": ""
            },
            "colorscale": [
             [
              0,
              "#0d0887"
             ],
             [
              0.1111111111111111,
              "#46039f"
             ],
             [
              0.2222222222222222,
              "#7201a8"
             ],
             [
              0.3333333333333333,
              "#9c179e"
             ],
             [
              0.4444444444444444,
              "#bd3786"
             ],
             [
              0.5555555555555556,
              "#d8576b"
             ],
             [
              0.6666666666666666,
              "#ed7953"
             ],
             [
              0.7777777777777778,
              "#fb9f3a"
             ],
             [
              0.8888888888888888,
              "#fdca26"
             ],
             [
              1,
              "#f0f921"
             ]
            ],
            "type": "histogram2d"
           }
          ],
          "histogram2dcontour": [
           {
            "colorbar": {
             "outlinewidth": 0,
             "ticks": ""
            },
            "colorscale": [
             [
              0,
              "#0d0887"
             ],
             [
              0.1111111111111111,
              "#46039f"
             ],
             [
              0.2222222222222222,
              "#7201a8"
             ],
             [
              0.3333333333333333,
              "#9c179e"
             ],
             [
              0.4444444444444444,
              "#bd3786"
             ],
             [
              0.5555555555555556,
              "#d8576b"
             ],
             [
              0.6666666666666666,
              "#ed7953"
             ],
             [
              0.7777777777777778,
              "#fb9f3a"
             ],
             [
              0.8888888888888888,
              "#fdca26"
             ],
             [
              1,
              "#f0f921"
             ]
            ],
            "type": "histogram2dcontour"
           }
          ],
          "mesh3d": [
           {
            "colorbar": {
             "outlinewidth": 0,
             "ticks": ""
            },
            "type": "mesh3d"
           }
          ],
          "parcoords": [
           {
            "line": {
             "colorbar": {
              "outlinewidth": 0,
              "ticks": ""
             }
            },
            "type": "parcoords"
           }
          ],
          "pie": [
           {
            "automargin": true,
            "type": "pie"
           }
          ],
          "scatter": [
           {
            "marker": {
             "colorbar": {
              "outlinewidth": 0,
              "ticks": ""
             }
            },
            "type": "scatter"
           }
          ],
          "scatter3d": [
           {
            "line": {
             "colorbar": {
              "outlinewidth": 0,
              "ticks": ""
             }
            },
            "marker": {
             "colorbar": {
              "outlinewidth": 0,
              "ticks": ""
             }
            },
            "type": "scatter3d"
           }
          ],
          "scattercarpet": [
           {
            "marker": {
             "colorbar": {
              "outlinewidth": 0,
              "ticks": ""
             }
            },
            "type": "scattercarpet"
           }
          ],
          "scattergeo": [
           {
            "marker": {
             "colorbar": {
              "outlinewidth": 0,
              "ticks": ""
             }
            },
            "type": "scattergeo"
           }
          ],
          "scattergl": [
           {
            "marker": {
             "colorbar": {
              "outlinewidth": 0,
              "ticks": ""
             }
            },
            "type": "scattergl"
           }
          ],
          "scattermapbox": [
           {
            "marker": {
             "colorbar": {
              "outlinewidth": 0,
              "ticks": ""
             }
            },
            "type": "scattermapbox"
           }
          ],
          "scatterpolar": [
           {
            "marker": {
             "colorbar": {
              "outlinewidth": 0,
              "ticks": ""
             }
            },
            "type": "scatterpolar"
           }
          ],
          "scatterpolargl": [
           {
            "marker": {
             "colorbar": {
              "outlinewidth": 0,
              "ticks": ""
             }
            },
            "type": "scatterpolargl"
           }
          ],
          "scatterternary": [
           {
            "marker": {
             "colorbar": {
              "outlinewidth": 0,
              "ticks": ""
             }
            },
            "type": "scatterternary"
           }
          ],
          "surface": [
           {
            "colorbar": {
             "outlinewidth": 0,
             "ticks": ""
            },
            "colorscale": [
             [
              0,
              "#0d0887"
             ],
             [
              0.1111111111111111,
              "#46039f"
             ],
             [
              0.2222222222222222,
              "#7201a8"
             ],
             [
              0.3333333333333333,
              "#9c179e"
             ],
             [
              0.4444444444444444,
              "#bd3786"
             ],
             [
              0.5555555555555556,
              "#d8576b"
             ],
             [
              0.6666666666666666,
              "#ed7953"
             ],
             [
              0.7777777777777778,
              "#fb9f3a"
             ],
             [
              0.8888888888888888,
              "#fdca26"
             ],
             [
              1,
              "#f0f921"
             ]
            ],
            "type": "surface"
           }
          ],
          "table": [
           {
            "cells": {
             "fill": {
              "color": "#EBF0F8"
             },
             "line": {
              "color": "white"
             }
            },
            "header": {
             "fill": {
              "color": "#C8D4E3"
             },
             "line": {
              "color": "white"
             }
            },
            "type": "table"
           }
          ]
         },
         "layout": {
          "annotationdefaults": {
           "arrowcolor": "#2a3f5f",
           "arrowhead": 0,
           "arrowwidth": 1
          },
          "autotypenumbers": "strict",
          "coloraxis": {
           "colorbar": {
            "outlinewidth": 0,
            "ticks": ""
           }
          },
          "colorscale": {
           "diverging": [
            [
             0,
             "#8e0152"
            ],
            [
             0.1,
             "#c51b7d"
            ],
            [
             0.2,
             "#de77ae"
            ],
            [
             0.3,
             "#f1b6da"
            ],
            [
             0.4,
             "#fde0ef"
            ],
            [
             0.5,
             "#f7f7f7"
            ],
            [
             0.6,
             "#e6f5d0"
            ],
            [
             0.7,
             "#b8e186"
            ],
            [
             0.8,
             "#7fbc41"
            ],
            [
             0.9,
             "#4d9221"
            ],
            [
             1,
             "#276419"
            ]
           ],
           "sequential": [
            [
             0,
             "#0d0887"
            ],
            [
             0.1111111111111111,
             "#46039f"
            ],
            [
             0.2222222222222222,
             "#7201a8"
            ],
            [
             0.3333333333333333,
             "#9c179e"
            ],
            [
             0.4444444444444444,
             "#bd3786"
            ],
            [
             0.5555555555555556,
             "#d8576b"
            ],
            [
             0.6666666666666666,
             "#ed7953"
            ],
            [
             0.7777777777777778,
             "#fb9f3a"
            ],
            [
             0.8888888888888888,
             "#fdca26"
            ],
            [
             1,
             "#f0f921"
            ]
           ],
           "sequentialminus": [
            [
             0,
             "#0d0887"
            ],
            [
             0.1111111111111111,
             "#46039f"
            ],
            [
             0.2222222222222222,
             "#7201a8"
            ],
            [
             0.3333333333333333,
             "#9c179e"
            ],
            [
             0.4444444444444444,
             "#bd3786"
            ],
            [
             0.5555555555555556,
             "#d8576b"
            ],
            [
             0.6666666666666666,
             "#ed7953"
            ],
            [
             0.7777777777777778,
             "#fb9f3a"
            ],
            [
             0.8888888888888888,
             "#fdca26"
            ],
            [
             1,
             "#f0f921"
            ]
           ]
          },
          "colorway": [
           "#636efa",
           "#EF553B",
           "#00cc96",
           "#ab63fa",
           "#FFA15A",
           "#19d3f3",
           "#FF6692",
           "#B6E880",
           "#FF97FF",
           "#FECB52"
          ],
          "font": {
           "color": "#2a3f5f"
          },
          "geo": {
           "bgcolor": "white",
           "lakecolor": "white",
           "landcolor": "#E5ECF6",
           "showlakes": true,
           "showland": true,
           "subunitcolor": "white"
          },
          "hoverlabel": {
           "align": "left"
          },
          "hovermode": "closest",
          "mapbox": {
           "style": "light"
          },
          "paper_bgcolor": "white",
          "plot_bgcolor": "#E5ECF6",
          "polar": {
           "angularaxis": {
            "gridcolor": "white",
            "linecolor": "white",
            "ticks": ""
           },
           "bgcolor": "#E5ECF6",
           "radialaxis": {
            "gridcolor": "white",
            "linecolor": "white",
            "ticks": ""
           }
          },
          "scene": {
           "xaxis": {
            "backgroundcolor": "#E5ECF6",
            "gridcolor": "white",
            "gridwidth": 2,
            "linecolor": "white",
            "showbackground": true,
            "ticks": "",
            "zerolinecolor": "white"
           },
           "yaxis": {
            "backgroundcolor": "#E5ECF6",
            "gridcolor": "white",
            "gridwidth": 2,
            "linecolor": "white",
            "showbackground": true,
            "ticks": "",
            "zerolinecolor": "white"
           },
           "zaxis": {
            "backgroundcolor": "#E5ECF6",
            "gridcolor": "white",
            "gridwidth": 2,
            "linecolor": "white",
            "showbackground": true,
            "ticks": "",
            "zerolinecolor": "white"
           }
          },
          "shapedefaults": {
           "line": {
            "color": "#2a3f5f"
           }
          },
          "ternary": {
           "aaxis": {
            "gridcolor": "white",
            "linecolor": "white",
            "ticks": ""
           },
           "baxis": {
            "gridcolor": "white",
            "linecolor": "white",
            "ticks": ""
           },
           "bgcolor": "#E5ECF6",
           "caxis": {
            "gridcolor": "white",
            "linecolor": "white",
            "ticks": ""
           }
          },
          "title": {
           "x": 0.05
          },
          "xaxis": {
           "automargin": true,
           "gridcolor": "white",
           "linecolor": "white",
           "ticks": "",
           "title": {
            "standoff": 15
           },
           "zerolinecolor": "white",
           "zerolinewidth": 2
          },
          "yaxis": {
           "automargin": true,
           "gridcolor": "white",
           "linecolor": "white",
           "ticks": "",
           "title": {
            "standoff": 15
           },
           "zerolinecolor": "white",
           "zerolinewidth": 2
          }
         }
        },
        "xaxis": {
         "anchor": "y",
         "domain": [
          0,
          1
         ],
         "title": {
          "text": "price in $"
         }
        },
        "yaxis": {
         "anchor": "x",
         "categoryarray": [
          "7.41% (2)",
          "50% (3)",
          "50% (1)",
          "4.17% (1)",
          "37.50% (3)",
          "28.57% (2)",
          "25% (1)",
          "20.37% (11)",
          "20% (1)",
          "18.75% (3)",
          "16.67% (2)",
          "16.67% (1)",
          "12.50% (4)",
          "11.11% (1)",
          "100% (4)",
          "0% (0)"
         ],
         "categoryorder": "array",
         "domain": [
          0,
          1
         ],
         "title": {
          "text": "disputes_won"
         }
        }
       }
      },
      "text/html": [
       "<div>                            <div id=\"0e96506d-4866-400e-87a0-f35508da44a2\" class=\"plotly-graph-div\" style=\"height:525px; width:100%;\"></div>            <script type=\"text/javascript\">                require([\"plotly\"], function(Plotly) {                    window.PLOTLYENV=window.PLOTLYENV || {};                                    if (document.getElementById(\"0e96506d-4866-400e-87a0-f35508da44a2\")) {                    Plotly.newPlot(                        \"0e96506d-4866-400e-87a0-f35508da44a2\",                        [{\"alignmentgroup\": \"True\", \"boxpoints\": \"all\", \"fillcolor\": \"rgba(255,255,255,0)\", \"hoveron\": \"points\", \"hovertemplate\": \"disputes_won=%{y}<br>price in $=%{x}<extra></extra>\", \"legendgroup\": \"0% (0)\", \"line\": {\"color\": \"rgba(255,255,255,0)\"}, \"marker\": {\"color\": \"#636efa\"}, \"name\": \"0% (0)\", \"offsetgroup\": \"0% (0)\", \"orientation\": \"h\", \"pointpos\": 0, \"showlegend\": true, \"type\": \"box\", \"x\": [226.4438770713361], \"x0\": \" \", \"xaxis\": \"x\", \"y\": [\"0% (0)\"], \"y0\": \" \", \"yaxis\": \"y\"}, {\"alignmentgroup\": \"True\", \"boxpoints\": \"all\", \"fillcolor\": \"rgba(255,255,255,0)\", \"hoveron\": \"points\", \"hovertemplate\": \"disputes_won=%{y}<br>price in $=%{x}<extra></extra>\", \"legendgroup\": \"100% (4)\", \"line\": {\"color\": \"rgba(255,255,255,0)\"}, \"marker\": {\"color\": \"#EF553B\"}, \"name\": \"100% (4)\", \"offsetgroup\": \"100% (4)\", \"orientation\": \"h\", \"pointpos\": 0, \"showlegend\": true, \"type\": \"box\", \"x\": [72.98006993006996], \"x0\": \" \", \"xaxis\": \"x\", \"y\": [\"100% (4)\"], \"y0\": \" \", \"yaxis\": \"y\"}, {\"alignmentgroup\": \"True\", \"boxpoints\": \"all\", \"fillcolor\": \"rgba(255,255,255,0)\", \"hoveron\": \"points\", \"hovertemplate\": \"disputes_won=%{y}<br>price in $=%{x}<extra></extra>\", \"legendgroup\": \"11.11% (1)\", \"line\": {\"color\": \"rgba(255,255,255,0)\"}, \"marker\": {\"color\": \"#00cc96\"}, \"name\": \"11.11% (1)\", \"offsetgroup\": \"11.11% (1)\", \"orientation\": \"h\", \"pointpos\": 0, \"showlegend\": true, \"type\": \"box\", \"x\": [294.1562650602411], \"x0\": \" \", \"xaxis\": \"x\", \"y\": [\"11.11% (1)\"], \"y0\": \" \", \"yaxis\": \"y\"}, {\"alignmentgroup\": \"True\", \"boxpoints\": \"all\", \"fillcolor\": \"rgba(255,255,255,0)\", \"hoveron\": \"points\", \"hovertemplate\": \"disputes_won=%{y}<br>price in $=%{x}<extra></extra>\", \"legendgroup\": \"12.50% (4)\", \"line\": {\"color\": \"rgba(255,255,255,0)\"}, \"marker\": {\"color\": \"#ab63fa\"}, \"name\": \"12.50% (4)\", \"offsetgroup\": \"12.50% (4)\", \"orientation\": \"h\", \"pointpos\": 0, \"showlegend\": true, \"type\": \"box\", \"x\": [266.3797587131368], \"x0\": \" \", \"xaxis\": \"x\", \"y\": [\"12.50% (4)\"], \"y0\": \" \", \"yaxis\": \"y\"}, {\"alignmentgroup\": \"True\", \"boxpoints\": \"all\", \"fillcolor\": \"rgba(255,255,255,0)\", \"hoveron\": \"points\", \"hovertemplate\": \"disputes_won=%{y}<br>price in $=%{x}<extra></extra>\", \"legendgroup\": \"16.67% (1)\", \"line\": {\"color\": \"rgba(255,255,255,0)\"}, \"marker\": {\"color\": \"#FFA15A\"}, \"name\": \"16.67% (1)\", \"offsetgroup\": \"16.67% (1)\", \"orientation\": \"h\", \"pointpos\": 0, \"showlegend\": true, \"type\": \"box\", \"x\": [228.3307352941177], \"x0\": \" \", \"xaxis\": \"x\", \"y\": [\"16.67% (1)\"], \"y0\": \" \", \"yaxis\": \"y\"}, {\"alignmentgroup\": \"True\", \"boxpoints\": \"all\", \"fillcolor\": \"rgba(255,255,255,0)\", \"hoveron\": \"points\", \"hovertemplate\": \"disputes_won=%{y}<br>price in $=%{x}<extra></extra>\", \"legendgroup\": \"16.67% (2)\", \"line\": {\"color\": \"rgba(255,255,255,0)\"}, \"marker\": {\"color\": \"#19d3f3\"}, \"name\": \"16.67% (2)\", \"offsetgroup\": \"16.67% (2)\", \"orientation\": \"h\", \"pointpos\": 0, \"showlegend\": true, \"type\": \"box\", \"x\": [241.81509554140138], \"x0\": \" \", \"xaxis\": \"x\", \"y\": [\"16.67% (2)\"], \"y0\": \" \", \"yaxis\": \"y\"}, {\"alignmentgroup\": \"True\", \"boxpoints\": \"all\", \"fillcolor\": \"rgba(255,255,255,0)\", \"hoveron\": \"points\", \"hovertemplate\": \"disputes_won=%{y}<br>price in $=%{x}<extra></extra>\", \"legendgroup\": \"18.75% (3)\", \"line\": {\"color\": \"rgba(255,255,255,0)\"}, \"marker\": {\"color\": \"#FF6692\"}, \"name\": \"18.75% (3)\", \"offsetgroup\": \"18.75% (3)\", \"orientation\": \"h\", \"pointpos\": 0, \"showlegend\": true, \"type\": \"box\", \"x\": [130.5625], \"x0\": \" \", \"xaxis\": \"x\", \"y\": [\"18.75% (3)\"], \"y0\": \" \", \"yaxis\": \"y\"}, {\"alignmentgroup\": \"True\", \"boxpoints\": \"all\", \"fillcolor\": \"rgba(255,255,255,0)\", \"hoveron\": \"points\", \"hovertemplate\": \"disputes_won=%{y}<br>price in $=%{x}<extra></extra>\", \"legendgroup\": \"20% (1)\", \"line\": {\"color\": \"rgba(255,255,255,0)\"}, \"marker\": {\"color\": \"#B6E880\"}, \"name\": \"20% (1)\", \"offsetgroup\": \"20% (1)\", \"orientation\": \"h\", \"pointpos\": 0, \"showlegend\": true, \"type\": \"box\", \"x\": [288.2433944954129], \"x0\": \" \", \"xaxis\": \"x\", \"y\": [\"20% (1)\"], \"y0\": \" \", \"yaxis\": \"y\"}, {\"alignmentgroup\": \"True\", \"boxpoints\": \"all\", \"fillcolor\": \"rgba(255,255,255,0)\", \"hoveron\": \"points\", \"hovertemplate\": \"disputes_won=%{y}<br>price in $=%{x}<extra></extra>\", \"legendgroup\": \"20.37% (11)\", \"line\": {\"color\": \"rgba(255,255,255,0)\"}, \"marker\": {\"color\": \"#FF97FF\"}, \"name\": \"20.37% (11)\", \"offsetgroup\": \"20.37% (11)\", \"orientation\": \"h\", \"pointpos\": 0, \"showlegend\": true, \"type\": \"box\", \"x\": [90.44696000000003], \"x0\": \" \", \"xaxis\": \"x\", \"y\": [\"20.37% (11)\"], \"y0\": \" \", \"yaxis\": \"y\"}, {\"alignmentgroup\": \"True\", \"boxpoints\": \"all\", \"fillcolor\": \"rgba(255,255,255,0)\", \"hoveron\": \"points\", \"hovertemplate\": \"disputes_won=%{y}<br>price in $=%{x}<extra></extra>\", \"legendgroup\": \"25% (1)\", \"line\": {\"color\": \"rgba(255,255,255,0)\"}, \"marker\": {\"color\": \"#FECB52\"}, \"name\": \"25% (1)\", \"offsetgroup\": \"25% (1)\", \"orientation\": \"h\", \"pointpos\": 0, \"showlegend\": true, \"type\": \"box\", \"x\": [219.62505102040802], \"x0\": \" \", \"xaxis\": \"x\", \"y\": [\"25% (1)\"], \"y0\": \" \", \"yaxis\": \"y\"}, {\"alignmentgroup\": \"True\", \"boxpoints\": \"all\", \"fillcolor\": \"rgba(255,255,255,0)\", \"hoveron\": \"points\", \"hovertemplate\": \"disputes_won=%{y}<br>price in $=%{x}<extra></extra>\", \"legendgroup\": \"28.57% (2)\", \"line\": {\"color\": \"rgba(255,255,255,0)\"}, \"marker\": {\"color\": \"#636efa\"}, \"name\": \"28.57% (2)\", \"offsetgroup\": \"28.57% (2)\", \"orientation\": \"h\", \"pointpos\": 0, \"showlegend\": true, \"type\": \"box\", \"x\": [93.61193693693691], \"x0\": \" \", \"xaxis\": \"x\", \"y\": [\"28.57% (2)\"], \"y0\": \" \", \"yaxis\": \"y\"}, {\"alignmentgroup\": \"True\", \"boxpoints\": \"all\", \"fillcolor\": \"rgba(255,255,255,0)\", \"hoveron\": \"points\", \"hovertemplate\": \"disputes_won=%{y}<br>price in $=%{x}<extra></extra>\", \"legendgroup\": \"37.50% (3)\", \"line\": {\"color\": \"rgba(255,255,255,0)\"}, \"marker\": {\"color\": \"#EF553B\"}, \"name\": \"37.50% (3)\", \"offsetgroup\": \"37.50% (3)\", \"orientation\": \"h\", \"pointpos\": 0, \"showlegend\": true, \"type\": \"box\", \"x\": [298.4542079207919], \"x0\": \" \", \"xaxis\": \"x\", \"y\": [\"37.50% (3)\"], \"y0\": \" \", \"yaxis\": \"y\"}, {\"alignmentgroup\": \"True\", \"boxpoints\": \"all\", \"fillcolor\": \"rgba(255,255,255,0)\", \"hoveron\": \"points\", \"hovertemplate\": \"disputes_won=%{y}<br>price in $=%{x}<extra></extra>\", \"legendgroup\": \"4.17% (1)\", \"line\": {\"color\": \"rgba(255,255,255,0)\"}, \"marker\": {\"color\": \"#00cc96\"}, \"name\": \"4.17% (1)\", \"offsetgroup\": \"4.17% (1)\", \"orientation\": \"h\", \"pointpos\": 0, \"showlegend\": true, \"type\": \"box\", \"x\": [85.32317073170732], \"x0\": \" \", \"xaxis\": \"x\", \"y\": [\"4.17% (1)\"], \"y0\": \" \", \"yaxis\": \"y\"}, {\"alignmentgroup\": \"True\", \"boxpoints\": \"all\", \"fillcolor\": \"rgba(255,255,255,0)\", \"hoveron\": \"points\", \"hovertemplate\": \"disputes_won=%{y}<br>price in $=%{x}<extra></extra>\", \"legendgroup\": \"50% (1)\", \"line\": {\"color\": \"rgba(255,255,255,0)\"}, \"marker\": {\"color\": \"#ab63fa\"}, \"name\": \"50% (1)\", \"offsetgroup\": \"50% (1)\", \"orientation\": \"h\", \"pointpos\": 0, \"showlegend\": true, \"type\": \"box\", \"x\": [150.57147058823531], \"x0\": \" \", \"xaxis\": \"x\", \"y\": [\"50% (1)\"], \"y0\": \" \", \"yaxis\": \"y\"}, {\"alignmentgroup\": \"True\", \"boxpoints\": \"all\", \"fillcolor\": \"rgba(255,255,255,0)\", \"hoveron\": \"points\", \"hovertemplate\": \"disputes_won=%{y}<br>price in $=%{x}<extra></extra>\", \"legendgroup\": \"50% (3)\", \"line\": {\"color\": \"rgba(255,255,255,0)\"}, \"marker\": {\"color\": \"#FFA15A\"}, \"name\": \"50% (3)\", \"offsetgroup\": \"50% (3)\", \"orientation\": \"h\", \"pointpos\": 0, \"showlegend\": true, \"type\": \"box\", \"x\": [321.36959595959604], \"x0\": \" \", \"xaxis\": \"x\", \"y\": [\"50% (3)\"], \"y0\": \" \", \"yaxis\": \"y\"}, {\"alignmentgroup\": \"True\", \"boxpoints\": \"all\", \"fillcolor\": \"rgba(255,255,255,0)\", \"hoveron\": \"points\", \"hovertemplate\": \"disputes_won=%{y}<br>price in $=%{x}<extra></extra>\", \"legendgroup\": \"7.41% (2)\", \"line\": {\"color\": \"rgba(255,255,255,0)\"}, \"marker\": {\"color\": \"#19d3f3\"}, \"name\": \"7.41% (2)\", \"offsetgroup\": \"7.41% (2)\", \"orientation\": \"h\", \"pointpos\": 0, \"showlegend\": true, \"type\": \"box\", \"x\": [257.5625384615384], \"x0\": \" \", \"xaxis\": \"x\", \"y\": [\"7.41% (2)\"], \"y0\": \" \", \"yaxis\": \"y\"}],                        {\"boxmode\": \"overlay\", \"legend\": {\"title\": {\"text\": \"disputes_won\"}, \"tracegroupgap\": 0}, \"margin\": {\"t\": 60}, \"template\": {\"data\": {\"bar\": [{\"error_x\": {\"color\": \"#2a3f5f\"}, \"error_y\": {\"color\": \"#2a3f5f\"}, \"marker\": {\"line\": {\"color\": \"#E5ECF6\", \"width\": 0.5}}, \"type\": \"bar\"}], \"barpolar\": [{\"marker\": {\"line\": {\"color\": \"#E5ECF6\", \"width\": 0.5}}, \"type\": \"barpolar\"}], \"carpet\": [{\"aaxis\": {\"endlinecolor\": \"#2a3f5f\", \"gridcolor\": \"white\", \"linecolor\": \"white\", \"minorgridcolor\": \"white\", \"startlinecolor\": \"#2a3f5f\"}, \"baxis\": {\"endlinecolor\": \"#2a3f5f\", \"gridcolor\": \"white\", \"linecolor\": \"white\", \"minorgridcolor\": \"white\", \"startlinecolor\": \"#2a3f5f\"}, \"type\": \"carpet\"}], \"choropleth\": [{\"colorbar\": {\"outlinewidth\": 0, \"ticks\": \"\"}, \"type\": \"choropleth\"}], \"contour\": [{\"colorbar\": {\"outlinewidth\": 0, \"ticks\": \"\"}, \"colorscale\": [[0.0, \"#0d0887\"], [0.1111111111111111, \"#46039f\"], [0.2222222222222222, \"#7201a8\"], [0.3333333333333333, \"#9c179e\"], [0.4444444444444444, \"#bd3786\"], [0.5555555555555556, \"#d8576b\"], [0.6666666666666666, \"#ed7953\"], [0.7777777777777778, \"#fb9f3a\"], [0.8888888888888888, \"#fdca26\"], [1.0, \"#f0f921\"]], \"type\": \"contour\"}], \"contourcarpet\": [{\"colorbar\": {\"outlinewidth\": 0, \"ticks\": \"\"}, \"type\": \"contourcarpet\"}], \"heatmap\": [{\"colorbar\": {\"outlinewidth\": 0, \"ticks\": \"\"}, \"colorscale\": [[0.0, \"#0d0887\"], [0.1111111111111111, \"#46039f\"], [0.2222222222222222, \"#7201a8\"], [0.3333333333333333, \"#9c179e\"], [0.4444444444444444, \"#bd3786\"], [0.5555555555555556, \"#d8576b\"], [0.6666666666666666, \"#ed7953\"], [0.7777777777777778, \"#fb9f3a\"], [0.8888888888888888, \"#fdca26\"], [1.0, \"#f0f921\"]], \"type\": \"heatmap\"}], \"heatmapgl\": [{\"colorbar\": {\"outlinewidth\": 0, \"ticks\": \"\"}, \"colorscale\": [[0.0, \"#0d0887\"], [0.1111111111111111, \"#46039f\"], [0.2222222222222222, \"#7201a8\"], [0.3333333333333333, \"#9c179e\"], [0.4444444444444444, \"#bd3786\"], [0.5555555555555556, \"#d8576b\"], [0.6666666666666666, \"#ed7953\"], [0.7777777777777778, \"#fb9f3a\"], [0.8888888888888888, \"#fdca26\"], [1.0, \"#f0f921\"]], \"type\": \"heatmapgl\"}], \"histogram\": [{\"marker\": {\"colorbar\": {\"outlinewidth\": 0, \"ticks\": \"\"}}, \"type\": \"histogram\"}], \"histogram2d\": [{\"colorbar\": {\"outlinewidth\": 0, \"ticks\": \"\"}, \"colorscale\": [[0.0, \"#0d0887\"], [0.1111111111111111, \"#46039f\"], [0.2222222222222222, \"#7201a8\"], [0.3333333333333333, \"#9c179e\"], [0.4444444444444444, \"#bd3786\"], [0.5555555555555556, \"#d8576b\"], [0.6666666666666666, \"#ed7953\"], [0.7777777777777778, \"#fb9f3a\"], [0.8888888888888888, \"#fdca26\"], [1.0, \"#f0f921\"]], \"type\": \"histogram2d\"}], \"histogram2dcontour\": [{\"colorbar\": {\"outlinewidth\": 0, \"ticks\": \"\"}, \"colorscale\": [[0.0, \"#0d0887\"], [0.1111111111111111, \"#46039f\"], [0.2222222222222222, \"#7201a8\"], [0.3333333333333333, \"#9c179e\"], [0.4444444444444444, \"#bd3786\"], [0.5555555555555556, \"#d8576b\"], [0.6666666666666666, \"#ed7953\"], [0.7777777777777778, \"#fb9f3a\"], [0.8888888888888888, \"#fdca26\"], [1.0, \"#f0f921\"]], \"type\": \"histogram2dcontour\"}], \"mesh3d\": [{\"colorbar\": {\"outlinewidth\": 0, \"ticks\": \"\"}, \"type\": \"mesh3d\"}], \"parcoords\": [{\"line\": {\"colorbar\": {\"outlinewidth\": 0, \"ticks\": \"\"}}, \"type\": \"parcoords\"}], \"pie\": [{\"automargin\": true, \"type\": \"pie\"}], \"scatter\": [{\"marker\": {\"colorbar\": {\"outlinewidth\": 0, \"ticks\": \"\"}}, \"type\": \"scatter\"}], \"scatter3d\": [{\"line\": {\"colorbar\": {\"outlinewidth\": 0, \"ticks\": \"\"}}, \"marker\": {\"colorbar\": {\"outlinewidth\": 0, \"ticks\": \"\"}}, \"type\": \"scatter3d\"}], \"scattercarpet\": [{\"marker\": {\"colorbar\": {\"outlinewidth\": 0, \"ticks\": \"\"}}, \"type\": \"scattercarpet\"}], \"scattergeo\": [{\"marker\": {\"colorbar\": {\"outlinewidth\": 0, \"ticks\": \"\"}}, \"type\": \"scattergeo\"}], \"scattergl\": [{\"marker\": {\"colorbar\": {\"outlinewidth\": 0, \"ticks\": \"\"}}, \"type\": \"scattergl\"}], \"scattermapbox\": [{\"marker\": {\"colorbar\": {\"outlinewidth\": 0, \"ticks\": \"\"}}, \"type\": \"scattermapbox\"}], \"scatterpolar\": [{\"marker\": {\"colorbar\": {\"outlinewidth\": 0, \"ticks\": \"\"}}, \"type\": \"scatterpolar\"}], \"scatterpolargl\": [{\"marker\": {\"colorbar\": {\"outlinewidth\": 0, \"ticks\": \"\"}}, \"type\": \"scatterpolargl\"}], \"scatterternary\": [{\"marker\": {\"colorbar\": {\"outlinewidth\": 0, \"ticks\": \"\"}}, \"type\": \"scatterternary\"}], \"surface\": [{\"colorbar\": {\"outlinewidth\": 0, \"ticks\": \"\"}, \"colorscale\": [[0.0, \"#0d0887\"], [0.1111111111111111, \"#46039f\"], [0.2222222222222222, \"#7201a8\"], [0.3333333333333333, \"#9c179e\"], [0.4444444444444444, \"#bd3786\"], [0.5555555555555556, \"#d8576b\"], [0.6666666666666666, \"#ed7953\"], [0.7777777777777778, \"#fb9f3a\"], [0.8888888888888888, \"#fdca26\"], [1.0, \"#f0f921\"]], \"type\": \"surface\"}], \"table\": [{\"cells\": {\"fill\": {\"color\": \"#EBF0F8\"}, \"line\": {\"color\": \"white\"}}, \"header\": {\"fill\": {\"color\": \"#C8D4E3\"}, \"line\": {\"color\": \"white\"}}, \"type\": \"table\"}]}, \"layout\": {\"annotationdefaults\": {\"arrowcolor\": \"#2a3f5f\", \"arrowhead\": 0, \"arrowwidth\": 1}, \"autotypenumbers\": \"strict\", \"coloraxis\": {\"colorbar\": {\"outlinewidth\": 0, \"ticks\": \"\"}}, \"colorscale\": {\"diverging\": [[0, \"#8e0152\"], [0.1, \"#c51b7d\"], [0.2, \"#de77ae\"], [0.3, \"#f1b6da\"], [0.4, \"#fde0ef\"], [0.5, \"#f7f7f7\"], [0.6, \"#e6f5d0\"], [0.7, \"#b8e186\"], [0.8, \"#7fbc41\"], [0.9, \"#4d9221\"], [1, \"#276419\"]], \"sequential\": [[0.0, \"#0d0887\"], [0.1111111111111111, \"#46039f\"], [0.2222222222222222, \"#7201a8\"], [0.3333333333333333, \"#9c179e\"], [0.4444444444444444, \"#bd3786\"], [0.5555555555555556, \"#d8576b\"], [0.6666666666666666, \"#ed7953\"], [0.7777777777777778, \"#fb9f3a\"], [0.8888888888888888, \"#fdca26\"], [1.0, \"#f0f921\"]], \"sequentialminus\": [[0.0, \"#0d0887\"], [0.1111111111111111, \"#46039f\"], [0.2222222222222222, \"#7201a8\"], [0.3333333333333333, \"#9c179e\"], [0.4444444444444444, \"#bd3786\"], [0.5555555555555556, \"#d8576b\"], [0.6666666666666666, \"#ed7953\"], [0.7777777777777778, \"#fb9f3a\"], [0.8888888888888888, \"#fdca26\"], [1.0, \"#f0f921\"]]}, \"colorway\": [\"#636efa\", \"#EF553B\", \"#00cc96\", \"#ab63fa\", \"#FFA15A\", \"#19d3f3\", \"#FF6692\", \"#B6E880\", \"#FF97FF\", \"#FECB52\"], \"font\": {\"color\": \"#2a3f5f\"}, \"geo\": {\"bgcolor\": \"white\", \"lakecolor\": \"white\", \"landcolor\": \"#E5ECF6\", \"showlakes\": true, \"showland\": true, \"subunitcolor\": \"white\"}, \"hoverlabel\": {\"align\": \"left\"}, \"hovermode\": \"closest\", \"mapbox\": {\"style\": \"light\"}, \"paper_bgcolor\": \"white\", \"plot_bgcolor\": \"#E5ECF6\", \"polar\": {\"angularaxis\": {\"gridcolor\": \"white\", \"linecolor\": \"white\", \"ticks\": \"\"}, \"bgcolor\": \"#E5ECF6\", \"radialaxis\": {\"gridcolor\": \"white\", \"linecolor\": \"white\", \"ticks\": \"\"}}, \"scene\": {\"xaxis\": {\"backgroundcolor\": \"#E5ECF6\", \"gridcolor\": \"white\", \"gridwidth\": 2, \"linecolor\": \"white\", \"showbackground\": true, \"ticks\": \"\", \"zerolinecolor\": \"white\"}, \"yaxis\": {\"backgroundcolor\": \"#E5ECF6\", \"gridcolor\": \"white\", \"gridwidth\": 2, \"linecolor\": \"white\", \"showbackground\": true, \"ticks\": \"\", \"zerolinecolor\": \"white\"}, \"zaxis\": {\"backgroundcolor\": \"#E5ECF6\", \"gridcolor\": \"white\", \"gridwidth\": 2, \"linecolor\": \"white\", \"showbackground\": true, \"ticks\": \"\", \"zerolinecolor\": \"white\"}}, \"shapedefaults\": {\"line\": {\"color\": \"#2a3f5f\"}}, \"ternary\": {\"aaxis\": {\"gridcolor\": \"white\", \"linecolor\": \"white\", \"ticks\": \"\"}, \"baxis\": {\"gridcolor\": \"white\", \"linecolor\": \"white\", \"ticks\": \"\"}, \"bgcolor\": \"#E5ECF6\", \"caxis\": {\"gridcolor\": \"white\", \"linecolor\": \"white\", \"ticks\": \"\"}}, \"title\": {\"x\": 0.05}, \"xaxis\": {\"automargin\": true, \"gridcolor\": \"white\", \"linecolor\": \"white\", \"ticks\": \"\", \"title\": {\"standoff\": 15}, \"zerolinecolor\": \"white\", \"zerolinewidth\": 2}, \"yaxis\": {\"automargin\": true, \"gridcolor\": \"white\", \"linecolor\": \"white\", \"ticks\": \"\", \"title\": {\"standoff\": 15}, \"zerolinecolor\": \"white\", \"zerolinewidth\": 2}}}, \"xaxis\": {\"anchor\": \"y\", \"domain\": [0.0, 1.0], \"title\": {\"text\": \"price in $\"}}, \"yaxis\": {\"anchor\": \"x\", \"categoryarray\": [\"7.41% (2)\", \"50% (3)\", \"50% (1)\", \"4.17% (1)\", \"37.50% (3)\", \"28.57% (2)\", \"25% (1)\", \"20.37% (11)\", \"20% (1)\", \"18.75% (3)\", \"16.67% (2)\", \"16.67% (1)\", \"12.50% (4)\", \"11.11% (1)\", \"100% (4)\", \"0% (0)\"], \"categoryorder\": \"array\", \"domain\": [0.0, 1.0], \"title\": {\"text\": \"disputes_won\"}}},                        {\"responsive\": true}                    ).then(function(){\n",
       "                            \n",
       "var gd = document.getElementById('0e96506d-4866-400e-87a0-f35508da44a2');\n",
       "var x = new MutationObserver(function (mutations, observer) {{\n",
       "        var display = window.getComputedStyle(gd).display;\n",
       "        if (!display || display === 'none') {{\n",
       "            console.log([gd, 'removed!']);\n",
       "            Plotly.purge(gd);\n",
       "            observer.disconnect();\n",
       "        }}\n",
       "}});\n",
       "\n",
       "// Listen for the removal of the full notebook cells\n",
       "var notebookContainer = gd.closest('#notebook-container');\n",
       "if (notebookContainer) {{\n",
       "    x.observe(notebookContainer, {childList: true});\n",
       "}}\n",
       "\n",
       "// Listen for the clearing of the current output cell\n",
       "var outputEl = gd.closest('.output');\n",
       "if (outputEl) {{\n",
       "    x.observe(outputEl, {childList: true});\n",
       "}}\n",
       "\n",
       "                        })                };                });            </script>        </div>"
      ]
     },
     "metadata": {},
     "output_type": "display_data"
    }
   ],
   "source": [
    "plot_category_wise_unsorted('disputes_won')"
   ]
  },
  {
   "cell_type": "code",
   "execution_count": 83,
   "id": "familiar-mumbai",
   "metadata": {},
   "outputs": [
    {
     "data": {
      "application/vnd.plotly.v1+json": {
       "config": {
        "plotlyServerURL": "https://plot.ly"
       },
       "data": [
        {
         "alignmentgroup": "True",
         "boxpoints": "all",
         "fillcolor": "rgba(255,255,255,0)",
         "hoveron": "points",
         "hovertemplate": "disputes_lost=%{y}<br>price in $=%{x}<extra></extra>",
         "legendgroup": "25% (2)",
         "line": {
          "color": "rgba(255,255,255,0)"
         },
         "marker": {
          "color": "#636efa"
         },
         "name": "25% (2)",
         "offsetgroup": "25% (2)",
         "orientation": "h",
         "pointpos": 0,
         "showlegend": true,
         "type": "box",
         "x": [
          300.76511538461534
         ],
         "x0": " ",
         "xaxis": "x",
         "y": [
          "25% (2)"
         ],
         "y0": " ",
         "yaxis": "y"
        },
        {
         "alignmentgroup": "True",
         "boxpoints": "all",
         "fillcolor": "rgba(255,255,255,0)",
         "hoveron": "points",
         "hovertemplate": "disputes_lost=%{y}<br>price in $=%{x}<extra></extra>",
         "legendgroup": "50% (16)",
         "line": {
          "color": "rgba(255,255,255,0)"
         },
         "marker": {
          "color": "#EF553B"
         },
         "name": "50% (16)",
         "offsetgroup": "50% (16)",
         "orientation": "h",
         "pointpos": 0,
         "showlegend": true,
         "type": "box",
         "x": [
          266.3797587131368
         ],
         "x0": " ",
         "xaxis": "x",
         "y": [
          "50% (16)"
         ],
         "y0": " ",
         "yaxis": "y"
        },
        {
         "alignmentgroup": "True",
         "boxpoints": "all",
         "fillcolor": "rgba(255,255,255,0)",
         "hoveron": "points",
         "hovertemplate": "disputes_lost=%{y}<br>price in $=%{x}<extra></extra>",
         "legendgroup": "100% (2)",
         "line": {
          "color": "rgba(255,255,255,0)"
         },
         "marker": {
          "color": "#00cc96"
         },
         "name": "100% (2)",
         "offsetgroup": "100% (2)",
         "orientation": "h",
         "pointpos": 0,
         "showlegend": true,
         "type": "box",
         "x": [
          254.88818965517243
         ],
         "x0": " ",
         "xaxis": "x",
         "y": [
          "100% (2)"
         ],
         "y0": " ",
         "yaxis": "y"
        },
        {
         "alignmentgroup": "True",
         "boxpoints": "all",
         "fillcolor": "rgba(255,255,255,0)",
         "hoveron": "points",
         "hovertemplate": "disputes_lost=%{y}<br>price in $=%{x}<extra></extra>",
         "legendgroup": "100% (1)",
         "line": {
          "color": "rgba(255,255,255,0)"
         },
         "marker": {
          "color": "#ab63fa"
         },
         "name": "100% (1)",
         "offsetgroup": "100% (1)",
         "orientation": "h",
         "pointpos": 0,
         "showlegend": true,
         "type": "box",
         "x": [
          247.56918918918916
         ],
         "x0": " ",
         "xaxis": "x",
         "y": [
          "100% (1)"
         ],
         "y0": " ",
         "yaxis": "y"
        },
        {
         "alignmentgroup": "True",
         "boxpoints": "all",
         "fillcolor": "rgba(255,255,255,0)",
         "hoveron": "points",
         "hovertemplate": "disputes_lost=%{y}<br>price in $=%{x}<extra></extra>",
         "legendgroup": "50% (6)",
         "line": {
          "color": "rgba(255,255,255,0)"
         },
         "marker": {
          "color": "#FFA15A"
         },
         "name": "50% (6)",
         "offsetgroup": "50% (6)",
         "orientation": "h",
         "pointpos": 0,
         "showlegend": true,
         "type": "box",
         "x": [
          241.81509554140138
         ],
         "x0": " ",
         "xaxis": "x",
         "y": [
          "50% (6)"
         ],
         "y0": " ",
         "yaxis": "y"
        },
        {
         "alignmentgroup": "True",
         "boxpoints": "all",
         "fillcolor": "rgba(255,255,255,0)",
         "hoveron": "points",
         "hovertemplate": "disputes_lost=%{y}<br>price in $=%{x}<extra></extra>",
         "legendgroup": "33.33% (1)",
         "line": {
          "color": "rgba(255,255,255,0)"
         },
         "marker": {
          "color": "#19d3f3"
         },
         "name": "33.33% (1)",
         "offsetgroup": "33.33% (1)",
         "orientation": "h",
         "pointpos": 0,
         "showlegend": true,
         "type": "box",
         "x": [
          227.0970989761093
         ],
         "x0": " ",
         "xaxis": "x",
         "y": [
          "33.33% (1)"
         ],
         "y0": " ",
         "yaxis": "y"
        },
        {
         "alignmentgroup": "True",
         "boxpoints": "all",
         "fillcolor": "rgba(255,255,255,0)",
         "hoveron": "points",
         "hovertemplate": "disputes_lost=%{y}<br>price in $=%{x}<extra></extra>",
         "legendgroup": "0% (0)",
         "line": {
          "color": "rgba(255,255,255,0)"
         },
         "marker": {
          "color": "#FF6692"
         },
         "name": "0% (0)",
         "offsetgroup": "0% (0)",
         "orientation": "h",
         "pointpos": 0,
         "showlegend": true,
         "type": "box",
         "x": [
          226.41674882075435
         ],
         "x0": " ",
         "xaxis": "x",
         "y": [
          "0% (0)"
         ],
         "y0": " ",
         "yaxis": "y"
        },
        {
         "alignmentgroup": "True",
         "boxpoints": "all",
         "fillcolor": "rgba(255,255,255,0)",
         "hoveron": "points",
         "hovertemplate": "disputes_lost=%{y}<br>price in $=%{x}<extra></extra>",
         "legendgroup": "25% (1)",
         "line": {
          "color": "rgba(255,255,255,0)"
         },
         "marker": {
          "color": "#B6E880"
         },
         "name": "25% (1)",
         "offsetgroup": "25% (1)",
         "orientation": "h",
         "pointpos": 0,
         "showlegend": true,
         "type": "box",
         "x": [
          175.76870129870133
         ],
         "x0": " ",
         "xaxis": "x",
         "y": [
          "25% (1)"
         ],
         "y0": " ",
         "yaxis": "y"
        },
        {
         "alignmentgroup": "True",
         "boxpoints": "all",
         "fillcolor": "rgba(255,255,255,0)",
         "hoveron": "points",
         "hovertemplate": "disputes_lost=%{y}<br>price in $=%{x}<extra></extra>",
         "legendgroup": "14.29% (1)",
         "line": {
          "color": "rgba(255,255,255,0)"
         },
         "marker": {
          "color": "#FF97FF"
         },
         "name": "14.29% (1)",
         "offsetgroup": "14.29% (1)",
         "orientation": "h",
         "pointpos": 0,
         "showlegend": true,
         "type": "box",
         "x": [
          147.87015945330293
         ],
         "x0": " ",
         "xaxis": "x",
         "y": [
          "14.29% (1)"
         ],
         "y0": " ",
         "yaxis": "y"
        },
        {
         "alignmentgroup": "True",
         "boxpoints": "all",
         "fillcolor": "rgba(255,255,255,0)",
         "hoveron": "points",
         "hovertemplate": "disputes_lost=%{y}<br>price in $=%{x}<extra></extra>",
         "legendgroup": "12.50% (2)",
         "line": {
          "color": "rgba(255,255,255,0)"
         },
         "marker": {
          "color": "#FECB52"
         },
         "name": "12.50% (2)",
         "offsetgroup": "12.50% (2)",
         "orientation": "h",
         "pointpos": 0,
         "showlegend": true,
         "type": "box",
         "x": [
          130.5625
         ],
         "x0": " ",
         "xaxis": "x",
         "y": [
          "12.50% (2)"
         ],
         "y0": " ",
         "yaxis": "y"
        },
        {
         "alignmentgroup": "True",
         "boxpoints": "all",
         "fillcolor": "rgba(255,255,255,0)",
         "hoveron": "points",
         "hovertemplate": "disputes_lost=%{y}<br>price in $=%{x}<extra></extra>",
         "legendgroup": "1.85% (1)",
         "line": {
          "color": "rgba(255,255,255,0)"
         },
         "marker": {
          "color": "#636efa"
         },
         "name": "1.85% (1)",
         "offsetgroup": "1.85% (1)",
         "orientation": "h",
         "pointpos": 0,
         "showlegend": true,
         "type": "box",
         "x": [
          90.44696000000003
         ],
         "x0": " ",
         "xaxis": "x",
         "y": [
          "1.85% (1)"
         ],
         "y0": " ",
         "yaxis": "y"
        }
       ],
       "layout": {
        "boxmode": "overlay",
        "legend": {
         "title": {
          "text": "disputes_lost"
         },
         "tracegroupgap": 0
        },
        "margin": {
         "t": 60
        },
        "template": {
         "data": {
          "bar": [
           {
            "error_x": {
             "color": "#2a3f5f"
            },
            "error_y": {
             "color": "#2a3f5f"
            },
            "marker": {
             "line": {
              "color": "#E5ECF6",
              "width": 0.5
             }
            },
            "type": "bar"
           }
          ],
          "barpolar": [
           {
            "marker": {
             "line": {
              "color": "#E5ECF6",
              "width": 0.5
             }
            },
            "type": "barpolar"
           }
          ],
          "carpet": [
           {
            "aaxis": {
             "endlinecolor": "#2a3f5f",
             "gridcolor": "white",
             "linecolor": "white",
             "minorgridcolor": "white",
             "startlinecolor": "#2a3f5f"
            },
            "baxis": {
             "endlinecolor": "#2a3f5f",
             "gridcolor": "white",
             "linecolor": "white",
             "minorgridcolor": "white",
             "startlinecolor": "#2a3f5f"
            },
            "type": "carpet"
           }
          ],
          "choropleth": [
           {
            "colorbar": {
             "outlinewidth": 0,
             "ticks": ""
            },
            "type": "choropleth"
           }
          ],
          "contour": [
           {
            "colorbar": {
             "outlinewidth": 0,
             "ticks": ""
            },
            "colorscale": [
             [
              0,
              "#0d0887"
             ],
             [
              0.1111111111111111,
              "#46039f"
             ],
             [
              0.2222222222222222,
              "#7201a8"
             ],
             [
              0.3333333333333333,
              "#9c179e"
             ],
             [
              0.4444444444444444,
              "#bd3786"
             ],
             [
              0.5555555555555556,
              "#d8576b"
             ],
             [
              0.6666666666666666,
              "#ed7953"
             ],
             [
              0.7777777777777778,
              "#fb9f3a"
             ],
             [
              0.8888888888888888,
              "#fdca26"
             ],
             [
              1,
              "#f0f921"
             ]
            ],
            "type": "contour"
           }
          ],
          "contourcarpet": [
           {
            "colorbar": {
             "outlinewidth": 0,
             "ticks": ""
            },
            "type": "contourcarpet"
           }
          ],
          "heatmap": [
           {
            "colorbar": {
             "outlinewidth": 0,
             "ticks": ""
            },
            "colorscale": [
             [
              0,
              "#0d0887"
             ],
             [
              0.1111111111111111,
              "#46039f"
             ],
             [
              0.2222222222222222,
              "#7201a8"
             ],
             [
              0.3333333333333333,
              "#9c179e"
             ],
             [
              0.4444444444444444,
              "#bd3786"
             ],
             [
              0.5555555555555556,
              "#d8576b"
             ],
             [
              0.6666666666666666,
              "#ed7953"
             ],
             [
              0.7777777777777778,
              "#fb9f3a"
             ],
             [
              0.8888888888888888,
              "#fdca26"
             ],
             [
              1,
              "#f0f921"
             ]
            ],
            "type": "heatmap"
           }
          ],
          "heatmapgl": [
           {
            "colorbar": {
             "outlinewidth": 0,
             "ticks": ""
            },
            "colorscale": [
             [
              0,
              "#0d0887"
             ],
             [
              0.1111111111111111,
              "#46039f"
             ],
             [
              0.2222222222222222,
              "#7201a8"
             ],
             [
              0.3333333333333333,
              "#9c179e"
             ],
             [
              0.4444444444444444,
              "#bd3786"
             ],
             [
              0.5555555555555556,
              "#d8576b"
             ],
             [
              0.6666666666666666,
              "#ed7953"
             ],
             [
              0.7777777777777778,
              "#fb9f3a"
             ],
             [
              0.8888888888888888,
              "#fdca26"
             ],
             [
              1,
              "#f0f921"
             ]
            ],
            "type": "heatmapgl"
           }
          ],
          "histogram": [
           {
            "marker": {
             "colorbar": {
              "outlinewidth": 0,
              "ticks": ""
             }
            },
            "type": "histogram"
           }
          ],
          "histogram2d": [
           {
            "colorbar": {
             "outlinewidth": 0,
             "ticks": ""
            },
            "colorscale": [
             [
              0,
              "#0d0887"
             ],
             [
              0.1111111111111111,
              "#46039f"
             ],
             [
              0.2222222222222222,
              "#7201a8"
             ],
             [
              0.3333333333333333,
              "#9c179e"
             ],
             [
              0.4444444444444444,
              "#bd3786"
             ],
             [
              0.5555555555555556,
              "#d8576b"
             ],
             [
              0.6666666666666666,
              "#ed7953"
             ],
             [
              0.7777777777777778,
              "#fb9f3a"
             ],
             [
              0.8888888888888888,
              "#fdca26"
             ],
             [
              1,
              "#f0f921"
             ]
            ],
            "type": "histogram2d"
           }
          ],
          "histogram2dcontour": [
           {
            "colorbar": {
             "outlinewidth": 0,
             "ticks": ""
            },
            "colorscale": [
             [
              0,
              "#0d0887"
             ],
             [
              0.1111111111111111,
              "#46039f"
             ],
             [
              0.2222222222222222,
              "#7201a8"
             ],
             [
              0.3333333333333333,
              "#9c179e"
             ],
             [
              0.4444444444444444,
              "#bd3786"
             ],
             [
              0.5555555555555556,
              "#d8576b"
             ],
             [
              0.6666666666666666,
              "#ed7953"
             ],
             [
              0.7777777777777778,
              "#fb9f3a"
             ],
             [
              0.8888888888888888,
              "#fdca26"
             ],
             [
              1,
              "#f0f921"
             ]
            ],
            "type": "histogram2dcontour"
           }
          ],
          "mesh3d": [
           {
            "colorbar": {
             "outlinewidth": 0,
             "ticks": ""
            },
            "type": "mesh3d"
           }
          ],
          "parcoords": [
           {
            "line": {
             "colorbar": {
              "outlinewidth": 0,
              "ticks": ""
             }
            },
            "type": "parcoords"
           }
          ],
          "pie": [
           {
            "automargin": true,
            "type": "pie"
           }
          ],
          "scatter": [
           {
            "marker": {
             "colorbar": {
              "outlinewidth": 0,
              "ticks": ""
             }
            },
            "type": "scatter"
           }
          ],
          "scatter3d": [
           {
            "line": {
             "colorbar": {
              "outlinewidth": 0,
              "ticks": ""
             }
            },
            "marker": {
             "colorbar": {
              "outlinewidth": 0,
              "ticks": ""
             }
            },
            "type": "scatter3d"
           }
          ],
          "scattercarpet": [
           {
            "marker": {
             "colorbar": {
              "outlinewidth": 0,
              "ticks": ""
             }
            },
            "type": "scattercarpet"
           }
          ],
          "scattergeo": [
           {
            "marker": {
             "colorbar": {
              "outlinewidth": 0,
              "ticks": ""
             }
            },
            "type": "scattergeo"
           }
          ],
          "scattergl": [
           {
            "marker": {
             "colorbar": {
              "outlinewidth": 0,
              "ticks": ""
             }
            },
            "type": "scattergl"
           }
          ],
          "scattermapbox": [
           {
            "marker": {
             "colorbar": {
              "outlinewidth": 0,
              "ticks": ""
             }
            },
            "type": "scattermapbox"
           }
          ],
          "scatterpolar": [
           {
            "marker": {
             "colorbar": {
              "outlinewidth": 0,
              "ticks": ""
             }
            },
            "type": "scatterpolar"
           }
          ],
          "scatterpolargl": [
           {
            "marker": {
             "colorbar": {
              "outlinewidth": 0,
              "ticks": ""
             }
            },
            "type": "scatterpolargl"
           }
          ],
          "scatterternary": [
           {
            "marker": {
             "colorbar": {
              "outlinewidth": 0,
              "ticks": ""
             }
            },
            "type": "scatterternary"
           }
          ],
          "surface": [
           {
            "colorbar": {
             "outlinewidth": 0,
             "ticks": ""
            },
            "colorscale": [
             [
              0,
              "#0d0887"
             ],
             [
              0.1111111111111111,
              "#46039f"
             ],
             [
              0.2222222222222222,
              "#7201a8"
             ],
             [
              0.3333333333333333,
              "#9c179e"
             ],
             [
              0.4444444444444444,
              "#bd3786"
             ],
             [
              0.5555555555555556,
              "#d8576b"
             ],
             [
              0.6666666666666666,
              "#ed7953"
             ],
             [
              0.7777777777777778,
              "#fb9f3a"
             ],
             [
              0.8888888888888888,
              "#fdca26"
             ],
             [
              1,
              "#f0f921"
             ]
            ],
            "type": "surface"
           }
          ],
          "table": [
           {
            "cells": {
             "fill": {
              "color": "#EBF0F8"
             },
             "line": {
              "color": "white"
             }
            },
            "header": {
             "fill": {
              "color": "#C8D4E3"
             },
             "line": {
              "color": "white"
             }
            },
            "type": "table"
           }
          ]
         },
         "layout": {
          "annotationdefaults": {
           "arrowcolor": "#2a3f5f",
           "arrowhead": 0,
           "arrowwidth": 1
          },
          "autotypenumbers": "strict",
          "coloraxis": {
           "colorbar": {
            "outlinewidth": 0,
            "ticks": ""
           }
          },
          "colorscale": {
           "diverging": [
            [
             0,
             "#8e0152"
            ],
            [
             0.1,
             "#c51b7d"
            ],
            [
             0.2,
             "#de77ae"
            ],
            [
             0.3,
             "#f1b6da"
            ],
            [
             0.4,
             "#fde0ef"
            ],
            [
             0.5,
             "#f7f7f7"
            ],
            [
             0.6,
             "#e6f5d0"
            ],
            [
             0.7,
             "#b8e186"
            ],
            [
             0.8,
             "#7fbc41"
            ],
            [
             0.9,
             "#4d9221"
            ],
            [
             1,
             "#276419"
            ]
           ],
           "sequential": [
            [
             0,
             "#0d0887"
            ],
            [
             0.1111111111111111,
             "#46039f"
            ],
            [
             0.2222222222222222,
             "#7201a8"
            ],
            [
             0.3333333333333333,
             "#9c179e"
            ],
            [
             0.4444444444444444,
             "#bd3786"
            ],
            [
             0.5555555555555556,
             "#d8576b"
            ],
            [
             0.6666666666666666,
             "#ed7953"
            ],
            [
             0.7777777777777778,
             "#fb9f3a"
            ],
            [
             0.8888888888888888,
             "#fdca26"
            ],
            [
             1,
             "#f0f921"
            ]
           ],
           "sequentialminus": [
            [
             0,
             "#0d0887"
            ],
            [
             0.1111111111111111,
             "#46039f"
            ],
            [
             0.2222222222222222,
             "#7201a8"
            ],
            [
             0.3333333333333333,
             "#9c179e"
            ],
            [
             0.4444444444444444,
             "#bd3786"
            ],
            [
             0.5555555555555556,
             "#d8576b"
            ],
            [
             0.6666666666666666,
             "#ed7953"
            ],
            [
             0.7777777777777778,
             "#fb9f3a"
            ],
            [
             0.8888888888888888,
             "#fdca26"
            ],
            [
             1,
             "#f0f921"
            ]
           ]
          },
          "colorway": [
           "#636efa",
           "#EF553B",
           "#00cc96",
           "#ab63fa",
           "#FFA15A",
           "#19d3f3",
           "#FF6692",
           "#B6E880",
           "#FF97FF",
           "#FECB52"
          ],
          "font": {
           "color": "#2a3f5f"
          },
          "geo": {
           "bgcolor": "white",
           "lakecolor": "white",
           "landcolor": "#E5ECF6",
           "showlakes": true,
           "showland": true,
           "subunitcolor": "white"
          },
          "hoverlabel": {
           "align": "left"
          },
          "hovermode": "closest",
          "mapbox": {
           "style": "light"
          },
          "paper_bgcolor": "white",
          "plot_bgcolor": "#E5ECF6",
          "polar": {
           "angularaxis": {
            "gridcolor": "white",
            "linecolor": "white",
            "ticks": ""
           },
           "bgcolor": "#E5ECF6",
           "radialaxis": {
            "gridcolor": "white",
            "linecolor": "white",
            "ticks": ""
           }
          },
          "scene": {
           "xaxis": {
            "backgroundcolor": "#E5ECF6",
            "gridcolor": "white",
            "gridwidth": 2,
            "linecolor": "white",
            "showbackground": true,
            "ticks": "",
            "zerolinecolor": "white"
           },
           "yaxis": {
            "backgroundcolor": "#E5ECF6",
            "gridcolor": "white",
            "gridwidth": 2,
            "linecolor": "white",
            "showbackground": true,
            "ticks": "",
            "zerolinecolor": "white"
           },
           "zaxis": {
            "backgroundcolor": "#E5ECF6",
            "gridcolor": "white",
            "gridwidth": 2,
            "linecolor": "white",
            "showbackground": true,
            "ticks": "",
            "zerolinecolor": "white"
           }
          },
          "shapedefaults": {
           "line": {
            "color": "#2a3f5f"
           }
          },
          "ternary": {
           "aaxis": {
            "gridcolor": "white",
            "linecolor": "white",
            "ticks": ""
           },
           "baxis": {
            "gridcolor": "white",
            "linecolor": "white",
            "ticks": ""
           },
           "bgcolor": "#E5ECF6",
           "caxis": {
            "gridcolor": "white",
            "linecolor": "white",
            "ticks": ""
           }
          },
          "title": {
           "x": 0.05
          },
          "xaxis": {
           "automargin": true,
           "gridcolor": "white",
           "linecolor": "white",
           "ticks": "",
           "title": {
            "standoff": 15
           },
           "zerolinecolor": "white",
           "zerolinewidth": 2
          },
          "yaxis": {
           "automargin": true,
           "gridcolor": "white",
           "linecolor": "white",
           "ticks": "",
           "title": {
            "standoff": 15
           },
           "zerolinecolor": "white",
           "zerolinewidth": 2
          }
         }
        },
        "xaxis": {
         "anchor": "y",
         "domain": [
          0,
          1
         ],
         "title": {
          "text": "price in $"
         }
        },
        "yaxis": {
         "anchor": "x",
         "categoryarray": [
          "1.85% (1)",
          "12.50% (2)",
          "14.29% (1)",
          "25% (1)",
          "0% (0)",
          "33.33% (1)",
          "50% (6)",
          "100% (1)",
          "100% (2)",
          "50% (16)",
          "25% (2)"
         ],
         "categoryorder": "array",
         "domain": [
          0,
          1
         ],
         "title": {
          "text": "disputes_lost"
         }
        }
       }
      },
      "text/html": [
       "<div>                            <div id=\"fd7a7949-b83c-4487-bba5-fb03eaa7c8b6\" class=\"plotly-graph-div\" style=\"height:525px; width:100%;\"></div>            <script type=\"text/javascript\">                require([\"plotly\"], function(Plotly) {                    window.PLOTLYENV=window.PLOTLYENV || {};                                    if (document.getElementById(\"fd7a7949-b83c-4487-bba5-fb03eaa7c8b6\")) {                    Plotly.newPlot(                        \"fd7a7949-b83c-4487-bba5-fb03eaa7c8b6\",                        [{\"alignmentgroup\": \"True\", \"boxpoints\": \"all\", \"fillcolor\": \"rgba(255,255,255,0)\", \"hoveron\": \"points\", \"hovertemplate\": \"disputes_lost=%{y}<br>price in $=%{x}<extra></extra>\", \"legendgroup\": \"25% (2)\", \"line\": {\"color\": \"rgba(255,255,255,0)\"}, \"marker\": {\"color\": \"#636efa\"}, \"name\": \"25% (2)\", \"offsetgroup\": \"25% (2)\", \"orientation\": \"h\", \"pointpos\": 0, \"showlegend\": true, \"type\": \"box\", \"x\": [300.76511538461534], \"x0\": \" \", \"xaxis\": \"x\", \"y\": [\"25% (2)\"], \"y0\": \" \", \"yaxis\": \"y\"}, {\"alignmentgroup\": \"True\", \"boxpoints\": \"all\", \"fillcolor\": \"rgba(255,255,255,0)\", \"hoveron\": \"points\", \"hovertemplate\": \"disputes_lost=%{y}<br>price in $=%{x}<extra></extra>\", \"legendgroup\": \"50% (16)\", \"line\": {\"color\": \"rgba(255,255,255,0)\"}, \"marker\": {\"color\": \"#EF553B\"}, \"name\": \"50% (16)\", \"offsetgroup\": \"50% (16)\", \"orientation\": \"h\", \"pointpos\": 0, \"showlegend\": true, \"type\": \"box\", \"x\": [266.3797587131368], \"x0\": \" \", \"xaxis\": \"x\", \"y\": [\"50% (16)\"], \"y0\": \" \", \"yaxis\": \"y\"}, {\"alignmentgroup\": \"True\", \"boxpoints\": \"all\", \"fillcolor\": \"rgba(255,255,255,0)\", \"hoveron\": \"points\", \"hovertemplate\": \"disputes_lost=%{y}<br>price in $=%{x}<extra></extra>\", \"legendgroup\": \"100% (2)\", \"line\": {\"color\": \"rgba(255,255,255,0)\"}, \"marker\": {\"color\": \"#00cc96\"}, \"name\": \"100% (2)\", \"offsetgroup\": \"100% (2)\", \"orientation\": \"h\", \"pointpos\": 0, \"showlegend\": true, \"type\": \"box\", \"x\": [254.88818965517243], \"x0\": \" \", \"xaxis\": \"x\", \"y\": [\"100% (2)\"], \"y0\": \" \", \"yaxis\": \"y\"}, {\"alignmentgroup\": \"True\", \"boxpoints\": \"all\", \"fillcolor\": \"rgba(255,255,255,0)\", \"hoveron\": \"points\", \"hovertemplate\": \"disputes_lost=%{y}<br>price in $=%{x}<extra></extra>\", \"legendgroup\": \"100% (1)\", \"line\": {\"color\": \"rgba(255,255,255,0)\"}, \"marker\": {\"color\": \"#ab63fa\"}, \"name\": \"100% (1)\", \"offsetgroup\": \"100% (1)\", \"orientation\": \"h\", \"pointpos\": 0, \"showlegend\": true, \"type\": \"box\", \"x\": [247.56918918918916], \"x0\": \" \", \"xaxis\": \"x\", \"y\": [\"100% (1)\"], \"y0\": \" \", \"yaxis\": \"y\"}, {\"alignmentgroup\": \"True\", \"boxpoints\": \"all\", \"fillcolor\": \"rgba(255,255,255,0)\", \"hoveron\": \"points\", \"hovertemplate\": \"disputes_lost=%{y}<br>price in $=%{x}<extra></extra>\", \"legendgroup\": \"50% (6)\", \"line\": {\"color\": \"rgba(255,255,255,0)\"}, \"marker\": {\"color\": \"#FFA15A\"}, \"name\": \"50% (6)\", \"offsetgroup\": \"50% (6)\", \"orientation\": \"h\", \"pointpos\": 0, \"showlegend\": true, \"type\": \"box\", \"x\": [241.81509554140138], \"x0\": \" \", \"xaxis\": \"x\", \"y\": [\"50% (6)\"], \"y0\": \" \", \"yaxis\": \"y\"}, {\"alignmentgroup\": \"True\", \"boxpoints\": \"all\", \"fillcolor\": \"rgba(255,255,255,0)\", \"hoveron\": \"points\", \"hovertemplate\": \"disputes_lost=%{y}<br>price in $=%{x}<extra></extra>\", \"legendgroup\": \"33.33% (1)\", \"line\": {\"color\": \"rgba(255,255,255,0)\"}, \"marker\": {\"color\": \"#19d3f3\"}, \"name\": \"33.33% (1)\", \"offsetgroup\": \"33.33% (1)\", \"orientation\": \"h\", \"pointpos\": 0, \"showlegend\": true, \"type\": \"box\", \"x\": [227.0970989761093], \"x0\": \" \", \"xaxis\": \"x\", \"y\": [\"33.33% (1)\"], \"y0\": \" \", \"yaxis\": \"y\"}, {\"alignmentgroup\": \"True\", \"boxpoints\": \"all\", \"fillcolor\": \"rgba(255,255,255,0)\", \"hoveron\": \"points\", \"hovertemplate\": \"disputes_lost=%{y}<br>price in $=%{x}<extra></extra>\", \"legendgroup\": \"0% (0)\", \"line\": {\"color\": \"rgba(255,255,255,0)\"}, \"marker\": {\"color\": \"#FF6692\"}, \"name\": \"0% (0)\", \"offsetgroup\": \"0% (0)\", \"orientation\": \"h\", \"pointpos\": 0, \"showlegend\": true, \"type\": \"box\", \"x\": [226.41674882075435], \"x0\": \" \", \"xaxis\": \"x\", \"y\": [\"0% (0)\"], \"y0\": \" \", \"yaxis\": \"y\"}, {\"alignmentgroup\": \"True\", \"boxpoints\": \"all\", \"fillcolor\": \"rgba(255,255,255,0)\", \"hoveron\": \"points\", \"hovertemplate\": \"disputes_lost=%{y}<br>price in $=%{x}<extra></extra>\", \"legendgroup\": \"25% (1)\", \"line\": {\"color\": \"rgba(255,255,255,0)\"}, \"marker\": {\"color\": \"#B6E880\"}, \"name\": \"25% (1)\", \"offsetgroup\": \"25% (1)\", \"orientation\": \"h\", \"pointpos\": 0, \"showlegend\": true, \"type\": \"box\", \"x\": [175.76870129870133], \"x0\": \" \", \"xaxis\": \"x\", \"y\": [\"25% (1)\"], \"y0\": \" \", \"yaxis\": \"y\"}, {\"alignmentgroup\": \"True\", \"boxpoints\": \"all\", \"fillcolor\": \"rgba(255,255,255,0)\", \"hoveron\": \"points\", \"hovertemplate\": \"disputes_lost=%{y}<br>price in $=%{x}<extra></extra>\", \"legendgroup\": \"14.29% (1)\", \"line\": {\"color\": \"rgba(255,255,255,0)\"}, \"marker\": {\"color\": \"#FF97FF\"}, \"name\": \"14.29% (1)\", \"offsetgroup\": \"14.29% (1)\", \"orientation\": \"h\", \"pointpos\": 0, \"showlegend\": true, \"type\": \"box\", \"x\": [147.87015945330293], \"x0\": \" \", \"xaxis\": \"x\", \"y\": [\"14.29% (1)\"], \"y0\": \" \", \"yaxis\": \"y\"}, {\"alignmentgroup\": \"True\", \"boxpoints\": \"all\", \"fillcolor\": \"rgba(255,255,255,0)\", \"hoveron\": \"points\", \"hovertemplate\": \"disputes_lost=%{y}<br>price in $=%{x}<extra></extra>\", \"legendgroup\": \"12.50% (2)\", \"line\": {\"color\": \"rgba(255,255,255,0)\"}, \"marker\": {\"color\": \"#FECB52\"}, \"name\": \"12.50% (2)\", \"offsetgroup\": \"12.50% (2)\", \"orientation\": \"h\", \"pointpos\": 0, \"showlegend\": true, \"type\": \"box\", \"x\": [130.5625], \"x0\": \" \", \"xaxis\": \"x\", \"y\": [\"12.50% (2)\"], \"y0\": \" \", \"yaxis\": \"y\"}, {\"alignmentgroup\": \"True\", \"boxpoints\": \"all\", \"fillcolor\": \"rgba(255,255,255,0)\", \"hoveron\": \"points\", \"hovertemplate\": \"disputes_lost=%{y}<br>price in $=%{x}<extra></extra>\", \"legendgroup\": \"1.85% (1)\", \"line\": {\"color\": \"rgba(255,255,255,0)\"}, \"marker\": {\"color\": \"#636efa\"}, \"name\": \"1.85% (1)\", \"offsetgroup\": \"1.85% (1)\", \"orientation\": \"h\", \"pointpos\": 0, \"showlegend\": true, \"type\": \"box\", \"x\": [90.44696000000003], \"x0\": \" \", \"xaxis\": \"x\", \"y\": [\"1.85% (1)\"], \"y0\": \" \", \"yaxis\": \"y\"}],                        {\"boxmode\": \"overlay\", \"legend\": {\"title\": {\"text\": \"disputes_lost\"}, \"tracegroupgap\": 0}, \"margin\": {\"t\": 60}, \"template\": {\"data\": {\"bar\": [{\"error_x\": {\"color\": \"#2a3f5f\"}, \"error_y\": {\"color\": \"#2a3f5f\"}, \"marker\": {\"line\": {\"color\": \"#E5ECF6\", \"width\": 0.5}}, \"type\": \"bar\"}], \"barpolar\": [{\"marker\": {\"line\": {\"color\": \"#E5ECF6\", \"width\": 0.5}}, \"type\": \"barpolar\"}], \"carpet\": [{\"aaxis\": {\"endlinecolor\": \"#2a3f5f\", \"gridcolor\": \"white\", \"linecolor\": \"white\", \"minorgridcolor\": \"white\", \"startlinecolor\": \"#2a3f5f\"}, \"baxis\": {\"endlinecolor\": \"#2a3f5f\", \"gridcolor\": \"white\", \"linecolor\": \"white\", \"minorgridcolor\": \"white\", \"startlinecolor\": \"#2a3f5f\"}, \"type\": \"carpet\"}], \"choropleth\": [{\"colorbar\": {\"outlinewidth\": 0, \"ticks\": \"\"}, \"type\": \"choropleth\"}], \"contour\": [{\"colorbar\": {\"outlinewidth\": 0, \"ticks\": \"\"}, \"colorscale\": [[0.0, \"#0d0887\"], [0.1111111111111111, \"#46039f\"], [0.2222222222222222, \"#7201a8\"], [0.3333333333333333, \"#9c179e\"], [0.4444444444444444, \"#bd3786\"], [0.5555555555555556, \"#d8576b\"], [0.6666666666666666, \"#ed7953\"], [0.7777777777777778, \"#fb9f3a\"], [0.8888888888888888, \"#fdca26\"], [1.0, \"#f0f921\"]], \"type\": \"contour\"}], \"contourcarpet\": [{\"colorbar\": {\"outlinewidth\": 0, \"ticks\": \"\"}, \"type\": \"contourcarpet\"}], \"heatmap\": [{\"colorbar\": {\"outlinewidth\": 0, \"ticks\": \"\"}, \"colorscale\": [[0.0, \"#0d0887\"], [0.1111111111111111, \"#46039f\"], [0.2222222222222222, \"#7201a8\"], [0.3333333333333333, \"#9c179e\"], [0.4444444444444444, \"#bd3786\"], [0.5555555555555556, \"#d8576b\"], [0.6666666666666666, \"#ed7953\"], [0.7777777777777778, \"#fb9f3a\"], [0.8888888888888888, \"#fdca26\"], [1.0, \"#f0f921\"]], \"type\": \"heatmap\"}], \"heatmapgl\": [{\"colorbar\": {\"outlinewidth\": 0, \"ticks\": \"\"}, \"colorscale\": [[0.0, \"#0d0887\"], [0.1111111111111111, \"#46039f\"], [0.2222222222222222, \"#7201a8\"], [0.3333333333333333, \"#9c179e\"], [0.4444444444444444, \"#bd3786\"], [0.5555555555555556, \"#d8576b\"], [0.6666666666666666, \"#ed7953\"], [0.7777777777777778, \"#fb9f3a\"], [0.8888888888888888, \"#fdca26\"], [1.0, \"#f0f921\"]], \"type\": \"heatmapgl\"}], \"histogram\": [{\"marker\": {\"colorbar\": {\"outlinewidth\": 0, \"ticks\": \"\"}}, \"type\": \"histogram\"}], \"histogram2d\": [{\"colorbar\": {\"outlinewidth\": 0, \"ticks\": \"\"}, \"colorscale\": [[0.0, \"#0d0887\"], [0.1111111111111111, \"#46039f\"], [0.2222222222222222, \"#7201a8\"], [0.3333333333333333, \"#9c179e\"], [0.4444444444444444, \"#bd3786\"], [0.5555555555555556, \"#d8576b\"], [0.6666666666666666, \"#ed7953\"], [0.7777777777777778, \"#fb9f3a\"], [0.8888888888888888, \"#fdca26\"], [1.0, \"#f0f921\"]], \"type\": \"histogram2d\"}], \"histogram2dcontour\": [{\"colorbar\": {\"outlinewidth\": 0, \"ticks\": \"\"}, \"colorscale\": [[0.0, \"#0d0887\"], [0.1111111111111111, \"#46039f\"], [0.2222222222222222, \"#7201a8\"], [0.3333333333333333, \"#9c179e\"], [0.4444444444444444, \"#bd3786\"], [0.5555555555555556, \"#d8576b\"], [0.6666666666666666, \"#ed7953\"], [0.7777777777777778, \"#fb9f3a\"], [0.8888888888888888, \"#fdca26\"], [1.0, \"#f0f921\"]], \"type\": \"histogram2dcontour\"}], \"mesh3d\": [{\"colorbar\": {\"outlinewidth\": 0, \"ticks\": \"\"}, \"type\": \"mesh3d\"}], \"parcoords\": [{\"line\": {\"colorbar\": {\"outlinewidth\": 0, \"ticks\": \"\"}}, \"type\": \"parcoords\"}], \"pie\": [{\"automargin\": true, \"type\": \"pie\"}], \"scatter\": [{\"marker\": {\"colorbar\": {\"outlinewidth\": 0, \"ticks\": \"\"}}, \"type\": \"scatter\"}], \"scatter3d\": [{\"line\": {\"colorbar\": {\"outlinewidth\": 0, \"ticks\": \"\"}}, \"marker\": {\"colorbar\": {\"outlinewidth\": 0, \"ticks\": \"\"}}, \"type\": \"scatter3d\"}], \"scattercarpet\": [{\"marker\": {\"colorbar\": {\"outlinewidth\": 0, \"ticks\": \"\"}}, \"type\": \"scattercarpet\"}], \"scattergeo\": [{\"marker\": {\"colorbar\": {\"outlinewidth\": 0, \"ticks\": \"\"}}, \"type\": \"scattergeo\"}], \"scattergl\": [{\"marker\": {\"colorbar\": {\"outlinewidth\": 0, \"ticks\": \"\"}}, \"type\": \"scattergl\"}], \"scattermapbox\": [{\"marker\": {\"colorbar\": {\"outlinewidth\": 0, \"ticks\": \"\"}}, \"type\": \"scattermapbox\"}], \"scatterpolar\": [{\"marker\": {\"colorbar\": {\"outlinewidth\": 0, \"ticks\": \"\"}}, \"type\": \"scatterpolar\"}], \"scatterpolargl\": [{\"marker\": {\"colorbar\": {\"outlinewidth\": 0, \"ticks\": \"\"}}, \"type\": \"scatterpolargl\"}], \"scatterternary\": [{\"marker\": {\"colorbar\": {\"outlinewidth\": 0, \"ticks\": \"\"}}, \"type\": \"scatterternary\"}], \"surface\": [{\"colorbar\": {\"outlinewidth\": 0, \"ticks\": \"\"}, \"colorscale\": [[0.0, \"#0d0887\"], [0.1111111111111111, \"#46039f\"], [0.2222222222222222, \"#7201a8\"], [0.3333333333333333, \"#9c179e\"], [0.4444444444444444, \"#bd3786\"], [0.5555555555555556, \"#d8576b\"], [0.6666666666666666, \"#ed7953\"], [0.7777777777777778, \"#fb9f3a\"], [0.8888888888888888, \"#fdca26\"], [1.0, \"#f0f921\"]], \"type\": \"surface\"}], \"table\": [{\"cells\": {\"fill\": {\"color\": \"#EBF0F8\"}, \"line\": {\"color\": \"white\"}}, \"header\": {\"fill\": {\"color\": \"#C8D4E3\"}, \"line\": {\"color\": \"white\"}}, \"type\": \"table\"}]}, \"layout\": {\"annotationdefaults\": {\"arrowcolor\": \"#2a3f5f\", \"arrowhead\": 0, \"arrowwidth\": 1}, \"autotypenumbers\": \"strict\", \"coloraxis\": {\"colorbar\": {\"outlinewidth\": 0, \"ticks\": \"\"}}, \"colorscale\": {\"diverging\": [[0, \"#8e0152\"], [0.1, \"#c51b7d\"], [0.2, \"#de77ae\"], [0.3, \"#f1b6da\"], [0.4, \"#fde0ef\"], [0.5, \"#f7f7f7\"], [0.6, \"#e6f5d0\"], [0.7, \"#b8e186\"], [0.8, \"#7fbc41\"], [0.9, \"#4d9221\"], [1, \"#276419\"]], \"sequential\": [[0.0, \"#0d0887\"], [0.1111111111111111, \"#46039f\"], [0.2222222222222222, \"#7201a8\"], [0.3333333333333333, \"#9c179e\"], [0.4444444444444444, \"#bd3786\"], [0.5555555555555556, \"#d8576b\"], [0.6666666666666666, \"#ed7953\"], [0.7777777777777778, \"#fb9f3a\"], [0.8888888888888888, \"#fdca26\"], [1.0, \"#f0f921\"]], \"sequentialminus\": [[0.0, \"#0d0887\"], [0.1111111111111111, \"#46039f\"], [0.2222222222222222, \"#7201a8\"], [0.3333333333333333, \"#9c179e\"], [0.4444444444444444, \"#bd3786\"], [0.5555555555555556, \"#d8576b\"], [0.6666666666666666, \"#ed7953\"], [0.7777777777777778, \"#fb9f3a\"], [0.8888888888888888, \"#fdca26\"], [1.0, \"#f0f921\"]]}, \"colorway\": [\"#636efa\", \"#EF553B\", \"#00cc96\", \"#ab63fa\", \"#FFA15A\", \"#19d3f3\", \"#FF6692\", \"#B6E880\", \"#FF97FF\", \"#FECB52\"], \"font\": {\"color\": \"#2a3f5f\"}, \"geo\": {\"bgcolor\": \"white\", \"lakecolor\": \"white\", \"landcolor\": \"#E5ECF6\", \"showlakes\": true, \"showland\": true, \"subunitcolor\": \"white\"}, \"hoverlabel\": {\"align\": \"left\"}, \"hovermode\": \"closest\", \"mapbox\": {\"style\": \"light\"}, \"paper_bgcolor\": \"white\", \"plot_bgcolor\": \"#E5ECF6\", \"polar\": {\"angularaxis\": {\"gridcolor\": \"white\", \"linecolor\": \"white\", \"ticks\": \"\"}, \"bgcolor\": \"#E5ECF6\", \"radialaxis\": {\"gridcolor\": \"white\", \"linecolor\": \"white\", \"ticks\": \"\"}}, \"scene\": {\"xaxis\": {\"backgroundcolor\": \"#E5ECF6\", \"gridcolor\": \"white\", \"gridwidth\": 2, \"linecolor\": \"white\", \"showbackground\": true, \"ticks\": \"\", \"zerolinecolor\": \"white\"}, \"yaxis\": {\"backgroundcolor\": \"#E5ECF6\", \"gridcolor\": \"white\", \"gridwidth\": 2, \"linecolor\": \"white\", \"showbackground\": true, \"ticks\": \"\", \"zerolinecolor\": \"white\"}, \"zaxis\": {\"backgroundcolor\": \"#E5ECF6\", \"gridcolor\": \"white\", \"gridwidth\": 2, \"linecolor\": \"white\", \"showbackground\": true, \"ticks\": \"\", \"zerolinecolor\": \"white\"}}, \"shapedefaults\": {\"line\": {\"color\": \"#2a3f5f\"}}, \"ternary\": {\"aaxis\": {\"gridcolor\": \"white\", \"linecolor\": \"white\", \"ticks\": \"\"}, \"baxis\": {\"gridcolor\": \"white\", \"linecolor\": \"white\", \"ticks\": \"\"}, \"bgcolor\": \"#E5ECF6\", \"caxis\": {\"gridcolor\": \"white\", \"linecolor\": \"white\", \"ticks\": \"\"}}, \"title\": {\"x\": 0.05}, \"xaxis\": {\"automargin\": true, \"gridcolor\": \"white\", \"linecolor\": \"white\", \"ticks\": \"\", \"title\": {\"standoff\": 15}, \"zerolinecolor\": \"white\", \"zerolinewidth\": 2}, \"yaxis\": {\"automargin\": true, \"gridcolor\": \"white\", \"linecolor\": \"white\", \"ticks\": \"\", \"title\": {\"standoff\": 15}, \"zerolinecolor\": \"white\", \"zerolinewidth\": 2}}}, \"xaxis\": {\"anchor\": \"y\", \"domain\": [0.0, 1.0], \"title\": {\"text\": \"price in $\"}}, \"yaxis\": {\"anchor\": \"x\", \"categoryarray\": [\"1.85% (1)\", \"12.50% (2)\", \"14.29% (1)\", \"25% (1)\", \"0% (0)\", \"33.33% (1)\", \"50% (6)\", \"100% (1)\", \"100% (2)\", \"50% (16)\", \"25% (2)\"], \"categoryorder\": \"array\", \"domain\": [0.0, 1.0], \"title\": {\"text\": \"disputes_lost\"}}},                        {\"responsive\": true}                    ).then(function(){\n",
       "                            \n",
       "var gd = document.getElementById('fd7a7949-b83c-4487-bba5-fb03eaa7c8b6');\n",
       "var x = new MutationObserver(function (mutations, observer) {{\n",
       "        var display = window.getComputedStyle(gd).display;\n",
       "        if (!display || display === 'none') {{\n",
       "            console.log([gd, 'removed!']);\n",
       "            Plotly.purge(gd);\n",
       "            observer.disconnect();\n",
       "        }}\n",
       "}});\n",
       "\n",
       "// Listen for the removal of the full notebook cells\n",
       "var notebookContainer = gd.closest('#notebook-container');\n",
       "if (notebookContainer) {{\n",
       "    x.observe(notebookContainer, {childList: true});\n",
       "}}\n",
       "\n",
       "// Listen for the clearing of the current output cell\n",
       "var outputEl = gd.closest('.output');\n",
       "if (outputEl) {{\n",
       "    x.observe(outputEl, {childList: true});\n",
       "}}\n",
       "\n",
       "                        })                };                });            </script>        </div>"
      ]
     },
     "metadata": {},
     "output_type": "display_data"
    }
   ],
   "source": [
    "plot_category_wise('disputes_lost')"
   ]
  },
  {
   "cell_type": "code",
   "execution_count": 84,
   "id": "comic-struggle",
   "metadata": {},
   "outputs": [],
   "source": [
    "# We want to find a price per g/pill/mg"
   ]
  },
  {
   "cell_type": "code",
   "execution_count": null,
   "id": "aware-camping",
   "metadata": {},
   "outputs": [],
   "source": [
    "shipping_from, shipping_to, rank, verification, since, transactions, feedback_total, feedback_positive, feedback_negative, disputes_total, disputes_won, disputes_lost"
   ]
  },
  {
   "cell_type": "code",
   "execution_count": 20,
   "id": "final-architecture",
   "metadata": {
    "scrolled": false
   },
   "outputs": [
    {
     "data": {
      "text/plain": [
       "Cannabis & Hash        3403\n",
       "Stimulants             2657\n",
       "Psychedelics           1230\n",
       "Benzos                 1072\n",
       "Ecstasy                1057\n",
       "Opiates                1027\n",
       "Prescriptions Drugs     631\n",
       "Dissociatives           519\n",
       "Steroids                417\n",
       "Weight Loss              28\n",
       "Tobacco                  15\n",
       "Accessories              10\n",
       "Name: category_level_2, dtype: int64"
      ]
     },
     "execution_count": 20,
     "metadata": {},
     "output_type": "execute_result"
    }
   ],
   "source": [
    "df_drugs['category_level_2'].value_counts()"
   ]
  },
  {
   "cell_type": "code",
   "execution_count": 23,
   "id": "wrapped-dream",
   "metadata": {},
   "outputs": [
    {
     "ename": "TypeError",
     "evalue": "'>=' not supported between instances of 'str' and 'float'",
     "output_type": "error",
     "traceback": [
      "\u001b[1;31m---------------------------------------------------------------------------\u001b[0m",
      "\u001b[1;31mTypeError\u001b[0m                                 Traceback (most recent call last)",
      "\u001b[1;32m<ipython-input-23-6ef76ab612af>\u001b[0m in \u001b[0;36m<module>\u001b[1;34m\u001b[0m\n\u001b[0;32m      1\u001b[0m \u001b[0mY\u001b[0m \u001b[1;33m=\u001b[0m \u001b[0mnp\u001b[0m\u001b[1;33m.\u001b[0m\u001b[0masarray\u001b[0m\u001b[1;33m(\u001b[0m\u001b[0mdf_drugs\u001b[0m\u001b[1;33m[\u001b[0m\u001b[1;34m'price in $'\u001b[0m\u001b[1;33m]\u001b[0m\u001b[1;33m)\u001b[0m\u001b[1;33m\u001b[0m\u001b[1;33m\u001b[0m\u001b[0m\n\u001b[0;32m      2\u001b[0m \u001b[0mX\u001b[0m \u001b[1;33m=\u001b[0m \u001b[0mnp\u001b[0m\u001b[1;33m.\u001b[0m\u001b[0masarray\u001b[0m\u001b[1;33m(\u001b[0m\u001b[0mdf_drugs\u001b[0m\u001b[1;33m[\u001b[0m\u001b[1;34m'category_level_2'\u001b[0m\u001b[1;33m]\u001b[0m\u001b[1;33m)\u001b[0m\u001b[1;33m\u001b[0m\u001b[1;33m\u001b[0m\u001b[0m\n\u001b[1;32m----> 3\u001b[1;33m \u001b[0mX\u001b[0m \u001b[1;33m=\u001b[0m \u001b[0msm\u001b[0m\u001b[1;33m.\u001b[0m\u001b[0madd_constant\u001b[0m\u001b[1;33m(\u001b[0m\u001b[0mX\u001b[0m\u001b[1;33m)\u001b[0m\u001b[1;33m\u001b[0m\u001b[1;33m\u001b[0m\u001b[0m\n\u001b[0m\u001b[0;32m      4\u001b[0m \u001b[0mmodel\u001b[0m \u001b[1;33m=\u001b[0m \u001b[0msm\u001b[0m\u001b[1;33m.\u001b[0m\u001b[0mOLS\u001b[0m\u001b[1;33m(\u001b[0m\u001b[0mY\u001b[0m\u001b[1;33m,\u001b[0m\u001b[0mX\u001b[0m\u001b[1;33m)\u001b[0m\u001b[1;33m\u001b[0m\u001b[1;33m\u001b[0m\u001b[0m\n\u001b[0;32m      5\u001b[0m \u001b[0mresults\u001b[0m \u001b[1;33m=\u001b[0m \u001b[0mmodel\u001b[0m\u001b[1;33m.\u001b[0m\u001b[0mfit\u001b[0m\u001b[1;33m(\u001b[0m\u001b[1;33m)\u001b[0m\u001b[1;33m\u001b[0m\u001b[1;33m\u001b[0m\u001b[0m\n",
      "\u001b[1;32mc:\\users\\rodger\\appdata\\local\\programs\\python\\python38\\lib\\site-packages\\statsmodels\\tools\\tools.py\u001b[0m in \u001b[0;36madd_constant\u001b[1;34m(data, prepend, has_constant)\u001b[0m\n\u001b[0;32m    336\u001b[0m         \u001b[1;32mraise\u001b[0m \u001b[0mValueError\u001b[0m\u001b[1;33m(\u001b[0m\u001b[1;34m'Only implemented for 2-dimensional arrays'\u001b[0m\u001b[1;33m)\u001b[0m\u001b[1;33m\u001b[0m\u001b[1;33m\u001b[0m\u001b[0m\n\u001b[0;32m    337\u001b[0m \u001b[1;33m\u001b[0m\u001b[0m\n\u001b[1;32m--> 338\u001b[1;33m     \u001b[0mis_nonzero_const\u001b[0m \u001b[1;33m=\u001b[0m \u001b[0mnp\u001b[0m\u001b[1;33m.\u001b[0m\u001b[0mptp\u001b[0m\u001b[1;33m(\u001b[0m\u001b[0mx\u001b[0m\u001b[1;33m,\u001b[0m \u001b[0maxis\u001b[0m\u001b[1;33m=\u001b[0m\u001b[1;36m0\u001b[0m\u001b[1;33m)\u001b[0m \u001b[1;33m==\u001b[0m \u001b[1;36m0\u001b[0m\u001b[1;33m\u001b[0m\u001b[1;33m\u001b[0m\u001b[0m\n\u001b[0m\u001b[0;32m    339\u001b[0m     \u001b[0mis_nonzero_const\u001b[0m \u001b[1;33m&=\u001b[0m \u001b[0mnp\u001b[0m\u001b[1;33m.\u001b[0m\u001b[0mall\u001b[0m\u001b[1;33m(\u001b[0m\u001b[0mx\u001b[0m \u001b[1;33m!=\u001b[0m \u001b[1;36m0.0\u001b[0m\u001b[1;33m,\u001b[0m \u001b[0maxis\u001b[0m\u001b[1;33m=\u001b[0m\u001b[1;36m0\u001b[0m\u001b[1;33m)\u001b[0m\u001b[1;33m\u001b[0m\u001b[1;33m\u001b[0m\u001b[0m\n\u001b[0;32m    340\u001b[0m     \u001b[1;32mif\u001b[0m \u001b[0mis_nonzero_const\u001b[0m\u001b[1;33m.\u001b[0m\u001b[0many\u001b[0m\u001b[1;33m(\u001b[0m\u001b[1;33m)\u001b[0m\u001b[1;33m:\u001b[0m\u001b[1;33m\u001b[0m\u001b[1;33m\u001b[0m\u001b[0m\n",
      "\u001b[1;32m<__array_function__ internals>\u001b[0m in \u001b[0;36mptp\u001b[1;34m(*args, **kwargs)\u001b[0m\n",
      "\u001b[1;32mc:\\users\\rodger\\appdata\\local\\programs\\python\\python38\\lib\\site-packages\\numpy\\core\\fromnumeric.py\u001b[0m in \u001b[0;36mptp\u001b[1;34m(a, axis, out, keepdims)\u001b[0m\n\u001b[0;32m   2607\u001b[0m         \u001b[1;32melse\u001b[0m\u001b[1;33m:\u001b[0m\u001b[1;33m\u001b[0m\u001b[1;33m\u001b[0m\u001b[0m\n\u001b[0;32m   2608\u001b[0m             \u001b[1;32mreturn\u001b[0m \u001b[0mptp\u001b[0m\u001b[1;33m(\u001b[0m\u001b[0maxis\u001b[0m\u001b[1;33m=\u001b[0m\u001b[0maxis\u001b[0m\u001b[1;33m,\u001b[0m \u001b[0mout\u001b[0m\u001b[1;33m=\u001b[0m\u001b[0mout\u001b[0m\u001b[1;33m,\u001b[0m \u001b[1;33m**\u001b[0m\u001b[0mkwargs\u001b[0m\u001b[1;33m)\u001b[0m\u001b[1;33m\u001b[0m\u001b[1;33m\u001b[0m\u001b[0m\n\u001b[1;32m-> 2609\u001b[1;33m     \u001b[1;32mreturn\u001b[0m \u001b[0m_methods\u001b[0m\u001b[1;33m.\u001b[0m\u001b[0m_ptp\u001b[0m\u001b[1;33m(\u001b[0m\u001b[0ma\u001b[0m\u001b[1;33m,\u001b[0m \u001b[0maxis\u001b[0m\u001b[1;33m=\u001b[0m\u001b[0maxis\u001b[0m\u001b[1;33m,\u001b[0m \u001b[0mout\u001b[0m\u001b[1;33m=\u001b[0m\u001b[0mout\u001b[0m\u001b[1;33m,\u001b[0m \u001b[1;33m**\u001b[0m\u001b[0mkwargs\u001b[0m\u001b[1;33m)\u001b[0m\u001b[1;33m\u001b[0m\u001b[1;33m\u001b[0m\u001b[0m\n\u001b[0m\u001b[0;32m   2610\u001b[0m \u001b[1;33m\u001b[0m\u001b[0m\n\u001b[0;32m   2611\u001b[0m \u001b[1;33m\u001b[0m\u001b[0m\n",
      "\u001b[1;32mc:\\users\\rodger\\appdata\\local\\programs\\python\\python38\\lib\\site-packages\\numpy\\core\\_methods.py\u001b[0m in \u001b[0;36m_ptp\u001b[1;34m(a, axis, out, keepdims)\u001b[0m\n\u001b[0;32m    273\u001b[0m \u001b[1;32mdef\u001b[0m \u001b[0m_ptp\u001b[0m\u001b[1;33m(\u001b[0m\u001b[0ma\u001b[0m\u001b[1;33m,\u001b[0m \u001b[0maxis\u001b[0m\u001b[1;33m=\u001b[0m\u001b[1;32mNone\u001b[0m\u001b[1;33m,\u001b[0m \u001b[0mout\u001b[0m\u001b[1;33m=\u001b[0m\u001b[1;32mNone\u001b[0m\u001b[1;33m,\u001b[0m \u001b[0mkeepdims\u001b[0m\u001b[1;33m=\u001b[0m\u001b[1;32mFalse\u001b[0m\u001b[1;33m)\u001b[0m\u001b[1;33m:\u001b[0m\u001b[1;33m\u001b[0m\u001b[1;33m\u001b[0m\u001b[0m\n\u001b[0;32m    274\u001b[0m     return um.subtract(\n\u001b[1;32m--> 275\u001b[1;33m         \u001b[0mumr_maximum\u001b[0m\u001b[1;33m(\u001b[0m\u001b[0ma\u001b[0m\u001b[1;33m,\u001b[0m \u001b[0maxis\u001b[0m\u001b[1;33m,\u001b[0m \u001b[1;32mNone\u001b[0m\u001b[1;33m,\u001b[0m \u001b[0mout\u001b[0m\u001b[1;33m,\u001b[0m \u001b[0mkeepdims\u001b[0m\u001b[1;33m)\u001b[0m\u001b[1;33m,\u001b[0m\u001b[1;33m\u001b[0m\u001b[1;33m\u001b[0m\u001b[0m\n\u001b[0m\u001b[0;32m    276\u001b[0m         \u001b[0mumr_minimum\u001b[0m\u001b[1;33m(\u001b[0m\u001b[0ma\u001b[0m\u001b[1;33m,\u001b[0m \u001b[0maxis\u001b[0m\u001b[1;33m,\u001b[0m \u001b[1;32mNone\u001b[0m\u001b[1;33m,\u001b[0m \u001b[1;32mNone\u001b[0m\u001b[1;33m,\u001b[0m \u001b[0mkeepdims\u001b[0m\u001b[1;33m)\u001b[0m\u001b[1;33m,\u001b[0m\u001b[1;33m\u001b[0m\u001b[1;33m\u001b[0m\u001b[0m\n\u001b[0;32m    277\u001b[0m         \u001b[0mout\u001b[0m\u001b[1;33m\u001b[0m\u001b[1;33m\u001b[0m\u001b[0m\n",
      "\u001b[1;31mTypeError\u001b[0m: '>=' not supported between instances of 'str' and 'float'"
     ]
    }
   ],
   "source": [
    "Y = np.asarray(df_drugs['price in $'])\n",
    "X = np.asarray(df_drugs['category_level_2'])\n",
    "X = sm.add_constant(X)\n",
    "model = sm.OLS(Y,X)\n",
    "results = model.fit()\n",
    "results.params"
   ]
  },
  {
   "cell_type": "markdown",
   "id": "applicable-salad",
   "metadata": {},
   "source": [
    "# Results\n",
    "Show graphs and stats here"
   ]
  },
  {
   "cell_type": "markdown",
   "id": "comfortable-israeli",
   "metadata": {},
   "source": [
    "# Conclusions and Next Steps\n",
    "Summarize findings here"
   ]
  },
  {
   "cell_type": "code",
   "execution_count": null,
   "id": "coastal-knowing",
   "metadata": {},
   "outputs": [],
   "source": []
  }
 ],
 "metadata": {
  "kernelspec": {
   "display_name": "Python 3",
   "language": "python",
   "name": "python3"
  },
  "language_info": {
   "codemirror_mode": {
    "name": "ipython",
    "version": 3
   },
   "file_extension": ".py",
   "mimetype": "text/x-python",
   "name": "python",
   "nbconvert_exporter": "python",
   "pygments_lexer": "ipython3",
   "version": "3.8.8"
  },
  "latex_envs": {
   "LaTeX_envs_menu_present": true,
   "autoclose": false,
   "autocomplete": true,
   "bibliofile": "biblio.bib",
   "cite_by": "apalike",
   "current_citInitial": 1,
   "eqLabelWithNumbers": true,
   "eqNumInitial": 1,
   "hotkeys": {
    "equation": "Ctrl-E",
    "itemize": "Ctrl-I"
   },
   "labels_anchors": false,
   "latex_user_defs": false,
   "report_style_numbering": false,
   "user_envs_cfg": false
  },
  "toc": {
   "base_numbering": 1,
   "nav_menu": {},
   "number_sections": true,
   "sideBar": true,
   "skip_h1_title": false,
   "title_cell": "Table of Contents",
   "title_sidebar": "Contents",
   "toc_cell": false,
   "toc_position": {},
   "toc_section_display": true,
   "toc_window_display": true
  },
  "varInspector": {
   "cols": {
    "lenName": 16,
    "lenType": 16,
    "lenVar": 40
   },
   "kernels_config": {
    "python": {
     "delete_cmd_postfix": "",
     "delete_cmd_prefix": "del ",
     "library": "var_list.py",
     "varRefreshCmd": "print(var_dic_list())"
    },
    "r": {
     "delete_cmd_postfix": ") ",
     "delete_cmd_prefix": "rm(",
     "library": "var_list.r",
     "varRefreshCmd": "cat(var_dic_list()) "
    }
   },
   "types_to_exclude": [
    "module",
    "function",
    "builtin_function_or_method",
    "instance",
    "_Feature"
   ],
   "window_display": false
  }
 },
 "nbformat": 4,
 "nbformat_minor": 5
}
